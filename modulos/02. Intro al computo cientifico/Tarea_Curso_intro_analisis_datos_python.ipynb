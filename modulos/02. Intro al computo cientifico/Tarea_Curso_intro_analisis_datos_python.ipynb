{
 "cells": [
  {
   "cell_type": "markdown",
   "metadata": {
    "id": "-E2aCBk7Ulfa"
   },
   "source": [
    "# Tarea Curso de introducción al análisis de datos con Python"
   ]
  },
  {
   "cell_type": "markdown",
   "metadata": {
    "id": "EWGogkxSU2hh"
   },
   "source": [
    "# Listado de Preguntas\n",
    "1.  Mostrar en consola el nombre de todos los usuarios que no poseen un correo electronico.\n",
    "2.  Listar el nombre y correo del usuario mas joven de Canada\n",
    "3.  Listar el nombre y correo de los usuarios mas jovenes de Germany y Canada\n",
    "4.  Listar los 5 países con **menor** cantidad de usuarios.\n",
    "5. Obtener el país con mas usuarios.\n",
    "6. Obtener el país con mas usuarios cuya edad sea mayor a 50\n",
    "7. Obtener la suma total de todos los usuarios de Canada y Germany\n",
    "8. Mostrar en consola la cantidad de paises en el dataset\n",
    "9. Obtener el promedio de edad de cada uno de los paises.\n",
    "10. Mostrar en consola el país con más hombres\n",
    "\n"
   ]
  },
  {
   "cell_type": "code",
   "execution_count": 1,
   "metadata": {
    "executionInfo": {
     "elapsed": 297,
     "status": "ok",
     "timestamp": 1637863201239,
     "user": {
      "displayName": "heydy carrasco huaccha",
      "photoUrl": "https://lh3.googleusercontent.com/a-/AOh14GiGyezGgm9Px4LBw_sc7MFWfjUVhWWsvnAz1Ttg=s64",
      "userId": "00007591481982700116"
     },
     "user_tz": 300
    },
    "id": "a7qdy3G0gnqt"
   },
   "outputs": [],
   "source": [
    "import pandas as pd\n",
    "import numpy as np"
   ]
  },
  {
   "cell_type": "code",
   "execution_count": 10,
   "metadata": {
    "executionInfo": {
     "elapsed": 1,
     "status": "ok",
     "timestamp": 1637863202345,
     "user": {
      "displayName": "heydy carrasco huaccha",
      "photoUrl": "https://lh3.googleusercontent.com/a-/AOh14GiGyezGgm9Px4LBw_sc7MFWfjUVhWWsvnAz1Ttg=s64",
      "userId": "00007591481982700116"
     },
     "user_tz": 300
    },
    "id": "iv-GJknKfpdj"
   },
   "outputs": [],
   "source": [
    "# URL REPO bootcamp\n",
    "url = \"https://raw.githubusercontent.com/MayumyCH/bootcamp_ciencia_de_datos/main/modulos/02.%20Intro%20al%20computo%20cientifico/datasets/user.csv\"  \n",
    "# url = '/content/user.csv' # Desde google Colab\n",
    "data = pd.read_csv(url, index_col=0)\n",
    "# data = data.dropna()"
   ]
  },
  {
   "cell_type": "code",
   "execution_count": 13,
   "metadata": {},
   "outputs": [],
   "source": [
    "# data.describe()\n",
    "# data.info()"
   ]
  },
  {
   "cell_type": "code",
   "execution_count": 4,
   "metadata": {
    "colab": {
     "base_uri": "https://localhost:8080/",
     "height": 174
    },
    "executionInfo": {
     "elapsed": 4,
     "status": "ok",
     "timestamp": 1637863203436,
     "user": {
      "displayName": "heydy carrasco huaccha",
      "photoUrl": "https://lh3.googleusercontent.com/a-/AOh14GiGyezGgm9Px4LBw_sc7MFWfjUVhWWsvnAz1Ttg=s64",
      "userId": "00007591481982700116"
     },
     "user_tz": 300
    },
    "id": "4SKUvdf9gr_2",
    "outputId": "be072724-f20d-4490-b0e7-ff87b03bbd99"
   },
   "outputs": [
    {
     "data": {
      "text/html": [
       "<div>\n",
       "<style scoped>\n",
       "    .dataframe tbody tr th:only-of-type {\n",
       "        vertical-align: middle;\n",
       "    }\n",
       "\n",
       "    .dataframe tbody tr th {\n",
       "        vertical-align: top;\n",
       "    }\n",
       "\n",
       "    .dataframe thead th {\n",
       "        text-align: right;\n",
       "    }\n",
       "</style>\n",
       "<table border=\"1\" class=\"dataframe\">\n",
       "  <thead>\n",
       "    <tr style=\"text-align: right;\">\n",
       "      <th></th>\n",
       "      <th>name</th>\n",
       "      <th>age</th>\n",
       "      <th>gender</th>\n",
       "      <th>country</th>\n",
       "      <th>email</th>\n",
       "    </tr>\n",
       "    <tr>\n",
       "      <th>id</th>\n",
       "      <th></th>\n",
       "      <th></th>\n",
       "      <th></th>\n",
       "      <th></th>\n",
       "      <th></th>\n",
       "    </tr>\n",
       "  </thead>\n",
       "  <tbody>\n",
       "    <tr>\n",
       "      <th>0</th>\n",
       "      <td>Mr Jerome Thomas</td>\n",
       "      <td>NaN</td>\n",
       "      <td>male</td>\n",
       "      <td>United States</td>\n",
       "      <td>NaN</td>\n",
       "    </tr>\n",
       "    <tr>\n",
       "      <th>1</th>\n",
       "      <td>NaN</td>\n",
       "      <td>70.0</td>\n",
       "      <td>male</td>\n",
       "      <td>NaN</td>\n",
       "      <td>NaN</td>\n",
       "    </tr>\n",
       "    <tr>\n",
       "      <th>2</th>\n",
       "      <td>Mr Noham Dubois</td>\n",
       "      <td>40.0</td>\n",
       "      <td>male</td>\n",
       "      <td>France</td>\n",
       "      <td>noham.dubois@example.com</td>\n",
       "    </tr>\n",
       "  </tbody>\n",
       "</table>\n",
       "</div>"
      ],
      "text/plain": [
       "                name   age gender        country                     email\n",
       "id                                                                        \n",
       "0   Mr Jerome Thomas   NaN   male  United States                       NaN\n",
       "1                NaN  70.0   male            NaN                       NaN\n",
       "2    Mr Noham Dubois  40.0   male         France  noham.dubois@example.com"
      ]
     },
     "execution_count": 4,
     "metadata": {},
     "output_type": "execute_result"
    }
   ],
   "source": [
    "data.head(3)"
   ]
  },
  {
   "cell_type": "code",
   "execution_count": 5,
   "metadata": {
    "colab": {
     "base_uri": "https://localhost:8080/"
    },
    "executionInfo": {
     "elapsed": 289,
     "status": "ok",
     "timestamp": 1637863351355,
     "user": {
      "displayName": "heydy carrasco huaccha",
      "photoUrl": "https://lh3.googleusercontent.com/a-/AOh14GiGyezGgm9Px4LBw_sc7MFWfjUVhWWsvnAz1Ttg=s64",
      "userId": "00007591481982700116"
     },
     "user_tz": 300
    },
    "id": "dH1YkmeBgvKg",
    "outputId": "2a13eed7-87a7-4335-a466-1efedf7c1a55"
   },
   "outputs": [
    {
     "data": {
      "text/plain": [
       "email      2\n",
       "name       1\n",
       "age        1\n",
       "country    1\n",
       "gender     0\n",
       "dtype: int64"
      ]
     },
     "execution_count": 5,
     "metadata": {},
     "output_type": "execute_result"
    }
   ],
   "source": [
    "# Revisar cuantos nulos tengo en las variables\n",
    "data.isna().sum().sort_values(ascending=False)"
   ]
  },
  {
   "cell_type": "markdown",
   "metadata": {
    "id": "npxD6bb5Zjr1"
   },
   "source": [
    "# Resolución"
   ]
  },
  {
   "cell_type": "markdown",
   "metadata": {
    "id": "O6KVKt1FZnMn"
   },
   "source": [
    "### 1.  Mostrar en consola el nombre de todos los usuarios que no poseen un correo electronico.\n"
   ]
  },
  {
   "cell_type": "code",
   "execution_count": 14,
   "metadata": {
    "colab": {
     "base_uri": "https://localhost:8080/"
    },
    "executionInfo": {
     "elapsed": 421,
     "status": "ok",
     "timestamp": 1637863352928,
     "user": {
      "displayName": "heydy carrasco huaccha",
      "photoUrl": "https://lh3.googleusercontent.com/a-/AOh14GiGyezGgm9Px4LBw_sc7MFWfjUVhWWsvnAz1Ttg=s64",
      "userId": "00007591481982700116"
     },
     "user_tz": 300
    },
    "id": "vmjZXqXMUkdj",
    "outputId": "dba66ab9-fd1c-46da-f944-51a64d1a1c51"
   },
   "outputs": [
    {
     "data": {
      "text/plain": [
       "id\n",
       "0    Mr Jerome Thomas\n",
       "1                 NaN\n",
       "Name: name, dtype: object"
      ]
     },
     "execution_count": 14,
     "metadata": {},
     "output_type": "execute_result"
    }
   ],
   "source": [
    "data[data['email'].isnull()]['name']"
   ]
  },
  {
   "cell_type": "code",
   "execution_count": 19,
   "metadata": {},
   "outputs": [],
   "source": [
    "# data[pd.isna(data[\"email\"])] # Antonio Feregrino\n",
    "# data[pd.isna(data[\"email\"])]['name']\n",
    "# data[data['email'].isna()]"
   ]
  },
  {
   "cell_type": "markdown",
   "metadata": {
    "id": "diWdTugqZvKj"
   },
   "source": [
    "### 2.  Listar el nombre y correo del usuario mas joven de Canada\n"
   ]
  },
  {
   "cell_type": "code",
   "execution_count": 8,
   "metadata": {
    "colab": {
     "base_uri": "https://localhost:8080/",
     "height": 112
    },
    "executionInfo": {
     "elapsed": 251,
     "status": "ok",
     "timestamp": 1637853445499,
     "user": {
      "displayName": "heydy carrasco huaccha",
      "photoUrl": "https://lh3.googleusercontent.com/a-/AOh14GiGyezGgm9Px4LBw_sc7MFWfjUVhWWsvnAz1Ttg=s64",
      "userId": "00007591481982700116"
     },
     "user_tz": 300
    },
    "id": "3wo_b0d0kat3",
    "outputId": "d2d7c566-e27b-4dbf-f890-7094c333beaf"
   },
   "outputs": [
    {
     "data": {
      "text/html": [
       "<div>\n",
       "<style scoped>\n",
       "    .dataframe tbody tr th:only-of-type {\n",
       "        vertical-align: middle;\n",
       "    }\n",
       "\n",
       "    .dataframe tbody tr th {\n",
       "        vertical-align: top;\n",
       "    }\n",
       "\n",
       "    .dataframe thead th {\n",
       "        text-align: right;\n",
       "    }\n",
       "</style>\n",
       "<table border=\"1\" class=\"dataframe\">\n",
       "  <thead>\n",
       "    <tr style=\"text-align: right;\">\n",
       "      <th></th>\n",
       "      <th>name</th>\n",
       "      <th>age</th>\n",
       "      <th>email</th>\n",
       "    </tr>\n",
       "    <tr>\n",
       "      <th>id</th>\n",
       "      <th></th>\n",
       "      <th></th>\n",
       "      <th></th>\n",
       "    </tr>\n",
       "  </thead>\n",
       "  <tbody>\n",
       "    <tr>\n",
       "      <th>184</th>\n",
       "      <td>Mr Philip Bélanger</td>\n",
       "      <td>24.0</td>\n",
       "      <td>philip.belanger@example.com</td>\n",
       "    </tr>\n",
       "  </tbody>\n",
       "</table>\n",
       "</div>"
      ],
      "text/plain": [
       "                   name   age                        email\n",
       "id                                                        \n",
       "184  Mr Philip Bélanger  24.0  philip.belanger@example.com"
      ]
     },
     "execution_count": 8,
     "metadata": {},
     "output_type": "execute_result"
    }
   ],
   "source": [
    "data.query('country == \"Canada\"').sort_values(\"age\")[['name','age','email']].head(1)\n",
    "data[data['country']== \"Canada\"].sort_values(\"age\")[['name','age','email']].head(1)"
   ]
  },
  {
   "cell_type": "code",
   "execution_count": 21,
   "metadata": {},
   "outputs": [],
   "source": [
    "# Funcion retorna nombre y el email de la persona más joven de un país\n",
    "def mas_joven_pais(df, pais):\n",
    "    edad_joven = df[df['country'] == pais].age.min()\n",
    "    joven = df[(df['country'] == pais) & (df['age'] == edad_joven)].loc[:,['name', 'email']]\n",
    "    return joven"
   ]
  },
  {
   "cell_type": "code",
   "execution_count": 23,
   "metadata": {},
   "outputs": [
    {
     "data": {
      "text/html": [
       "<div>\n",
       "<style scoped>\n",
       "    .dataframe tbody tr th:only-of-type {\n",
       "        vertical-align: middle;\n",
       "    }\n",
       "\n",
       "    .dataframe tbody tr th {\n",
       "        vertical-align: top;\n",
       "    }\n",
       "\n",
       "    .dataframe thead th {\n",
       "        text-align: right;\n",
       "    }\n",
       "</style>\n",
       "<table border=\"1\" class=\"dataframe\">\n",
       "  <thead>\n",
       "    <tr style=\"text-align: right;\">\n",
       "      <th></th>\n",
       "      <th>name</th>\n",
       "      <th>email</th>\n",
       "    </tr>\n",
       "    <tr>\n",
       "      <th>id</th>\n",
       "      <th></th>\n",
       "      <th></th>\n",
       "    </tr>\n",
       "  </thead>\n",
       "  <tbody>\n",
       "    <tr>\n",
       "      <th>184</th>\n",
       "      <td>Mr Philip Bélanger</td>\n",
       "      <td>philip.belanger@example.com</td>\n",
       "    </tr>\n",
       "  </tbody>\n",
       "</table>\n",
       "</div>"
      ],
      "text/plain": [
       "                   name                        email\n",
       "id                                                  \n",
       "184  Mr Philip Bélanger  philip.belanger@example.com"
      ]
     },
     "execution_count": 23,
     "metadata": {},
     "output_type": "execute_result"
    }
   ],
   "source": [
    "canadiense = mas_joven_pais(data, 'Canada')\n",
    "canadiense"
   ]
  },
  {
   "cell_type": "markdown",
   "metadata": {
    "id": "qmi7XbO6Zxpz"
   },
   "source": [
    "## 3.  Listar el nombre y correo de los usuarios mas jovenes de Germany y Canada\n"
   ]
  },
  {
   "cell_type": "code",
   "execution_count": 51,
   "metadata": {
    "colab": {
     "base_uri": "https://localhost:8080/",
     "height": 739
    },
    "executionInfo": {
     "elapsed": 292,
     "status": "ok",
     "timestamp": 1637853602826,
     "user": {
      "displayName": "heydy carrasco huaccha",
      "photoUrl": "https://lh3.googleusercontent.com/a-/AOh14GiGyezGgm9Px4LBw_sc7MFWfjUVhWWsvnAz1Ttg=s64",
      "userId": "00007591481982700116"
     },
     "user_tz": 300
    },
    "id": "9sE863cgZ5Av",
    "outputId": "1461a722-6c5d-4d7a-f8e6-07b249b5a0b7"
   },
   "outputs": [
    {
     "data": {
      "text/html": [
       "<div>\n",
       "<style scoped>\n",
       "    .dataframe tbody tr th:only-of-type {\n",
       "        vertical-align: middle;\n",
       "    }\n",
       "\n",
       "    .dataframe tbody tr th {\n",
       "        vertical-align: top;\n",
       "    }\n",
       "\n",
       "    .dataframe thead th {\n",
       "        text-align: right;\n",
       "    }\n",
       "</style>\n",
       "<table border=\"1\" class=\"dataframe\">\n",
       "  <thead>\n",
       "    <tr style=\"text-align: right;\">\n",
       "      <th></th>\n",
       "      <th>name</th>\n",
       "      <th>age</th>\n",
       "      <th>country</th>\n",
       "    </tr>\n",
       "    <tr>\n",
       "      <th>id</th>\n",
       "      <th></th>\n",
       "      <th></th>\n",
       "      <th></th>\n",
       "    </tr>\n",
       "  </thead>\n",
       "  <tbody>\n",
       "    <tr>\n",
       "      <th>88</th>\n",
       "      <td>Mrs Hilda Epp</td>\n",
       "      <td>22.0</td>\n",
       "      <td>Germany</td>\n",
       "    </tr>\n",
       "    <tr>\n",
       "      <th>184</th>\n",
       "      <td>Mr Philip Bélanger</td>\n",
       "      <td>24.0</td>\n",
       "      <td>Canada</td>\n",
       "    </tr>\n",
       "    <tr>\n",
       "      <th>20</th>\n",
       "      <td>Mr Vincenzo Rauscher</td>\n",
       "      <td>25.0</td>\n",
       "      <td>Germany</td>\n",
       "    </tr>\n",
       "    <tr>\n",
       "      <th>170</th>\n",
       "      <td>Mr Ryder Côté</td>\n",
       "      <td>25.0</td>\n",
       "      <td>Canada</td>\n",
       "    </tr>\n",
       "    <tr>\n",
       "      <th>72</th>\n",
       "      <td>Ms Megan Brown</td>\n",
       "      <td>26.0</td>\n",
       "      <td>Canada</td>\n",
       "    </tr>\n",
       "    <tr>\n",
       "      <th>131</th>\n",
       "      <td>Mr Xavier Addy</td>\n",
       "      <td>30.0</td>\n",
       "      <td>Canada</td>\n",
       "    </tr>\n",
       "    <tr>\n",
       "      <th>85</th>\n",
       "      <td>Mrs Luisa Weißmann</td>\n",
       "      <td>32.0</td>\n",
       "      <td>Germany</td>\n",
       "    </tr>\n",
       "    <tr>\n",
       "      <th>50</th>\n",
       "      <td>Mr Theo Miller</td>\n",
       "      <td>33.0</td>\n",
       "      <td>Canada</td>\n",
       "    </tr>\n",
       "    <tr>\n",
       "      <th>158</th>\n",
       "      <td>Mr Rafael Spangenberg</td>\n",
       "      <td>33.0</td>\n",
       "      <td>Germany</td>\n",
       "    </tr>\n",
       "    <tr>\n",
       "      <th>133</th>\n",
       "      <td>Miss Julia Ambrose</td>\n",
       "      <td>34.0</td>\n",
       "      <td>Canada</td>\n",
       "    </tr>\n",
       "    <tr>\n",
       "      <th>7</th>\n",
       "      <td>Ms Britta Weinert</td>\n",
       "      <td>35.0</td>\n",
       "      <td>Germany</td>\n",
       "    </tr>\n",
       "    <tr>\n",
       "      <th>56</th>\n",
       "      <td>Ms Marcella Brosch</td>\n",
       "      <td>38.0</td>\n",
       "      <td>Germany</td>\n",
       "    </tr>\n",
       "    <tr>\n",
       "      <th>196</th>\n",
       "      <td>Miss Maeva Fortin</td>\n",
       "      <td>40.0</td>\n",
       "      <td>Canada</td>\n",
       "    </tr>\n",
       "    <tr>\n",
       "      <th>151</th>\n",
       "      <td>Mr Thomas Lam</td>\n",
       "      <td>42.0</td>\n",
       "      <td>Canada</td>\n",
       "    </tr>\n",
       "    <tr>\n",
       "      <th>36</th>\n",
       "      <td>Mr Anthony Wong</td>\n",
       "      <td>42.0</td>\n",
       "      <td>Canada</td>\n",
       "    </tr>\n",
       "    <tr>\n",
       "      <th>58</th>\n",
       "      <td>Miss Madison Ennis</td>\n",
       "      <td>49.0</td>\n",
       "      <td>Canada</td>\n",
       "    </tr>\n",
       "    <tr>\n",
       "      <th>144</th>\n",
       "      <td>Ms Mareile Plate</td>\n",
       "      <td>51.0</td>\n",
       "      <td>Germany</td>\n",
       "    </tr>\n",
       "    <tr>\n",
       "      <th>5</th>\n",
       "      <td>Mr Harri Althoff</td>\n",
       "      <td>56.0</td>\n",
       "      <td>Germany</td>\n",
       "    </tr>\n",
       "    <tr>\n",
       "      <th>193</th>\n",
       "      <td>Ms Delphine Ginnish</td>\n",
       "      <td>58.0</td>\n",
       "      <td>Canada</td>\n",
       "    </tr>\n",
       "    <tr>\n",
       "      <th>21</th>\n",
       "      <td>Mr Louis Ross</td>\n",
       "      <td>60.0</td>\n",
       "      <td>Canada</td>\n",
       "    </tr>\n",
       "    <tr>\n",
       "      <th>79</th>\n",
       "      <td>Ms Hanne Aschenbrenner</td>\n",
       "      <td>64.0</td>\n",
       "      <td>Germany</td>\n",
       "    </tr>\n",
       "  </tbody>\n",
       "</table>\n",
       "</div>"
      ],
      "text/plain": [
       "                       name   age  country\n",
       "id                                        \n",
       "88            Mrs Hilda Epp  22.0  Germany\n",
       "184      Mr Philip Bélanger  24.0   Canada\n",
       "20     Mr Vincenzo Rauscher  25.0  Germany\n",
       "170           Mr Ryder Côté  25.0   Canada\n",
       "72           Ms Megan Brown  26.0   Canada\n",
       "131          Mr Xavier Addy  30.0   Canada\n",
       "85       Mrs Luisa Weißmann  32.0  Germany\n",
       "50           Mr Theo Miller  33.0   Canada\n",
       "158   Mr Rafael Spangenberg  33.0  Germany\n",
       "133      Miss Julia Ambrose  34.0   Canada\n",
       "7         Ms Britta Weinert  35.0  Germany\n",
       "56       Ms Marcella Brosch  38.0  Germany\n",
       "196       Miss Maeva Fortin  40.0   Canada\n",
       "151           Mr Thomas Lam  42.0   Canada\n",
       "36          Mr Anthony Wong  42.0   Canada\n",
       "58       Miss Madison Ennis  49.0   Canada\n",
       "144        Ms Mareile Plate  51.0  Germany\n",
       "5          Mr Harri Althoff  56.0  Germany\n",
       "193     Ms Delphine Ginnish  58.0   Canada\n",
       "21            Mr Louis Ross  60.0   Canada\n",
       "79   Ms Hanne Aschenbrenner  64.0  Germany"
      ]
     },
     "execution_count": 51,
     "metadata": {},
     "output_type": "execute_result"
    }
   ],
   "source": [
    "# data[(data['country'].isin([\"Germany\",\"Canada\"]))].sort_values(\"age\")[['name','age','country']]\n",
    "data.query('country in (\"Germany\",\"Canada\")').sort_values(\"age\")[['name','age','country']]"
   ]
  },
  {
   "cell_type": "code",
   "execution_count": 25,
   "metadata": {},
   "outputs": [
    {
     "data": {
      "text/html": [
       "<div>\n",
       "<style scoped>\n",
       "    .dataframe tbody tr th:only-of-type {\n",
       "        vertical-align: middle;\n",
       "    }\n",
       "\n",
       "    .dataframe tbody tr th {\n",
       "        vertical-align: top;\n",
       "    }\n",
       "\n",
       "    .dataframe thead th {\n",
       "        text-align: right;\n",
       "    }\n",
       "</style>\n",
       "<table border=\"1\" class=\"dataframe\">\n",
       "  <thead>\n",
       "    <tr style=\"text-align: right;\">\n",
       "      <th></th>\n",
       "      <th>name</th>\n",
       "      <th>email</th>\n",
       "    </tr>\n",
       "    <tr>\n",
       "      <th>id</th>\n",
       "      <th></th>\n",
       "      <th></th>\n",
       "    </tr>\n",
       "  </thead>\n",
       "  <tbody>\n",
       "    <tr>\n",
       "      <th>184</th>\n",
       "      <td>Mr Philip Bélanger</td>\n",
       "      <td>philip.belanger@example.com</td>\n",
       "    </tr>\n",
       "    <tr>\n",
       "      <th>88</th>\n",
       "      <td>Mrs Hilda Epp</td>\n",
       "      <td>hilda.epp@example.com</td>\n",
       "    </tr>\n",
       "  </tbody>\n",
       "</table>\n",
       "</div>"
      ],
      "text/plain": [
       "                   name                        email\n",
       "id                                                  \n",
       "184  Mr Philip Bélanger  philip.belanger@example.com\n",
       "88        Mrs Hilda Epp        hilda.epp@example.com"
      ]
     },
     "execution_count": 25,
     "metadata": {},
     "output_type": "execute_result"
    }
   ],
   "source": [
    "aleman = mas_joven_pais(data, 'Germany')\n",
    "result = pd.concat([canadiense, aleman])\n",
    "result"
   ]
  },
  {
   "cell_type": "markdown",
   "metadata": {
    "id": "QZ5MhAByZ21u"
   },
   "source": [
    "## 4.  Listar los 5 países con mayor cantidad de usuarios."
   ]
  },
  {
   "cell_type": "code",
   "execution_count": 61,
   "metadata": {
    "colab": {
     "base_uri": "https://localhost:8080/"
    },
    "executionInfo": {
     "elapsed": 294,
     "status": "ok",
     "timestamp": 1637853893310,
     "user": {
      "displayName": "heydy carrasco huaccha",
      "photoUrl": "https://lh3.googleusercontent.com/a-/AOh14GiGyezGgm9Px4LBw_sc7MFWfjUVhWWsvnAz1Ttg=s64",
      "userId": "00007591481982700116"
     },
     "user_tz": 300
    },
    "id": "viqCDjgJsPiO",
    "outputId": "d2d4665e-05f4-47b3-c4f7-1f3cb60c34b5"
   },
   "outputs": [
    {
     "data": {
      "text/plain": [
       "country\n",
       "Ireland           16\n",
       "Denmark           16\n",
       "United Kingdom    14\n",
       "Norway            14\n",
       "New Zealand       14\n",
       "dtype: int64"
      ]
     },
     "execution_count": 61,
     "metadata": {},
     "output_type": "execute_result"
    }
   ],
   "source": [
    "# data.groupby('country')['country'].agg('count').sort_values(ascending=False).head(5)\n",
    "data.value_counts(data['country']).head(5)"
   ]
  },
  {
   "cell_type": "markdown",
   "metadata": {
    "id": "f8h_bmCaZ5ed"
   },
   "source": [
    "## 5. Obtener el país con mas usuarios."
   ]
  },
  {
   "cell_type": "code",
   "execution_count": 62,
   "metadata": {
    "colab": {
     "base_uri": "https://localhost:8080/"
    },
    "executionInfo": {
     "elapsed": 282,
     "status": "ok",
     "timestamp": 1637853911708,
     "user": {
      "displayName": "heydy carrasco huaccha",
      "photoUrl": "https://lh3.googleusercontent.com/a-/AOh14GiGyezGgm9Px4LBw_sc7MFWfjUVhWWsvnAz1Ttg=s64",
      "userId": "00007591481982700116"
     },
     "user_tz": 300
    },
    "id": "eCsYxjg5a_BR",
    "outputId": "02695c26-e4bd-4924-a8f5-981da734f9f0"
   },
   "outputs": [
    {
     "data": {
      "text/plain": [
       "country\n",
       "Ireland    16\n",
       "dtype: int64"
      ]
     },
     "execution_count": 62,
     "metadata": {},
     "output_type": "execute_result"
    }
   ],
   "source": [
    "data.value_counts(data['country']).head(1)"
   ]
  },
  {
   "cell_type": "markdown",
   "metadata": {
    "id": "MWPplkwLZ5ud"
   },
   "source": [
    "## 6. Obtener el país con mas usuarios cuya edad sea mayor a 50"
   ]
  },
  {
   "cell_type": "code",
   "execution_count": 70,
   "metadata": {
    "colab": {
     "base_uri": "https://localhost:8080/"
    },
    "executionInfo": {
     "elapsed": 304,
     "status": "ok",
     "timestamp": 1637854141608,
     "user": {
      "displayName": "heydy carrasco huaccha",
      "photoUrl": "https://lh3.googleusercontent.com/a-/AOh14GiGyezGgm9Px4LBw_sc7MFWfjUVhWWsvnAz1Ttg=s64",
      "userId": "00007591481982700116"
     },
     "user_tz": 300
    },
    "id": "KTKKmOWSa_bx",
    "outputId": "d3c80f69-4f1e-4db7-d2db-1ace70ae6bef"
   },
   "outputs": [
    {
     "data": {
      "text/plain": [
       "country\n",
       "Iran    10\n",
       "dtype: int64"
      ]
     },
     "execution_count": 70,
     "metadata": {},
     "output_type": "execute_result"
    }
   ],
   "source": [
    "df= data[(data['age']>50)]\n",
    "\n",
    "# df.groupby('country')['country'].count().sort_values(ascending=False).head(1)\n",
    "df.value_counts(data['country']).head(1)"
   ]
  },
  {
   "cell_type": "markdown",
   "metadata": {
    "id": "osswaqguZ-ZX"
   },
   "source": [
    "## 7. Obtener la suma total de todos los usuarios de Canada y Germany"
   ]
  },
  {
   "cell_type": "code",
   "execution_count": 78,
   "metadata": {
    "colab": {
     "base_uri": "https://localhost:8080/"
    },
    "executionInfo": {
     "elapsed": 291,
     "status": "ok",
     "timestamp": 1637854549871,
     "user": {
      "displayName": "heydy carrasco huaccha",
      "photoUrl": "https://lh3.googleusercontent.com/a-/AOh14GiGyezGgm9Px4LBw_sc7MFWfjUVhWWsvnAz1Ttg=s64",
      "userId": "00007591481982700116"
     },
     "user_tz": 300
    },
    "id": "AS8FzuDEa_5B",
    "outputId": "b1b2e9d4-a042-4e21-925c-61856d8cf17c"
   },
   "outputs": [
    {
     "data": {
      "text/plain": [
       "country\n",
       "Canada     12\n",
       "Germany     9\n",
       "Name: country, dtype: int64"
      ]
     },
     "execution_count": 78,
     "metadata": {},
     "output_type": "execute_result"
    }
   ],
   "source": [
    "# df = data[data['country'].isin([\"Germany\",\"Canada\"])]\n",
    "\n",
    "# df.value_counts(data['country']).head()\n",
    "df.groupby('country')['country'].count()"
   ]
  },
  {
   "cell_type": "markdown",
   "metadata": {
    "id": "SnEAsEa8Z-hx"
   },
   "source": [
    "## 8. Mostrar en consola la cantidad de paises en el dataset"
   ]
  },
  {
   "cell_type": "code",
   "execution_count": 84,
   "metadata": {
    "colab": {
     "base_uri": "https://localhost:8080/"
    },
    "executionInfo": {
     "elapsed": 301,
     "status": "ok",
     "timestamp": 1637854670074,
     "user": {
      "displayName": "heydy carrasco huaccha",
      "photoUrl": "https://lh3.googleusercontent.com/a-/AOh14GiGyezGgm9Px4LBw_sc7MFWfjUVhWWsvnAz1Ttg=s64",
      "userId": "00007591481982700116"
     },
     "user_tz": 300
    },
    "id": "2GwrIQkHbAZi",
    "outputId": "07d75c4f-b440-419a-a927-39c3a5c5ee47"
   },
   "outputs": [
    {
     "data": {
      "text/plain": [
       "country\n",
       "Ireland           16\n",
       "Denmark           16\n",
       "United Kingdom    14\n",
       "Norway            14\n",
       "New Zealand       14\n",
       "Spain             13\n",
       "Iran              13\n",
       "Canada            12\n",
       "Australia         12\n",
       "Turkey            12\n",
       "France            10\n",
       "Finland           10\n",
       "United States     10\n",
       "Germany            9\n",
       "Switzerland        9\n",
       "Brazil             9\n",
       "Netherlands        6\n",
       "dtype: int64"
      ]
     },
     "execution_count": 84,
     "metadata": {},
     "output_type": "execute_result"
    }
   ],
   "source": [
    "# data.groupby('country')['country'].count()\n",
    "data.value_counts(data['country'])"
   ]
  },
  {
   "cell_type": "code",
   "execution_count": 241,
   "metadata": {
    "colab": {
     "base_uri": "https://localhost:8080/"
    },
    "executionInfo": {
     "elapsed": 257,
     "status": "ok",
     "timestamp": 1637866484917,
     "user": {
      "displayName": "heydy carrasco huaccha",
      "photoUrl": "https://lh3.googleusercontent.com/a-/AOh14GiGyezGgm9Px4LBw_sc7MFWfjUVhWWsvnAz1Ttg=s64",
      "userId": "00007591481982700116"
     },
     "user_tz": 300
    },
    "id": "UkC6R30ecYY1",
    "outputId": "60921c87-b4ce-4009-fdfc-36f97b8a5cca"
   },
   "outputs": [
    {
     "data": {
      "text/plain": [
       "17"
      ]
     },
     "execution_count": 241,
     "metadata": {},
     "output_type": "execute_result"
    }
   ],
   "source": [
    "len(data['country'].value_counts())"
   ]
  },
  {
   "cell_type": "markdown",
   "metadata": {
    "id": "9XxWAtlDZ-mw"
   },
   "source": [
    "## 9. Obtener el promedio de edad de cada uno de los paises."
   ]
  },
  {
   "cell_type": "code",
   "execution_count": 242,
   "metadata": {
    "colab": {
     "base_uri": "https://localhost:8080/"
    },
    "executionInfo": {
     "elapsed": 355,
     "status": "ok",
     "timestamp": 1637866585739,
     "user": {
      "displayName": "heydy carrasco huaccha",
      "photoUrl": "https://lh3.googleusercontent.com/a-/AOh14GiGyezGgm9Px4LBw_sc7MFWfjUVhWWsvnAz1Ttg=s64",
      "userId": "00007591481982700116"
     },
     "user_tz": 300
    },
    "id": "d06YPHdodHfJ",
    "outputId": "72d08872-8b87-4695-fdfc-6e5f1968b0a7"
   },
   "outputs": [
    {
     "data": {
      "text/plain": [
       "country\n",
       "Australia         51.166667\n",
       "Brazil            50.666667\n",
       "Canada            38.583333\n",
       "Denmark           48.812500\n",
       "Finland           42.200000\n",
       "France            48.900000\n",
       "Germany           39.555556\n",
       "Iran              54.230769\n",
       "Ireland           42.000000\n",
       "Netherlands       51.833333\n",
       "New Zealand       49.071429\n",
       "Norway            46.071429\n",
       "Spain             56.615385\n",
       "Switzerland       44.000000\n",
       "Turkey            47.000000\n",
       "United Kingdom    50.142857\n",
       "United States     51.333333\n",
       "Name: age, dtype: float64"
      ]
     },
     "execution_count": 242,
     "metadata": {},
     "output_type": "execute_result"
    }
   ],
   "source": [
    "data.groupby('country')['age'].mean()"
   ]
  },
  {
   "cell_type": "code",
   "execution_count": 93,
   "metadata": {
    "colab": {
     "base_uri": "https://localhost:8080/",
     "height": 645
    },
    "executionInfo": {
     "elapsed": 252,
     "status": "ok",
     "timestamp": 1637855089916,
     "user": {
      "displayName": "heydy carrasco huaccha",
      "photoUrl": "https://lh3.googleusercontent.com/a-/AOh14GiGyezGgm9Px4LBw_sc7MFWfjUVhWWsvnAz1Ttg=s64",
      "userId": "00007591481982700116"
     },
     "user_tz": 300
    },
    "id": "8dIE_HdobA5S",
    "outputId": "e5ebfd3e-41a7-4810-810a-bac05bab87fa"
   },
   "outputs": [
    {
     "data": {
      "text/html": [
       "<div>\n",
       "<style scoped>\n",
       "    .dataframe tbody tr th:only-of-type {\n",
       "        vertical-align: middle;\n",
       "    }\n",
       "\n",
       "    .dataframe tbody tr th {\n",
       "        vertical-align: top;\n",
       "    }\n",
       "\n",
       "    .dataframe thead tr th {\n",
       "        text-align: left;\n",
       "    }\n",
       "\n",
       "    .dataframe thead tr:last-of-type th {\n",
       "        text-align: right;\n",
       "    }\n",
       "</style>\n",
       "<table border=\"1\" class=\"dataframe\">\n",
       "  <thead>\n",
       "    <tr>\n",
       "      <th></th>\n",
       "      <th colspan=\"3\" halign=\"left\">age</th>\n",
       "    </tr>\n",
       "    <tr>\n",
       "      <th></th>\n",
       "      <th>mean</th>\n",
       "      <th>max</th>\n",
       "      <th>count</th>\n",
       "    </tr>\n",
       "    <tr>\n",
       "      <th>country</th>\n",
       "      <th></th>\n",
       "      <th></th>\n",
       "      <th></th>\n",
       "    </tr>\n",
       "  </thead>\n",
       "  <tbody>\n",
       "    <tr>\n",
       "      <th>Australia</th>\n",
       "      <td>51.166667</td>\n",
       "      <td>75.0</td>\n",
       "      <td>12</td>\n",
       "    </tr>\n",
       "    <tr>\n",
       "      <th>Brazil</th>\n",
       "      <td>50.666667</td>\n",
       "      <td>70.0</td>\n",
       "      <td>9</td>\n",
       "    </tr>\n",
       "    <tr>\n",
       "      <th>Canada</th>\n",
       "      <td>38.583333</td>\n",
       "      <td>60.0</td>\n",
       "      <td>12</td>\n",
       "    </tr>\n",
       "    <tr>\n",
       "      <th>Denmark</th>\n",
       "      <td>48.812500</td>\n",
       "      <td>72.0</td>\n",
       "      <td>16</td>\n",
       "    </tr>\n",
       "    <tr>\n",
       "      <th>Finland</th>\n",
       "      <td>42.200000</td>\n",
       "      <td>66.0</td>\n",
       "      <td>10</td>\n",
       "    </tr>\n",
       "    <tr>\n",
       "      <th>France</th>\n",
       "      <td>48.900000</td>\n",
       "      <td>75.0</td>\n",
       "      <td>10</td>\n",
       "    </tr>\n",
       "    <tr>\n",
       "      <th>Germany</th>\n",
       "      <td>39.555556</td>\n",
       "      <td>64.0</td>\n",
       "      <td>9</td>\n",
       "    </tr>\n",
       "    <tr>\n",
       "      <th>Iran</th>\n",
       "      <td>54.230769</td>\n",
       "      <td>71.0</td>\n",
       "      <td>13</td>\n",
       "    </tr>\n",
       "    <tr>\n",
       "      <th>Ireland</th>\n",
       "      <td>42.000000</td>\n",
       "      <td>70.0</td>\n",
       "      <td>16</td>\n",
       "    </tr>\n",
       "    <tr>\n",
       "      <th>Netherlands</th>\n",
       "      <td>51.833333</td>\n",
       "      <td>62.0</td>\n",
       "      <td>6</td>\n",
       "    </tr>\n",
       "    <tr>\n",
       "      <th>New Zealand</th>\n",
       "      <td>49.071429</td>\n",
       "      <td>75.0</td>\n",
       "      <td>14</td>\n",
       "    </tr>\n",
       "    <tr>\n",
       "      <th>Norway</th>\n",
       "      <td>46.071429</td>\n",
       "      <td>67.0</td>\n",
       "      <td>14</td>\n",
       "    </tr>\n",
       "    <tr>\n",
       "      <th>Spain</th>\n",
       "      <td>56.615385</td>\n",
       "      <td>74.0</td>\n",
       "      <td>13</td>\n",
       "    </tr>\n",
       "    <tr>\n",
       "      <th>Switzerland</th>\n",
       "      <td>44.000000</td>\n",
       "      <td>67.0</td>\n",
       "      <td>9</td>\n",
       "    </tr>\n",
       "    <tr>\n",
       "      <th>Turkey</th>\n",
       "      <td>47.000000</td>\n",
       "      <td>74.0</td>\n",
       "      <td>12</td>\n",
       "    </tr>\n",
       "    <tr>\n",
       "      <th>United Kingdom</th>\n",
       "      <td>50.142857</td>\n",
       "      <td>70.0</td>\n",
       "      <td>14</td>\n",
       "    </tr>\n",
       "    <tr>\n",
       "      <th>United States</th>\n",
       "      <td>51.333333</td>\n",
       "      <td>75.0</td>\n",
       "      <td>9</td>\n",
       "    </tr>\n",
       "  </tbody>\n",
       "</table>\n",
       "</div>"
      ],
      "text/plain": [
       "                      age            \n",
       "                     mean   max count\n",
       "country                              \n",
       "Australia       51.166667  75.0    12\n",
       "Brazil          50.666667  70.0     9\n",
       "Canada          38.583333  60.0    12\n",
       "Denmark         48.812500  72.0    16\n",
       "Finland         42.200000  66.0    10\n",
       "France          48.900000  75.0    10\n",
       "Germany         39.555556  64.0     9\n",
       "Iran            54.230769  71.0    13\n",
       "Ireland         42.000000  70.0    16\n",
       "Netherlands     51.833333  62.0     6\n",
       "New Zealand     49.071429  75.0    14\n",
       "Norway          46.071429  67.0    14\n",
       "Spain           56.615385  74.0    13\n",
       "Switzerland     44.000000  67.0     9\n",
       "Turkey          47.000000  74.0    12\n",
       "United Kingdom  50.142857  70.0    14\n",
       "United States   51.333333  75.0     9"
      ]
     },
     "execution_count": 93,
     "metadata": {},
     "output_type": "execute_result"
    }
   ],
   "source": [
    "data.groupby('country').agg({'age': ['mean', 'max', 'count']})"
   ]
  },
  {
   "cell_type": "markdown",
   "metadata": {
    "id": "r73jbAbmZ-rQ"
   },
   "source": [
    "## 10. Mostrar en consola el país con más hombres"
   ]
  },
  {
   "cell_type": "code",
   "execution_count": 107,
   "metadata": {
    "colab": {
     "base_uri": "https://localhost:8080/"
    },
    "executionInfo": {
     "elapsed": 244,
     "status": "ok",
     "timestamp": 1637857590006,
     "user": {
      "displayName": "heydy carrasco huaccha",
      "photoUrl": "https://lh3.googleusercontent.com/a-/AOh14GiGyezGgm9Px4LBw_sc7MFWfjUVhWWsvnAz1Ttg=s64",
      "userId": "00007591481982700116"
     },
     "user_tz": 300
    },
    "id": "Nj93iwXAbBMj",
    "outputId": "4381b9e9-1ad0-4b94-b54b-d180a6d28e6c"
   },
   "outputs": [
    {
     "data": {
      "text/plain": [
       "country\n",
       "Ireland    10\n",
       "Norway      8\n",
       "Iran        8\n",
       "Name: country, dtype: int64"
      ]
     },
     "execution_count": 107,
     "metadata": {},
     "output_type": "execute_result"
    }
   ],
   "source": [
    "data[data['gender']=='male'].groupby('country')['country'].count(\n",
    ").sort_values(ascending=False).head(3)"
   ]
  },
  {
   "cell_type": "markdown",
   "metadata": {},
   "source": [
    "# ADICIONAL PREGUNTA"
   ]
  },
  {
   "cell_type": "markdown",
   "metadata": {},
   "source": [
    "## 11) Porcentaje de hombres y mujeres por país"
   ]
  },
  {
   "cell_type": "code",
   "execution_count": 26,
   "metadata": {},
   "outputs": [
    {
     "data": {
      "text/html": [
       "<div>\n",
       "<style scoped>\n",
       "    .dataframe tbody tr th:only-of-type {\n",
       "        vertical-align: middle;\n",
       "    }\n",
       "\n",
       "    .dataframe tbody tr th {\n",
       "        vertical-align: top;\n",
       "    }\n",
       "\n",
       "    .dataframe thead th {\n",
       "        text-align: right;\n",
       "    }\n",
       "</style>\n",
       "<table border=\"1\" class=\"dataframe\">\n",
       "  <thead>\n",
       "    <tr style=\"text-align: right;\">\n",
       "      <th></th>\n",
       "      <th>hombres</th>\n",
       "      <th>mujeres</th>\n",
       "      <th>total</th>\n",
       "    </tr>\n",
       "    <tr>\n",
       "      <th>country</th>\n",
       "      <th></th>\n",
       "      <th></th>\n",
       "      <th></th>\n",
       "    </tr>\n",
       "  </thead>\n",
       "  <tbody>\n",
       "    <tr>\n",
       "      <th>Australia</th>\n",
       "      <td>6</td>\n",
       "      <td>6</td>\n",
       "      <td>12</td>\n",
       "    </tr>\n",
       "    <tr>\n",
       "      <th>Brazil</th>\n",
       "      <td>4</td>\n",
       "      <td>5</td>\n",
       "      <td>9</td>\n",
       "    </tr>\n",
       "    <tr>\n",
       "      <th>Canada</th>\n",
       "      <td>7</td>\n",
       "      <td>5</td>\n",
       "      <td>12</td>\n",
       "    </tr>\n",
       "    <tr>\n",
       "      <th>Denmark</th>\n",
       "      <td>4</td>\n",
       "      <td>12</td>\n",
       "      <td>16</td>\n",
       "    </tr>\n",
       "    <tr>\n",
       "      <th>Finland</th>\n",
       "      <td>3</td>\n",
       "      <td>7</td>\n",
       "      <td>10</td>\n",
       "    </tr>\n",
       "    <tr>\n",
       "      <th>France</th>\n",
       "      <td>6</td>\n",
       "      <td>4</td>\n",
       "      <td>10</td>\n",
       "    </tr>\n",
       "    <tr>\n",
       "      <th>Germany</th>\n",
       "      <td>3</td>\n",
       "      <td>6</td>\n",
       "      <td>9</td>\n",
       "    </tr>\n",
       "    <tr>\n",
       "      <th>Iran</th>\n",
       "      <td>8</td>\n",
       "      <td>5</td>\n",
       "      <td>13</td>\n",
       "    </tr>\n",
       "    <tr>\n",
       "      <th>Ireland</th>\n",
       "      <td>10</td>\n",
       "      <td>6</td>\n",
       "      <td>16</td>\n",
       "    </tr>\n",
       "    <tr>\n",
       "      <th>Netherlands</th>\n",
       "      <td>2</td>\n",
       "      <td>4</td>\n",
       "      <td>6</td>\n",
       "    </tr>\n",
       "    <tr>\n",
       "      <th>New Zealand</th>\n",
       "      <td>4</td>\n",
       "      <td>10</td>\n",
       "      <td>14</td>\n",
       "    </tr>\n",
       "    <tr>\n",
       "      <th>Norway</th>\n",
       "      <td>8</td>\n",
       "      <td>6</td>\n",
       "      <td>14</td>\n",
       "    </tr>\n",
       "    <tr>\n",
       "      <th>Spain</th>\n",
       "      <td>4</td>\n",
       "      <td>9</td>\n",
       "      <td>13</td>\n",
       "    </tr>\n",
       "    <tr>\n",
       "      <th>Switzerland</th>\n",
       "      <td>3</td>\n",
       "      <td>6</td>\n",
       "      <td>9</td>\n",
       "    </tr>\n",
       "    <tr>\n",
       "      <th>Turkey</th>\n",
       "      <td>5</td>\n",
       "      <td>7</td>\n",
       "      <td>12</td>\n",
       "    </tr>\n",
       "    <tr>\n",
       "      <th>United Kingdom</th>\n",
       "      <td>8</td>\n",
       "      <td>6</td>\n",
       "      <td>14</td>\n",
       "    </tr>\n",
       "    <tr>\n",
       "      <th>United States</th>\n",
       "      <td>8</td>\n",
       "      <td>2</td>\n",
       "      <td>10</td>\n",
       "    </tr>\n",
       "  </tbody>\n",
       "</table>\n",
       "</div>"
      ],
      "text/plain": [
       "                hombres  mujeres  total\n",
       "country                                \n",
       "Australia             6        6     12\n",
       "Brazil                4        5      9\n",
       "Canada                7        5     12\n",
       "Denmark               4       12     16\n",
       "Finland               3        7     10\n",
       "France                6        4     10\n",
       "Germany               3        6      9\n",
       "Iran                  8        5     13\n",
       "Ireland              10        6     16\n",
       "Netherlands           2        4      6\n",
       "New Zealand           4       10     14\n",
       "Norway                8        6     14\n",
       "Spain                 4        9     13\n",
       "Switzerland           3        6      9\n",
       "Turkey                5        7     12\n",
       "United Kingdom        8        6     14\n",
       "United States         8        2     10"
      ]
     },
     "execution_count": 26,
     "metadata": {},
     "output_type": "execute_result"
    }
   ],
   "source": [
    "# Calculamos en total de hombres y mujeres por país, así como el total de personas\n",
    "# Creamos un nuevo DF a partir de las 3 series calculadas\n",
    "\n",
    "total = data.groupby('country').count().name\n",
    "n_hombres = data[data['gender'] == 'male'].groupby('country').count().name\n",
    "n_mujeres = data[data['gender'] == 'female'].groupby('country').count().name\n",
    "\n",
    "generos = pd.concat([n_hombres, n_mujeres, total], axis=1)\n",
    "generos.columns=['hombres', 'mujeres', 'total']\n",
    "\n",
    "generos"
   ]
  },
  {
   "cell_type": "code",
   "execution_count": 27,
   "metadata": {},
   "outputs": [
    {
     "data": {
      "text/html": [
       "<div>\n",
       "<style scoped>\n",
       "    .dataframe tbody tr th:only-of-type {\n",
       "        vertical-align: middle;\n",
       "    }\n",
       "\n",
       "    .dataframe tbody tr th {\n",
       "        vertical-align: top;\n",
       "    }\n",
       "\n",
       "    .dataframe thead th {\n",
       "        text-align: right;\n",
       "    }\n",
       "</style>\n",
       "<table border=\"1\" class=\"dataframe\">\n",
       "  <thead>\n",
       "    <tr style=\"text-align: right;\">\n",
       "      <th></th>\n",
       "      <th>hombres</th>\n",
       "      <th>mujeres</th>\n",
       "      <th>total</th>\n",
       "      <th>% hombres</th>\n",
       "      <th>% mujeres</th>\n",
       "    </tr>\n",
       "    <tr>\n",
       "      <th>country</th>\n",
       "      <th></th>\n",
       "      <th></th>\n",
       "      <th></th>\n",
       "      <th></th>\n",
       "      <th></th>\n",
       "    </tr>\n",
       "  </thead>\n",
       "  <tbody>\n",
       "    <tr>\n",
       "      <th>Australia</th>\n",
       "      <td>6</td>\n",
       "      <td>6</td>\n",
       "      <td>12</td>\n",
       "      <td>50.0</td>\n",
       "      <td>50.0</td>\n",
       "    </tr>\n",
       "    <tr>\n",
       "      <th>Brazil</th>\n",
       "      <td>4</td>\n",
       "      <td>5</td>\n",
       "      <td>9</td>\n",
       "      <td>44.4</td>\n",
       "      <td>55.6</td>\n",
       "    </tr>\n",
       "    <tr>\n",
       "      <th>Canada</th>\n",
       "      <td>7</td>\n",
       "      <td>5</td>\n",
       "      <td>12</td>\n",
       "      <td>58.3</td>\n",
       "      <td>41.7</td>\n",
       "    </tr>\n",
       "    <tr>\n",
       "      <th>Denmark</th>\n",
       "      <td>4</td>\n",
       "      <td>12</td>\n",
       "      <td>16</td>\n",
       "      <td>25.0</td>\n",
       "      <td>75.0</td>\n",
       "    </tr>\n",
       "    <tr>\n",
       "      <th>Finland</th>\n",
       "      <td>3</td>\n",
       "      <td>7</td>\n",
       "      <td>10</td>\n",
       "      <td>30.0</td>\n",
       "      <td>70.0</td>\n",
       "    </tr>\n",
       "    <tr>\n",
       "      <th>France</th>\n",
       "      <td>6</td>\n",
       "      <td>4</td>\n",
       "      <td>10</td>\n",
       "      <td>60.0</td>\n",
       "      <td>40.0</td>\n",
       "    </tr>\n",
       "    <tr>\n",
       "      <th>Germany</th>\n",
       "      <td>3</td>\n",
       "      <td>6</td>\n",
       "      <td>9</td>\n",
       "      <td>33.3</td>\n",
       "      <td>66.7</td>\n",
       "    </tr>\n",
       "    <tr>\n",
       "      <th>Iran</th>\n",
       "      <td>8</td>\n",
       "      <td>5</td>\n",
       "      <td>13</td>\n",
       "      <td>61.5</td>\n",
       "      <td>38.5</td>\n",
       "    </tr>\n",
       "    <tr>\n",
       "      <th>Ireland</th>\n",
       "      <td>10</td>\n",
       "      <td>6</td>\n",
       "      <td>16</td>\n",
       "      <td>62.5</td>\n",
       "      <td>37.5</td>\n",
       "    </tr>\n",
       "    <tr>\n",
       "      <th>Netherlands</th>\n",
       "      <td>2</td>\n",
       "      <td>4</td>\n",
       "      <td>6</td>\n",
       "      <td>33.3</td>\n",
       "      <td>66.7</td>\n",
       "    </tr>\n",
       "    <tr>\n",
       "      <th>New Zealand</th>\n",
       "      <td>4</td>\n",
       "      <td>10</td>\n",
       "      <td>14</td>\n",
       "      <td>28.6</td>\n",
       "      <td>71.4</td>\n",
       "    </tr>\n",
       "    <tr>\n",
       "      <th>Norway</th>\n",
       "      <td>8</td>\n",
       "      <td>6</td>\n",
       "      <td>14</td>\n",
       "      <td>57.1</td>\n",
       "      <td>42.9</td>\n",
       "    </tr>\n",
       "    <tr>\n",
       "      <th>Spain</th>\n",
       "      <td>4</td>\n",
       "      <td>9</td>\n",
       "      <td>13</td>\n",
       "      <td>30.8</td>\n",
       "      <td>69.2</td>\n",
       "    </tr>\n",
       "    <tr>\n",
       "      <th>Switzerland</th>\n",
       "      <td>3</td>\n",
       "      <td>6</td>\n",
       "      <td>9</td>\n",
       "      <td>33.3</td>\n",
       "      <td>66.7</td>\n",
       "    </tr>\n",
       "    <tr>\n",
       "      <th>Turkey</th>\n",
       "      <td>5</td>\n",
       "      <td>7</td>\n",
       "      <td>12</td>\n",
       "      <td>41.7</td>\n",
       "      <td>58.3</td>\n",
       "    </tr>\n",
       "    <tr>\n",
       "      <th>United Kingdom</th>\n",
       "      <td>8</td>\n",
       "      <td>6</td>\n",
       "      <td>14</td>\n",
       "      <td>57.1</td>\n",
       "      <td>42.9</td>\n",
       "    </tr>\n",
       "    <tr>\n",
       "      <th>United States</th>\n",
       "      <td>8</td>\n",
       "      <td>2</td>\n",
       "      <td>10</td>\n",
       "      <td>80.0</td>\n",
       "      <td>20.0</td>\n",
       "    </tr>\n",
       "  </tbody>\n",
       "</table>\n",
       "</div>"
      ],
      "text/plain": [
       "                hombres  mujeres  total  % hombres  % mujeres\n",
       "country                                                      \n",
       "Australia             6        6     12       50.0       50.0\n",
       "Brazil                4        5      9       44.4       55.6\n",
       "Canada                7        5     12       58.3       41.7\n",
       "Denmark               4       12     16       25.0       75.0\n",
       "Finland               3        7     10       30.0       70.0\n",
       "France                6        4     10       60.0       40.0\n",
       "Germany               3        6      9       33.3       66.7\n",
       "Iran                  8        5     13       61.5       38.5\n",
       "Ireland              10        6     16       62.5       37.5\n",
       "Netherlands           2        4      6       33.3       66.7\n",
       "New Zealand           4       10     14       28.6       71.4\n",
       "Norway                8        6     14       57.1       42.9\n",
       "Spain                 4        9     13       30.8       69.2\n",
       "Switzerland           3        6      9       33.3       66.7\n",
       "Turkey                5        7     12       41.7       58.3\n",
       "United Kingdom        8        6     14       57.1       42.9\n",
       "United States         8        2     10       80.0       20.0"
      ]
     },
     "execution_count": 27,
     "metadata": {},
     "output_type": "execute_result"
    }
   ],
   "source": [
    "# Aplicamos la función porcentaje a cada línea\n",
    "\n",
    "def porcentaje(x, y):\n",
    "    return round((y * 100 / x), 1)\n",
    "\n",
    "generos['% hombres'] = generos.apply(lambda row: porcentaje(row['total'],\n",
    "                     row['hombres']), axis = 1)\n",
    "\n",
    "generos['% mujeres'] = generos.apply(lambda row: porcentaje(row['total'],\n",
    "                     row['mujeres']), axis = 1)\n",
    "\n",
    "generos"
   ]
  },
  {
   "cell_type": "markdown",
   "metadata": {},
   "source": [
    "## 12) Total de hombres y mujeres en el DF"
   ]
  },
  {
   "cell_type": "code",
   "execution_count": 28,
   "metadata": {},
   "outputs": [
    {
     "data": {
      "text/html": [
       "<div>\n",
       "<style scoped>\n",
       "    .dataframe tbody tr th:only-of-type {\n",
       "        vertical-align: middle;\n",
       "    }\n",
       "\n",
       "    .dataframe tbody tr th {\n",
       "        vertical-align: top;\n",
       "    }\n",
       "\n",
       "    .dataframe thead th {\n",
       "        text-align: right;\n",
       "    }\n",
       "</style>\n",
       "<table border=\"1\" class=\"dataframe\">\n",
       "  <thead>\n",
       "    <tr style=\"text-align: right;\">\n",
       "      <th></th>\n",
       "      <th>hombres</th>\n",
       "      <th>mujeres</th>\n",
       "      <th>total</th>\n",
       "      <th>% hombres</th>\n",
       "      <th>% mujeres</th>\n",
       "    </tr>\n",
       "    <tr>\n",
       "      <th>country</th>\n",
       "      <th></th>\n",
       "      <th></th>\n",
       "      <th></th>\n",
       "      <th></th>\n",
       "      <th></th>\n",
       "    </tr>\n",
       "  </thead>\n",
       "  <tbody>\n",
       "    <tr>\n",
       "      <th>Australia</th>\n",
       "      <td>6.0</td>\n",
       "      <td>6.0</td>\n",
       "      <td>12.0</td>\n",
       "      <td>50.0</td>\n",
       "      <td>50.0</td>\n",
       "    </tr>\n",
       "    <tr>\n",
       "      <th>Brazil</th>\n",
       "      <td>4.0</td>\n",
       "      <td>5.0</td>\n",
       "      <td>9.0</td>\n",
       "      <td>44.4</td>\n",
       "      <td>55.6</td>\n",
       "    </tr>\n",
       "    <tr>\n",
       "      <th>Canada</th>\n",
       "      <td>7.0</td>\n",
       "      <td>5.0</td>\n",
       "      <td>12.0</td>\n",
       "      <td>58.3</td>\n",
       "      <td>41.7</td>\n",
       "    </tr>\n",
       "    <tr>\n",
       "      <th>Denmark</th>\n",
       "      <td>4.0</td>\n",
       "      <td>12.0</td>\n",
       "      <td>16.0</td>\n",
       "      <td>25.0</td>\n",
       "      <td>75.0</td>\n",
       "    </tr>\n",
       "    <tr>\n",
       "      <th>Finland</th>\n",
       "      <td>3.0</td>\n",
       "      <td>7.0</td>\n",
       "      <td>10.0</td>\n",
       "      <td>30.0</td>\n",
       "      <td>70.0</td>\n",
       "    </tr>\n",
       "    <tr>\n",
       "      <th>France</th>\n",
       "      <td>6.0</td>\n",
       "      <td>4.0</td>\n",
       "      <td>10.0</td>\n",
       "      <td>60.0</td>\n",
       "      <td>40.0</td>\n",
       "    </tr>\n",
       "    <tr>\n",
       "      <th>Germany</th>\n",
       "      <td>3.0</td>\n",
       "      <td>6.0</td>\n",
       "      <td>9.0</td>\n",
       "      <td>33.3</td>\n",
       "      <td>66.7</td>\n",
       "    </tr>\n",
       "    <tr>\n",
       "      <th>Iran</th>\n",
       "      <td>8.0</td>\n",
       "      <td>5.0</td>\n",
       "      <td>13.0</td>\n",
       "      <td>61.5</td>\n",
       "      <td>38.5</td>\n",
       "    </tr>\n",
       "    <tr>\n",
       "      <th>Ireland</th>\n",
       "      <td>10.0</td>\n",
       "      <td>6.0</td>\n",
       "      <td>16.0</td>\n",
       "      <td>62.5</td>\n",
       "      <td>37.5</td>\n",
       "    </tr>\n",
       "    <tr>\n",
       "      <th>Netherlands</th>\n",
       "      <td>2.0</td>\n",
       "      <td>4.0</td>\n",
       "      <td>6.0</td>\n",
       "      <td>33.3</td>\n",
       "      <td>66.7</td>\n",
       "    </tr>\n",
       "    <tr>\n",
       "      <th>New Zealand</th>\n",
       "      <td>4.0</td>\n",
       "      <td>10.0</td>\n",
       "      <td>14.0</td>\n",
       "      <td>28.6</td>\n",
       "      <td>71.4</td>\n",
       "    </tr>\n",
       "    <tr>\n",
       "      <th>Norway</th>\n",
       "      <td>8.0</td>\n",
       "      <td>6.0</td>\n",
       "      <td>14.0</td>\n",
       "      <td>57.1</td>\n",
       "      <td>42.9</td>\n",
       "    </tr>\n",
       "    <tr>\n",
       "      <th>Spain</th>\n",
       "      <td>4.0</td>\n",
       "      <td>9.0</td>\n",
       "      <td>13.0</td>\n",
       "      <td>30.8</td>\n",
       "      <td>69.2</td>\n",
       "    </tr>\n",
       "    <tr>\n",
       "      <th>Switzerland</th>\n",
       "      <td>3.0</td>\n",
       "      <td>6.0</td>\n",
       "      <td>9.0</td>\n",
       "      <td>33.3</td>\n",
       "      <td>66.7</td>\n",
       "    </tr>\n",
       "    <tr>\n",
       "      <th>Turkey</th>\n",
       "      <td>5.0</td>\n",
       "      <td>7.0</td>\n",
       "      <td>12.0</td>\n",
       "      <td>41.7</td>\n",
       "      <td>58.3</td>\n",
       "    </tr>\n",
       "    <tr>\n",
       "      <th>United Kingdom</th>\n",
       "      <td>8.0</td>\n",
       "      <td>6.0</td>\n",
       "      <td>14.0</td>\n",
       "      <td>57.1</td>\n",
       "      <td>42.9</td>\n",
       "    </tr>\n",
       "    <tr>\n",
       "      <th>United States</th>\n",
       "      <td>8.0</td>\n",
       "      <td>2.0</td>\n",
       "      <td>10.0</td>\n",
       "      <td>80.0</td>\n",
       "      <td>20.0</td>\n",
       "    </tr>\n",
       "    <tr>\n",
       "      <th>Totales</th>\n",
       "      <td>93.0</td>\n",
       "      <td>106.0</td>\n",
       "      <td>199.0</td>\n",
       "      <td>46.7</td>\n",
       "      <td>53.3</td>\n",
       "    </tr>\n",
       "  </tbody>\n",
       "</table>\n",
       "</div>"
      ],
      "text/plain": [
       "                hombres  mujeres  total  % hombres  % mujeres\n",
       "country                                                      \n",
       "Australia           6.0      6.0   12.0       50.0       50.0\n",
       "Brazil              4.0      5.0    9.0       44.4       55.6\n",
       "Canada              7.0      5.0   12.0       58.3       41.7\n",
       "Denmark             4.0     12.0   16.0       25.0       75.0\n",
       "Finland             3.0      7.0   10.0       30.0       70.0\n",
       "France              6.0      4.0   10.0       60.0       40.0\n",
       "Germany             3.0      6.0    9.0       33.3       66.7\n",
       "Iran                8.0      5.0   13.0       61.5       38.5\n",
       "Ireland            10.0      6.0   16.0       62.5       37.5\n",
       "Netherlands         2.0      4.0    6.0       33.3       66.7\n",
       "New Zealand         4.0     10.0   14.0       28.6       71.4\n",
       "Norway              8.0      6.0   14.0       57.1       42.9\n",
       "Spain               4.0      9.0   13.0       30.8       69.2\n",
       "Switzerland         3.0      6.0    9.0       33.3       66.7\n",
       "Turkey              5.0      7.0   12.0       41.7       58.3\n",
       "United Kingdom      8.0      6.0   14.0       57.1       42.9\n",
       "United States       8.0      2.0   10.0       80.0       20.0\n",
       "Totales            93.0    106.0  199.0       46.7       53.3"
      ]
     },
     "execution_count": 28,
     "metadata": {},
     "output_type": "execute_result"
    }
   ],
   "source": [
    "hombres = generos['hombres'].sum()\n",
    "mujeres = generos['mujeres'].sum()\n",
    "total = generos['total'].sum()\n",
    "\n",
    "totales = {\n",
    "    'hombres': hombres,\n",
    "    'mujeres': mujeres,\n",
    "    'total': total,\n",
    "    '% hombres': porcentaje(total, hombres),\n",
    "    '% mujeres': porcentaje(total, mujeres),\n",
    "}\n",
    "\n",
    "# Se agrega una serie para poder conservar el índice de países\n",
    "# Si se agrea el diccionario directamente, entonces\n",
    "# ignore_index=True siempre, y se pierden los índices\n",
    "linea_totales = pd.Series(totales, name='Totales')\n",
    "\n",
    "generos = generos.append(linea_totales, ignore_index=False)\n",
    "\n",
    "generos"
   ]
  },
  {
   "cell_type": "code",
   "execution_count": 35,
   "metadata": {},
   "outputs": [
    {
     "data": {
      "text/html": [
       "<div>\n",
       "<style scoped>\n",
       "    .dataframe tbody tr th:only-of-type {\n",
       "        vertical-align: middle;\n",
       "    }\n",
       "\n",
       "    .dataframe tbody tr th {\n",
       "        vertical-align: top;\n",
       "    }\n",
       "\n",
       "    .dataframe thead th {\n",
       "        text-align: right;\n",
       "    }\n",
       "</style>\n",
       "<table border=\"1\" class=\"dataframe\">\n",
       "  <thead>\n",
       "    <tr style=\"text-align: right;\">\n",
       "      <th>gender</th>\n",
       "      <th>country</th>\n",
       "      <th>female</th>\n",
       "      <th>male</th>\n",
       "      <th>% female</th>\n",
       "      <th>% male</th>\n",
       "    </tr>\n",
       "  </thead>\n",
       "  <tbody>\n",
       "    <tr>\n",
       "      <th>0</th>\n",
       "      <td>Australia</td>\n",
       "      <td>6</td>\n",
       "      <td>6</td>\n",
       "      <td>0.500000</td>\n",
       "      <td>0.500000</td>\n",
       "    </tr>\n",
       "    <tr>\n",
       "      <th>1</th>\n",
       "      <td>Brazil</td>\n",
       "      <td>5</td>\n",
       "      <td>4</td>\n",
       "      <td>0.555556</td>\n",
       "      <td>0.444444</td>\n",
       "    </tr>\n",
       "    <tr>\n",
       "      <th>2</th>\n",
       "      <td>Canada</td>\n",
       "      <td>5</td>\n",
       "      <td>7</td>\n",
       "      <td>0.416667</td>\n",
       "      <td>0.583333</td>\n",
       "    </tr>\n",
       "    <tr>\n",
       "      <th>3</th>\n",
       "      <td>Denmark</td>\n",
       "      <td>12</td>\n",
       "      <td>4</td>\n",
       "      <td>0.750000</td>\n",
       "      <td>0.250000</td>\n",
       "    </tr>\n",
       "    <tr>\n",
       "      <th>4</th>\n",
       "      <td>Finland</td>\n",
       "      <td>7</td>\n",
       "      <td>3</td>\n",
       "      <td>0.700000</td>\n",
       "      <td>0.300000</td>\n",
       "    </tr>\n",
       "    <tr>\n",
       "      <th>5</th>\n",
       "      <td>France</td>\n",
       "      <td>4</td>\n",
       "      <td>6</td>\n",
       "      <td>0.400000</td>\n",
       "      <td>0.600000</td>\n",
       "    </tr>\n",
       "    <tr>\n",
       "      <th>6</th>\n",
       "      <td>Germany</td>\n",
       "      <td>6</td>\n",
       "      <td>3</td>\n",
       "      <td>0.666667</td>\n",
       "      <td>0.333333</td>\n",
       "    </tr>\n",
       "    <tr>\n",
       "      <th>7</th>\n",
       "      <td>Iran</td>\n",
       "      <td>5</td>\n",
       "      <td>8</td>\n",
       "      <td>0.384615</td>\n",
       "      <td>0.615385</td>\n",
       "    </tr>\n",
       "    <tr>\n",
       "      <th>8</th>\n",
       "      <td>Ireland</td>\n",
       "      <td>6</td>\n",
       "      <td>10</td>\n",
       "      <td>0.375000</td>\n",
       "      <td>0.625000</td>\n",
       "    </tr>\n",
       "    <tr>\n",
       "      <th>9</th>\n",
       "      <td>Netherlands</td>\n",
       "      <td>4</td>\n",
       "      <td>2</td>\n",
       "      <td>0.666667</td>\n",
       "      <td>0.333333</td>\n",
       "    </tr>\n",
       "    <tr>\n",
       "      <th>10</th>\n",
       "      <td>New Zealand</td>\n",
       "      <td>10</td>\n",
       "      <td>4</td>\n",
       "      <td>0.714286</td>\n",
       "      <td>0.285714</td>\n",
       "    </tr>\n",
       "    <tr>\n",
       "      <th>11</th>\n",
       "      <td>Norway</td>\n",
       "      <td>6</td>\n",
       "      <td>8</td>\n",
       "      <td>0.428571</td>\n",
       "      <td>0.571429</td>\n",
       "    </tr>\n",
       "    <tr>\n",
       "      <th>12</th>\n",
       "      <td>Spain</td>\n",
       "      <td>9</td>\n",
       "      <td>4</td>\n",
       "      <td>0.692308</td>\n",
       "      <td>0.307692</td>\n",
       "    </tr>\n",
       "    <tr>\n",
       "      <th>13</th>\n",
       "      <td>Switzerland</td>\n",
       "      <td>6</td>\n",
       "      <td>3</td>\n",
       "      <td>0.666667</td>\n",
       "      <td>0.333333</td>\n",
       "    </tr>\n",
       "    <tr>\n",
       "      <th>14</th>\n",
       "      <td>Turkey</td>\n",
       "      <td>7</td>\n",
       "      <td>5</td>\n",
       "      <td>0.583333</td>\n",
       "      <td>0.416667</td>\n",
       "    </tr>\n",
       "    <tr>\n",
       "      <th>15</th>\n",
       "      <td>United Kingdom</td>\n",
       "      <td>6</td>\n",
       "      <td>8</td>\n",
       "      <td>0.428571</td>\n",
       "      <td>0.571429</td>\n",
       "    </tr>\n",
       "    <tr>\n",
       "      <th>16</th>\n",
       "      <td>United States</td>\n",
       "      <td>2</td>\n",
       "      <td>8</td>\n",
       "      <td>0.200000</td>\n",
       "      <td>0.800000</td>\n",
       "    </tr>\n",
       "  </tbody>\n",
       "</table>\n",
       "</div>"
      ],
      "text/plain": [
       "gender         country  female  male  % female    % male\n",
       "0            Australia       6     6  0.500000  0.500000\n",
       "1               Brazil       5     4  0.555556  0.444444\n",
       "2               Canada       5     7  0.416667  0.583333\n",
       "3              Denmark      12     4  0.750000  0.250000\n",
       "4              Finland       7     3  0.700000  0.300000\n",
       "5               France       4     6  0.400000  0.600000\n",
       "6              Germany       6     3  0.666667  0.333333\n",
       "7                 Iran       5     8  0.384615  0.615385\n",
       "8              Ireland       6    10  0.375000  0.625000\n",
       "9          Netherlands       4     2  0.666667  0.333333\n",
       "10         New Zealand      10     4  0.714286  0.285714\n",
       "11              Norway       6     8  0.428571  0.571429\n",
       "12               Spain       9     4  0.692308  0.307692\n",
       "13         Switzerland       6     3  0.666667  0.333333\n",
       "14              Turkey       7     5  0.583333  0.416667\n",
       "15      United Kingdom       6     8  0.428571  0.571429\n",
       "16       United States       2     8  0.200000  0.800000"
      ]
     },
     "execution_count": 35,
     "metadata": {},
     "output_type": "execute_result"
    }
   ],
   "source": [
    "# OTRA SOLUCION\n",
    "def percent(x, y):\n",
    "    return x/x.sum()\n",
    "\n",
    "data['num'] = 1\n",
    "data_percent = pd.pivot_table(data,\n",
    "                             index='country',\n",
    "                             columns='gender',\n",
    "                             values='num',\n",
    "                             aggfunc='count').reset_index()\n",
    "\n",
    "data_percent['% female'] = data_percent[['female','male']].apply(lambda x:x.female/sum(x), axis=1)\n",
    "data_percent['% male'] = data_percent[['female','male']].apply(lambda x:x.male/sum(x), axis=1)\n",
    "data_percent"
   ]
  },
  {
   "cell_type": "code",
   "execution_count": 37,
   "metadata": {},
   "outputs": [
    {
     "data": {
      "text/html": [
       "<div>\n",
       "<style scoped>\n",
       "    .dataframe tbody tr th:only-of-type {\n",
       "        vertical-align: middle;\n",
       "    }\n",
       "\n",
       "    .dataframe tbody tr th {\n",
       "        vertical-align: top;\n",
       "    }\n",
       "\n",
       "    .dataframe thead th {\n",
       "        text-align: right;\n",
       "    }\n",
       "</style>\n",
       "<table border=\"1\" class=\"dataframe\">\n",
       "  <thead>\n",
       "    <tr style=\"text-align: right;\">\n",
       "      <th></th>\n",
       "      <th>edad_min</th>\n",
       "      <th>edad_max</th>\n",
       "      <th>edad_mean</th>\n",
       "      <th>edad_std</th>\n",
       "      <th>porcentaje_mujeres</th>\n",
       "      <th>porcentaje_hombres</th>\n",
       "      <th>primer_usuario</th>\n",
       "    </tr>\n",
       "    <tr>\n",
       "      <th>country</th>\n",
       "      <th></th>\n",
       "      <th></th>\n",
       "      <th></th>\n",
       "      <th></th>\n",
       "      <th></th>\n",
       "      <th></th>\n",
       "      <th></th>\n",
       "    </tr>\n",
       "  </thead>\n",
       "  <tbody>\n",
       "    <tr>\n",
       "      <th>Australia</th>\n",
       "      <td>23.0</td>\n",
       "      <td>75.0</td>\n",
       "      <td>51.166667</td>\n",
       "      <td>17.714558</td>\n",
       "      <td>50.000000</td>\n",
       "      <td>50.000000</td>\n",
       "      <td>Ms Cathy Simmmons</td>\n",
       "    </tr>\n",
       "    <tr>\n",
       "      <th>Brazil</th>\n",
       "      <td>27.0</td>\n",
       "      <td>70.0</td>\n",
       "      <td>50.666667</td>\n",
       "      <td>16.020820</td>\n",
       "      <td>44.444444</td>\n",
       "      <td>55.555556</td>\n",
       "      <td>Ms Laica Pires</td>\n",
       "    </tr>\n",
       "    <tr>\n",
       "      <th>Canada</th>\n",
       "      <td>24.0</td>\n",
       "      <td>60.0</td>\n",
       "      <td>38.583333</td>\n",
       "      <td>11.729296</td>\n",
       "      <td>58.333333</td>\n",
       "      <td>41.666667</td>\n",
       "      <td>Mr Louis Ross</td>\n",
       "    </tr>\n",
       "    <tr>\n",
       "      <th>Denmark</th>\n",
       "      <td>29.0</td>\n",
       "      <td>72.0</td>\n",
       "      <td>48.812500</td>\n",
       "      <td>13.234513</td>\n",
       "      <td>25.000000</td>\n",
       "      <td>75.000000</td>\n",
       "      <td>Mrs Naja Johansen</td>\n",
       "    </tr>\n",
       "    <tr>\n",
       "      <th>Finland</th>\n",
       "      <td>22.0</td>\n",
       "      <td>66.0</td>\n",
       "      <td>42.200000</td>\n",
       "      <td>14.668333</td>\n",
       "      <td>30.000000</td>\n",
       "      <td>70.000000</td>\n",
       "      <td>Miss Emilia Laitinen</td>\n",
       "    </tr>\n",
       "    <tr>\n",
       "      <th>France</th>\n",
       "      <td>27.0</td>\n",
       "      <td>75.0</td>\n",
       "      <td>48.900000</td>\n",
       "      <td>17.160711</td>\n",
       "      <td>60.000000</td>\n",
       "      <td>40.000000</td>\n",
       "      <td>Mr Noham Dubois</td>\n",
       "    </tr>\n",
       "    <tr>\n",
       "      <th>Germany</th>\n",
       "      <td>22.0</td>\n",
       "      <td>64.0</td>\n",
       "      <td>39.555556</td>\n",
       "      <td>13.508114</td>\n",
       "      <td>33.333333</td>\n",
       "      <td>66.666667</td>\n",
       "      <td>Mr Harri Althoff</td>\n",
       "    </tr>\n",
       "    <tr>\n",
       "      <th>Iran</th>\n",
       "      <td>27.0</td>\n",
       "      <td>71.0</td>\n",
       "      <td>54.230769</td>\n",
       "      <td>10.962551</td>\n",
       "      <td>61.538462</td>\n",
       "      <td>38.461538</td>\n",
       "      <td>Mr محمدمهدی سهيلي راد</td>\n",
       "    </tr>\n",
       "    <tr>\n",
       "      <th>Ireland</th>\n",
       "      <td>23.0</td>\n",
       "      <td>70.0</td>\n",
       "      <td>42.000000</td>\n",
       "      <td>14.611639</td>\n",
       "      <td>62.500000</td>\n",
       "      <td>37.500000</td>\n",
       "      <td>Mr Jakob Russell</td>\n",
       "    </tr>\n",
       "    <tr>\n",
       "      <th>Netherlands</th>\n",
       "      <td>35.0</td>\n",
       "      <td>62.0</td>\n",
       "      <td>51.833333</td>\n",
       "      <td>10.446956</td>\n",
       "      <td>33.333333</td>\n",
       "      <td>66.666667</td>\n",
       "      <td>Ms Wenda Laurens</td>\n",
       "    </tr>\n",
       "    <tr>\n",
       "      <th>New Zealand</th>\n",
       "      <td>23.0</td>\n",
       "      <td>75.0</td>\n",
       "      <td>49.071429</td>\n",
       "      <td>18.899978</td>\n",
       "      <td>28.571429</td>\n",
       "      <td>71.428571</td>\n",
       "      <td>Miss Maia Clarke</td>\n",
       "    </tr>\n",
       "    <tr>\n",
       "      <th>Norway</th>\n",
       "      <td>23.0</td>\n",
       "      <td>67.0</td>\n",
       "      <td>46.071429</td>\n",
       "      <td>15.908059</td>\n",
       "      <td>57.142857</td>\n",
       "      <td>42.857143</td>\n",
       "      <td>Miss Louisa Jevnaker</td>\n",
       "    </tr>\n",
       "    <tr>\n",
       "      <th>Spain</th>\n",
       "      <td>37.0</td>\n",
       "      <td>74.0</td>\n",
       "      <td>56.615385</td>\n",
       "      <td>11.658859</td>\n",
       "      <td>30.769231</td>\n",
       "      <td>69.230769</td>\n",
       "      <td>Mr Gerardo Garrido</td>\n",
       "    </tr>\n",
       "    <tr>\n",
       "      <th>Switzerland</th>\n",
       "      <td>24.0</td>\n",
       "      <td>67.0</td>\n",
       "      <td>44.000000</td>\n",
       "      <td>16.206994</td>\n",
       "      <td>33.333333</td>\n",
       "      <td>66.666667</td>\n",
       "      <td>Monsieur Tim Pierre</td>\n",
       "    </tr>\n",
       "    <tr>\n",
       "      <th>Turkey</th>\n",
       "      <td>23.0</td>\n",
       "      <td>74.0</td>\n",
       "      <td>47.000000</td>\n",
       "      <td>15.679073</td>\n",
       "      <td>41.666667</td>\n",
       "      <td>58.333333</td>\n",
       "      <td>Mr Giray Beşok</td>\n",
       "    </tr>\n",
       "    <tr>\n",
       "      <th>United Kingdom</th>\n",
       "      <td>22.0</td>\n",
       "      <td>70.0</td>\n",
       "      <td>50.142857</td>\n",
       "      <td>18.090476</td>\n",
       "      <td>57.142857</td>\n",
       "      <td>42.857143</td>\n",
       "      <td>Ms Sheryl Williamson</td>\n",
       "    </tr>\n",
       "    <tr>\n",
       "      <th>United States</th>\n",
       "      <td>23.0</td>\n",
       "      <td>75.0</td>\n",
       "      <td>51.333333</td>\n",
       "      <td>18.938497</td>\n",
       "      <td>80.000000</td>\n",
       "      <td>20.000000</td>\n",
       "      <td>Mr Jerome Thomas</td>\n",
       "    </tr>\n",
       "  </tbody>\n",
       "</table>\n",
       "</div>"
      ],
      "text/plain": [
       "                edad_min  edad_max  edad_mean   edad_std  porcentaje_mujeres  \\\n",
       "country                                                                        \n",
       "Australia           23.0      75.0  51.166667  17.714558           50.000000   \n",
       "Brazil              27.0      70.0  50.666667  16.020820           44.444444   \n",
       "Canada              24.0      60.0  38.583333  11.729296           58.333333   \n",
       "Denmark             29.0      72.0  48.812500  13.234513           25.000000   \n",
       "Finland             22.0      66.0  42.200000  14.668333           30.000000   \n",
       "France              27.0      75.0  48.900000  17.160711           60.000000   \n",
       "Germany             22.0      64.0  39.555556  13.508114           33.333333   \n",
       "Iran                27.0      71.0  54.230769  10.962551           61.538462   \n",
       "Ireland             23.0      70.0  42.000000  14.611639           62.500000   \n",
       "Netherlands         35.0      62.0  51.833333  10.446956           33.333333   \n",
       "New Zealand         23.0      75.0  49.071429  18.899978           28.571429   \n",
       "Norway              23.0      67.0  46.071429  15.908059           57.142857   \n",
       "Spain               37.0      74.0  56.615385  11.658859           30.769231   \n",
       "Switzerland         24.0      67.0  44.000000  16.206994           33.333333   \n",
       "Turkey              23.0      74.0  47.000000  15.679073           41.666667   \n",
       "United Kingdom      22.0      70.0  50.142857  18.090476           57.142857   \n",
       "United States       23.0      75.0  51.333333  18.938497           80.000000   \n",
       "\n",
       "                porcentaje_hombres         primer_usuario  \n",
       "country                                                    \n",
       "Australia                50.000000      Ms Cathy Simmmons  \n",
       "Brazil                   55.555556         Ms Laica Pires  \n",
       "Canada                   41.666667          Mr Louis Ross  \n",
       "Denmark                  75.000000      Mrs Naja Johansen  \n",
       "Finland                  70.000000   Miss Emilia Laitinen  \n",
       "France                   40.000000        Mr Noham Dubois  \n",
       "Germany                  66.666667       Mr Harri Althoff  \n",
       "Iran                     38.461538  Mr محمدمهدی سهيلي راد  \n",
       "Ireland                  37.500000       Mr Jakob Russell  \n",
       "Netherlands              66.666667       Ms Wenda Laurens  \n",
       "New Zealand              71.428571       Miss Maia Clarke  \n",
       "Norway                   42.857143   Miss Louisa Jevnaker  \n",
       "Spain                    69.230769     Mr Gerardo Garrido  \n",
       "Switzerland              66.666667    Monsieur Tim Pierre  \n",
       "Turkey                   58.333333         Mr Giray Beşok  \n",
       "United Kingdom           42.857143   Ms Sheryl Williamson  \n",
       "United States            20.000000       Mr Jerome Thomas  "
      ]
     },
     "execution_count": 37,
     "metadata": {},
     "output_type": "execute_result"
    }
   ],
   "source": [
    "# OTRA FORMA\n",
    "agrupacion = data.groupby(\"country\")\n",
    "df_1 = agrupacion.aggregate(\n",
    "    edad_min=(\"age\",min),\n",
    "    edad_max=(\"age\",max),\n",
    "    edad_mean=(\"age\",lambda h:np.mean(h)),\n",
    "    edad_std = (\"age\", lambda h:np.std(h)),\n",
    "    porcentaje_mujeres = (\"gender\", lambda h:(h[h==\"male\"].size/h.size)*100),\n",
    "    porcentaje_hombres= (\"gender\", lambda h:(h[h==\"female\"].size/h.size)*100),\n",
    "    primer_usuario = (\"name\",\"first\")\n",
    ")\n",
    "df_1"
   ]
  },
  {
   "cell_type": "markdown",
   "metadata": {},
   "source": [
    "## 13) Cantidad de personas por grupo de edad y país:"
   ]
  },
  {
   "cell_type": "code",
   "execution_count": 30,
   "metadata": {},
   "outputs": [
    {
     "data": {
      "text/plain": [
       "<AxesSubplot:xlabel='age'>"
      ]
     },
     "execution_count": 30,
     "metadata": {},
     "output_type": "execute_result"
    },
    {
     "data": {
      "image/png": "[encoded data removed]",
      "text/plain": [
       "<Figure size 1800x360 with 1 Axes>"
      ]
     },
     "metadata": {
      "needs_background": "light"
     },
     "output_type": "display_data"
    }
   ],
   "source": [
    "# Para determinar los grupos de edad más idóneos, podemos calular la cantidad de usuarios por edad y hacer una grafica para tener una idea de la distribución\n",
    "import matplotlib.pyplot as plt\n",
    "\n",
    "edades = data.groupby('age').count().name\n",
    "\n",
    "edades.plot(kind='bar', width=0.8, figsize=(25,5))"
   ]
  },
  {
   "cell_type": "code",
   "execution_count": 31,
   "metadata": {},
   "outputs": [
    {
     "data": {
      "text/html": [
       "<div>\n",
       "<style scoped>\n",
       "    .dataframe tbody tr th:only-of-type {\n",
       "        vertical-align: middle;\n",
       "    }\n",
       "\n",
       "    .dataframe tbody tr th {\n",
       "        vertical-align: top;\n",
       "    }\n",
       "\n",
       "    .dataframe thead th {\n",
       "        text-align: right;\n",
       "    }\n",
       "</style>\n",
       "<table border=\"1\" class=\"dataframe\">\n",
       "  <thead>\n",
       "    <tr style=\"text-align: right;\">\n",
       "      <th></th>\n",
       "      <th>Menor 35</th>\n",
       "      <th>Entre 36 y 55</th>\n",
       "      <th>Entre 56 y 65</th>\n",
       "      <th>Mayor de 65</th>\n",
       "    </tr>\n",
       "    <tr>\n",
       "      <th>country</th>\n",
       "      <th></th>\n",
       "      <th></th>\n",
       "      <th></th>\n",
       "      <th></th>\n",
       "    </tr>\n",
       "  </thead>\n",
       "  <tbody>\n",
       "    <tr>\n",
       "      <th>Australia</th>\n",
       "      <td>4</td>\n",
       "      <td>3</td>\n",
       "      <td>2</td>\n",
       "      <td>3</td>\n",
       "    </tr>\n",
       "    <tr>\n",
       "      <th>Brazil</th>\n",
       "      <td>2</td>\n",
       "      <td>3</td>\n",
       "      <td>1</td>\n",
       "      <td>3</td>\n",
       "    </tr>\n",
       "    <tr>\n",
       "      <th>Canada</th>\n",
       "      <td>6</td>\n",
       "      <td>4</td>\n",
       "      <td>2</td>\n",
       "      <td>0</td>\n",
       "    </tr>\n",
       "    <tr>\n",
       "      <th>Denmark</th>\n",
       "      <td>2</td>\n",
       "      <td>7</td>\n",
       "      <td>5</td>\n",
       "      <td>2</td>\n",
       "    </tr>\n",
       "    <tr>\n",
       "      <th>Finland</th>\n",
       "      <td>4</td>\n",
       "      <td>4</td>\n",
       "      <td>1</td>\n",
       "      <td>1</td>\n",
       "    </tr>\n",
       "    <tr>\n",
       "      <th>France</th>\n",
       "      <td>3</td>\n",
       "      <td>3</td>\n",
       "      <td>2</td>\n",
       "      <td>2</td>\n",
       "    </tr>\n",
       "    <tr>\n",
       "      <th>Germany</th>\n",
       "      <td>5</td>\n",
       "      <td>2</td>\n",
       "      <td>2</td>\n",
       "      <td>0</td>\n",
       "    </tr>\n",
       "    <tr>\n",
       "      <th>Iran</th>\n",
       "      <td>1</td>\n",
       "      <td>6</td>\n",
       "      <td>4</td>\n",
       "      <td>2</td>\n",
       "    </tr>\n",
       "    <tr>\n",
       "      <th>Ireland</th>\n",
       "      <td>7</td>\n",
       "      <td>5</td>\n",
       "      <td>3</td>\n",
       "      <td>1</td>\n",
       "    </tr>\n",
       "    <tr>\n",
       "      <th>Netherlands</th>\n",
       "      <td>1</td>\n",
       "      <td>2</td>\n",
       "      <td>3</td>\n",
       "      <td>0</td>\n",
       "    </tr>\n",
       "    <tr>\n",
       "      <th>New Zealand</th>\n",
       "      <td>5</td>\n",
       "      <td>3</td>\n",
       "      <td>2</td>\n",
       "      <td>4</td>\n",
       "    </tr>\n",
       "    <tr>\n",
       "      <th>Norway</th>\n",
       "      <td>5</td>\n",
       "      <td>3</td>\n",
       "      <td>5</td>\n",
       "      <td>1</td>\n",
       "    </tr>\n",
       "    <tr>\n",
       "      <th>Switzerland</th>\n",
       "      <td>4</td>\n",
       "      <td>2</td>\n",
       "      <td>1</td>\n",
       "      <td>2</td>\n",
       "    </tr>\n",
       "    <tr>\n",
       "      <th>Turkey</th>\n",
       "      <td>3</td>\n",
       "      <td>5</td>\n",
       "      <td>2</td>\n",
       "      <td>2</td>\n",
       "    </tr>\n",
       "    <tr>\n",
       "      <th>United Kingdom</th>\n",
       "      <td>4</td>\n",
       "      <td>3</td>\n",
       "      <td>2</td>\n",
       "      <td>5</td>\n",
       "    </tr>\n",
       "    <tr>\n",
       "      <th>United States</th>\n",
       "      <td>3</td>\n",
       "      <td>1</td>\n",
       "      <td>1</td>\n",
       "      <td>4</td>\n",
       "    </tr>\n",
       "    <tr>\n",
       "      <th>Spain</th>\n",
       "      <td>0</td>\n",
       "      <td>6</td>\n",
       "      <td>3</td>\n",
       "      <td>4</td>\n",
       "    </tr>\n",
       "  </tbody>\n",
       "</table>\n",
       "</div>"
      ],
      "text/plain": [
       "                Menor 35  Entre 36 y 55  Entre 56 y 65  Mayor de 65\n",
       "country                                                            \n",
       "Australia              4              3              2            3\n",
       "Brazil                 2              3              1            3\n",
       "Canada                 6              4              2            0\n",
       "Denmark                2              7              5            2\n",
       "Finland                4              4              1            1\n",
       "France                 3              3              2            2\n",
       "Germany                5              2              2            0\n",
       "Iran                   1              6              4            2\n",
       "Ireland                7              5              3            1\n",
       "Netherlands            1              2              3            0\n",
       "New Zealand            5              3              2            4\n",
       "Norway                 5              3              5            1\n",
       "Switzerland            4              2              1            2\n",
       "Turkey                 3              5              2            2\n",
       "United Kingdom         4              3              2            5\n",
       "United States          3              1              1            4\n",
       "Spain                  0              6              3            4"
      ]
     },
     "execution_count": 31,
     "metadata": {},
     "output_type": "execute_result"
    }
   ],
   "source": [
    "grupo_1 = data[data['age'] <= 35].groupby('country').count().name\n",
    "grupo_2 = data[(data['age'] > 35) & (data['age'] <= 55)].groupby('country').count().name\n",
    "grupo_3 = data[(data['age'] > 55) & (data['age'] <= 65)].groupby('country').count().name\n",
    "grupo_4 = data[data['age'] > 65].groupby('country').count().name\n",
    "\n",
    "grupo_edades = pd.concat([grupo_1, grupo_2, grupo_3, grupo_4], axis=1).fillna(0).astype('int8')\n",
    "\n",
    "grupo_edades.columns=['Menor 35', 'Entre 36 y 55', 'Entre 56 y 65', 'Mayor de 65']\n",
    "\n",
    "grupo_edades"
   ]
  },
  {
   "cell_type": "code",
   "execution_count": 32,
   "metadata": {},
   "outputs": [
    {
     "data": {
      "text/plain": [
       "<AxesSubplot:xlabel='country'>"
      ]
     },
     "execution_count": 32,
     "metadata": {},
     "output_type": "execute_result"
    },
    {
     "data": {
      "image/png": "[encoded data removed]",
      "text/plain": [
       "<Figure size 1080x360 with 1 Axes>"
      ]
     },
     "metadata": {
      "needs_background": "light"
     },
     "output_type": "display_data"
    }
   ],
   "source": [
    "colores = ['#F1C40F', '#28B463', '#2471A3', '#CB4335']\n",
    "\n",
    "grupo_edades.plot(kind='bar', width=0.8, figsize=(15,5), stacked='True', color=colores)"
   ]
  },
  {
   "cell_type": "code",
   "execution_count": null,
   "metadata": {},
   "outputs": [],
   "source": []
  },
  {
   "cell_type": "code",
   "execution_count": null,
   "metadata": {},
   "outputs": [],
   "source": []
  },
  {
   "cell_type": "code",
   "execution_count": null,
   "metadata": {},
   "outputs": [],
   "source": []
  },
  {
   "cell_type": "code",
   "execution_count": null,
   "metadata": {},
   "outputs": [],
   "source": []
  },
  {
   "cell_type": "code",
   "execution_count": null,
   "metadata": {},
   "outputs": [],
   "source": []
  },
  {
   "cell_type": "markdown",
   "metadata": {
    "id": "3MhihuAu_Fty"
   },
   "source": [
    "# ADICIONAL PREGUNTA DEL GRUPO DE TELEGRAM\n"
   ]
  },
  {
   "cell_type": "markdown",
   "metadata": {
    "id": "kUt_y2x9_Nrv"
   },
   "source": [
    "![image.png](data:image/png;base64,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)"
   ]
  },
  {
   "cell_type": "code",
   "execution_count": 237,
   "metadata": {
    "colab": {
     "base_uri": "https://localhost:8080/",
     "height": 206
    },
    "executionInfo": {
     "elapsed": 258,
     "status": "ok",
     "timestamp": 1637865221286,
     "user": {
      "displayName": "heydy carrasco huaccha",
      "photoUrl": "https://lh3.googleusercontent.com/a-/AOh14GiGyezGgm9Px4LBw_sc7MFWfjUVhWWsvnAz1Ttg=s64",
      "userId": "00007591481982700116"
     },
     "user_tz": 300
    },
    "id": "3HJZpsDF_KRc",
    "outputId": "be1178d5-6aac-42f7-8047-64160b960776"
   },
   "outputs": [
    {
     "data": {
      "text/html": [
       "<div>\n",
       "<style scoped>\n",
       "    .dataframe tbody tr th:only-of-type {\n",
       "        vertical-align: middle;\n",
       "    }\n",
       "\n",
       "    .dataframe tbody tr th {\n",
       "        vertical-align: top;\n",
       "    }\n",
       "\n",
       "    .dataframe thead th {\n",
       "        text-align: right;\n",
       "    }\n",
       "</style>\n",
       "<table border=\"1\" class=\"dataframe\">\n",
       "  <thead>\n",
       "    <tr style=\"text-align: right;\">\n",
       "      <th></th>\n",
       "      <th>fecha</th>\n",
       "      <th>fechaM</th>\n",
       "      <th>precio</th>\n",
       "      <th>count</th>\n",
       "    </tr>\n",
       "  </thead>\n",
       "  <tbody>\n",
       "    <tr>\n",
       "      <th>0</th>\n",
       "      <td>1/11/2021</td>\n",
       "      <td>30.11.2020_</td>\n",
       "      <td>10</td>\n",
       "      <td>10</td>\n",
       "    </tr>\n",
       "    <tr>\n",
       "      <th>1</th>\n",
       "      <td>2/11/2021</td>\n",
       "      <td>30.11.2020_</td>\n",
       "      <td>13</td>\n",
       "      <td>3/2</td>\n",
       "    </tr>\n",
       "    <tr>\n",
       "      <th>2</th>\n",
       "      <td>3/11/2021</td>\n",
       "      <td>28.12.2020_</td>\n",
       "      <td>16</td>\n",
       "      <td>16</td>\n",
       "    </tr>\n",
       "    <tr>\n",
       "      <th>3</th>\n",
       "      <td>4/11/2021</td>\n",
       "      <td>25.01.2021_</td>\n",
       "      <td>19</td>\n",
       "      <td>19</td>\n",
       "    </tr>\n",
       "    <tr>\n",
       "      <th>4</th>\n",
       "      <td>5/11/2021</td>\n",
       "      <td>15.02.2021_</td>\n",
       "      <td>23</td>\n",
       "      <td>23</td>\n",
       "    </tr>\n",
       "  </tbody>\n",
       "</table>\n",
       "</div>"
      ],
      "text/plain": [
       "       fecha       fechaM  precio count\n",
       "0  1/11/2021  30.11.2020_      10    10\n",
       "1  2/11/2021  30.11.2020_      13   3/2\n",
       "2  3/11/2021  28.12.2020_      16    16\n",
       "3  4/11/2021  25.01.2021_      19    19\n",
       "4  5/11/2021  15.02.2021_      23    23"
      ]
     },
     "execution_count": 237,
     "metadata": {},
     "output_type": "execute_result"
    }
   ],
   "source": [
    "# PREGUNTA ARIEL\n",
    "# Tengo el dataframe en  olor amarillo y quiero una nueva columna \n",
    "# que calcule las variaciones porcentuales... \n",
    "# debería tener algo como la imagen\n",
    "\n",
    "import pandas as pd\n",
    "import numpy as np\n",
    "\n",
    "dic = {\n",
    "    'fecha':['1/11/2021','2/11/2021','3/11/2021','4/11/2021','5/11/2021'],\n",
    "    'fechaM':['30.11.2020_','30.11.2020_','28.12.2020_','25.01.2021_','15.02.2021_'],\n",
    "    'precio':[10,13,16,19,23],\n",
    "    'count':[10,'3/2','16','19',23]\n",
    "}\n",
    "df=pd.DataFrame(dic)\n",
    "df"
   ]
  },
  {
   "cell_type": "code",
   "execution_count": 149,
   "metadata": {
    "colab": {
     "base_uri": "https://localhost:8080/",
     "height": 206
    },
    "executionInfo": {
     "elapsed": 292,
     "status": "ok",
     "timestamp": 1637861325365,
     "user": {
      "displayName": "heydy carrasco huaccha",
      "photoUrl": "https://lh3.googleusercontent.com/a-/AOh14GiGyezGgm9Px4LBw_sc7MFWfjUVhWWsvnAz1Ttg=s64",
      "userId": "00007591481982700116"
     },
     "user_tz": 300
    },
    "id": "M7SQ8Vh8_tEG",
    "outputId": "f1fa7e4b-f511-4866-8fba-383846735573"
   },
   "outputs": [
    {
     "data": {
      "text/html": [
       "<div>\n",
       "<style scoped>\n",
       "    .dataframe tbody tr th:only-of-type {\n",
       "        vertical-align: middle;\n",
       "    }\n",
       "\n",
       "    .dataframe tbody tr th {\n",
       "        vertical-align: top;\n",
       "    }\n",
       "\n",
       "    .dataframe thead th {\n",
       "        text-align: right;\n",
       "    }\n",
       "</style>\n",
       "<table border=\"1\" class=\"dataframe\">\n",
       "  <thead>\n",
       "    <tr style=\"text-align: right;\">\n",
       "      <th></th>\n",
       "      <th>fecha</th>\n",
       "      <th>precio</th>\n",
       "      <th>count</th>\n",
       "      <th>variacion</th>\n",
       "    </tr>\n",
       "  </thead>\n",
       "  <tbody>\n",
       "    <tr>\n",
       "      <th>0</th>\n",
       "      <td>1/11/2021</td>\n",
       "      <td>10</td>\n",
       "      <td>10</td>\n",
       "      <td>NaN</td>\n",
       "    </tr>\n",
       "    <tr>\n",
       "      <th>1</th>\n",
       "      <td>2/11/2021</td>\n",
       "      <td>13</td>\n",
       "      <td>3/2</td>\n",
       "      <td>0.300000</td>\n",
       "    </tr>\n",
       "    <tr>\n",
       "      <th>2</th>\n",
       "      <td>3/11/2021</td>\n",
       "      <td>16</td>\n",
       "      <td>16</td>\n",
       "      <td>0.230769</td>\n",
       "    </tr>\n",
       "    <tr>\n",
       "      <th>3</th>\n",
       "      <td>4/11/2021</td>\n",
       "      <td>19</td>\n",
       "      <td>19</td>\n",
       "      <td>0.187500</td>\n",
       "    </tr>\n",
       "    <tr>\n",
       "      <th>4</th>\n",
       "      <td>5/11/2021</td>\n",
       "      <td>23</td>\n",
       "      <td>23</td>\n",
       "      <td>0.210526</td>\n",
       "    </tr>\n",
       "  </tbody>\n",
       "</table>\n",
       "</div>"
      ],
      "text/plain": [
       "       fecha  precio count  variacion\n",
       "0  1/11/2021      10    10        NaN\n",
       "1  2/11/2021      13   3/2   0.300000\n",
       "2  3/11/2021      16    16   0.230769\n",
       "3  4/11/2021      19    19   0.187500\n",
       "4  5/11/2021      23    23   0.210526"
      ]
     },
     "execution_count": 149,
     "metadata": {},
     "output_type": "execute_result"
    }
   ],
   "source": [
    "df[\"variacion\"] = df.precio.pct_change()\n",
    "df"
   ]
  },
  {
   "cell_type": "code",
   "execution_count": 150,
   "metadata": {
    "executionInfo": {
     "elapsed": 372,
     "status": "ok",
     "timestamp": 1637861326805,
     "user": {
      "displayName": "heydy carrasco huaccha",
      "photoUrl": "https://lh3.googleusercontent.com/a-/AOh14GiGyezGgm9Px4LBw_sc7MFWfjUVhWWsvnAz1Ttg=s64",
      "userId": "00007591481982700116"
     },
     "user_tz": 300
    },
    "id": "WPop9oS3D_1V"
   },
   "outputs": [],
   "source": [
    "# df.info()"
   ]
  },
  {
   "cell_type": "code",
   "execution_count": 168,
   "metadata": {
    "colab": {
     "base_uri": "https://localhost:8080/"
    },
    "executionInfo": {
     "elapsed": 264,
     "status": "ok",
     "timestamp": 1637861724099,
     "user": {
      "displayName": "heydy carrasco huaccha",
      "photoUrl": "https://lh3.googleusercontent.com/a-/AOh14GiGyezGgm9Px4LBw_sc7MFWfjUVhWWsvnAz1Ttg=s64",
      "userId": "00007591481982700116"
     },
     "user_tz": 300
    },
    "id": "iaUFkgYhDjW4",
    "outputId": "b1531886-b4b2-4592-9f05-0c5eebe006e7"
   },
   "outputs": [
    {
     "data": {
      "text/plain": [
       "dtype('O')"
      ]
     },
     "execution_count": 168,
     "metadata": {},
     "output_type": "execute_result"
    }
   ],
   "source": [
    "# PREGUNTA DE VANESA \n",
    "# CONVERTIR UNA VARIABLE EN NUMERICA\n",
    "# Es objeto\n",
    "df[\"count\"].dtype"
   ]
  },
  {
   "cell_type": "code",
   "execution_count": 170,
   "metadata": {
    "colab": {
     "base_uri": "https://localhost:8080/"
    },
    "executionInfo": {
     "elapsed": 259,
     "status": "ok",
     "timestamp": 1637861730251,
     "user": {
      "displayName": "heydy carrasco huaccha",
      "photoUrl": "https://lh3.googleusercontent.com/a-/AOh14GiGyezGgm9Px4LBw_sc7MFWfjUVhWWsvnAz1Ttg=s64",
      "userId": "00007591481982700116"
     },
     "user_tz": 300
    },
    "id": "AXCP3X04DtsV",
    "outputId": "ab6b98e5-b49c-4f45-e9a4-c9f46e96e1ba"
   },
   "outputs": [
    {
     "name": "stderr",
     "output_type": "stream",
     "text": [
      "/usr/local/lib/python3.7/dist-packages/ipykernel_launcher.py:1: SettingWithCopyWarning: \n",
      "A value is trying to be set on a copy of a slice from a DataFrame\n",
      "\n",
      "See the caveats in the documentation: https://pandas.pydata.org/pandas-docs/stable/user_guide/indexing.html#returning-a-view-versus-a-copy\n",
      "  \"\"\"Entry point for launching an IPython kernel.\n"
     ]
    },
    {
     "data": {
      "text/plain": [
       "dtype('int64')"
      ]
     },
     "execution_count": 170,
     "metadata": {},
     "output_type": "execute_result"
    }
   ],
   "source": [
    "df[\"count\"][1]=3\n",
    "change = pd.to_numeric(df[\"count\"])\n",
    "change.dtype"
   ]
  },
  {
   "cell_type": "code",
   "execution_count": 171,
   "metadata": {
    "colab": {
     "base_uri": "https://localhost:8080/"
    },
    "executionInfo": {
     "elapsed": 360,
     "status": "ok",
     "timestamp": 1637861733397,
     "user": {
      "displayName": "heydy carrasco huaccha",
      "photoUrl": "https://lh3.googleusercontent.com/a-/AOh14GiGyezGgm9Px4LBw_sc7MFWfjUVhWWsvnAz1Ttg=s64",
      "userId": "00007591481982700116"
     },
     "user_tz": 300
    },
    "id": "BYkzxA2kEVZ_",
    "outputId": "1b2726fd-7864-4c1a-f196-cd9951b932db"
   },
   "outputs": [
    {
     "data": {
      "text/plain": [
       "dtype('float64')"
      ]
     },
     "execution_count": 171,
     "metadata": {},
     "output_type": "execute_result"
    }
   ],
   "source": [
    "change = df[\"count\"].astype('float')\n",
    "change.dtype"
   ]
  },
  {
   "cell_type": "code",
   "execution_count": 172,
   "metadata": {
    "colab": {
     "base_uri": "https://localhost:8080/"
    },
    "executionInfo": {
     "elapsed": 2,
     "status": "ok",
     "timestamp": 1637861734388,
     "user": {
      "displayName": "heydy carrasco huaccha",
      "photoUrl": "https://lh3.googleusercontent.com/a-/AOh14GiGyezGgm9Px4LBw_sc7MFWfjUVhWWsvnAz1Ttg=s64",
      "userId": "00007591481982700116"
     },
     "user_tz": 300
    },
    "id": "81IoTQuoEbAH",
    "outputId": "f8feff4b-4701-4358-d010-615a04a07688"
   },
   "outputs": [
    {
     "data": {
      "text/plain": [
       "dtype('float64')"
      ]
     },
     "execution_count": 172,
     "metadata": {},
     "output_type": "execute_result"
    }
   ],
   "source": [
    "change = df[\"count\"].apply(lambda x: float(x))\n",
    "change.dtype"
   ]
  },
  {
   "cell_type": "code",
   "execution_count": 173,
   "metadata": {
    "colab": {
     "base_uri": "https://localhost:8080/"
    },
    "executionInfo": {
     "elapsed": 311,
     "status": "ok",
     "timestamp": 1637861736553,
     "user": {
      "displayName": "heydy carrasco huaccha",
      "photoUrl": "https://lh3.googleusercontent.com/a-/AOh14GiGyezGgm9Px4LBw_sc7MFWfjUVhWWsvnAz1Ttg=s64",
      "userId": "00007591481982700116"
     },
     "user_tz": 300
    },
    "id": "z9t7n1TIKRdG",
    "outputId": "a5d3b43a-30ac-4343-bb5b-cedd0be10978"
   },
   "outputs": [
    {
     "data": {
      "text/plain": [
       "dtype('float64')"
      ]
     },
     "execution_count": 173,
     "metadata": {},
     "output_type": "execute_result"
    }
   ],
   "source": [
    "# fractions es un módulo de la librería estándar para hacer cálculos con fracciones.\n",
    "from fractions import Fraction\n",
    "change = df[\"count\"].apply(lambda x: float(Fraction(x)))\n",
    "change.dtype"
   ]
  },
  {
   "cell_type": "markdown",
   "metadata": {
    "id": "W2sd3R07I1uK"
   },
   "source": [
    "**eval** es una función muy poderosa pero que hay que usar con cuidado porque evalúa cualquier expresión de Python. Por ejemplo en una aplicación web te pueden hacer inyección de código"
   ]
  },
  {
   "cell_type": "code",
   "execution_count": 158,
   "metadata": {
    "executionInfo": {
     "elapsed": 266,
     "status": "ok",
     "timestamp": 1637861486613,
     "user": {
      "displayName": "heydy carrasco huaccha",
      "photoUrl": "https://lh3.googleusercontent.com/a-/AOh14GiGyezGgm9Px4LBw_sc7MFWfjUVhWWsvnAz1Ttg=s64",
      "userId": "00007591481982700116"
     },
     "user_tz": 300
    },
    "id": "IadL0OPXJrSv"
   },
   "outputs": [],
   "source": [
    "# change = df[\"count\"].apply(lambda x: eval(x))"
   ]
  },
  {
   "cell_type": "code",
   "execution_count": 175,
   "metadata": {
    "colab": {
     "base_uri": "https://localhost:8080/",
     "height": 35
    },
    "executionInfo": {
     "elapsed": 290,
     "status": "ok",
     "timestamp": 1637862879160,
     "user": {
      "displayName": "heydy carrasco huaccha",
      "photoUrl": "https://lh3.googleusercontent.com/a-/AOh14GiGyezGgm9Px4LBw_sc7MFWfjUVhWWsvnAz1Ttg=s64",
      "userId": "00007591481982700116"
     },
     "user_tz": 300
    },
    "id": "zSwgCtAVKEUR",
    "outputId": "d85d2b58-c432-442f-a617-445c1c3ab3da"
   },
   "outputs": [
    {
     "data": {
      "application/vnd.google.colaboratory.intrinsic+json": {
       "type": "string"
      },
      "text/plain": [
       "'3'"
      ]
     },
     "execution_count": 175,
     "metadata": {},
     "output_type": "execute_result"
    }
   ],
   "source": [
    "fraccion = '3/2'\n",
    "newValue = fraccion[:fraccion.find(\"/\")]\n",
    "newValue"
   ]
  },
  {
   "cell_type": "code",
   "execution_count": 238,
   "metadata": {
    "colab": {
     "base_uri": "https://localhost:8080/",
     "height": 206
    },
    "executionInfo": {
     "elapsed": 316,
     "status": "ok",
     "timestamp": 1637865228208,
     "user": {
      "displayName": "heydy carrasco huaccha",
      "photoUrl": "https://lh3.googleusercontent.com/a-/AOh14GiGyezGgm9Px4LBw_sc7MFWfjUVhWWsvnAz1Ttg=s64",
      "userId": "00007591481982700116"
     },
     "user_tz": 300
    },
    "id": "g1GhN16GWZ1w",
    "outputId": "d501132b-cd3a-4fd9-e975-007519abb972"
   },
   "outputs": [
    {
     "data": {
      "text/html": [
       "<div>\n",
       "<style scoped>\n",
       "    .dataframe tbody tr th:only-of-type {\n",
       "        vertical-align: middle;\n",
       "    }\n",
       "\n",
       "    .dataframe tbody tr th {\n",
       "        vertical-align: top;\n",
       "    }\n",
       "\n",
       "    .dataframe thead th {\n",
       "        text-align: right;\n",
       "    }\n",
       "</style>\n",
       "<table border=\"1\" class=\"dataframe\">\n",
       "  <thead>\n",
       "    <tr style=\"text-align: right;\">\n",
       "      <th></th>\n",
       "      <th>fecha</th>\n",
       "      <th>fechaM</th>\n",
       "      <th>precio</th>\n",
       "      <th>count</th>\n",
       "    </tr>\n",
       "  </thead>\n",
       "  <tbody>\n",
       "    <tr>\n",
       "      <th>0</th>\n",
       "      <td>1/11/2021</td>\n",
       "      <td>30.11.2020_</td>\n",
       "      <td>10</td>\n",
       "      <td>10</td>\n",
       "    </tr>\n",
       "    <tr>\n",
       "      <th>1</th>\n",
       "      <td>2/11/2021</td>\n",
       "      <td>30.11.2020_</td>\n",
       "      <td>13</td>\n",
       "      <td>3/2</td>\n",
       "    </tr>\n",
       "    <tr>\n",
       "      <th>2</th>\n",
       "      <td>3/11/2021</td>\n",
       "      <td>28.12.2020_</td>\n",
       "      <td>16</td>\n",
       "      <td>16</td>\n",
       "    </tr>\n",
       "    <tr>\n",
       "      <th>3</th>\n",
       "      <td>4/11/2021</td>\n",
       "      <td>25.01.2021_</td>\n",
       "      <td>19</td>\n",
       "      <td>19</td>\n",
       "    </tr>\n",
       "    <tr>\n",
       "      <th>4</th>\n",
       "      <td>5/11/2021</td>\n",
       "      <td>15.02.2021_</td>\n",
       "      <td>23</td>\n",
       "      <td>23</td>\n",
       "    </tr>\n",
       "  </tbody>\n",
       "</table>\n",
       "</div>"
      ],
      "text/plain": [
       "       fecha       fechaM  precio count\n",
       "0  1/11/2021  30.11.2020_      10    10\n",
       "1  2/11/2021  30.11.2020_      13   3/2\n",
       "2  3/11/2021  28.12.2020_      16    16\n",
       "3  4/11/2021  25.01.2021_      19    19\n",
       "4  5/11/2021  15.02.2021_      23    23"
      ]
     },
     "execution_count": 238,
     "metadata": {},
     "output_type": "execute_result"
    }
   ],
   "source": [
    "df"
   ]
  },
  {
   "cell_type": "code",
   "execution_count": 239,
   "metadata": {
    "executionInfo": {
     "elapsed": 264,
     "status": "ok",
     "timestamp": 1637865230963,
     "user": {
      "displayName": "heydy carrasco huaccha",
      "photoUrl": "https://lh3.googleusercontent.com/a-/AOh14GiGyezGgm9Px4LBw_sc7MFWfjUVhWWsvnAz1Ttg=s64",
      "userId": "00007591481982700116"
     },
     "user_tz": 300
    },
    "id": "QNh1HyylV7Zo"
   },
   "outputs": [],
   "source": [
    "# Cambiar formato de fecha\n",
    "from datetime import datetime\n",
    "df[\"fechaM2\"] = df[\"fechaM\"].apply(lambda x:datetime.strptime(x.replace('_',''),'%d.%m.%Y').date())"
   ]
  },
  {
   "cell_type": "code",
   "execution_count": 240,
   "metadata": {
    "colab": {
     "base_uri": "https://localhost:8080/",
     "height": 206
    },
    "executionInfo": {
     "elapsed": 260,
     "status": "ok",
     "timestamp": 1637865232328,
     "user": {
      "displayName": "heydy carrasco huaccha",
      "photoUrl": "https://lh3.googleusercontent.com/a-/AOh14GiGyezGgm9Px4LBw_sc7MFWfjUVhWWsvnAz1Ttg=s64",
      "userId": "00007591481982700116"
     },
     "user_tz": 300
    },
    "id": "Ae4AG-HVWdFZ",
    "outputId": "88404fc0-6ff1-44d3-b175-e557214d4dc7"
   },
   "outputs": [
    {
     "data": {
      "text/html": [
       "<div>\n",
       "<style scoped>\n",
       "    .dataframe tbody tr th:only-of-type {\n",
       "        vertical-align: middle;\n",
       "    }\n",
       "\n",
       "    .dataframe tbody tr th {\n",
       "        vertical-align: top;\n",
       "    }\n",
       "\n",
       "    .dataframe thead th {\n",
       "        text-align: right;\n",
       "    }\n",
       "</style>\n",
       "<table border=\"1\" class=\"dataframe\">\n",
       "  <thead>\n",
       "    <tr style=\"text-align: right;\">\n",
       "      <th></th>\n",
       "      <th>fecha</th>\n",
       "      <th>fechaM</th>\n",
       "      <th>precio</th>\n",
       "      <th>count</th>\n",
       "      <th>fechaM2</th>\n",
       "    </tr>\n",
       "  </thead>\n",
       "  <tbody>\n",
       "    <tr>\n",
       "      <th>0</th>\n",
       "      <td>1/11/2021</td>\n",
       "      <td>30.11.2020_</td>\n",
       "      <td>10</td>\n",
       "      <td>10</td>\n",
       "      <td>2020-11-30</td>\n",
       "    </tr>\n",
       "    <tr>\n",
       "      <th>1</th>\n",
       "      <td>2/11/2021</td>\n",
       "      <td>30.11.2020_</td>\n",
       "      <td>13</td>\n",
       "      <td>3/2</td>\n",
       "      <td>2020-11-30</td>\n",
       "    </tr>\n",
       "    <tr>\n",
       "      <th>2</th>\n",
       "      <td>3/11/2021</td>\n",
       "      <td>28.12.2020_</td>\n",
       "      <td>16</td>\n",
       "      <td>16</td>\n",
       "      <td>2020-12-28</td>\n",
       "    </tr>\n",
       "    <tr>\n",
       "      <th>3</th>\n",
       "      <td>4/11/2021</td>\n",
       "      <td>25.01.2021_</td>\n",
       "      <td>19</td>\n",
       "      <td>19</td>\n",
       "      <td>2021-01-25</td>\n",
       "    </tr>\n",
       "    <tr>\n",
       "      <th>4</th>\n",
       "      <td>5/11/2021</td>\n",
       "      <td>15.02.2021_</td>\n",
       "      <td>23</td>\n",
       "      <td>23</td>\n",
       "      <td>2021-02-15</td>\n",
       "    </tr>\n",
       "  </tbody>\n",
       "</table>\n",
       "</div>"
      ],
      "text/plain": [
       "       fecha       fechaM  precio count     fechaM2\n",
       "0  1/11/2021  30.11.2020_      10    10  2020-11-30\n",
       "1  2/11/2021  30.11.2020_      13   3/2  2020-11-30\n",
       "2  3/11/2021  28.12.2020_      16    16  2020-12-28\n",
       "3  4/11/2021  25.01.2021_      19    19  2021-01-25\n",
       "4  5/11/2021  15.02.2021_      23    23  2021-02-15"
      ]
     },
     "execution_count": 240,
     "metadata": {},
     "output_type": "execute_result"
    }
   ],
   "source": [
    "df"
   ]
  },
  {
   "cell_type": "code",
   "execution_count": null,
   "metadata": {},
   "outputs": [],
   "source": []
  }
 ],
 "metadata": {
  "colab": {
   "authorship_tag": "ABX9TyPOVAYwXuXi9VV775Aplsj9",
   "collapsed_sections": [],
   "name": "Tarea_Curso_intro_analisis_datos_python.ipynb",
   "provenance": []
  },
  "kernelspec": {
   "display_name": "Python 3",
   "language": "python",
   "name": "python3"
  },
  "language_info": {
   "codemirror_mode": {
    "name": "ipython",
    "version": 3
   },
   "file_extension": ".py",
   "mimetype": "text/x-python",
   "name": "python",
   "nbconvert_exporter": "python",
   "pygments_lexer": "ipython3",
   "version": "3.8.8"
  }
 },
 "nbformat": 4,
 "nbformat_minor": 1
}
