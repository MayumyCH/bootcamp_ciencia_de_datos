{
 "cells": [
  {
   "cell_type": "markdown",
   "metadata": {
    "id": "N52FGjcyCwAc"
   },
   "source": [
    "# Modulo 2 - Practica Numpy & Pandas"
   ]
  },
  {
   "cell_type": "markdown",
   "metadata": {
    "id": "qZfv0SuzOnEV"
   },
   "source": [
    "# Numpys\n",
    "* Listas son modificables\n",
    "* puedo usar dtype = np.complex si necesito usar numeros con digitos extremadamente grandes\n",
    "* Para representar vacios np.nan\n"
   ]
  },
  {
   "cell_type": "code",
   "execution_count": 175,
   "metadata": {
    "executionInfo": {
     "elapsed": 899,
     "status": "ok",
     "timestamp": 1637847054313,
     "user": {
      "displayName": "heydy carrasco huaccha",
      "photoUrl": "https://lh3.googleusercontent.com/a-/AOh14GiGyezGgm9Px4LBw_sc7MFWfjUVhWWsvnAz1Ttg=s64",
      "userId": "00007591481982700116"
     },
     "user_tz": 300
    },
    "id": "J6d5AkMXltbG"
   },
   "outputs": [],
   "source": [
    "# IMPORTAR LA LIBRERIA NUMPY\n",
    "import numpy as np"
   ]
  },
  {
   "cell_type": "code",
   "execution_count": 176,
   "metadata": {
    "colab": {
     "base_uri": "https://localhost:8080/"
    },
    "executionInfo": {
     "elapsed": 75,
     "status": "ok",
     "timestamp": 1637847054314,
     "user": {
      "displayName": "heydy carrasco huaccha",
      "photoUrl": "https://lh3.googleusercontent.com/a-/AOh14GiGyezGgm9Px4LBw_sc7MFWfjUVhWWsvnAz1Ttg=s64",
      "userId": "00007591481982700116"
     },
     "user_tz": 300
    },
    "id": "rCiW3Ta8PVKP",
    "outputId": "f87ebcd4-806a-42d0-93b7-40b89d55e1bb"
   },
   "outputs": [
    {
     "data": {
      "text/plain": [
       "[1, 2, 3, 4, 5, 10]"
      ]
     },
     "execution_count": 176,
     "metadata": {},
     "output_type": "execute_result"
    }
   ],
   "source": [
    "lista =[1,2,3,4,5]\n",
    "lista.append(10)\n",
    "lista"
   ]
  },
  {
   "cell_type": "code",
   "execution_count": 177,
   "metadata": {
    "colab": {
     "base_uri": "https://localhost:8080/"
    },
    "executionInfo": {
     "elapsed": 72,
     "status": "ok",
     "timestamp": 1637847054314,
     "user": {
      "displayName": "heydy carrasco huaccha",
      "photoUrl": "https://lh3.googleusercontent.com/a-/AOh14GiGyezGgm9Px4LBw_sc7MFWfjUVhWWsvnAz1Ttg=s64",
      "userId": "00007591481982700116"
     },
     "user_tz": 300
    },
    "id": "-jsfxdMoDtpI",
    "outputId": "04f98fb3-71d5-4f52-a301-f4a2bd702c91"
   },
   "outputs": [
    {
     "data": {
      "text/plain": [
       "[1, 3, 4, 5, 10]"
      ]
     },
     "execution_count": 177,
     "metadata": {},
     "output_type": "execute_result"
    }
   ],
   "source": [
    "lista.remove(2)\n",
    "lista"
   ]
  },
  {
   "cell_type": "code",
   "execution_count": 178,
   "metadata": {
    "colab": {
     "base_uri": "https://localhost:8080/"
    },
    "executionInfo": {
     "elapsed": 70,
     "status": "ok",
     "timestamp": 1637847054314,
     "user": {
      "displayName": "heydy carrasco huaccha",
      "photoUrl": "https://lh3.googleusercontent.com/a-/AOh14GiGyezGgm9Px4LBw_sc7MFWfjUVhWWsvnAz1Ttg=s64",
      "userId": "00007591481982700116"
     },
     "user_tz": 300
    },
    "id": "5G7bO1fbDtsQ",
    "outputId": "2141fcd2-6116-4d32-ad10-f4c11781b506"
   },
   "outputs": [
    {
     "data": {
      "text/plain": [
       "array([1, 2, 3, 4, 5])"
      ]
     },
     "execution_count": 178,
     "metadata": {},
     "output_type": "execute_result"
    }
   ],
   "source": [
    "a=np.array([1,2,3,4,5])\n",
    "a"
   ]
  },
  {
   "cell_type": "code",
   "execution_count": 179,
   "metadata": {
    "colab": {
     "base_uri": "https://localhost:8080/"
    },
    "executionInfo": {
     "elapsed": 69,
     "status": "ok",
     "timestamp": 1637847054314,
     "user": {
      "displayName": "heydy carrasco huaccha",
      "photoUrl": "https://lh3.googleusercontent.com/a-/AOh14GiGyezGgm9Px4LBw_sc7MFWfjUVhWWsvnAz1Ttg=s64",
      "userId": "00007591481982700116"
     },
     "user_tz": 300
    },
    "id": "tS-6tRnnDtdY",
    "outputId": "c9f04cf6-4d2c-4b08-c1e3-801ef13ef2f3"
   },
   "outputs": [
    {
     "name": "stderr",
     "output_type": "stream",
     "text": [
      "<ipython-input-179-b430ad0de7ee>:1: DeprecationWarning: `np.int` is a deprecated alias for the builtin `int`. To silence this warning, use `int` by itself. Doing this will not modify any behavior and is safe. When replacing `np.int`, you may wish to use e.g. `np.int64` or `np.int32` to specify the precision. If you wish to review your current use, check the release note link for additional information.\n",
      "Deprecated in NumPy 1.20; for more details and guidance: https://numpy.org/devdocs/release/1.20.0-notes.html#deprecations\n",
      "  np.array([1,2,3,4,5],dtype=np.int)\n"
     ]
    },
    {
     "data": {
      "text/plain": [
       "array([1, 2, 3, 4, 5])"
      ]
     },
     "execution_count": 179,
     "metadata": {},
     "output_type": "execute_result"
    }
   ],
   "source": [
    "np.array([1,2,3,4,5],dtype=np.int)"
   ]
  },
  {
   "cell_type": "code",
   "execution_count": 180,
   "metadata": {
    "colab": {
     "base_uri": "https://localhost:8080/"
    },
    "executionInfo": {
     "elapsed": 68,
     "status": "ok",
     "timestamp": 1637847054315,
     "user": {
      "displayName": "heydy carrasco huaccha",
      "photoUrl": "https://lh3.googleusercontent.com/a-/AOh14GiGyezGgm9Px4LBw_sc7MFWfjUVhWWsvnAz1Ttg=s64",
      "userId": "00007591481982700116"
     },
     "user_tz": 300
    },
    "id": "CvcrH1y0Ezco",
    "outputId": "b27fe9b8-9b4f-401d-a548-c7dd9fc8f1c0"
   },
   "outputs": [
    {
     "name": "stderr",
     "output_type": "stream",
     "text": [
      "<ipython-input-180-5367d40d94c7>:1: DeprecationWarning: `np.int` is a deprecated alias for the builtin `int`. To silence this warning, use `int` by itself. Doing this will not modify any behavior and is safe. When replacing `np.int`, you may wish to use e.g. `np.int64` or `np.int32` to specify the precision. If you wish to review your current use, check the release note link for additional information.\n",
      "Deprecated in NumPy 1.20; for more details and guidance: https://numpy.org/devdocs/release/1.20.0-notes.html#deprecations\n",
      "  a=np.array([1,2,3,4,5,'6'],dtype=np.int)\n"
     ]
    },
    {
     "data": {
      "text/plain": [
       "array([1, 2, 3, 4, 5, 6])"
      ]
     },
     "execution_count": 180,
     "metadata": {},
     "output_type": "execute_result"
    }
   ],
   "source": [
    "a=np.array([1,2,3,4,5,'6'],dtype=np.int)\n",
    "a"
   ]
  },
  {
   "cell_type": "code",
   "execution_count": 181,
   "metadata": {
    "colab": {
     "base_uri": "https://localhost:8080/"
    },
    "executionInfo": {
     "elapsed": 67,
     "status": "ok",
     "timestamp": 1637847054315,
     "user": {
      "displayName": "heydy carrasco huaccha",
      "photoUrl": "https://lh3.googleusercontent.com/a-/AOh14GiGyezGgm9Px4LBw_sc7MFWfjUVhWWsvnAz1Ttg=s64",
      "userId": "00007591481982700116"
     },
     "user_tz": 300
    },
    "id": "hkyBJ5kkEzaA",
    "outputId": "f9ff566c-8d61-4551-8c35-7d7b34a7cb82"
   },
   "outputs": [
    {
     "name": "stderr",
     "output_type": "stream",
     "text": [
      "<ipython-input-181-3cf816d21219>:1: DeprecationWarning: `np.str` is a deprecated alias for the builtin `str`. To silence this warning, use `str` by itself. Doing this will not modify any behavior and is safe. If you specifically wanted the numpy scalar type, use `np.str_` here.\n",
      "Deprecated in NumPy 1.20; for more details and guidance: https://numpy.org/devdocs/release/1.20.0-notes.html#deprecations\n",
      "  a=np.array([1,2,3,4,5,'6'],dtype=np.str)\n"
     ]
    },
    {
     "data": {
      "text/plain": [
       "array(['1', '2', '3', '4', '5', '6'], dtype='<U1')"
      ]
     },
     "execution_count": 181,
     "metadata": {},
     "output_type": "execute_result"
    }
   ],
   "source": [
    "a=np.array([1,2,3,4,5,'6'],dtype=np.str)\n",
    "a"
   ]
  },
  {
   "cell_type": "code",
   "execution_count": 182,
   "metadata": {
    "colab": {
     "base_uri": "https://localhost:8080/"
    },
    "executionInfo": {
     "elapsed": 66,
     "status": "ok",
     "timestamp": 1637847054315,
     "user": {
      "displayName": "heydy carrasco huaccha",
      "photoUrl": "https://lh3.googleusercontent.com/a-/AOh14GiGyezGgm9Px4LBw_sc7MFWfjUVhWWsvnAz1Ttg=s64",
      "userId": "00007591481982700116"
     },
     "user_tz": 300
    },
    "id": "Gzt-ZcGNEzXp",
    "outputId": "4cea21f0-2e29-43dc-def5-6cd3487a14f7"
   },
   "outputs": [
    {
     "name": "stderr",
     "output_type": "stream",
     "text": [
      "<ipython-input-182-6c185e153abb>:1: DeprecationWarning: `np.float` is a deprecated alias for the builtin `float`. To silence this warning, use `float` by itself. Doing this will not modify any behavior and is safe. If you specifically wanted the numpy scalar type, use `np.float64` here.\n",
      "Deprecated in NumPy 1.20; for more details and guidance: https://numpy.org/devdocs/release/1.20.0-notes.html#deprecations\n",
      "  a=np.array([1,2,3,4,5,'6'],dtype=np.float)\n"
     ]
    },
    {
     "data": {
      "text/plain": [
       "array([1., 2., 3., 4., 5., 6.])"
      ]
     },
     "execution_count": 182,
     "metadata": {},
     "output_type": "execute_result"
    }
   ],
   "source": [
    "a=np.array([1,2,3,4,5,'6'],dtype=np.float)\n",
    "a"
   ]
  },
  {
   "cell_type": "code",
   "execution_count": 183,
   "metadata": {
    "colab": {
     "base_uri": "https://localhost:8080/"
    },
    "executionInfo": {
     "elapsed": 64,
     "status": "ok",
     "timestamp": 1637847054315,
     "user": {
      "displayName": "heydy carrasco huaccha",
      "photoUrl": "https://lh3.googleusercontent.com/a-/AOh14GiGyezGgm9Px4LBw_sc7MFWfjUVhWWsvnAz1Ttg=s64",
      "userId": "00007591481982700116"
     },
     "user_tz": 300
    },
    "id": "xn-8hozmEzVm",
    "outputId": "3de9c489-1752-4e6a-ee2b-ea99486af592"
   },
   "outputs": [
    {
     "name": "stderr",
     "output_type": "stream",
     "text": [
      "<ipython-input-183-3dd1bca0667e>:1: DeprecationWarning: `np.bool` is a deprecated alias for the builtin `bool`. To silence this warning, use `bool` by itself. Doing this will not modify any behavior and is safe. If you specifically wanted the numpy scalar type, use `np.bool_` here.\n",
      "Deprecated in NumPy 1.20; for more details and guidance: https://numpy.org/devdocs/release/1.20.0-notes.html#deprecations\n",
      "  a=np.array([1,2,0,4,5,'6'],dtype=np.bool)\n"
     ]
    },
    {
     "data": {
      "text/plain": [
       "array([ True,  True, False,  True,  True,  True])"
      ]
     },
     "execution_count": 183,
     "metadata": {},
     "output_type": "execute_result"
    }
   ],
   "source": [
    "a=np.array([1,2,0,4,5,'6'],dtype=np.bool)\n",
    "a"
   ]
  },
  {
   "cell_type": "code",
   "execution_count": 184,
   "metadata": {
    "colab": {
     "base_uri": "https://localhost:8080/"
    },
    "executionInfo": {
     "elapsed": 64,
     "status": "ok",
     "timestamp": 1637847054316,
     "user": {
      "displayName": "heydy carrasco huaccha",
      "photoUrl": "https://lh3.googleusercontent.com/a-/AOh14GiGyezGgm9Px4LBw_sc7MFWfjUVhWWsvnAz1Ttg=s64",
      "userId": "00007591481982700116"
     },
     "user_tz": 300
    },
    "id": "ZXHxIOZHEzS6",
    "outputId": "9a9ca2a2-ac25-476b-ceaa-88c44d787160"
   },
   "outputs": [
    {
     "data": {
      "text/plain": [
       "array([1, 2, 0, 4, 5, 6], dtype=uint32)"
      ]
     },
     "execution_count": 184,
     "metadata": {},
     "output_type": "execute_result"
    }
   ],
   "source": [
    "np.array([1,2,0,4,5,'6'],dtype=np.uint) # Entero sin signo"
   ]
  },
  {
   "cell_type": "code",
   "execution_count": 185,
   "metadata": {
    "executionInfo": {
     "elapsed": 63,
     "status": "ok",
     "timestamp": 1637847054316,
     "user": {
      "displayName": "heydy carrasco huaccha",
      "photoUrl": "https://lh3.googleusercontent.com/a-/AOh14GiGyezGgm9Px4LBw_sc7MFWfjUVhWWsvnAz1Ttg=s64",
      "userId": "00007591481982700116"
     },
     "user_tz": 300
    },
    "id": "ig5jV4YxEzQo"
   },
   "outputs": [],
   "source": [
    "# float32 <> Se refiere al tamanio de Bits que puede alcanzar un nro"
   ]
  },
  {
   "cell_type": "code",
   "execution_count": 186,
   "metadata": {
    "colab": {
     "base_uri": "https://localhost:8080/"
    },
    "executionInfo": {
     "elapsed": 63,
     "status": "ok",
     "timestamp": 1637847054316,
     "user": {
      "displayName": "heydy carrasco huaccha",
      "photoUrl": "https://lh3.googleusercontent.com/a-/AOh14GiGyezGgm9Px4LBw_sc7MFWfjUVhWWsvnAz1Ttg=s64",
      "userId": "00007591481982700116"
     },
     "user_tz": 300
    },
    "id": "8kKcCdXPEzOA",
    "outputId": "bc297c01-4e5c-4b6b-eb41-2c5d83ac4b66"
   },
   "outputs": [
    {
     "name": "stderr",
     "output_type": "stream",
     "text": [
      "<ipython-input-186-877dc1649316>:1: DeprecationWarning: `np.complex` is a deprecated alias for the builtin `complex`. To silence this warning, use `complex` by itself. Doing this will not modify any behavior and is safe. If you specifically wanted the numpy scalar type, use `np.complex128` here.\n",
      "Deprecated in NumPy 1.20; for more details and guidance: https://numpy.org/devdocs/release/1.20.0-notes.html#deprecations\n",
      "  np.array([1,2,0,4,5,'6'],dtype=np.complex) # Nro complejo\n"
     ]
    },
    {
     "data": {
      "text/plain": [
       "array([1.+0.j, 2.+0.j, 0.+0.j, 4.+0.j, 5.+0.j, 6.+0.j])"
      ]
     },
     "execution_count": 186,
     "metadata": {},
     "output_type": "execute_result"
    }
   ],
   "source": [
    "np.array([1,2,0,4,5,'6'],dtype=np.complex) # Nro complejo"
   ]
  },
  {
   "cell_type": "code",
   "execution_count": 187,
   "metadata": {
    "colab": {
     "base_uri": "https://localhost:8080/"
    },
    "executionInfo": {
     "elapsed": 61,
     "status": "ok",
     "timestamp": 1637847054316,
     "user": {
      "displayName": "heydy carrasco huaccha",
      "photoUrl": "https://lh3.googleusercontent.com/a-/AOh14GiGyezGgm9Px4LBw_sc7MFWfjUVhWWsvnAz1Ttg=s64",
      "userId": "00007591481982700116"
     },
     "user_tz": 300
    },
    "id": "Sx8D7_g5EzLw",
    "outputId": "3c753623-c327-44a2-e3ac-c8cdd69e28de"
   },
   "outputs": [
    {
     "name": "stdout",
     "output_type": "stream",
     "text": [
      "[1 1 1 1 1 1 1 1 1 1]\n"
     ]
    },
    {
     "name": "stderr",
     "output_type": "stream",
     "text": [
      "<ipython-input-187-77571883621c>:2: DeprecationWarning: `np.int` is a deprecated alias for the builtin `int`. To silence this warning, use `int` by itself. Doing this will not modify any behavior and is safe. When replacing `np.int`, you may wish to use e.g. `np.int64` or `np.int32` to specify the precision. If you wish to review your current use, check the release note link for additional information.\n",
      "Deprecated in NumPy 1.20; for more details and guidance: https://numpy.org/devdocs/release/1.20.0-notes.html#deprecations\n",
      "  a = np.ones(10, dtype=np.int)\n"
     ]
    }
   ],
   "source": [
    "# Arreglos de unos\n",
    "a = np.ones(10, dtype=np.int)\n",
    "print(a)"
   ]
  },
  {
   "cell_type": "code",
   "execution_count": 188,
   "metadata": {
    "colab": {
     "base_uri": "https://localhost:8080/"
    },
    "executionInfo": {
     "elapsed": 60,
     "status": "ok",
     "timestamp": 1637847054316,
     "user": {
      "displayName": "heydy carrasco huaccha",
      "photoUrl": "https://lh3.googleusercontent.com/a-/AOh14GiGyezGgm9Px4LBw_sc7MFWfjUVhWWsvnAz1Ttg=s64",
      "userId": "00007591481982700116"
     },
     "user_tz": 300
    },
    "id": "rEJug81NEzJA",
    "outputId": "d738dc71-a775-433c-f282-5f7673f3fc1c"
   },
   "outputs": [
    {
     "name": "stdout",
     "output_type": "stream",
     "text": [
      "[0 0 0 0 0 0 0 0 0 0]\n"
     ]
    },
    {
     "name": "stderr",
     "output_type": "stream",
     "text": [
      "<ipython-input-188-d054c01104a6>:2: DeprecationWarning: `np.int` is a deprecated alias for the builtin `int`. To silence this warning, use `int` by itself. Doing this will not modify any behavior and is safe. When replacing `np.int`, you may wish to use e.g. `np.int64` or `np.int32` to specify the precision. If you wish to review your current use, check the release note link for additional information.\n",
      "Deprecated in NumPy 1.20; for more details and guidance: https://numpy.org/devdocs/release/1.20.0-notes.html#deprecations\n",
      "  c = np.zeros(10, dtype=np.int)\n"
     ]
    }
   ],
   "source": [
    "# Arreglos de ceros\n",
    "c = np.zeros(10, dtype=np.int)\n",
    "print(c)"
   ]
  },
  {
   "cell_type": "code",
   "execution_count": 189,
   "metadata": {
    "colab": {
     "base_uri": "https://localhost:8080/"
    },
    "executionInfo": {
     "elapsed": 59,
     "status": "ok",
     "timestamp": 1637847054317,
     "user": {
      "displayName": "heydy carrasco huaccha",
      "photoUrl": "https://lh3.googleusercontent.com/a-/AOh14GiGyezGgm9Px4LBw_sc7MFWfjUVhWWsvnAz1Ttg=s64",
      "userId": "00007591481982700116"
     },
     "user_tz": 300
    },
    "id": "ndwo4r3YEzGh",
    "outputId": "2aba32e1-3267-43bd-ea36-fdf6ecd05946"
   },
   "outputs": [
    {
     "data": {
      "text/plain": [
       "array([0, 1, 2, 3, 4, 5, 6, 7, 8, 9])"
      ]
     },
     "execution_count": 189,
     "metadata": {},
     "output_type": "execute_result"
    }
   ],
   "source": [
    "np.arange(0,10)"
   ]
  },
  {
   "cell_type": "code",
   "execution_count": 190,
   "metadata": {
    "colab": {
     "base_uri": "https://localhost:8080/"
    },
    "executionInfo": {
     "elapsed": 57,
     "status": "ok",
     "timestamp": 1637847054317,
     "user": {
      "displayName": "heydy carrasco huaccha",
      "photoUrl": "https://lh3.googleusercontent.com/a-/AOh14GiGyezGgm9Px4LBw_sc7MFWfjUVhWWsvnAz1Ttg=s64",
      "userId": "00007591481982700116"
     },
     "user_tz": 300
    },
    "id": "44cI8oA5UsCO",
    "outputId": "d3a8005f-643a-4cfa-8454-27dc68ebf971"
   },
   "outputs": [
    {
     "data": {
      "text/plain": [
       "array([4, 1, 0, 4, 9, 7, 3, 5, 6, 8, 3, 9, 8, 5, 7, 9, 5, 6, 7, 0])"
      ]
     },
     "execution_count": 190,
     "metadata": {},
     "output_type": "execute_result"
    }
   ],
   "source": [
    "np.random.randint(0,10,20)"
   ]
  },
  {
   "cell_type": "code",
   "execution_count": 191,
   "metadata": {
    "colab": {
     "base_uri": "https://localhost:8080/"
    },
    "executionInfo": {
     "elapsed": 55,
     "status": "ok",
     "timestamp": 1637847054317,
     "user": {
      "displayName": "heydy carrasco huaccha",
      "photoUrl": "https://lh3.googleusercontent.com/a-/AOh14GiGyezGgm9Px4LBw_sc7MFWfjUVhWWsvnAz1Ttg=s64",
      "userId": "00007591481982700116"
     },
     "user_tz": 300
    },
    "id": "6XEzeCpmUr_O",
    "outputId": "e66af459-3235-4905-d807-f8235949bd7f"
   },
   "outputs": [
    {
     "name": "stdout",
     "output_type": "stream",
     "text": [
      "tamano del elemento 10\n"
     ]
    }
   ],
   "source": [
    "print(\"tamano del elemento\", a.size)"
   ]
  },
  {
   "cell_type": "code",
   "execution_count": 192,
   "metadata": {
    "colab": {
     "base_uri": "https://localhost:8080/"
    },
    "executionInfo": {
     "elapsed": 54,
     "status": "ok",
     "timestamp": 1637847054317,
     "user": {
      "displayName": "heydy carrasco huaccha",
      "photoUrl": "https://lh3.googleusercontent.com/a-/AOh14GiGyezGgm9Px4LBw_sc7MFWfjUVhWWsvnAz1Ttg=s64",
      "userId": "00007591481982700116"
     },
     "user_tz": 300
    },
    "id": "s3HfCWIvU18h",
    "outputId": "5702da87-a38f-443c-a8b0-271e69e6c526"
   },
   "outputs": [
    {
     "name": "stdout",
     "output_type": "stream",
     "text": [
      "la forma del array (10,)\n"
     ]
    }
   ],
   "source": [
    "print(\"la forma del array\", a.shape)"
   ]
  },
  {
   "cell_type": "code",
   "execution_count": 193,
   "metadata": {
    "colab": {
     "base_uri": "https://localhost:8080/"
    },
    "executionInfo": {
     "elapsed": 53,
     "status": "ok",
     "timestamp": 1637847054318,
     "user": {
      "displayName": "heydy carrasco huaccha",
      "photoUrl": "https://lh3.googleusercontent.com/a-/AOh14GiGyezGgm9Px4LBw_sc7MFWfjUVhWWsvnAz1Ttg=s64",
      "userId": "00007591481982700116"
     },
     "user_tz": 300
    },
    "id": "YOkA2xVhU178",
    "outputId": "6d223253-3e3f-4a21-d487-5c094f4702d9"
   },
   "outputs": [
    {
     "name": "stdout",
     "output_type": "stream",
     "text": [
      "numero de dimensiones que posee el array 1\n"
     ]
    }
   ],
   "source": [
    "print(\"numero de dimensiones que posee el array\", a.ndim)"
   ]
  },
  {
   "cell_type": "code",
   "execution_count": 194,
   "metadata": {
    "colab": {
     "base_uri": "https://localhost:8080/"
    },
    "executionInfo": {
     "elapsed": 52,
     "status": "ok",
     "timestamp": 1637847054318,
     "user": {
      "displayName": "heydy carrasco huaccha",
      "photoUrl": "https://lh3.googleusercontent.com/a-/AOh14GiGyezGgm9Px4LBw_sc7MFWfjUVhWWsvnAz1Ttg=s64",
      "userId": "00007591481982700116"
     },
     "user_tz": 300
    },
    "id": "ZO9Xfq3dU17V",
    "outputId": "2d0a5fc1-d3ac-4c2b-de1d-1aea2862626c"
   },
   "outputs": [
    {
     "data": {
      "text/plain": [
       "array([[1, 2, 3],\n",
       "       [4, 5, 6]])"
      ]
     },
     "execution_count": 194,
     "metadata": {},
     "output_type": "execute_result"
    }
   ],
   "source": [
    "b = np.array([[1,2,3],[4,5,6]])\n",
    "b"
   ]
  },
  {
   "cell_type": "code",
   "execution_count": 195,
   "metadata": {
    "colab": {
     "base_uri": "https://localhost:8080/"
    },
    "executionInfo": {
     "elapsed": 51,
     "status": "ok",
     "timestamp": 1637847054318,
     "user": {
      "displayName": "heydy carrasco huaccha",
      "photoUrl": "https://lh3.googleusercontent.com/a-/AOh14GiGyezGgm9Px4LBw_sc7MFWfjUVhWWsvnAz1Ttg=s64",
      "userId": "00007591481982700116"
     },
     "user_tz": 300
    },
    "id": "qdpMYbv0U16w",
    "outputId": "67e7f29d-a246-48d7-ac70-678c6d9e8edc"
   },
   "outputs": [
    {
     "name": "stdout",
     "output_type": "stream",
     "text": [
      "la forma del array (2, 3)\n"
     ]
    }
   ],
   "source": [
    "print(\"la forma del array\", b.shape)"
   ]
  },
  {
   "cell_type": "code",
   "execution_count": 196,
   "metadata": {
    "colab": {
     "base_uri": "https://localhost:8080/"
    },
    "executionInfo": {
     "elapsed": 49,
     "status": "ok",
     "timestamp": 1637847054318,
     "user": {
      "displayName": "heydy carrasco huaccha",
      "photoUrl": "https://lh3.googleusercontent.com/a-/AOh14GiGyezGgm9Px4LBw_sc7MFWfjUVhWWsvnAz1Ttg=s64",
      "userId": "00007591481982700116"
     },
     "user_tz": 300
    },
    "id": "OwQnz02-VFtR",
    "outputId": "4a726420-f46d-44fc-80fa-d88072eff72c"
   },
   "outputs": [
    {
     "name": "stdout",
     "output_type": "stream",
     "text": [
      "numero de dimensiones que posee el array 2\n"
     ]
    }
   ],
   "source": [
    "print(\"numero de dimensiones que posee el array\", b.ndim)"
   ]
  },
  {
   "cell_type": "code",
   "execution_count": 197,
   "metadata": {
    "colab": {
     "base_uri": "https://localhost:8080/"
    },
    "executionInfo": {
     "elapsed": 48,
     "status": "ok",
     "timestamp": 1637847054318,
     "user": {
      "displayName": "heydy carrasco huaccha",
      "photoUrl": "https://lh3.googleusercontent.com/a-/AOh14GiGyezGgm9Px4LBw_sc7MFWfjUVhWWsvnAz1Ttg=s64",
      "userId": "00007591481982700116"
     },
     "user_tz": 300
    },
    "id": "qIzKqa5vVFqh",
    "outputId": "ca1b7141-7373-43d3-9043-a132811ac030"
   },
   "outputs": [
    {
     "name": "stdout",
     "output_type": "stream",
     "text": [
      "[0 0 0 0 1 0 2 0 3 0]\n"
     ]
    },
    {
     "name": "stderr",
     "output_type": "stream",
     "text": [
      "<ipython-input-197-5d1c783a0d75>:4: DeprecationWarning: `np.int` is a deprecated alias for the builtin `int`. To silence this warning, use `int` by itself. Doing this will not modify any behavior and is safe. When replacing `np.int`, you may wish to use e.g. `np.int64` or `np.int32` to specify the precision. If you wish to review your current use, check the release note link for additional information.\n",
      "Deprecated in NumPy 1.20; for more details and guidance: https://numpy.org/devdocs/release/1.20.0-notes.html#deprecations\n",
      "  b = np.empty(10, dtype=np.int)\n"
     ]
    }
   ],
   "source": [
    "# Defomor el tamanio de una arreglo - valores inservible\n",
    "# Arreglos con datos basura\n",
    "# DEFINIR SOLO LA LONGITUD\n",
    "b = np.empty(10, dtype=np.int)\n",
    "print(b)"
   ]
  },
  {
   "cell_type": "code",
   "execution_count": 198,
   "metadata": {
    "colab": {
     "base_uri": "https://localhost:8080/"
    },
    "executionInfo": {
     "elapsed": 47,
     "status": "ok",
     "timestamp": 1637847054319,
     "user": {
      "displayName": "heydy carrasco huaccha",
      "photoUrl": "https://lh3.googleusercontent.com/a-/AOh14GiGyezGgm9Px4LBw_sc7MFWfjUVhWWsvnAz1Ttg=s64",
      "userId": "00007591481982700116"
     },
     "user_tz": 300
    },
    "id": "MB60cPrRVFnp",
    "outputId": "7dfcbe02-25a7-4b6e-d746-d0750413d36b"
   },
   "outputs": [
    {
     "name": "stdout",
     "output_type": "stream",
     "text": [
      "[10  0  0  0  1  0  2  0  3  0]\n"
     ]
    }
   ],
   "source": [
    "b[0] = 10\n",
    "print(b)"
   ]
  },
  {
   "cell_type": "code",
   "execution_count": 199,
   "metadata": {
    "executionInfo": {
     "elapsed": 46,
     "status": "ok",
     "timestamp": 1637847054319,
     "user": {
      "displayName": "heydy carrasco huaccha",
      "photoUrl": "https://lh3.googleusercontent.com/a-/AOh14GiGyezGgm9Px4LBw_sc7MFWfjUVhWWsvnAz1Ttg=s64",
      "userId": "00007591481982700116"
     },
     "user_tz": 300
    },
    "id": "BYvHtAjgVFkw"
   },
   "outputs": [],
   "source": [
    "# AXES"
   ]
  },
  {
   "cell_type": "code",
   "execution_count": 200,
   "metadata": {
    "colab": {
     "base_uri": "https://localhost:8080/"
    },
    "executionInfo": {
     "elapsed": 46,
     "status": "ok",
     "timestamp": 1637847054319,
     "user": {
      "displayName": "heydy carrasco huaccha",
      "photoUrl": "https://lh3.googleusercontent.com/a-/AOh14GiGyezGgm9Px4LBw_sc7MFWfjUVhWWsvnAz1Ttg=s64",
      "userId": "00007591481982700116"
     },
     "user_tz": 300
    },
    "id": "cvFHxFVrVFhw",
    "outputId": "30d122dc-3e00-46e4-ac29-8cd849b6eed7"
   },
   "outputs": [
    {
     "data": {
      "text/plain": [
       "array([15, 70, 52, 55, 34,  7, 22, 23, 16, 89, 22, 11, 32, 85, 36, 26, 93,\n",
       "       83, 67, 88])"
      ]
     },
     "execution_count": 200,
     "metadata": {},
     "output_type": "execute_result"
    }
   ],
   "source": [
    "a = np.random.randint(0,100,20)\n",
    "a"
   ]
  },
  {
   "cell_type": "code",
   "execution_count": 201,
   "metadata": {
    "colab": {
     "base_uri": "https://localhost:8080/"
    },
    "executionInfo": {
     "elapsed": 44,
     "status": "ok",
     "timestamp": 1637847054319,
     "user": {
      "displayName": "heydy carrasco huaccha",
      "photoUrl": "https://lh3.googleusercontent.com/a-/AOh14GiGyezGgm9Px4LBw_sc7MFWfjUVhWWsvnAz1Ttg=s64",
      "userId": "00007591481982700116"
     },
     "user_tz": 300
    },
    "id": "ewnE5zBFW7K3",
    "outputId": "b2dee9d6-d500-4cd1-ee4c-a3e59c7e8abb"
   },
   "outputs": [
    {
     "data": {
      "text/plain": [
       "nan"
      ]
     },
     "execution_count": 201,
     "metadata": {},
     "output_type": "execute_result"
    }
   ],
   "source": [
    "np.nan"
   ]
  },
  {
   "cell_type": "code",
   "execution_count": 202,
   "metadata": {
    "colab": {
     "base_uri": "https://localhost:8080/"
    },
    "executionInfo": {
     "elapsed": 43,
     "status": "ok",
     "timestamp": 1637847054319,
     "user": {
      "displayName": "heydy carrasco huaccha",
      "photoUrl": "https://lh3.googleusercontent.com/a-/AOh14GiGyezGgm9Px4LBw_sc7MFWfjUVhWWsvnAz1Ttg=s64",
      "userId": "00007591481982700116"
     },
     "user_tz": 300
    },
    "id": "_9Gy3jNbW7H3",
    "outputId": "3f158dfe-be53-40d3-8a55-438a6b1b2669"
   },
   "outputs": [
    {
     "data": {
      "text/plain": [
       "15"
      ]
     },
     "execution_count": 202,
     "metadata": {},
     "output_type": "execute_result"
    }
   ],
   "source": [
    "a[0]"
   ]
  },
  {
   "cell_type": "code",
   "execution_count": 203,
   "metadata": {
    "colab": {
     "base_uri": "https://localhost:8080/"
    },
    "executionInfo": {
     "elapsed": 42,
     "status": "ok",
     "timestamp": 1637847054320,
     "user": {
      "displayName": "heydy carrasco huaccha",
      "photoUrl": "https://lh3.googleusercontent.com/a-/AOh14GiGyezGgm9Px4LBw_sc7MFWfjUVhWWsvnAz1Ttg=s64",
      "userId": "00007591481982700116"
     },
     "user_tz": 300
    },
    "id": "FKGhIhsPW7FQ",
    "outputId": "d9d88da2-6642-4c8d-8d99-b3d9130dd82e"
   },
   "outputs": [
    {
     "data": {
      "text/plain": [
       "array([15, 70, 52, 55, 34,  7, 22, 23, 16])"
      ]
     },
     "execution_count": 203,
     "metadata": {},
     "output_type": "execute_result"
    }
   ],
   "source": [
    "a[0:9]"
   ]
  },
  {
   "cell_type": "code",
   "execution_count": 204,
   "metadata": {
    "colab": {
     "base_uri": "https://localhost:8080/"
    },
    "executionInfo": {
     "elapsed": 41,
     "status": "ok",
     "timestamp": 1637847054320,
     "user": {
      "displayName": "heydy carrasco huaccha",
      "photoUrl": "https://lh3.googleusercontent.com/a-/AOh14GiGyezGgm9Px4LBw_sc7MFWfjUVhWWsvnAz1Ttg=s64",
      "userId": "00007591481982700116"
     },
     "user_tz": 300
    },
    "id": "izdEknwxW7Cv",
    "outputId": "2fc65096-a4a1-4a71-b8bc-89b7faea1ff7"
   },
   "outputs": [
    {
     "data": {
      "text/plain": [
       "array([15, 52, 34, 22, 16])"
      ]
     },
     "execution_count": 204,
     "metadata": {},
     "output_type": "execute_result"
    }
   ],
   "source": [
    "a[0:9:2]"
   ]
  },
  {
   "cell_type": "code",
   "execution_count": 205,
   "metadata": {
    "colab": {
     "base_uri": "https://localhost:8080/"
    },
    "executionInfo": {
     "elapsed": 39,
     "status": "ok",
     "timestamp": 1637847054320,
     "user": {
      "displayName": "heydy carrasco huaccha",
      "photoUrl": "https://lh3.googleusercontent.com/a-/AOh14GiGyezGgm9Px4LBw_sc7MFWfjUVhWWsvnAz1Ttg=s64",
      "userId": "00007591481982700116"
     },
     "user_tz": 300
    },
    "id": "zRB04XPFW7AQ",
    "outputId": "2433a439-4ec1-46af-d9f6-244b552d4b50"
   },
   "outputs": [
    {
     "data": {
      "text/plain": [
       "array([ 7, 22, 23, 16, 89, 22, 11, 32, 85, 36, 26, 93, 83, 67, 88])"
      ]
     },
     "execution_count": 205,
     "metadata": {},
     "output_type": "execute_result"
    }
   ],
   "source": [
    "a[5:]"
   ]
  },
  {
   "cell_type": "code",
   "execution_count": 206,
   "metadata": {
    "colab": {
     "base_uri": "https://localhost:8080/"
    },
    "executionInfo": {
     "elapsed": 38,
     "status": "ok",
     "timestamp": 1637847054320,
     "user": {
      "displayName": "heydy carrasco huaccha",
      "photoUrl": "https://lh3.googleusercontent.com/a-/AOh14GiGyezGgm9Px4LBw_sc7MFWfjUVhWWsvnAz1Ttg=s64",
      "userId": "00007591481982700116"
     },
     "user_tz": 300
    },
    "id": "B3xODEETXWE8",
    "outputId": "d98d68a4-0fba-44ce-a155-9c2dc827d53d"
   },
   "outputs": [
    {
     "data": {
      "text/plain": [
       "array([15, 70, 52, 55, 34,  7, 22, 23, 16, 89, 22, 11, 32, 85, 36, 26, 93,\n",
       "       83, 67, 88])"
      ]
     },
     "execution_count": 206,
     "metadata": {},
     "output_type": "execute_result"
    }
   ],
   "source": [
    "a"
   ]
  },
  {
   "cell_type": "code",
   "execution_count": 207,
   "metadata": {
    "colab": {
     "base_uri": "https://localhost:8080/"
    },
    "executionInfo": {
     "elapsed": 37,
     "status": "ok",
     "timestamp": 1637847054320,
     "user": {
      "displayName": "heydy carrasco huaccha",
      "photoUrl": "https://lh3.googleusercontent.com/a-/AOh14GiGyezGgm9Px4LBw_sc7MFWfjUVhWWsvnAz1Ttg=s64",
      "userId": "00007591481982700116"
     },
     "user_tz": 300
    },
    "id": "8Of_LYQEXiW-",
    "outputId": "8f96b3bc-0247-46a4-e24d-174ebf055851"
   },
   "outputs": [
    {
     "data": {
      "text/plain": [
       "(15, 52, 55)"
      ]
     },
     "execution_count": 207,
     "metadata": {},
     "output_type": "execute_result"
    }
   ],
   "source": [
    "a[0], a[2], a[3]"
   ]
  },
  {
   "cell_type": "code",
   "execution_count": 208,
   "metadata": {
    "colab": {
     "base_uri": "https://localhost:8080/"
    },
    "executionInfo": {
     "elapsed": 37,
     "status": "ok",
     "timestamp": 1637847054321,
     "user": {
      "displayName": "heydy carrasco huaccha",
      "photoUrl": "https://lh3.googleusercontent.com/a-/AOh14GiGyezGgm9Px4LBw_sc7MFWfjUVhWWsvnAz1Ttg=s64",
      "userId": "00007591481982700116"
     },
     "user_tz": 300
    },
    "id": "i1iVrdpJXWCQ",
    "outputId": "03eb710b-6652-42ad-9a84-d4bb1cf704e6"
   },
   "outputs": [
    {
     "data": {
      "text/plain": [
       "array([15, 52, 55])"
      ]
     },
     "execution_count": 208,
     "metadata": {},
     "output_type": "execute_result"
    }
   ],
   "source": [
    "a[[0,2,3]]"
   ]
  },
  {
   "cell_type": "code",
   "execution_count": 209,
   "metadata": {
    "executionInfo": {
     "elapsed": 35,
     "status": "ok",
     "timestamp": 1637847054321,
     "user": {
      "displayName": "heydy carrasco huaccha",
      "photoUrl": "https://lh3.googleusercontent.com/a-/AOh14GiGyezGgm9Px4LBw_sc7MFWfjUVhWWsvnAz1Ttg=s64",
      "userId": "00007591481982700116"
     },
     "user_tz": 300
    },
    "id": "_h2ogpt2XV_1"
   },
   "outputs": [],
   "source": [
    "b=np.append(a,100)"
   ]
  },
  {
   "cell_type": "code",
   "execution_count": 210,
   "metadata": {
    "colab": {
     "base_uri": "https://localhost:8080/"
    },
    "executionInfo": {
     "elapsed": 35,
     "status": "ok",
     "timestamp": 1637847054321,
     "user": {
      "displayName": "heydy carrasco huaccha",
      "photoUrl": "https://lh3.googleusercontent.com/a-/AOh14GiGyezGgm9Px4LBw_sc7MFWfjUVhWWsvnAz1Ttg=s64",
      "userId": "00007591481982700116"
     },
     "user_tz": 300
    },
    "id": "wbNx4r9HXV9J",
    "outputId": "1c0a9fcc-e0dd-409f-d506-aab458286bca"
   },
   "outputs": [
    {
     "data": {
      "text/plain": [
       "array([ 15,  70,  52,  55,  34,   7,  22,  23,  16,  89,  22,  11,  32,\n",
       "        85,  36,  26,  93,  83,  67,  88, 100])"
      ]
     },
     "execution_count": 210,
     "metadata": {},
     "output_type": "execute_result"
    }
   ],
   "source": [
    "b"
   ]
  },
  {
   "cell_type": "code",
   "execution_count": 211,
   "metadata": {
    "colab": {
     "base_uri": "https://localhost:8080/"
    },
    "executionInfo": {
     "elapsed": 33,
     "status": "ok",
     "timestamp": 1637847054321,
     "user": {
      "displayName": "heydy carrasco huaccha",
      "photoUrl": "https://lh3.googleusercontent.com/a-/AOh14GiGyezGgm9Px4LBw_sc7MFWfjUVhWWsvnAz1Ttg=s64",
      "userId": "00007591481982700116"
     },
     "user_tz": 300
    },
    "id": "dCAUZl4bXV6o",
    "outputId": "cc149072-78a4-43fa-ba0c-56b818464be9"
   },
   "outputs": [
    {
     "data": {
      "text/plain": [
       "2565599438096"
      ]
     },
     "execution_count": 211,
     "metadata": {},
     "output_type": "execute_result"
    }
   ],
   "source": [
    "id(a)"
   ]
  },
  {
   "cell_type": "code",
   "execution_count": 212,
   "metadata": {
    "colab": {
     "base_uri": "https://localhost:8080/"
    },
    "executionInfo": {
     "elapsed": 33,
     "status": "ok",
     "timestamp": 1637847054322,
     "user": {
      "displayName": "heydy carrasco huaccha",
      "photoUrl": "https://lh3.googleusercontent.com/a-/AOh14GiGyezGgm9Px4LBw_sc7MFWfjUVhWWsvnAz1Ttg=s64",
      "userId": "00007591481982700116"
     },
     "user_tz": 300
    },
    "id": "w0uHIjEtW69f",
    "outputId": "ecc0200a-ed8d-42ec-d7d9-c56d0fdd738c"
   },
   "outputs": [
    {
     "data": {
      "text/plain": [
       "2565600968016"
      ]
     },
     "execution_count": 212,
     "metadata": {},
     "output_type": "execute_result"
    }
   ],
   "source": [
    "id(b)"
   ]
  },
  {
   "cell_type": "code",
   "execution_count": 213,
   "metadata": {
    "colab": {
     "base_uri": "https://localhost:8080/"
    },
    "executionInfo": {
     "elapsed": 32,
     "status": "ok",
     "timestamp": 1637847054322,
     "user": {
      "displayName": "heydy carrasco huaccha",
      "photoUrl": "https://lh3.googleusercontent.com/a-/AOh14GiGyezGgm9Px4LBw_sc7MFWfjUVhWWsvnAz1Ttg=s64",
      "userId": "00007591481982700116"
     },
     "user_tz": 300
    },
    "id": "-ptLv_XhX8al",
    "outputId": "39f01a16-ee0d-4cce-868e-9c6b958e576e"
   },
   "outputs": [
    {
     "data": {
      "text/plain": [
       "False"
      ]
     },
     "execution_count": 213,
     "metadata": {},
     "output_type": "execute_result"
    }
   ],
   "source": [
    "a is b"
   ]
  },
  {
   "cell_type": "code",
   "execution_count": 214,
   "metadata": {
    "colab": {
     "base_uri": "https://localhost:8080/"
    },
    "executionInfo": {
     "elapsed": 30,
     "status": "ok",
     "timestamp": 1637847054322,
     "user": {
      "displayName": "heydy carrasco huaccha",
      "photoUrl": "https://lh3.googleusercontent.com/a-/AOh14GiGyezGgm9Px4LBw_sc7MFWfjUVhWWsvnAz1Ttg=s64",
      "userId": "00007591481982700116"
     },
     "user_tz": 300
    },
    "id": "K2_DU1-9YSXi",
    "outputId": "e21665fe-ec4a-454f-84a0-06d3277de63d"
   },
   "outputs": [
    {
     "data": {
      "text/plain": [
       "array([15, 70, 52, 55, 34,  7, 22, 23, 16, 89, 22, 11, 32, 85, 36, 26, 93,\n",
       "       83, 67, 88])"
      ]
     },
     "execution_count": 214,
     "metadata": {},
     "output_type": "execute_result"
    }
   ],
   "source": [
    "a"
   ]
  },
  {
   "cell_type": "code",
   "execution_count": 215,
   "metadata": {
    "executionInfo": {
     "elapsed": 28,
     "status": "ok",
     "timestamp": 1637847054322,
     "user": {
      "displayName": "heydy carrasco huaccha",
      "photoUrl": "https://lh3.googleusercontent.com/a-/AOh14GiGyezGgm9Px4LBw_sc7MFWfjUVhWWsvnAz1Ttg=s64",
      "userId": "00007591481982700116"
     },
     "user_tz": 300
    },
    "id": "8afqZIVTX8X9"
   },
   "outputs": [],
   "source": [
    "b=np.delete(a,0)"
   ]
  },
  {
   "cell_type": "code",
   "execution_count": 216,
   "metadata": {
    "colab": {
     "base_uri": "https://localhost:8080/"
    },
    "executionInfo": {
     "elapsed": 28,
     "status": "ok",
     "timestamp": 1637847054322,
     "user": {
      "displayName": "heydy carrasco huaccha",
      "photoUrl": "https://lh3.googleusercontent.com/a-/AOh14GiGyezGgm9Px4LBw_sc7MFWfjUVhWWsvnAz1Ttg=s64",
      "userId": "00007591481982700116"
     },
     "user_tz": 300
    },
    "id": "Vxnl9c0SX8Sl",
    "outputId": "a9912ed3-32b4-4ea2-af01-5b7220b9a532"
   },
   "outputs": [
    {
     "data": {
      "text/plain": [
       "array([15, 70, 52, 55, 34,  7, 22, 23, 16, 89, 22, 11, 32, 85, 36, 26, 93,\n",
       "       83, 67, 88])"
      ]
     },
     "execution_count": 216,
     "metadata": {},
     "output_type": "execute_result"
    }
   ],
   "source": [
    "a"
   ]
  },
  {
   "cell_type": "code",
   "execution_count": 217,
   "metadata": {
    "colab": {
     "base_uri": "https://localhost:8080/"
    },
    "executionInfo": {
     "elapsed": 28,
     "status": "ok",
     "timestamp": 1637847054323,
     "user": {
      "displayName": "heydy carrasco huaccha",
      "photoUrl": "https://lh3.googleusercontent.com/a-/AOh14GiGyezGgm9Px4LBw_sc7MFWfjUVhWWsvnAz1Ttg=s64",
      "userId": "00007591481982700116"
     },
     "user_tz": 300
    },
    "id": "pbzvxNhfX8QF",
    "outputId": "b151b01b-2a76-490f-cb72-ef69ca47245f"
   },
   "outputs": [
    {
     "data": {
      "text/plain": [
       "array([70, 52, 55, 34,  7, 22, 23, 16, 89, 22, 11, 32, 85, 36, 26, 93, 83,\n",
       "       67, 88])"
      ]
     },
     "execution_count": 217,
     "metadata": {},
     "output_type": "execute_result"
    }
   ],
   "source": [
    "b"
   ]
  },
  {
   "cell_type": "code",
   "execution_count": 218,
   "metadata": {
    "executionInfo": {
     "elapsed": 26,
     "status": "ok",
     "timestamp": 1637847054323,
     "user": {
      "displayName": "heydy carrasco huaccha",
      "photoUrl": "https://lh3.googleusercontent.com/a-/AOh14GiGyezGgm9Px4LBw_sc7MFWfjUVhWWsvnAz1Ttg=s64",
      "userId": "00007591481982700116"
     },
     "user_tz": 300
    },
    "id": "fxG1mB_4X8Nd"
   },
   "outputs": [],
   "source": [
    "# Nomeclatura\n",
    "# def suma_numeros():\n",
    "#   pass"
   ]
  },
  {
   "cell_type": "code",
   "execution_count": 219,
   "metadata": {
    "colab": {
     "base_uri": "https://localhost:8080/"
    },
    "executionInfo": {
     "elapsed": 26,
     "status": "ok",
     "timestamp": 1637847054323,
     "user": {
      "displayName": "heydy carrasco huaccha",
      "photoUrl": "https://lh3.googleusercontent.com/a-/AOh14GiGyezGgm9Px4LBw_sc7MFWfjUVhWWsvnAz1Ttg=s64",
      "userId": "00007591481982700116"
     },
     "user_tz": 300
    },
    "id": "03Vfw3NwYrMG",
    "outputId": "0389b9a5-1340-486d-9a2d-673a4b017f3d"
   },
   "outputs": [
    {
     "data": {
      "text/plain": [
       "array([15, 70, 52, 55, 34,  7, 22, 23, 16, 89, 22, 11, 32, 85, 36, 26, 93,\n",
       "       83, 67, 88])"
      ]
     },
     "execution_count": 219,
     "metadata": {},
     "output_type": "execute_result"
    }
   ],
   "source": [
    "a"
   ]
  },
  {
   "cell_type": "code",
   "execution_count": 220,
   "metadata": {
    "executionInfo": {
     "elapsed": 24,
     "status": "ok",
     "timestamp": 1637847054323,
     "user": {
      "displayName": "heydy carrasco huaccha",
      "photoUrl": "https://lh3.googleusercontent.com/a-/AOh14GiGyezGgm9Px4LBw_sc7MFWfjUVhWWsvnAz1Ttg=s64",
      "userId": "00007591481982700116"
     },
     "user_tz": 300
    },
    "id": "LyThLTDmYsfs"
   },
   "outputs": [],
   "source": [
    "a.sort()"
   ]
  },
  {
   "cell_type": "code",
   "execution_count": 221,
   "metadata": {
    "colab": {
     "base_uri": "https://localhost:8080/"
    },
    "executionInfo": {
     "elapsed": 24,
     "status": "ok",
     "timestamp": 1637847054323,
     "user": {
      "displayName": "heydy carrasco huaccha",
      "photoUrl": "https://lh3.googleusercontent.com/a-/AOh14GiGyezGgm9Px4LBw_sc7MFWfjUVhWWsvnAz1Ttg=s64",
      "userId": "00007591481982700116"
     },
     "user_tz": 300
    },
    "id": "MCTM4z4GYsc0",
    "outputId": "d18b3d9f-1801-4a23-8df0-4e459eae40b4"
   },
   "outputs": [
    {
     "data": {
      "text/plain": [
       "array([93, 89, 88, 85, 83, 70, 67, 55, 52, 36, 34, 32, 26, 23, 22, 22, 16,\n",
       "       15, 11,  7])"
      ]
     },
     "execution_count": 221,
     "metadata": {},
     "output_type": "execute_result"
    }
   ],
   "source": [
    "a[::-1]"
   ]
  },
  {
   "cell_type": "code",
   "execution_count": 222,
   "metadata": {
    "colab": {
     "base_uri": "https://localhost:8080/"
    },
    "executionInfo": {
     "elapsed": 24,
     "status": "ok",
     "timestamp": 1637847054324,
     "user": {
      "displayName": "heydy carrasco huaccha",
      "photoUrl": "https://lh3.googleusercontent.com/a-/AOh14GiGyezGgm9Px4LBw_sc7MFWfjUVhWWsvnAz1Ttg=s64",
      "userId": "00007591481982700116"
     },
     "user_tz": 300
    },
    "id": "g_nx30rDYsaM",
    "outputId": "a9470d34-5e65-4b0f-8018-957b508d1f88"
   },
   "outputs": [
    {
     "data": {
      "text/plain": [
       "array([ 7, 11, 15, 16, 22, 22, 23, 26, 32, 34, 36, 52, 55, 67, 70, 83, 85,\n",
       "       88, 89, 93])"
      ]
     },
     "execution_count": 222,
     "metadata": {},
     "output_type": "execute_result"
    }
   ],
   "source": [
    "a"
   ]
  },
  {
   "cell_type": "code",
   "execution_count": 223,
   "metadata": {
    "colab": {
     "base_uri": "https://localhost:8080/"
    },
    "executionInfo": {
     "elapsed": 22,
     "status": "ok",
     "timestamp": 1637847054324,
     "user": {
      "displayName": "heydy carrasco huaccha",
      "photoUrl": "https://lh3.googleusercontent.com/a-/AOh14GiGyezGgm9Px4LBw_sc7MFWfjUVhWWsvnAz1Ttg=s64",
      "userId": "00007591481982700116"
     },
     "user_tz": 300
    },
    "id": "3UDhi5GQZK-f",
    "outputId": "b1e6c1e3-2f5f-45d2-8d06-536fb500c417"
   },
   "outputs": [
    {
     "data": {
      "text/plain": [
       "20"
      ]
     },
     "execution_count": 223,
     "metadata": {},
     "output_type": "execute_result"
    }
   ],
   "source": [
    "a.size"
   ]
  },
  {
   "cell_type": "code",
   "execution_count": 224,
   "metadata": {
    "executionInfo": {
     "elapsed": 21,
     "status": "ok",
     "timestamp": 1637847054324,
     "user": {
      "displayName": "heydy carrasco huaccha",
      "photoUrl": "https://lh3.googleusercontent.com/a-/AOh14GiGyezGgm9Px4LBw_sc7MFWfjUVhWWsvnAz1Ttg=s64",
      "userId": "00007591481982700116"
     },
     "user_tz": 300
    },
    "id": "99TMs70jZK7z"
   },
   "outputs": [],
   "source": [
    "A = a.reshape(5,4) #Filas, Columnas"
   ]
  },
  {
   "cell_type": "code",
   "execution_count": 225,
   "metadata": {
    "colab": {
     "base_uri": "https://localhost:8080/"
    },
    "executionInfo": {
     "elapsed": 21,
     "status": "ok",
     "timestamp": 1637847054324,
     "user": {
      "displayName": "heydy carrasco huaccha",
      "photoUrl": "https://lh3.googleusercontent.com/a-/AOh14GiGyezGgm9Px4LBw_sc7MFWfjUVhWWsvnAz1Ttg=s64",
      "userId": "00007591481982700116"
     },
     "user_tz": 300
    },
    "id": "UkQY_eW6ZK5P",
    "outputId": "006fa63d-b038-4922-af26-c0d5c22d0368"
   },
   "outputs": [
    {
     "data": {
      "text/plain": [
       "array([[ 7, 11, 15, 16],\n",
       "       [22, 22, 23, 26],\n",
       "       [32, 34, 36, 52],\n",
       "       [55, 67, 70, 83],\n",
       "       [85, 88, 89, 93]])"
      ]
     },
     "execution_count": 225,
     "metadata": {},
     "output_type": "execute_result"
    }
   ],
   "source": [
    "A"
   ]
  },
  {
   "cell_type": "code",
   "execution_count": 226,
   "metadata": {
    "colab": {
     "base_uri": "https://localhost:8080/"
    },
    "executionInfo": {
     "elapsed": 20,
     "status": "ok",
     "timestamp": 1637847054324,
     "user": {
      "displayName": "heydy carrasco huaccha",
      "photoUrl": "https://lh3.googleusercontent.com/a-/AOh14GiGyezGgm9Px4LBw_sc7MFWfjUVhWWsvnAz1Ttg=s64",
      "userId": "00007591481982700116"
     },
     "user_tz": 300
    },
    "id": "w7BensnDZK2y",
    "outputId": "338eca96-2720-4bf5-a4f0-c4f16cf1dd32"
   },
   "outputs": [
    {
     "data": {
      "text/plain": [
       "(5, 4)"
      ]
     },
     "execution_count": 226,
     "metadata": {},
     "output_type": "execute_result"
    }
   ],
   "source": [
    "A.shape"
   ]
  },
  {
   "cell_type": "code",
   "execution_count": 227,
   "metadata": {
    "colab": {
     "base_uri": "https://localhost:8080/"
    },
    "executionInfo": {
     "elapsed": 703,
     "status": "ok",
     "timestamp": 1637847055009,
     "user": {
      "displayName": "heydy carrasco huaccha",
      "photoUrl": "https://lh3.googleusercontent.com/a-/AOh14GiGyezGgm9Px4LBw_sc7MFWfjUVhWWsvnAz1Ttg=s64",
      "userId": "00007591481982700116"
     },
     "user_tz": 300
    },
    "id": "rkEqhgLEZK0O",
    "outputId": "2ba2e3bb-bd73-4adb-ff9e-aa8df5223577"
   },
   "outputs": [
    {
     "data": {
      "text/plain": [
       "20"
      ]
     },
     "execution_count": 227,
     "metadata": {},
     "output_type": "execute_result"
    }
   ],
   "source": [
    "A.size"
   ]
  },
  {
   "cell_type": "code",
   "execution_count": 228,
   "metadata": {
    "executionInfo": {
     "elapsed": 54,
     "status": "ok",
     "timestamp": 1637847055010,
     "user": {
      "displayName": "heydy carrasco huaccha",
      "photoUrl": "https://lh3.googleusercontent.com/a-/AOh14GiGyezGgm9Px4LBw_sc7MFWfjUVhWWsvnAz1Ttg=s64",
      "userId": "00007591481982700116"
     },
     "user_tz": 300
    },
    "id": "BgG6iiCyZKxo"
   },
   "outputs": [],
   "source": [
    "# Axies\n",
    "# EJE 0 <> FILAS\n",
    "# EJE 1 <> COLUMNAS"
   ]
  },
  {
   "cell_type": "code",
   "execution_count": 229,
   "metadata": {
    "colab": {
     "base_uri": "https://localhost:8080/"
    },
    "executionInfo": {
     "elapsed": 54,
     "status": "ok",
     "timestamp": 1637847055010,
     "user": {
      "displayName": "heydy carrasco huaccha",
      "photoUrl": "https://lh3.googleusercontent.com/a-/AOh14GiGyezGgm9Px4LBw_sc7MFWfjUVhWWsvnAz1Ttg=s64",
      "userId": "00007591481982700116"
     },
     "user_tz": 300
    },
    "id": "ZJArJDcoZKvH",
    "outputId": "89137e43-b5e4-4ec0-b139-2dc70de5ab5e"
   },
   "outputs": [
    {
     "data": {
      "text/plain": [
       "16"
      ]
     },
     "execution_count": 229,
     "metadata": {},
     "output_type": "execute_result"
    }
   ],
   "source": [
    "A[0,3]"
   ]
  },
  {
   "cell_type": "code",
   "execution_count": 230,
   "metadata": {
    "colab": {
     "base_uri": "https://localhost:8080/"
    },
    "executionInfo": {
     "elapsed": 50,
     "status": "ok",
     "timestamp": 1637847055010,
     "user": {
      "displayName": "heydy carrasco huaccha",
      "photoUrl": "https://lh3.googleusercontent.com/a-/AOh14GiGyezGgm9Px4LBw_sc7MFWfjUVhWWsvnAz1Ttg=s64",
      "userId": "00007591481982700116"
     },
     "user_tz": 300
    },
    "id": "OcZx-XbyX8K2",
    "outputId": "4c819933-2a08-4979-d48d-b9b2b2e53f45"
   },
   "outputs": [
    {
     "data": {
      "text/plain": [
       "93"
      ]
     },
     "execution_count": 230,
     "metadata": {},
     "output_type": "execute_result"
    }
   ],
   "source": [
    "A[4,3]"
   ]
  },
  {
   "cell_type": "code",
   "execution_count": 231,
   "metadata": {
    "colab": {
     "base_uri": "https://localhost:8080/"
    },
    "executionInfo": {
     "elapsed": 48,
     "status": "ok",
     "timestamp": 1637847055010,
     "user": {
      "displayName": "heydy carrasco huaccha",
      "photoUrl": "https://lh3.googleusercontent.com/a-/AOh14GiGyezGgm9Px4LBw_sc7MFWfjUVhWWsvnAz1Ttg=s64",
      "userId": "00007591481982700116"
     },
     "user_tz": 300
    },
    "id": "yHg_x4qGZ4Vj",
    "outputId": "9abf21fe-1965-4c07-f2b3-5fdbf1110b1f"
   },
   "outputs": [
    {
     "data": {
      "text/plain": [
       "array([ 7, 11, 15, 16])"
      ]
     },
     "execution_count": 231,
     "metadata": {},
     "output_type": "execute_result"
    }
   ],
   "source": [
    "A[0]"
   ]
  },
  {
   "cell_type": "code",
   "execution_count": 232,
   "metadata": {
    "colab": {
     "base_uri": "https://localhost:8080/"
    },
    "executionInfo": {
     "elapsed": 47,
     "status": "ok",
     "timestamp": 1637847055011,
     "user": {
      "displayName": "heydy carrasco huaccha",
      "photoUrl": "https://lh3.googleusercontent.com/a-/AOh14GiGyezGgm9Px4LBw_sc7MFWfjUVhWWsvnAz1Ttg=s64",
      "userId": "00007591481982700116"
     },
     "user_tz": 300
    },
    "id": "TXoQY6BuZ4SK",
    "outputId": "513d8043-606a-4202-c949-08318d8ccdd7"
   },
   "outputs": [
    {
     "data": {
      "text/plain": [
       "49"
      ]
     },
     "execution_count": 232,
     "metadata": {},
     "output_type": "execute_result"
    }
   ],
   "source": [
    "A[0].sum()"
   ]
  },
  {
   "cell_type": "code",
   "execution_count": 233,
   "metadata": {
    "colab": {
     "base_uri": "https://localhost:8080/"
    },
    "executionInfo": {
     "elapsed": 45,
     "status": "ok",
     "timestamp": 1637847055011,
     "user": {
      "displayName": "heydy carrasco huaccha",
      "photoUrl": "https://lh3.googleusercontent.com/a-/AOh14GiGyezGgm9Px4LBw_sc7MFWfjUVhWWsvnAz1Ttg=s64",
      "userId": "00007591481982700116"
     },
     "user_tz": 300
    },
    "id": "2Pk97MBaZ4Pd",
    "outputId": "959fc530-716d-4282-c7d3-98bd0684bdc4"
   },
   "outputs": [
    {
     "data": {
      "text/plain": [
       "4"
      ]
     },
     "execution_count": 233,
     "metadata": {},
     "output_type": "execute_result"
    }
   ],
   "source": [
    "A[0].size"
   ]
  },
  {
   "cell_type": "code",
   "execution_count": 234,
   "metadata": {
    "colab": {
     "base_uri": "https://localhost:8080/"
    },
    "executionInfo": {
     "elapsed": 44,
     "status": "ok",
     "timestamp": 1637847055011,
     "user": {
      "displayName": "heydy carrasco huaccha",
      "photoUrl": "https://lh3.googleusercontent.com/a-/AOh14GiGyezGgm9Px4LBw_sc7MFWfjUVhWWsvnAz1Ttg=s64",
      "userId": "00007591481982700116"
     },
     "user_tz": 300
    },
    "id": "6ZdjQCbnaZI9",
    "outputId": "4e948d29-ce3a-4362-cb60-c09f281259e9"
   },
   "outputs": [
    {
     "data": {
      "text/plain": [
       "93"
      ]
     },
     "execution_count": 234,
     "metadata": {},
     "output_type": "execute_result"
    }
   ],
   "source": [
    "A.max()"
   ]
  },
  {
   "cell_type": "code",
   "execution_count": 235,
   "metadata": {
    "colab": {
     "base_uri": "https://localhost:8080/"
    },
    "executionInfo": {
     "elapsed": 42,
     "status": "ok",
     "timestamp": 1637847055011,
     "user": {
      "displayName": "heydy carrasco huaccha",
      "photoUrl": "https://lh3.googleusercontent.com/a-/AOh14GiGyezGgm9Px4LBw_sc7MFWfjUVhWWsvnAz1Ttg=s64",
      "userId": "00007591481982700116"
     },
     "user_tz": 300
    },
    "id": "-1kWIiqzZ4M7",
    "outputId": "35cf43d2-6202-4bfe-d0b3-5f5275e088be"
   },
   "outputs": [
    {
     "data": {
      "text/plain": [
       "7"
      ]
     },
     "execution_count": 235,
     "metadata": {},
     "output_type": "execute_result"
    }
   ],
   "source": [
    "A[0].max()\n",
    "A[0].min()"
   ]
  },
  {
   "cell_type": "code",
   "execution_count": 236,
   "metadata": {
    "colab": {
     "base_uri": "https://localhost:8080/"
    },
    "executionInfo": {
     "elapsed": 40,
     "status": "ok",
     "timestamp": 1637847055011,
     "user": {
      "displayName": "heydy carrasco huaccha",
      "photoUrl": "https://lh3.googleusercontent.com/a-/AOh14GiGyezGgm9Px4LBw_sc7MFWfjUVhWWsvnAz1Ttg=s64",
      "userId": "00007591481982700116"
     },
     "user_tz": 300
    },
    "id": "pMqq6NxpZ2xi",
    "outputId": "3f956216-50d9-4ee1-effb-804bc7bb6493"
   },
   "outputs": [
    {
     "data": {
      "text/plain": [
       "49"
      ]
     },
     "execution_count": 236,
     "metadata": {},
     "output_type": "execute_result"
    }
   ],
   "source": [
    "A[0].mean()\n",
    "A[0].std()\n",
    "A[0].sum()"
   ]
  },
  {
   "cell_type": "code",
   "execution_count": 237,
   "metadata": {
    "colab": {
     "base_uri": "https://localhost:8080/"
    },
    "executionInfo": {
     "elapsed": 40,
     "status": "ok",
     "timestamp": 1637847055012,
     "user": {
      "displayName": "heydy carrasco huaccha",
      "photoUrl": "https://lh3.googleusercontent.com/a-/AOh14GiGyezGgm9Px4LBw_sc7MFWfjUVhWWsvnAz1Ttg=s64",
      "userId": "00007591481982700116"
     },
     "user_tz": 300
    },
    "id": "WLhUnaK3Z2u5",
    "outputId": "09fb615d-524b-4b28-e865-bd5f6cbd790a"
   },
   "outputs": [
    {
     "data": {
      "text/plain": [
       "array([[ 7, 22, 32, 55, 85],\n",
       "       [11, 22, 34, 67, 88],\n",
       "       [15, 23, 36, 70, 89],\n",
       "       [16, 26, 52, 83, 93]])"
      ]
     },
     "execution_count": 237,
     "metadata": {},
     "output_type": "execute_result"
    }
   ],
   "source": [
    "A.T"
   ]
  },
  {
   "cell_type": "code",
   "execution_count": 238,
   "metadata": {
    "colab": {
     "base_uri": "https://localhost:8080/"
    },
    "executionInfo": {
     "elapsed": 39,
     "status": "ok",
     "timestamp": 1637847055012,
     "user": {
      "displayName": "heydy carrasco huaccha",
      "photoUrl": "https://lh3.googleusercontent.com/a-/AOh14GiGyezGgm9Px4LBw_sc7MFWfjUVhWWsvnAz1Ttg=s64",
      "userId": "00007591481982700116"
     },
     "user_tz": 300
    },
    "id": "t9gTEeDAZ2sR",
    "outputId": "69f3818b-0f17-4c68-9b03-d34c4a09d26f"
   },
   "outputs": [
    {
     "data": {
      "text/plain": [
       "(4, 5)"
      ]
     },
     "execution_count": 238,
     "metadata": {},
     "output_type": "execute_result"
    }
   ],
   "source": [
    "A.T.shape"
   ]
  },
  {
   "cell_type": "code",
   "execution_count": 239,
   "metadata": {
    "colab": {
     "base_uri": "https://localhost:8080/"
    },
    "executionInfo": {
     "elapsed": 37,
     "status": "ok",
     "timestamp": 1637847055012,
     "user": {
      "displayName": "heydy carrasco huaccha",
      "photoUrl": "https://lh3.googleusercontent.com/a-/AOh14GiGyezGgm9Px4LBw_sc7MFWfjUVhWWsvnAz1Ttg=s64",
      "userId": "00007591481982700116"
     },
     "user_tz": 300
    },
    "id": "Dt5r0uRnZ2pi",
    "outputId": "3fbea2ee-6a49-4d91-ea6f-ee571c16455d"
   },
   "outputs": [
    {
     "data": {
      "text/plain": [
       "233"
      ]
     },
     "execution_count": 239,
     "metadata": {},
     "output_type": "execute_result"
    }
   ],
   "source": [
    "A.T[2].sum()"
   ]
  },
  {
   "cell_type": "code",
   "execution_count": 240,
   "metadata": {
    "colab": {
     "base_uri": "https://localhost:8080/"
    },
    "executionInfo": {
     "elapsed": 36,
     "status": "ok",
     "timestamp": 1637847055012,
     "user": {
      "displayName": "heydy carrasco huaccha",
      "photoUrl": "https://lh3.googleusercontent.com/a-/AOh14GiGyezGgm9Px4LBw_sc7MFWfjUVhWWsvnAz1Ttg=s64",
      "userId": "00007591481982700116"
     },
     "user_tz": 300
    },
    "id": "GgEAhqPDain9",
    "outputId": "c01399fa-c146-42ea-e1af-466c9f10beaa"
   },
   "outputs": [
    {
     "data": {
      "text/plain": [
       "233"
      ]
     },
     "execution_count": 240,
     "metadata": {},
     "output_type": "execute_result"
    }
   ],
   "source": [
    "A[:,2].sum()"
   ]
  },
  {
   "cell_type": "code",
   "execution_count": 241,
   "metadata": {
    "executionInfo": {
     "elapsed": 35,
     "status": "ok",
     "timestamp": 1637847055013,
     "user": {
      "displayName": "heydy carrasco huaccha",
      "photoUrl": "https://lh3.googleusercontent.com/a-/AOh14GiGyezGgm9Px4LBw_sc7MFWfjUVhWWsvnAz1Ttg=s64",
      "userId": "00007591481982700116"
     },
     "user_tz": 300
    },
    "id": "ey0MtDjTuaMN"
   },
   "outputs": [],
   "source": [
    "A = a.reshape(5,4) #Filas, Columnas"
   ]
  },
  {
   "cell_type": "code",
   "execution_count": 242,
   "metadata": {
    "colab": {
     "base_uri": "https://localhost:8080/"
    },
    "executionInfo": {
     "elapsed": 35,
     "status": "ok",
     "timestamp": 1637847055013,
     "user": {
      "displayName": "heydy carrasco huaccha",
      "photoUrl": "https://lh3.googleusercontent.com/a-/AOh14GiGyezGgm9Px4LBw_sc7MFWfjUVhWWsvnAz1Ttg=s64",
      "userId": "00007591481982700116"
     },
     "user_tz": 300
    },
    "id": "SxcV2SArailL",
    "outputId": "02b6e4a6-9cae-4467-e1ea-493e92c4013b"
   },
   "outputs": [
    {
     "data": {
      "text/plain": [
       "array([ 7, 11, 15, 16, 22, 22, 23, 26, 32, 34, 36, 52, 55, 67, 70, 83, 85,\n",
       "       88, 89, 93])"
      ]
     },
     "execution_count": 242,
     "metadata": {},
     "output_type": "execute_result"
    }
   ],
   "source": [
    "A.flatten()\n",
    "# Diferencia de ravel y flatten !\n",
    "# https://frankgalandev.com/diferencias-entre-flatten-y-ravel-en-python/"
   ]
  },
  {
   "cell_type": "code",
   "execution_count": 243,
   "metadata": {
    "colab": {
     "base_uri": "https://localhost:8080/"
    },
    "executionInfo": {
     "elapsed": 34,
     "status": "ok",
     "timestamp": 1637847055013,
     "user": {
      "displayName": "heydy carrasco huaccha",
      "photoUrl": "https://lh3.googleusercontent.com/a-/AOh14GiGyezGgm9Px4LBw_sc7MFWfjUVhWWsvnAz1Ttg=s64",
      "userId": "00007591481982700116"
     },
     "user_tz": 300
    },
    "id": "feLkZZ_Waiir",
    "outputId": "d74f5804-d3a2-4c65-e53e-972be5f014db"
   },
   "outputs": [
    {
     "data": {
      "text/plain": [
       "array([3, 1, 4, 0, 4])"
      ]
     },
     "execution_count": 243,
     "metadata": {},
     "output_type": "execute_result"
    }
   ],
   "source": [
    "a = A.flatten()\n",
    "a = np.random.randint(0,5,5)\n",
    "a"
   ]
  },
  {
   "cell_type": "code",
   "execution_count": 244,
   "metadata": {
    "colab": {
     "base_uri": "https://localhost:8080/"
    },
    "executionInfo": {
     "elapsed": 33,
     "status": "ok",
     "timestamp": 1637847055013,
     "user": {
      "displayName": "heydy carrasco huaccha",
      "photoUrl": "https://lh3.googleusercontent.com/a-/AOh14GiGyezGgm9Px4LBw_sc7MFWfjUVhWWsvnAz1Ttg=s64",
      "userId": "00007591481982700116"
     },
     "user_tz": 300
    },
    "id": "NS1DMLr_aigL",
    "outputId": "d8e3d37a-fb43-4785-9e65-59073b31229c"
   },
   "outputs": [
    {
     "data": {
      "text/plain": [
       "array([3, 4, 0])"
      ]
     },
     "execution_count": 244,
     "metadata": {},
     "output_type": "execute_result"
    }
   ],
   "source": [
    "a[[0,4,3]]"
   ]
  },
  {
   "cell_type": "code",
   "execution_count": 245,
   "metadata": {
    "colab": {
     "base_uri": "https://localhost:8080/"
    },
    "executionInfo": {
     "elapsed": 31,
     "status": "ok",
     "timestamp": 1637847055013,
     "user": {
      "displayName": "heydy carrasco huaccha",
      "photoUrl": "https://lh3.googleusercontent.com/a-/AOh14GiGyezGgm9Px4LBw_sc7MFWfjUVhWWsvnAz1Ttg=s64",
      "userId": "00007591481982700116"
     },
     "user_tz": 300
    },
    "id": "xRFo4pdKaidc",
    "outputId": "dda4eadd-075d-4264-c5f9-b9dafbb0f19a"
   },
   "outputs": [
    {
     "data": {
      "text/plain": [
       "array([3, 1, 4])"
      ]
     },
     "execution_count": 245,
     "metadata": {},
     "output_type": "execute_result"
    }
   ],
   "source": [
    "a[[True,True,False,False,True]]"
   ]
  },
  {
   "cell_type": "code",
   "execution_count": 246,
   "metadata": {
    "executionInfo": {
     "elapsed": 31,
     "status": "ok",
     "timestamp": 1637847055014,
     "user": {
      "displayName": "heydy carrasco huaccha",
      "photoUrl": "https://lh3.googleusercontent.com/a-/AOh14GiGyezGgm9Px4LBw_sc7MFWfjUVhWWsvnAz1Ttg=s64",
      "userId": "00007591481982700116"
     },
     "user_tz": 300
    },
    "id": "ayQapCH7cauB"
   },
   "outputs": [],
   "source": [
    "# OPERADORES LOGICOS"
   ]
  },
  {
   "cell_type": "code",
   "execution_count": 247,
   "metadata": {
    "colab": {
     "base_uri": "https://localhost:8080/"
    },
    "executionInfo": {
     "elapsed": 31,
     "status": "ok",
     "timestamp": 1637847055014,
     "user": {
      "displayName": "heydy carrasco huaccha",
      "photoUrl": "https://lh3.googleusercontent.com/a-/AOh14GiGyezGgm9Px4LBw_sc7MFWfjUVhWWsvnAz1Ttg=s64",
      "userId": "00007591481982700116"
     },
     "user_tz": 300
    },
    "id": "WlIGtyIzcaq5",
    "outputId": "07aac870-67a1-471e-a667-2acdc4caf1ed"
   },
   "outputs": [
    {
     "data": {
      "text/plain": [
       "array([False, False, False,  True, False])"
      ]
     },
     "execution_count": 247,
     "metadata": {},
     "output_type": "execute_result"
    }
   ],
   "source": [
    "a<1"
   ]
  },
  {
   "cell_type": "code",
   "execution_count": 248,
   "metadata": {
    "colab": {
     "base_uri": "https://localhost:8080/"
    },
    "executionInfo": {
     "elapsed": 30,
     "status": "ok",
     "timestamp": 1637847055014,
     "user": {
      "displayName": "heydy carrasco huaccha",
      "photoUrl": "https://lh3.googleusercontent.com/a-/AOh14GiGyezGgm9Px4LBw_sc7MFWfjUVhWWsvnAz1Ttg=s64",
      "userId": "00007591481982700116"
     },
     "user_tz": 300
    },
    "id": "jUsagpgvcan5",
    "outputId": "4e372390-7d19-41cf-90fe-0f2c99165b3d"
   },
   "outputs": [
    {
     "data": {
      "text/plain": [
       "array([3, 4, 4])"
      ]
     },
     "execution_count": 248,
     "metadata": {},
     "output_type": "execute_result"
    }
   ],
   "source": [
    "a[a>1]"
   ]
  },
  {
   "cell_type": "code",
   "execution_count": 249,
   "metadata": {
    "executionInfo": {
     "elapsed": 28,
     "status": "ok",
     "timestamp": 1637847055014,
     "user": {
      "displayName": "heydy carrasco huaccha",
      "photoUrl": "https://lh3.googleusercontent.com/a-/AOh14GiGyezGgm9Px4LBw_sc7MFWfjUVhWWsvnAz1Ttg=s64",
      "userId": "00007591481982700116"
     },
     "user_tz": 300
    },
    "id": "H2I3s9Xqczdv"
   },
   "outputs": [],
   "source": [
    "a = np.random.randint(0, 100, 200)\n",
    "# a"
   ]
  },
  {
   "cell_type": "code",
   "execution_count": 250,
   "metadata": {
    "colab": {
     "base_uri": "https://localhost:8080/"
    },
    "executionInfo": {
     "elapsed": 28,
     "status": "ok",
     "timestamp": 1637847055014,
     "user": {
      "displayName": "heydy carrasco huaccha",
      "photoUrl": "https://lh3.googleusercontent.com/a-/AOh14GiGyezGgm9Px4LBw_sc7MFWfjUVhWWsvnAz1Ttg=s64",
      "userId": "00007591481982700116"
     },
     "user_tz": 300
    },
    "id": "UNTBUTk1czae",
    "outputId": "a55836f3-ee01-4549-c543-0a749017a8da"
   },
   "outputs": [
    {
     "data": {
      "text/plain": [
       "array([70, 65, 70, 68, 61, 67, 78, 58, 60, 75, 53, 51, 57, 68, 68, 52, 74,\n",
       "       69, 61, 79, 73, 67, 55, 58, 64, 73, 58, 61, 63, 54, 56, 68, 69, 60,\n",
       "       59, 64, 54, 56, 66, 79, 59, 79, 55, 78, 76, 58, 59, 73, 78, 79, 56,\n",
       "       79, 54, 70, 54, 68, 77, 78])"
      ]
     },
     "execution_count": 250,
     "metadata": {},
     "output_type": "execute_result"
    }
   ],
   "source": [
    "a[(a>50) & (a<80)]"
   ]
  },
  {
   "cell_type": "code",
   "execution_count": 251,
   "metadata": {
    "colab": {
     "base_uri": "https://localhost:8080/"
    },
    "executionInfo": {
     "elapsed": 28,
     "status": "ok",
     "timestamp": 1637847055015,
     "user": {
      "displayName": "heydy carrasco huaccha",
      "photoUrl": "https://lh3.googleusercontent.com/a-/AOh14GiGyezGgm9Px4LBw_sc7MFWfjUVhWWsvnAz1Ttg=s64",
      "userId": "00007591481982700116"
     },
     "user_tz": 300
    },
    "id": "m3aYEJ4FmBSV",
    "outputId": "44fcc0ad-2341-4189-fe94-3ca8dcbcf334"
   },
   "outputs": [
    {
     "data": {
      "text/plain": [
       "array([ 5,  8, 11, 14, 17])"
      ]
     },
     "execution_count": 251,
     "metadata": {},
     "output_type": "execute_result"
    }
   ],
   "source": [
    "np.arange(5,20,3)"
   ]
  },
  {
   "cell_type": "code",
   "execution_count": null,
   "metadata": {
    "executionInfo": {
     "elapsed": 27,
     "status": "ok",
     "timestamp": 1637847055015,
     "user": {
      "displayName": "heydy carrasco huaccha",
      "photoUrl": "https://lh3.googleusercontent.com/a-/AOh14GiGyezGgm9Px4LBw_sc7MFWfjUVhWWsvnAz1Ttg=s64",
      "userId": "00007591481982700116"
     },
     "user_tz": 300
    },
    "id": "2-yyV9KEmBPe"
   },
   "outputs": [],
   "source": []
  },
  {
   "cell_type": "code",
   "execution_count": null,
   "metadata": {
    "executionInfo": {
     "elapsed": 26,
     "status": "ok",
     "timestamp": 1637847055015,
     "user": {
      "displayName": "heydy carrasco huaccha",
      "photoUrl": "https://lh3.googleusercontent.com/a-/AOh14GiGyezGgm9Px4LBw_sc7MFWfjUVhWWsvnAz1Ttg=s64",
      "userId": "00007591481982700116"
     },
     "user_tz": 300
    },
    "id": "dAo4m3ZLmBM7"
   },
   "outputs": [],
   "source": []
  },
  {
   "cell_type": "markdown",
   "metadata": {
    "id": "R-Ouc_DUnnXG"
   },
   "source": [
    "# Pandas\n",
    "* Dataframe son arreglos pero con esteroides\n",
    "* Pandas si usa numpys por eso es necesario primero aprender numpy"
   ]
  },
  {
   "cell_type": "code",
   "execution_count": 252,
   "metadata": {
    "executionInfo": {
     "elapsed": 26,
     "status": "ok",
     "timestamp": 1637847055015,
     "user": {
      "displayName": "heydy carrasco huaccha",
      "photoUrl": "https://lh3.googleusercontent.com/a-/AOh14GiGyezGgm9Px4LBw_sc7MFWfjUVhWWsvnAz1Ttg=s64",
      "userId": "00007591481982700116"
     },
     "user_tz": 300
    },
    "id": "j5dg4rxRoh-t"
   },
   "outputs": [],
   "source": [
    "#importando pandas\n",
    "import pandas as pd"
   ]
  },
  {
   "cell_type": "code",
   "execution_count": 253,
   "metadata": {
    "executionInfo": {
     "elapsed": 27,
     "status": "ok",
     "timestamp": 1637847055016,
     "user": {
      "displayName": "heydy carrasco huaccha",
      "photoUrl": "https://lh3.googleusercontent.com/a-/AOh14GiGyezGgm9Px4LBw_sc7MFWfjUVhWWsvnAz1Ttg=s64",
      "userId": "00007591481982700116"
     },
     "user_tz": 300
    },
    "id": "ZEkjfRKvpqN2"
   },
   "outputs": [],
   "source": [
    "# url = 'https://raw.githubusercontent.com/codigofacilito/pandas-python/master/users.csv'  # URL REPO PROFE\n",
    "# url = 'https://raw.githubusercontent.com/MayumyCH/bootcamp_ciencia_de_datos/main/modulos/02.%20Introduccion%20al%20computo/Introduccion%20al%20analisis%20de%20datos%20con%20Python/datasets/user.csv'  # URL REPO bootcamp\n",
    "url = 'https://raw.githubusercontent.com/MayumyCH/bootcamp_ciencia_de_datos/main/modulos/02.%20Intro%20al%20computo%20cientifico/datasets/user.csv'\n",
    "# url = './user.csv' # URL de data cargada de mi maquina\n",
    "# data = pd.read_csv(url, index_col='id')\n",
    "data = pd.read_csv(url, index_col=0)"
   ]
  },
  {
   "cell_type": "code",
   "execution_count": 254,
   "metadata": {
    "colab": {
     "base_uri": "https://localhost:8080/",
     "height": 174
    },
    "executionInfo": {
     "elapsed": 27,
     "status": "ok",
     "timestamp": 1637847055016,
     "user": {
      "displayName": "heydy carrasco huaccha",
      "photoUrl": "https://lh3.googleusercontent.com/a-/AOh14GiGyezGgm9Px4LBw_sc7MFWfjUVhWWsvnAz1Ttg=s64",
      "userId": "00007591481982700116"
     },
     "user_tz": 300
    },
    "id": "25FzaY0BpqK3",
    "outputId": "40fc8c0f-b21a-499e-eb68-fd41105c3ce5"
   },
   "outputs": [
    {
     "data": {
      "text/html": [
       "<div>\n",
       "<style scoped>\n",
       "    .dataframe tbody tr th:only-of-type {\n",
       "        vertical-align: middle;\n",
       "    }\n",
       "\n",
       "    .dataframe tbody tr th {\n",
       "        vertical-align: top;\n",
       "    }\n",
       "\n",
       "    .dataframe thead th {\n",
       "        text-align: right;\n",
       "    }\n",
       "</style>\n",
       "<table border=\"1\" class=\"dataframe\">\n",
       "  <thead>\n",
       "    <tr style=\"text-align: right;\">\n",
       "      <th></th>\n",
       "      <th>name</th>\n",
       "      <th>age</th>\n",
       "      <th>gender</th>\n",
       "      <th>country</th>\n",
       "      <th>email</th>\n",
       "    </tr>\n",
       "    <tr>\n",
       "      <th>id</th>\n",
       "      <th></th>\n",
       "      <th></th>\n",
       "      <th></th>\n",
       "      <th></th>\n",
       "      <th></th>\n",
       "    </tr>\n",
       "  </thead>\n",
       "  <tbody>\n",
       "    <tr>\n",
       "      <th>0</th>\n",
       "      <td>Mr Jerome Thomas</td>\n",
       "      <td>NaN</td>\n",
       "      <td>male</td>\n",
       "      <td>United States</td>\n",
       "      <td>NaN</td>\n",
       "    </tr>\n",
       "    <tr>\n",
       "      <th>1</th>\n",
       "      <td>NaN</td>\n",
       "      <td>70.0</td>\n",
       "      <td>male</td>\n",
       "      <td>NaN</td>\n",
       "      <td>NaN</td>\n",
       "    </tr>\n",
       "    <tr>\n",
       "      <th>2</th>\n",
       "      <td>Mr Noham Dubois</td>\n",
       "      <td>40.0</td>\n",
       "      <td>male</td>\n",
       "      <td>France</td>\n",
       "      <td>noham.dubois@example.com</td>\n",
       "    </tr>\n",
       "  </tbody>\n",
       "</table>\n",
       "</div>"
      ],
      "text/plain": [
       "                name   age gender        country                     email\n",
       "id                                                                        \n",
       "0   Mr Jerome Thomas   NaN   male  United States                       NaN\n",
       "1                NaN  70.0   male            NaN                       NaN\n",
       "2    Mr Noham Dubois  40.0   male         France  noham.dubois@example.com"
      ]
     },
     "execution_count": 254,
     "metadata": {},
     "output_type": "execute_result"
    }
   ],
   "source": [
    "# Los primeros 3 elementos de la data\n",
    "data.head(3)"
   ]
  },
  {
   "cell_type": "code",
   "execution_count": 255,
   "metadata": {
    "colab": {
     "base_uri": "https://localhost:8080/",
     "height": 174
    },
    "executionInfo": {
     "elapsed": 26,
     "status": "ok",
     "timestamp": 1637847055016,
     "user": {
      "displayName": "heydy carrasco huaccha",
      "photoUrl": "https://lh3.googleusercontent.com/a-/AOh14GiGyezGgm9Px4LBw_sc7MFWfjUVhWWsvnAz1Ttg=s64",
      "userId": "00007591481982700116"
     },
     "user_tz": 300
    },
    "id": "gvA_zkIgpqH-",
    "outputId": "38d775e1-8fc5-40b7-c6fa-c7ab13e169b3"
   },
   "outputs": [
    {
     "data": {
      "text/html": [
       "<div>\n",
       "<style scoped>\n",
       "    .dataframe tbody tr th:only-of-type {\n",
       "        vertical-align: middle;\n",
       "    }\n",
       "\n",
       "    .dataframe tbody tr th {\n",
       "        vertical-align: top;\n",
       "    }\n",
       "\n",
       "    .dataframe thead th {\n",
       "        text-align: right;\n",
       "    }\n",
       "</style>\n",
       "<table border=\"1\" class=\"dataframe\">\n",
       "  <thead>\n",
       "    <tr style=\"text-align: right;\">\n",
       "      <th></th>\n",
       "      <th>name</th>\n",
       "      <th>age</th>\n",
       "      <th>gender</th>\n",
       "      <th>country</th>\n",
       "      <th>email</th>\n",
       "    </tr>\n",
       "    <tr>\n",
       "      <th>id</th>\n",
       "      <th></th>\n",
       "      <th></th>\n",
       "      <th></th>\n",
       "      <th></th>\n",
       "      <th></th>\n",
       "    </tr>\n",
       "  </thead>\n",
       "  <tbody>\n",
       "    <tr>\n",
       "      <th>197</th>\n",
       "      <td>Mr Gabriel Berger</td>\n",
       "      <td>40.0</td>\n",
       "      <td>male</td>\n",
       "      <td>France</td>\n",
       "      <td>gabriel.berger@example.com</td>\n",
       "    </tr>\n",
       "    <tr>\n",
       "      <th>198</th>\n",
       "      <td>Mrs Ülkü Tanrıkulu</td>\n",
       "      <td>37.0</td>\n",
       "      <td>female</td>\n",
       "      <td>Turkey</td>\n",
       "      <td>ulku.tanrikulu@example.com</td>\n",
       "    </tr>\n",
       "    <tr>\n",
       "      <th>199</th>\n",
       "      <td>Mr Raff Valkema</td>\n",
       "      <td>60.0</td>\n",
       "      <td>male</td>\n",
       "      <td>Netherlands</td>\n",
       "      <td>raff.valkema@example.com</td>\n",
       "    </tr>\n",
       "  </tbody>\n",
       "</table>\n",
       "</div>"
      ],
      "text/plain": [
       "                   name   age  gender      country                       email\n",
       "id                                                                            \n",
       "197   Mr Gabriel Berger  40.0    male       France  gabriel.berger@example.com\n",
       "198  Mrs Ülkü Tanrıkulu  37.0  female       Turkey  ulku.tanrikulu@example.com\n",
       "199     Mr Raff Valkema  60.0    male  Netherlands    raff.valkema@example.com"
      ]
     },
     "execution_count": 255,
     "metadata": {},
     "output_type": "execute_result"
    }
   ],
   "source": [
    "data.tail(3)"
   ]
  },
  {
   "cell_type": "code",
   "execution_count": 256,
   "metadata": {
    "colab": {
     "base_uri": "https://localhost:8080/"
    },
    "executionInfo": {
     "elapsed": 26,
     "status": "ok",
     "timestamp": 1637847055016,
     "user": {
      "displayName": "heydy carrasco huaccha",
      "photoUrl": "https://lh3.googleusercontent.com/a-/AOh14GiGyezGgm9Px4LBw_sc7MFWfjUVhWWsvnAz1Ttg=s64",
      "userId": "00007591481982700116"
     },
     "user_tz": 300
    },
    "id": "PMyVBPGLm4t4",
    "outputId": "7f3e2c13-7e87-4e03-ef4c-25c12e670edc"
   },
   "outputs": [
    {
     "data": {
      "text/plain": [
       "id\n",
       "0       NaN\n",
       "1      70.0\n",
       "2      40.0\n",
       "3      63.0\n",
       "4      61.0\n",
       "       ... \n",
       "195    46.0\n",
       "196    40.0\n",
       "197    40.0\n",
       "198    37.0\n",
       "199    60.0\n",
       "Name: age, Length: 200, dtype: float64"
      ]
     },
     "execution_count": 256,
     "metadata": {},
     "output_type": "execute_result"
    }
   ],
   "source": [
    "data['name']\n",
    "data['age']\n",
    "data.age"
   ]
  },
  {
   "cell_type": "markdown",
   "metadata": {
    "id": "o6vUJ-IEsa2U"
   },
   "source": [
    "## LOC AND ILOC"
   ]
  },
  {
   "cell_type": "code",
   "execution_count": 257,
   "metadata": {
    "colab": {
     "base_uri": "https://localhost:8080/"
    },
    "executionInfo": {
     "elapsed": 23,
     "status": "ok",
     "timestamp": 1637847055016,
     "user": {
      "displayName": "heydy carrasco huaccha",
      "photoUrl": "https://lh3.googleusercontent.com/a-/AOh14GiGyezGgm9Px4LBw_sc7MFWfjUVhWWsvnAz1Ttg=s64",
      "userId": "00007591481982700116"
     },
     "user_tz": 300
    },
    "id": "QrkElabKsabX",
    "outputId": "5017b51c-ef4b-4158-8d87-e104093030a3"
   },
   "outputs": [
    {
     "data": {
      "text/plain": [
       "name                Mr Damien Marchand\n",
       "age                               61.0\n",
       "gender                            male\n",
       "country                         France\n",
       "email      damien.marchand@example.com\n",
       "Name: 4, dtype: object"
      ]
     },
     "execution_count": 257,
     "metadata": {},
     "output_type": "execute_result"
    }
   ],
   "source": [
    "# INDICE\n",
    "data.iloc[4]"
   ]
  },
  {
   "cell_type": "code",
   "execution_count": 258,
   "metadata": {
    "colab": {
     "base_uri": "https://localhost:8080/",
     "height": 174
    },
    "executionInfo": {
     "elapsed": 22,
     "status": "ok",
     "timestamp": 1637847055017,
     "user": {
      "displayName": "heydy carrasco huaccha",
      "photoUrl": "https://lh3.googleusercontent.com/a-/AOh14GiGyezGgm9Px4LBw_sc7MFWfjUVhWWsvnAz1Ttg=s64",
      "userId": "00007591481982700116"
     },
     "user_tz": 300
    },
    "id": "dU6tqm1usXlN",
    "outputId": "2495274c-942d-447f-d0f8-bab6b5c07f36"
   },
   "outputs": [
    {
     "data": {
      "text/html": [
       "<div>\n",
       "<style scoped>\n",
       "    .dataframe tbody tr th:only-of-type {\n",
       "        vertical-align: middle;\n",
       "    }\n",
       "\n",
       "    .dataframe tbody tr th {\n",
       "        vertical-align: top;\n",
       "    }\n",
       "\n",
       "    .dataframe thead th {\n",
       "        text-align: right;\n",
       "    }\n",
       "</style>\n",
       "<table border=\"1\" class=\"dataframe\">\n",
       "  <thead>\n",
       "    <tr style=\"text-align: right;\">\n",
       "      <th></th>\n",
       "      <th>name</th>\n",
       "      <th>age</th>\n",
       "      <th>gender</th>\n",
       "      <th>country</th>\n",
       "      <th>email</th>\n",
       "    </tr>\n",
       "    <tr>\n",
       "      <th>id</th>\n",
       "      <th></th>\n",
       "      <th></th>\n",
       "      <th></th>\n",
       "      <th></th>\n",
       "      <th></th>\n",
       "    </tr>\n",
       "  </thead>\n",
       "  <tbody>\n",
       "    <tr>\n",
       "      <th>4</th>\n",
       "      <td>Mr Damien Marchand</td>\n",
       "      <td>61.0</td>\n",
       "      <td>male</td>\n",
       "      <td>France</td>\n",
       "      <td>damien.marchand@example.com</td>\n",
       "    </tr>\n",
       "    <tr>\n",
       "      <th>5</th>\n",
       "      <td>Mr Harri Althoff</td>\n",
       "      <td>56.0</td>\n",
       "      <td>male</td>\n",
       "      <td>Germany</td>\n",
       "      <td>harri.althoff@example.com</td>\n",
       "    </tr>\n",
       "    <tr>\n",
       "      <th>6</th>\n",
       "      <td>Mr Noah Olsen</td>\n",
       "      <td>40.0</td>\n",
       "      <td>male</td>\n",
       "      <td>Denmark</td>\n",
       "      <td>noah.olsen@example.com</td>\n",
       "    </tr>\n",
       "  </tbody>\n",
       "</table>\n",
       "</div>"
      ],
      "text/plain": [
       "                  name   age gender  country                        email\n",
       "id                                                                       \n",
       "4   Mr Damien Marchand  61.0   male   France  damien.marchand@example.com\n",
       "5     Mr Harri Althoff  56.0   male  Germany    harri.althoff@example.com\n",
       "6        Mr Noah Olsen  40.0   male  Denmark       noah.olsen@example.com"
      ]
     },
     "execution_count": 258,
     "metadata": {},
     "output_type": "execute_result"
    }
   ],
   "source": [
    "# INDICE\n",
    "C = data.iloc[[4,5,6]]\n",
    "C"
   ]
  },
  {
   "cell_type": "code",
   "execution_count": 259,
   "metadata": {
    "colab": {
     "base_uri": "https://localhost:8080/"
    },
    "executionInfo": {
     "elapsed": 22,
     "status": "ok",
     "timestamp": 1637847055017,
     "user": {
      "displayName": "heydy carrasco huaccha",
      "photoUrl": "https://lh3.googleusercontent.com/a-/AOh14GiGyezGgm9Px4LBw_sc7MFWfjUVhWWsvnAz1Ttg=s64",
      "userId": "00007591481982700116"
     },
     "user_tz": 300
    },
    "id": "BVqSaZBqsXiA",
    "outputId": "54f3fe52-8b50-412d-96a2-e9744a0227d5"
   },
   "outputs": [
    {
     "data": {
      "text/plain": [
       "pandas.core.frame.DataFrame"
      ]
     },
     "execution_count": 259,
     "metadata": {},
     "output_type": "execute_result"
    }
   ],
   "source": [
    "type(C)"
   ]
  },
  {
   "cell_type": "code",
   "execution_count": 260,
   "metadata": {
    "colab": {
     "base_uri": "https://localhost:8080/"
    },
    "executionInfo": {
     "elapsed": 20,
     "status": "ok",
     "timestamp": 1637847055017,
     "user": {
      "displayName": "heydy carrasco huaccha",
      "photoUrl": "https://lh3.googleusercontent.com/a-/AOh14GiGyezGgm9Px4LBw_sc7MFWfjUVhWWsvnAz1Ttg=s64",
      "userId": "00007591481982700116"
     },
     "user_tz": 300
    },
    "id": "1Au2rk6asXfU",
    "outputId": "edefe26a-a2b0-4adf-cb01-41dba48577c2"
   },
   "outputs": [
    {
     "data": {
      "text/plain": [
       "pandas.core.series.Series"
      ]
     },
     "execution_count": 260,
     "metadata": {},
     "output_type": "execute_result"
    }
   ],
   "source": [
    "C = data.iloc[4]\n",
    "type(C)"
   ]
  },
  {
   "cell_type": "code",
   "execution_count": 261,
   "metadata": {
    "executionInfo": {
     "elapsed": 18,
     "status": "ok",
     "timestamp": 1637847055017,
     "user": {
      "displayName": "heydy carrasco huaccha",
      "photoUrl": "https://lh3.googleusercontent.com/a-/AOh14GiGyezGgm9Px4LBw_sc7MFWfjUVhWWsvnAz1Ttg=s64",
      "userId": "00007591481982700116"
     },
     "user_tz": 300
    },
    "id": "C3e9837Iu6bh"
   },
   "outputs": [],
   "source": [
    "# data"
   ]
  },
  {
   "cell_type": "code",
   "execution_count": 262,
   "metadata": {
    "colab": {
     "base_uri": "https://localhost:8080/",
     "height": 455
    },
    "executionInfo": {
     "elapsed": 18,
     "status": "ok",
     "timestamp": 1637847055017,
     "user": {
      "displayName": "heydy carrasco huaccha",
      "photoUrl": "https://lh3.googleusercontent.com/a-/AOh14GiGyezGgm9Px4LBw_sc7MFWfjUVhWWsvnAz1Ttg=s64",
      "userId": "00007591481982700116"
     },
     "user_tz": 300
    },
    "id": "o0XStL_3tuB_",
    "outputId": "c4c491a8-c201-4d8c-b83f-a61a26c28467"
   },
   "outputs": [
    {
     "data": {
      "text/html": [
       "<div>\n",
       "<style scoped>\n",
       "    .dataframe tbody tr th:only-of-type {\n",
       "        vertical-align: middle;\n",
       "    }\n",
       "\n",
       "    .dataframe tbody tr th {\n",
       "        vertical-align: top;\n",
       "    }\n",
       "\n",
       "    .dataframe thead th {\n",
       "        text-align: right;\n",
       "    }\n",
       "</style>\n",
       "<table border=\"1\" class=\"dataframe\">\n",
       "  <thead>\n",
       "    <tr style=\"text-align: right;\">\n",
       "      <th></th>\n",
       "      <th>name</th>\n",
       "      <th>age</th>\n",
       "      <th>gender</th>\n",
       "      <th>country</th>\n",
       "      <th>email</th>\n",
       "    </tr>\n",
       "    <tr>\n",
       "      <th>id</th>\n",
       "      <th></th>\n",
       "      <th></th>\n",
       "      <th></th>\n",
       "      <th></th>\n",
       "      <th></th>\n",
       "    </tr>\n",
       "  </thead>\n",
       "  <tbody>\n",
       "    <tr>\n",
       "      <th>2</th>\n",
       "      <td>Mr Noham Dubois</td>\n",
       "      <td>40.0</td>\n",
       "      <td>male</td>\n",
       "      <td>France</td>\n",
       "      <td>noham.dubois@example.com</td>\n",
       "    </tr>\n",
       "    <tr>\n",
       "      <th>3</th>\n",
       "      <td>Mrs Naja Johansen</td>\n",
       "      <td>63.0</td>\n",
       "      <td>female</td>\n",
       "      <td>Denmark</td>\n",
       "      <td>naja.johansen@example.com</td>\n",
       "    </tr>\n",
       "    <tr>\n",
       "      <th>4</th>\n",
       "      <td>Mr Damien Marchand</td>\n",
       "      <td>61.0</td>\n",
       "      <td>male</td>\n",
       "      <td>France</td>\n",
       "      <td>damien.marchand@example.com</td>\n",
       "    </tr>\n",
       "    <tr>\n",
       "      <th>5</th>\n",
       "      <td>Mr Harri Althoff</td>\n",
       "      <td>56.0</td>\n",
       "      <td>male</td>\n",
       "      <td>Germany</td>\n",
       "      <td>harri.althoff@example.com</td>\n",
       "    </tr>\n",
       "    <tr>\n",
       "      <th>6</th>\n",
       "      <td>Mr Noah Olsen</td>\n",
       "      <td>40.0</td>\n",
       "      <td>male</td>\n",
       "      <td>Denmark</td>\n",
       "      <td>noah.olsen@example.com</td>\n",
       "    </tr>\n",
       "    <tr>\n",
       "      <th>...</th>\n",
       "      <td>...</td>\n",
       "      <td>...</td>\n",
       "      <td>...</td>\n",
       "      <td>...</td>\n",
       "      <td>...</td>\n",
       "    </tr>\n",
       "    <tr>\n",
       "      <th>195</th>\n",
       "      <td>Mr Raul Bravo</td>\n",
       "      <td>46.0</td>\n",
       "      <td>male</td>\n",
       "      <td>Spain</td>\n",
       "      <td>raul.bravo@example.com</td>\n",
       "    </tr>\n",
       "    <tr>\n",
       "      <th>196</th>\n",
       "      <td>Miss Maeva Fortin</td>\n",
       "      <td>40.0</td>\n",
       "      <td>female</td>\n",
       "      <td>Canada</td>\n",
       "      <td>maeva.fortin@example.com</td>\n",
       "    </tr>\n",
       "    <tr>\n",
       "      <th>197</th>\n",
       "      <td>Mr Gabriel Berger</td>\n",
       "      <td>40.0</td>\n",
       "      <td>male</td>\n",
       "      <td>France</td>\n",
       "      <td>gabriel.berger@example.com</td>\n",
       "    </tr>\n",
       "    <tr>\n",
       "      <th>198</th>\n",
       "      <td>Mrs Ülkü Tanrıkulu</td>\n",
       "      <td>37.0</td>\n",
       "      <td>female</td>\n",
       "      <td>Turkey</td>\n",
       "      <td>ulku.tanrikulu@example.com</td>\n",
       "    </tr>\n",
       "    <tr>\n",
       "      <th>199</th>\n",
       "      <td>Mr Raff Valkema</td>\n",
       "      <td>60.0</td>\n",
       "      <td>male</td>\n",
       "      <td>Netherlands</td>\n",
       "      <td>raff.valkema@example.com</td>\n",
       "    </tr>\n",
       "  </tbody>\n",
       "</table>\n",
       "<p>198 rows × 5 columns</p>\n",
       "</div>"
      ],
      "text/plain": [
       "                   name   age  gender      country  \\\n",
       "id                                                   \n",
       "2       Mr Noham Dubois  40.0    male       France   \n",
       "3     Mrs Naja Johansen  63.0  female      Denmark   \n",
       "4    Mr Damien Marchand  61.0    male       France   \n",
       "5      Mr Harri Althoff  56.0    male      Germany   \n",
       "6         Mr Noah Olsen  40.0    male      Denmark   \n",
       "..                  ...   ...     ...          ...   \n",
       "195       Mr Raul Bravo  46.0    male        Spain   \n",
       "196   Miss Maeva Fortin  40.0  female       Canada   \n",
       "197   Mr Gabriel Berger  40.0    male       France   \n",
       "198  Mrs Ülkü Tanrıkulu  37.0  female       Turkey   \n",
       "199     Mr Raff Valkema  60.0    male  Netherlands   \n",
       "\n",
       "                           email  \n",
       "id                                \n",
       "2       noham.dubois@example.com  \n",
       "3      naja.johansen@example.com  \n",
       "4    damien.marchand@example.com  \n",
       "5      harri.althoff@example.com  \n",
       "6         noah.olsen@example.com  \n",
       "..                           ...  \n",
       "195       raul.bravo@example.com  \n",
       "196     maeva.fortin@example.com  \n",
       "197   gabriel.berger@example.com  \n",
       "198   ulku.tanrikulu@example.com  \n",
       "199     raff.valkema@example.com  \n",
       "\n",
       "[198 rows x 5 columns]"
      ]
     },
     "execution_count": 262,
     "metadata": {},
     "output_type": "execute_result"
    }
   ],
   "source": [
    "# data.loc['Mr Harri Althoff']\n",
    "#quitando NaN\n",
    "data = data.dropna()\n",
    "data"
   ]
  },
  {
   "cell_type": "markdown",
   "metadata": {
    "id": "1Nk54m6EvXFz"
   },
   "source": [
    "## Ejercicios en clase:\n",
    "\n",
    "![]()"
   ]
  },
  {
   "cell_type": "code",
   "execution_count": 263,
   "metadata": {
    "executionInfo": {
     "elapsed": 19,
     "status": "ok",
     "timestamp": 1637847055018,
     "user": {
      "displayName": "heydy carrasco huaccha",
      "photoUrl": "https://lh3.googleusercontent.com/a-/AOh14GiGyezGgm9Px4LBw_sc7MFWfjUVhWWsvnAz1Ttg=s64",
      "userId": "00007591481982700116"
     },
     "user_tz": 300
    },
    "id": "19LfFfMtvToR"
   },
   "outputs": [],
   "source": [
    "# url = 'https://raw.githubusercontent.com/MayumyCH/bootcamp_ciencia_de_datos/main/modulos/02.%20Introduccion%20al%20computo/Introduccion%20al%20analisis%20de%20datos%20con%20Python/datasets/user.csv'  # URL REPO bootcamp\n",
    "url = 'https://raw.githubusercontent.com/MayumyCH/bootcamp_ciencia_de_datos/main/modulos/02.%20Intro%20al%20computo%20cientifico/datasets/user.csv'\n",
    "\n",
    "data = pd.read_csv(url, index_col='name')"
   ]
  },
  {
   "cell_type": "code",
   "execution_count": 264,
   "metadata": {
    "colab": {
     "base_uri": "https://localhost:8080/",
     "height": 455
    },
    "executionInfo": {
     "elapsed": 18,
     "status": "ok",
     "timestamp": 1637847055018,
     "user": {
      "displayName": "heydy carrasco huaccha",
      "photoUrl": "https://lh3.googleusercontent.com/a-/AOh14GiGyezGgm9Px4LBw_sc7MFWfjUVhWWsvnAz1Ttg=s64",
      "userId": "00007591481982700116"
     },
     "user_tz": 300
    },
    "id": "zjR1uog2tt_Y",
    "outputId": "2fc35a8d-6695-4071-e014-1ad60410b9e4"
   },
   "outputs": [
    {
     "data": {
      "text/html": [
       "<div>\n",
       "<style scoped>\n",
       "    .dataframe tbody tr th:only-of-type {\n",
       "        vertical-align: middle;\n",
       "    }\n",
       "\n",
       "    .dataframe tbody tr th {\n",
       "        vertical-align: top;\n",
       "    }\n",
       "\n",
       "    .dataframe thead th {\n",
       "        text-align: right;\n",
       "    }\n",
       "</style>\n",
       "<table border=\"1\" class=\"dataframe\">\n",
       "  <thead>\n",
       "    <tr style=\"text-align: right;\">\n",
       "      <th></th>\n",
       "      <th>id</th>\n",
       "      <th>age</th>\n",
       "      <th>gender</th>\n",
       "      <th>country</th>\n",
       "      <th>email</th>\n",
       "    </tr>\n",
       "    <tr>\n",
       "      <th>name</th>\n",
       "      <th></th>\n",
       "      <th></th>\n",
       "      <th></th>\n",
       "      <th></th>\n",
       "      <th></th>\n",
       "    </tr>\n",
       "  </thead>\n",
       "  <tbody>\n",
       "    <tr>\n",
       "      <th>Mr Jerome Thomas</th>\n",
       "      <td>0</td>\n",
       "      <td>NaN</td>\n",
       "      <td>male</td>\n",
       "      <td>United States</td>\n",
       "      <td>NaN</td>\n",
       "    </tr>\n",
       "    <tr>\n",
       "      <th>NaN</th>\n",
       "      <td>1</td>\n",
       "      <td>70.0</td>\n",
       "      <td>male</td>\n",
       "      <td>NaN</td>\n",
       "      <td>NaN</td>\n",
       "    </tr>\n",
       "    <tr>\n",
       "      <th>Mr Noham Dubois</th>\n",
       "      <td>2</td>\n",
       "      <td>40.0</td>\n",
       "      <td>male</td>\n",
       "      <td>France</td>\n",
       "      <td>noham.dubois@example.com</td>\n",
       "    </tr>\n",
       "    <tr>\n",
       "      <th>Mrs Naja Johansen</th>\n",
       "      <td>3</td>\n",
       "      <td>63.0</td>\n",
       "      <td>female</td>\n",
       "      <td>Denmark</td>\n",
       "      <td>naja.johansen@example.com</td>\n",
       "    </tr>\n",
       "    <tr>\n",
       "      <th>Mr Damien Marchand</th>\n",
       "      <td>4</td>\n",
       "      <td>61.0</td>\n",
       "      <td>male</td>\n",
       "      <td>France</td>\n",
       "      <td>damien.marchand@example.com</td>\n",
       "    </tr>\n",
       "    <tr>\n",
       "      <th>...</th>\n",
       "      <td>...</td>\n",
       "      <td>...</td>\n",
       "      <td>...</td>\n",
       "      <td>...</td>\n",
       "      <td>...</td>\n",
       "    </tr>\n",
       "    <tr>\n",
       "      <th>Mr Raul Bravo</th>\n",
       "      <td>195</td>\n",
       "      <td>46.0</td>\n",
       "      <td>male</td>\n",
       "      <td>Spain</td>\n",
       "      <td>raul.bravo@example.com</td>\n",
       "    </tr>\n",
       "    <tr>\n",
       "      <th>Miss Maeva Fortin</th>\n",
       "      <td>196</td>\n",
       "      <td>40.0</td>\n",
       "      <td>female</td>\n",
       "      <td>Canada</td>\n",
       "      <td>maeva.fortin@example.com</td>\n",
       "    </tr>\n",
       "    <tr>\n",
       "      <th>Mr Gabriel Berger</th>\n",
       "      <td>197</td>\n",
       "      <td>40.0</td>\n",
       "      <td>male</td>\n",
       "      <td>France</td>\n",
       "      <td>gabriel.berger@example.com</td>\n",
       "    </tr>\n",
       "    <tr>\n",
       "      <th>Mrs Ülkü Tanrıkulu</th>\n",
       "      <td>198</td>\n",
       "      <td>37.0</td>\n",
       "      <td>female</td>\n",
       "      <td>Turkey</td>\n",
       "      <td>ulku.tanrikulu@example.com</td>\n",
       "    </tr>\n",
       "    <tr>\n",
       "      <th>Mr Raff Valkema</th>\n",
       "      <td>199</td>\n",
       "      <td>60.0</td>\n",
       "      <td>male</td>\n",
       "      <td>Netherlands</td>\n",
       "      <td>raff.valkema@example.com</td>\n",
       "    </tr>\n",
       "  </tbody>\n",
       "</table>\n",
       "<p>200 rows × 5 columns</p>\n",
       "</div>"
      ],
      "text/plain": [
       "                     id   age  gender        country  \\\n",
       "name                                                   \n",
       "Mr Jerome Thomas      0   NaN    male  United States   \n",
       "NaN                   1  70.0    male            NaN   \n",
       "Mr Noham Dubois       2  40.0    male         France   \n",
       "Mrs Naja Johansen     3  63.0  female        Denmark   \n",
       "Mr Damien Marchand    4  61.0    male         France   \n",
       "...                 ...   ...     ...            ...   \n",
       "Mr Raul Bravo       195  46.0    male          Spain   \n",
       "Miss Maeva Fortin   196  40.0  female         Canada   \n",
       "Mr Gabriel Berger   197  40.0    male         France   \n",
       "Mrs Ülkü Tanrıkulu  198  37.0  female         Turkey   \n",
       "Mr Raff Valkema     199  60.0    male    Netherlands   \n",
       "\n",
       "                                          email  \n",
       "name                                             \n",
       "Mr Jerome Thomas                            NaN  \n",
       "NaN                                         NaN  \n",
       "Mr Noham Dubois        noham.dubois@example.com  \n",
       "Mrs Naja Johansen     naja.johansen@example.com  \n",
       "Mr Damien Marchand  damien.marchand@example.com  \n",
       "...                                         ...  \n",
       "Mr Raul Bravo            raul.bravo@example.com  \n",
       "Miss Maeva Fortin      maeva.fortin@example.com  \n",
       "Mr Gabriel Berger    gabriel.berger@example.com  \n",
       "Mrs Ülkü Tanrıkulu   ulku.tanrikulu@example.com  \n",
       "Mr Raff Valkema        raff.valkema@example.com  \n",
       "\n",
       "[200 rows x 5 columns]"
      ]
     },
     "execution_count": 264,
     "metadata": {},
     "output_type": "execute_result"
    }
   ],
   "source": [
    "data"
   ]
  },
  {
   "cell_type": "code",
   "execution_count": 265,
   "metadata": {
    "executionInfo": {
     "elapsed": 18,
     "status": "ok",
     "timestamp": 1637847055018,
     "user": {
      "displayName": "heydy carrasco huaccha",
      "photoUrl": "https://lh3.googleusercontent.com/a-/AOh14GiGyezGgm9Px4LBw_sc7MFWfjUVhWWsvnAz1Ttg=s64",
      "userId": "00007591481982700116"
     },
     "user_tz": 300
    },
    "id": "uzcLzirTtt84"
   },
   "outputs": [],
   "source": [
    "data= data.dropna()\n",
    "# data"
   ]
  },
  {
   "cell_type": "markdown",
   "metadata": {
    "id": "h5QJuScvUgXJ"
   },
   "source": [
    "## Resolución de los Ejercicios"
   ]
  },
  {
   "cell_type": "markdown",
   "metadata": {
    "id": "mBJA87yVYlob"
   },
   "source": [
    "### 1ra Pregunta"
   ]
  },
  {
   "cell_type": "code",
   "execution_count": 271,
   "metadata": {
    "executionInfo": {
     "elapsed": 388,
     "status": "ok",
     "timestamp": 1637847055388,
     "user": {
      "displayName": "heydy carrasco huaccha",
      "photoUrl": "https://lh3.googleusercontent.com/a-/AOh14GiGyezGgm9Px4LBw_sc7MFWfjUVhWWsvnAz1Ttg=s64",
      "userId": "00007591481982700116"
     },
     "user_tz": 300
    },
    "id": "7-64IJX0YuvA"
   },
   "outputs": [],
   "source": [
    "# url = 'https://raw.githubusercontent.com/MayumyCH/bootcamp_ciencia_de_datos/main/modulos/02.%20Introduccion%20al%20computo/Introduccion%20al%20analisis%20de%20datos%20con%20Python/datasets/user.csv'  # URL REPO bootcamp\n",
    "url = 'https://raw.githubusercontent.com/MayumyCH/bootcamp_ciencia_de_datos/main/modulos/02.%20Intro%20al%20computo%20cientifico/datasets/user.csv'\n",
    "\n",
    "data = pd.read_csv(url, index_col='name')\n",
    "data= data.dropna()"
   ]
  },
  {
   "cell_type": "code",
   "execution_count": 272,
   "metadata": {
    "colab": {
     "base_uri": "https://localhost:8080/",
     "height": 455
    },
    "executionInfo": {
     "elapsed": 15,
     "status": "ok",
     "timestamp": 1637847055389,
     "user": {
      "displayName": "heydy carrasco huaccha",
      "photoUrl": "https://lh3.googleusercontent.com/a-/AOh14GiGyezGgm9Px4LBw_sc7MFWfjUVhWWsvnAz1Ttg=s64",
      "userId": "00007591481982700116"
     },
     "user_tz": 300
    },
    "id": "huLCAFjKUr7X",
    "outputId": "d9228f98-c907-4e54-c618-30ed9756d45a"
   },
   "outputs": [
    {
     "data": {
      "text/html": [
       "<div>\n",
       "<style scoped>\n",
       "    .dataframe tbody tr th:only-of-type {\n",
       "        vertical-align: middle;\n",
       "    }\n",
       "\n",
       "    .dataframe tbody tr th {\n",
       "        vertical-align: top;\n",
       "    }\n",
       "\n",
       "    .dataframe thead th {\n",
       "        text-align: right;\n",
       "    }\n",
       "</style>\n",
       "<table border=\"1\" class=\"dataframe\">\n",
       "  <thead>\n",
       "    <tr style=\"text-align: right;\">\n",
       "      <th></th>\n",
       "      <th>id</th>\n",
       "      <th>age</th>\n",
       "      <th>gender</th>\n",
       "      <th>country</th>\n",
       "      <th>email</th>\n",
       "    </tr>\n",
       "    <tr>\n",
       "      <th>name</th>\n",
       "      <th></th>\n",
       "      <th></th>\n",
       "      <th></th>\n",
       "      <th></th>\n",
       "      <th></th>\n",
       "    </tr>\n",
       "  </thead>\n",
       "  <tbody>\n",
       "    <tr>\n",
       "      <th>Mrs Naja Johansen</th>\n",
       "      <td>3</td>\n",
       "      <td>63.0</td>\n",
       "      <td>female</td>\n",
       "      <td>Denmark</td>\n",
       "      <td>naja.johansen@example.com</td>\n",
       "    </tr>\n",
       "    <tr>\n",
       "      <th>Mr Damien Marchand</th>\n",
       "      <td>4</td>\n",
       "      <td>61.0</td>\n",
       "      <td>male</td>\n",
       "      <td>France</td>\n",
       "      <td>damien.marchand@example.com</td>\n",
       "    </tr>\n",
       "    <tr>\n",
       "      <th>Mr Harri Althoff</th>\n",
       "      <td>5</td>\n",
       "      <td>56.0</td>\n",
       "      <td>male</td>\n",
       "      <td>Germany</td>\n",
       "      <td>harri.althoff@example.com</td>\n",
       "    </tr>\n",
       "    <tr>\n",
       "      <th>Mr Jakob Russell</th>\n",
       "      <td>8</td>\n",
       "      <td>44.0</td>\n",
       "      <td>male</td>\n",
       "      <td>Ireland</td>\n",
       "      <td>jakob.russell@example.com</td>\n",
       "    </tr>\n",
       "    <tr>\n",
       "      <th>Miss Emilia Laitinen</th>\n",
       "      <td>9</td>\n",
       "      <td>53.0</td>\n",
       "      <td>female</td>\n",
       "      <td>Finland</td>\n",
       "      <td>emilia.laitinen@example.com</td>\n",
       "    </tr>\n",
       "    <tr>\n",
       "      <th>...</th>\n",
       "      <td>...</td>\n",
       "      <td>...</td>\n",
       "      <td>...</td>\n",
       "      <td>...</td>\n",
       "      <td>...</td>\n",
       "    </tr>\n",
       "    <tr>\n",
       "      <th>Mr Noah Moore</th>\n",
       "      <td>191</td>\n",
       "      <td>44.0</td>\n",
       "      <td>male</td>\n",
       "      <td>New Zealand</td>\n",
       "      <td>noah.moore@example.com</td>\n",
       "    </tr>\n",
       "    <tr>\n",
       "      <th>Ms Delphine Ginnish</th>\n",
       "      <td>193</td>\n",
       "      <td>58.0</td>\n",
       "      <td>female</td>\n",
       "      <td>Canada</td>\n",
       "      <td>delphine.ginnish@example.com</td>\n",
       "    </tr>\n",
       "    <tr>\n",
       "      <th>Madame Rosa Lefevre</th>\n",
       "      <td>194</td>\n",
       "      <td>67.0</td>\n",
       "      <td>female</td>\n",
       "      <td>Switzerland</td>\n",
       "      <td>rosa.lefevre@example.com</td>\n",
       "    </tr>\n",
       "    <tr>\n",
       "      <th>Mr Raul Bravo</th>\n",
       "      <td>195</td>\n",
       "      <td>46.0</td>\n",
       "      <td>male</td>\n",
       "      <td>Spain</td>\n",
       "      <td>raul.bravo@example.com</td>\n",
       "    </tr>\n",
       "    <tr>\n",
       "      <th>Mr Raff Valkema</th>\n",
       "      <td>199</td>\n",
       "      <td>60.0</td>\n",
       "      <td>male</td>\n",
       "      <td>Netherlands</td>\n",
       "      <td>raff.valkema@example.com</td>\n",
       "    </tr>\n",
       "  </tbody>\n",
       "</table>\n",
       "<p>120 rows × 5 columns</p>\n",
       "</div>"
      ],
      "text/plain": [
       "                       id   age  gender      country  \\\n",
       "name                                                   \n",
       "Mrs Naja Johansen       3  63.0  female      Denmark   \n",
       "Mr Damien Marchand      4  61.0    male       France   \n",
       "Mr Harri Althoff        5  56.0    male      Germany   \n",
       "Mr Jakob Russell        8  44.0    male      Ireland   \n",
       "Miss Emilia Laitinen    9  53.0  female      Finland   \n",
       "...                   ...   ...     ...          ...   \n",
       "Mr Noah Moore         191  44.0    male  New Zealand   \n",
       "Ms Delphine Ginnish   193  58.0  female       Canada   \n",
       "Madame Rosa Lefevre   194  67.0  female  Switzerland   \n",
       "Mr Raul Bravo         195  46.0    male        Spain   \n",
       "Mr Raff Valkema       199  60.0    male  Netherlands   \n",
       "\n",
       "                                             email  \n",
       "name                                                \n",
       "Mrs Naja Johansen        naja.johansen@example.com  \n",
       "Mr Damien Marchand     damien.marchand@example.com  \n",
       "Mr Harri Althoff         harri.althoff@example.com  \n",
       "Mr Jakob Russell         jakob.russell@example.com  \n",
       "Miss Emilia Laitinen   emilia.laitinen@example.com  \n",
       "...                                            ...  \n",
       "Mr Noah Moore               noah.moore@example.com  \n",
       "Ms Delphine Ginnish   delphine.ginnish@example.com  \n",
       "Madame Rosa Lefevre       rosa.lefevre@example.com  \n",
       "Mr Raul Bravo               raul.bravo@example.com  \n",
       "Mr Raff Valkema           raff.valkema@example.com  \n",
       "\n",
       "[120 rows x 5 columns]"
      ]
     },
     "execution_count": 272,
     "metadata": {},
     "output_type": "execute_result"
    }
   ],
   "source": [
    "# 1RA PREGUNTA\n",
    "#\n",
    "data[data['age']>40]\n",
    "# data.query('age > 40')"
   ]
  },
  {
   "cell_type": "markdown",
   "metadata": {
    "id": "Nl2DNGwtYrPl"
   },
   "source": [
    "### 2da Pregunta"
   ]
  },
  {
   "cell_type": "code",
   "execution_count": 273,
   "metadata": {
    "executionInfo": {
     "elapsed": 14,
     "status": "ok",
     "timestamp": 1637847055389,
     "user": {
      "displayName": "heydy carrasco huaccha",
      "photoUrl": "https://lh3.googleusercontent.com/a-/AOh14GiGyezGgm9Px4LBw_sc7MFWfjUVhWWsvnAz1Ttg=s64",
      "userId": "00007591481982700116"
     },
     "user_tz": 300
    },
    "id": "IsIFgTu9WKbu"
   },
   "outputs": [],
   "source": [
    "# url = 'https://raw.githubusercontent.com/MayumyCH/bootcamp_ciencia_de_datos/main/modulos/02.%20Introduccion%20al%20computo/Introduccion%20al%20analisis%20de%20datos%20con%20Python/datasets/user.csv'  # URL REPO bootcamp\n",
    "data = pd.read_csv(url, index_col='id')\n",
    "data= data.dropna()"
   ]
  },
  {
   "cell_type": "code",
   "execution_count": 274,
   "metadata": {
    "colab": {
     "base_uri": "https://localhost:8080/"
    },
    "executionInfo": {
     "elapsed": 14,
     "status": "ok",
     "timestamp": 1637847055389,
     "user": {
      "displayName": "heydy carrasco huaccha",
      "photoUrl": "https://lh3.googleusercontent.com/a-/AOh14GiGyezGgm9Px4LBw_sc7MFWfjUVhWWsvnAz1Ttg=s64",
      "userId": "00007591481982700116"
     },
     "user_tz": 300
    },
    "id": "jG6Vyt6QWKYm",
    "outputId": "db9ef944-5771-4554-dcae-69ae908249fd"
   },
   "outputs": [
    {
     "data": {
      "text/plain": [
       "id\n",
       "3         Mrs Naja Johansen\n",
       "4        Mr Damien Marchand\n",
       "5          Mr Harri Althoff\n",
       "8          Mr Jakob Russell\n",
       "9      Miss Emilia Laitinen\n",
       "               ...         \n",
       "191           Mr Noah Moore\n",
       "193     Ms Delphine Ginnish\n",
       "194     Madame Rosa Lefevre\n",
       "195           Mr Raul Bravo\n",
       "199         Mr Raff Valkema\n",
       "Name: name, Length: 120, dtype: object"
      ]
     },
     "execution_count": 274,
     "metadata": {},
     "output_type": "execute_result"
    }
   ],
   "source": [
    "data[data['age']>40]['name']"
   ]
  },
  {
   "cell_type": "code",
   "execution_count": 275,
   "metadata": {
    "colab": {
     "base_uri": "https://localhost:8080/",
     "height": 455
    },
    "executionInfo": {
     "elapsed": 7,
     "status": "ok",
     "timestamp": 1637847055389,
     "user": {
      "displayName": "heydy carrasco huaccha",
      "photoUrl": "https://lh3.googleusercontent.com/a-/AOh14GiGyezGgm9Px4LBw_sc7MFWfjUVhWWsvnAz1Ttg=s64",
      "userId": "00007591481982700116"
     },
     "user_tz": 300
    },
    "id": "8T2cEiOhWKVm",
    "outputId": "528a0ea7-16f6-45d2-a3c7-ad94bd5bb3ea"
   },
   "outputs": [
    {
     "data": {
      "text/html": [
       "<div>\n",
       "<style scoped>\n",
       "    .dataframe tbody tr th:only-of-type {\n",
       "        vertical-align: middle;\n",
       "    }\n",
       "\n",
       "    .dataframe tbody tr th {\n",
       "        vertical-align: top;\n",
       "    }\n",
       "\n",
       "    .dataframe thead th {\n",
       "        text-align: right;\n",
       "    }\n",
       "</style>\n",
       "<table border=\"1\" class=\"dataframe\">\n",
       "  <thead>\n",
       "    <tr style=\"text-align: right;\">\n",
       "      <th></th>\n",
       "      <th>name</th>\n",
       "      <th>age</th>\n",
       "      <th>gender</th>\n",
       "      <th>country</th>\n",
       "      <th>email</th>\n",
       "    </tr>\n",
       "    <tr>\n",
       "      <th>id</th>\n",
       "      <th></th>\n",
       "      <th></th>\n",
       "      <th></th>\n",
       "      <th></th>\n",
       "      <th></th>\n",
       "    </tr>\n",
       "  </thead>\n",
       "  <tbody>\n",
       "    <tr>\n",
       "      <th>3</th>\n",
       "      <td>Mrs Naja Johansen</td>\n",
       "      <td>63.0</td>\n",
       "      <td>female</td>\n",
       "      <td>Denmark</td>\n",
       "      <td>naja.johansen@example.com</td>\n",
       "    </tr>\n",
       "    <tr>\n",
       "      <th>9</th>\n",
       "      <td>Miss Emilia Laitinen</td>\n",
       "      <td>53.0</td>\n",
       "      <td>female</td>\n",
       "      <td>Finland</td>\n",
       "      <td>emilia.laitinen@example.com</td>\n",
       "    </tr>\n",
       "    <tr>\n",
       "      <th>10</th>\n",
       "      <td>Ms Cathriona Hanson</td>\n",
       "      <td>53.0</td>\n",
       "      <td>female</td>\n",
       "      <td>Ireland</td>\n",
       "      <td>cathriona.hanson@example.com</td>\n",
       "    </tr>\n",
       "    <tr>\n",
       "      <th>11</th>\n",
       "      <td>Miss Maia Clarke</td>\n",
       "      <td>52.0</td>\n",
       "      <td>female</td>\n",
       "      <td>New Zealand</td>\n",
       "      <td>maia.clarke@example.com</td>\n",
       "    </tr>\n",
       "    <tr>\n",
       "      <th>12</th>\n",
       "      <td>Ms Cathy Simmmons</td>\n",
       "      <td>55.0</td>\n",
       "      <td>female</td>\n",
       "      <td>Australia</td>\n",
       "      <td>cathy.simmmons@example.com</td>\n",
       "    </tr>\n",
       "    <tr>\n",
       "      <th>...</th>\n",
       "      <td>...</td>\n",
       "      <td>...</td>\n",
       "      <td>...</td>\n",
       "      <td>...</td>\n",
       "      <td>...</td>\n",
       "    </tr>\n",
       "    <tr>\n",
       "      <th>181</th>\n",
       "      <td>Mrs Avery King</td>\n",
       "      <td>57.0</td>\n",
       "      <td>female</td>\n",
       "      <td>United Kingdom</td>\n",
       "      <td>avery.king@example.com</td>\n",
       "    </tr>\n",
       "    <tr>\n",
       "      <th>182</th>\n",
       "      <td>Mrs Soila Silva</td>\n",
       "      <td>63.0</td>\n",
       "      <td>female</td>\n",
       "      <td>Brazil</td>\n",
       "      <td>soila.silva@example.com</td>\n",
       "    </tr>\n",
       "    <tr>\n",
       "      <th>190</th>\n",
       "      <td>Miss Margrietha Holster</td>\n",
       "      <td>61.0</td>\n",
       "      <td>female</td>\n",
       "      <td>Netherlands</td>\n",
       "      <td>margrietha.holster@example.com</td>\n",
       "    </tr>\n",
       "    <tr>\n",
       "      <th>193</th>\n",
       "      <td>Ms Delphine Ginnish</td>\n",
       "      <td>58.0</td>\n",
       "      <td>female</td>\n",
       "      <td>Canada</td>\n",
       "      <td>delphine.ginnish@example.com</td>\n",
       "    </tr>\n",
       "    <tr>\n",
       "      <th>194</th>\n",
       "      <td>Madame Rosa Lefevre</td>\n",
       "      <td>67.0</td>\n",
       "      <td>female</td>\n",
       "      <td>Switzerland</td>\n",
       "      <td>rosa.lefevre@example.com</td>\n",
       "    </tr>\n",
       "  </tbody>\n",
       "</table>\n",
       "<p>68 rows × 5 columns</p>\n",
       "</div>"
      ],
      "text/plain": [
       "                        name   age  gender         country  \\\n",
       "id                                                           \n",
       "3          Mrs Naja Johansen  63.0  female         Denmark   \n",
       "9       Miss Emilia Laitinen  53.0  female         Finland   \n",
       "10       Ms Cathriona Hanson  53.0  female         Ireland   \n",
       "11          Miss Maia Clarke  52.0  female     New Zealand   \n",
       "12         Ms Cathy Simmmons  55.0  female       Australia   \n",
       "..                       ...   ...     ...             ...   \n",
       "181           Mrs Avery King  57.0  female  United Kingdom   \n",
       "182          Mrs Soila Silva  63.0  female          Brazil   \n",
       "190  Miss Margrietha Holster  61.0  female     Netherlands   \n",
       "193      Ms Delphine Ginnish  58.0  female          Canada   \n",
       "194      Madame Rosa Lefevre  67.0  female     Switzerland   \n",
       "\n",
       "                              email  \n",
       "id                                   \n",
       "3         naja.johansen@example.com  \n",
       "9       emilia.laitinen@example.com  \n",
       "10     cathriona.hanson@example.com  \n",
       "11          maia.clarke@example.com  \n",
       "12       cathy.simmmons@example.com  \n",
       "..                              ...  \n",
       "181          avery.king@example.com  \n",
       "182         soila.silva@example.com  \n",
       "190  margrietha.holster@example.com  \n",
       "193    delphine.ginnish@example.com  \n",
       "194        rosa.lefevre@example.com  \n",
       "\n",
       "[68 rows x 5 columns]"
      ]
     },
     "execution_count": 275,
     "metadata": {},
     "output_type": "execute_result"
    }
   ],
   "source": [
    "# 2da PREGUNTA\n",
    "#\n",
    "# data[(data['age']>40) & (data['gender'] == 'female')]\n",
    "data.query('age > 40 and gender == \"female\"')"
   ]
  },
  {
   "cell_type": "markdown",
   "metadata": {
    "id": "wRGxqA2jY_cs"
   },
   "source": [
    "### 3ra Pregunta"
   ]
  },
  {
   "cell_type": "code",
   "execution_count": 276,
   "metadata": {
    "colab": {
     "base_uri": "https://localhost:8080/",
     "height": 455
    },
    "executionInfo": {
     "elapsed": 8,
     "status": "ok",
     "timestamp": 1637847055390,
     "user": {
      "displayName": "heydy carrasco huaccha",
      "photoUrl": "https://lh3.googleusercontent.com/a-/AOh14GiGyezGgm9Px4LBw_sc7MFWfjUVhWWsvnAz1Ttg=s64",
      "userId": "00007591481982700116"
     },
     "user_tz": 300
    },
    "id": "0d5sOeFGQnhr",
    "outputId": "f17a76b7-8b1c-4add-b2ef-15c9cb622882"
   },
   "outputs": [
    {
     "data": {
      "text/html": [
       "<div>\n",
       "<style scoped>\n",
       "    .dataframe tbody tr th:only-of-type {\n",
       "        vertical-align: middle;\n",
       "    }\n",
       "\n",
       "    .dataframe tbody tr th {\n",
       "        vertical-align: top;\n",
       "    }\n",
       "\n",
       "    .dataframe thead th {\n",
       "        text-align: right;\n",
       "    }\n",
       "</style>\n",
       "<table border=\"1\" class=\"dataframe\">\n",
       "  <thead>\n",
       "    <tr style=\"text-align: right;\">\n",
       "      <th></th>\n",
       "      <th>name</th>\n",
       "      <th>age</th>\n",
       "      <th>gender</th>\n",
       "      <th>country</th>\n",
       "      <th>email</th>\n",
       "    </tr>\n",
       "    <tr>\n",
       "      <th>id</th>\n",
       "      <th></th>\n",
       "      <th></th>\n",
       "      <th></th>\n",
       "      <th></th>\n",
       "      <th></th>\n",
       "    </tr>\n",
       "  </thead>\n",
       "  <tbody>\n",
       "    <tr>\n",
       "      <th>2</th>\n",
       "      <td>Mr Noham Dubois</td>\n",
       "      <td>40.0</td>\n",
       "      <td>male</td>\n",
       "      <td>France</td>\n",
       "      <td>noham.dubois@example.com</td>\n",
       "    </tr>\n",
       "    <tr>\n",
       "      <th>3</th>\n",
       "      <td>Mrs Naja Johansen</td>\n",
       "      <td>63.0</td>\n",
       "      <td>female</td>\n",
       "      <td>Denmark</td>\n",
       "      <td>naja.johansen@example.com</td>\n",
       "    </tr>\n",
       "    <tr>\n",
       "      <th>4</th>\n",
       "      <td>Mr Damien Marchand</td>\n",
       "      <td>61.0</td>\n",
       "      <td>male</td>\n",
       "      <td>France</td>\n",
       "      <td>damien.marchand@example.com</td>\n",
       "    </tr>\n",
       "    <tr>\n",
       "      <th>5</th>\n",
       "      <td>Mr Harri Althoff</td>\n",
       "      <td>56.0</td>\n",
       "      <td>male</td>\n",
       "      <td>Germany</td>\n",
       "      <td>harri.althoff@example.com</td>\n",
       "    </tr>\n",
       "    <tr>\n",
       "      <th>6</th>\n",
       "      <td>Mr Noah Olsen</td>\n",
       "      <td>40.0</td>\n",
       "      <td>male</td>\n",
       "      <td>Denmark</td>\n",
       "      <td>noah.olsen@example.com</td>\n",
       "    </tr>\n",
       "    <tr>\n",
       "      <th>...</th>\n",
       "      <td>...</td>\n",
       "      <td>...</td>\n",
       "      <td>...</td>\n",
       "      <td>...</td>\n",
       "      <td>...</td>\n",
       "    </tr>\n",
       "    <tr>\n",
       "      <th>195</th>\n",
       "      <td>Mr Raul Bravo</td>\n",
       "      <td>46.0</td>\n",
       "      <td>male</td>\n",
       "      <td>Spain</td>\n",
       "      <td>raul.bravo@example.com</td>\n",
       "    </tr>\n",
       "    <tr>\n",
       "      <th>196</th>\n",
       "      <td>Miss Maeva Fortin</td>\n",
       "      <td>40.0</td>\n",
       "      <td>female</td>\n",
       "      <td>Canada</td>\n",
       "      <td>maeva.fortin@example.com</td>\n",
       "    </tr>\n",
       "    <tr>\n",
       "      <th>197</th>\n",
       "      <td>Mr Gabriel Berger</td>\n",
       "      <td>40.0</td>\n",
       "      <td>male</td>\n",
       "      <td>France</td>\n",
       "      <td>gabriel.berger@example.com</td>\n",
       "    </tr>\n",
       "    <tr>\n",
       "      <th>198</th>\n",
       "      <td>Mrs Ülkü Tanrıkulu</td>\n",
       "      <td>37.0</td>\n",
       "      <td>female</td>\n",
       "      <td>Turkey</td>\n",
       "      <td>ulku.tanrikulu@example.com</td>\n",
       "    </tr>\n",
       "    <tr>\n",
       "      <th>199</th>\n",
       "      <td>Mr Raff Valkema</td>\n",
       "      <td>60.0</td>\n",
       "      <td>male</td>\n",
       "      <td>Netherlands</td>\n",
       "      <td>raff.valkema@example.com</td>\n",
       "    </tr>\n",
       "  </tbody>\n",
       "</table>\n",
       "<p>198 rows × 5 columns</p>\n",
       "</div>"
      ],
      "text/plain": [
       "                   name   age  gender      country  \\\n",
       "id                                                   \n",
       "2       Mr Noham Dubois  40.0    male       France   \n",
       "3     Mrs Naja Johansen  63.0  female      Denmark   \n",
       "4    Mr Damien Marchand  61.0    male       France   \n",
       "5      Mr Harri Althoff  56.0    male      Germany   \n",
       "6         Mr Noah Olsen  40.0    male      Denmark   \n",
       "..                  ...   ...     ...          ...   \n",
       "195       Mr Raul Bravo  46.0    male        Spain   \n",
       "196   Miss Maeva Fortin  40.0  female       Canada   \n",
       "197   Mr Gabriel Berger  40.0    male       France   \n",
       "198  Mrs Ülkü Tanrıkulu  37.0  female       Turkey   \n",
       "199     Mr Raff Valkema  60.0    male  Netherlands   \n",
       "\n",
       "                           email  \n",
       "id                                \n",
       "2       noham.dubois@example.com  \n",
       "3      naja.johansen@example.com  \n",
       "4    damien.marchand@example.com  \n",
       "5      harri.althoff@example.com  \n",
       "6         noah.olsen@example.com  \n",
       "..                           ...  \n",
       "195       raul.bravo@example.com  \n",
       "196     maeva.fortin@example.com  \n",
       "197   gabriel.berger@example.com  \n",
       "198   ulku.tanrikulu@example.com  \n",
       "199     raff.valkema@example.com  \n",
       "\n",
       "[198 rows x 5 columns]"
      ]
     },
     "execution_count": 276,
     "metadata": {},
     "output_type": "execute_result"
    }
   ],
   "source": [
    "data"
   ]
  },
  {
   "cell_type": "code",
   "execution_count": 277,
   "metadata": {
    "colab": {
     "base_uri": "https://localhost:8080/",
     "height": 112
    },
    "executionInfo": {
     "elapsed": 7,
     "status": "ok",
     "timestamp": 1637847055390,
     "user": {
      "displayName": "heydy carrasco huaccha",
      "photoUrl": "https://lh3.googleusercontent.com/a-/AOh14GiGyezGgm9Px4LBw_sc7MFWfjUVhWWsvnAz1Ttg=s64",
      "userId": "00007591481982700116"
     },
     "user_tz": 300
    },
    "id": "cx1WEUzFtt3H",
    "outputId": "78dd6836-96fd-4243-9b2f-7539ed9befc9"
   },
   "outputs": [
    {
     "data": {
      "text/html": [
       "<div>\n",
       "<style scoped>\n",
       "    .dataframe tbody tr th:only-of-type {\n",
       "        vertical-align: middle;\n",
       "    }\n",
       "\n",
       "    .dataframe tbody tr th {\n",
       "        vertical-align: top;\n",
       "    }\n",
       "\n",
       "    .dataframe thead th {\n",
       "        text-align: right;\n",
       "    }\n",
       "</style>\n",
       "<table border=\"1\" class=\"dataframe\">\n",
       "  <thead>\n",
       "    <tr style=\"text-align: right;\">\n",
       "      <th></th>\n",
       "      <th>name</th>\n",
       "      <th>age</th>\n",
       "      <th>gender</th>\n",
       "      <th>country</th>\n",
       "      <th>email</th>\n",
       "    </tr>\n",
       "    <tr>\n",
       "      <th>id</th>\n",
       "      <th></th>\n",
       "      <th></th>\n",
       "      <th></th>\n",
       "      <th></th>\n",
       "      <th></th>\n",
       "    </tr>\n",
       "  </thead>\n",
       "  <tbody>\n",
       "    <tr>\n",
       "      <th>151</th>\n",
       "      <td>Mr Thomas Lam</td>\n",
       "      <td>42.0</td>\n",
       "      <td>male</td>\n",
       "      <td>Canada</td>\n",
       "      <td>thomas.lam@gmail.com</td>\n",
       "    </tr>\n",
       "  </tbody>\n",
       "</table>\n",
       "</div>"
      ],
      "text/plain": [
       "              name   age gender country                 email\n",
       "id                                                           \n",
       "151  Mr Thomas Lam  42.0   male  Canada  thomas.lam@gmail.com"
      ]
     },
     "execution_count": 277,
     "metadata": {},
     "output_type": "execute_result"
    }
   ],
   "source": [
    "### 3ra Pregunta\n",
    "#\n",
    "data[~data['email'].str.endswith('@example.com')]\n",
    "# data.query('~email.str.contains(\"@example.com\")')"
   ]
  },
  {
   "cell_type": "code",
   "execution_count": 278,
   "metadata": {},
   "outputs": [],
   "source": [
    "# data.query('email.str.contains(\"@example\")')"
   ]
  },
  {
   "cell_type": "code",
   "execution_count": 279,
   "metadata": {
    "executionInfo": {
     "elapsed": 7,
     "status": "ok",
     "timestamp": 1637847055390,
     "user": {
      "displayName": "heydy carrasco huaccha",
      "photoUrl": "https://lh3.googleusercontent.com/a-/AOh14GiGyezGgm9Px4LBw_sc7MFWfjUVhWWsvnAz1Ttg=s64",
      "userId": "00007591481982700116"
     },
     "user_tz": 300
    },
    "id": "f-81MboBtt0a"
   },
   "outputs": [],
   "source": [
    "## WHERE - SELECT"
   ]
  },
  {
   "cell_type": "markdown",
   "metadata": {
    "id": "-biPGSUod4A3"
   },
   "source": [
    "### 4ta Pregunta"
   ]
  },
  {
   "cell_type": "code",
   "execution_count": 280,
   "metadata": {
    "colab": {
     "base_uri": "https://localhost:8080/",
     "height": 1000
    },
    "executionInfo": {
     "elapsed": 854,
     "status": "ok",
     "timestamp": 1637847056237,
     "user": {
      "displayName": "heydy carrasco huaccha",
      "photoUrl": "https://lh3.googleusercontent.com/a-/AOh14GiGyezGgm9Px4LBw_sc7MFWfjUVhWWsvnAz1Ttg=s64",
      "userId": "00007591481982700116"
     },
     "user_tz": 300
    },
    "id": "PB9gl-DBttxy",
    "outputId": "b7d72818-852a-4200-b689-81d897482570"
   },
   "outputs": [
    {
     "data": {
      "text/html": [
       "<div>\n",
       "<style scoped>\n",
       "    .dataframe tbody tr th:only-of-type {\n",
       "        vertical-align: middle;\n",
       "    }\n",
       "\n",
       "    .dataframe tbody tr th {\n",
       "        vertical-align: top;\n",
       "    }\n",
       "\n",
       "    .dataframe thead th {\n",
       "        text-align: right;\n",
       "    }\n",
       "</style>\n",
       "<table border=\"1\" class=\"dataframe\">\n",
       "  <thead>\n",
       "    <tr style=\"text-align: right;\">\n",
       "      <th></th>\n",
       "      <th>name</th>\n",
       "      <th>age</th>\n",
       "      <th>gender</th>\n",
       "      <th>country</th>\n",
       "      <th>email</th>\n",
       "    </tr>\n",
       "    <tr>\n",
       "      <th>id</th>\n",
       "      <th></th>\n",
       "      <th></th>\n",
       "      <th></th>\n",
       "      <th></th>\n",
       "      <th></th>\n",
       "    </tr>\n",
       "  </thead>\n",
       "  <tbody>\n",
       "    <tr>\n",
       "      <th>5</th>\n",
       "      <td>Mr Harri Althoff</td>\n",
       "      <td>56.0</td>\n",
       "      <td>male</td>\n",
       "      <td>Germany</td>\n",
       "      <td>harri.althoff@example.com</td>\n",
       "    </tr>\n",
       "    <tr>\n",
       "      <th>7</th>\n",
       "      <td>Ms Britta Weinert</td>\n",
       "      <td>35.0</td>\n",
       "      <td>female</td>\n",
       "      <td>Germany</td>\n",
       "      <td>britta.weinert@example.com</td>\n",
       "    </tr>\n",
       "    <tr>\n",
       "      <th>9</th>\n",
       "      <td>Miss Emilia Laitinen</td>\n",
       "      <td>53.0</td>\n",
       "      <td>female</td>\n",
       "      <td>Finland</td>\n",
       "      <td>emilia.laitinen@example.com</td>\n",
       "    </tr>\n",
       "    <tr>\n",
       "      <th>20</th>\n",
       "      <td>Mr Vincenzo Rauscher</td>\n",
       "      <td>25.0</td>\n",
       "      <td>male</td>\n",
       "      <td>Germany</td>\n",
       "      <td>vincenzo.rauscher@example.com</td>\n",
       "    </tr>\n",
       "    <tr>\n",
       "      <th>21</th>\n",
       "      <td>Mr Louis Ross</td>\n",
       "      <td>60.0</td>\n",
       "      <td>male</td>\n",
       "      <td>Canada</td>\n",
       "      <td>louis.ross@example.com</td>\n",
       "    </tr>\n",
       "    <tr>\n",
       "      <th>31</th>\n",
       "      <td>Mr Toivo Kotila</td>\n",
       "      <td>27.0</td>\n",
       "      <td>male</td>\n",
       "      <td>Finland</td>\n",
       "      <td>toivo.kotila@example.com</td>\n",
       "    </tr>\n",
       "    <tr>\n",
       "      <th>36</th>\n",
       "      <td>Mr Anthony Wong</td>\n",
       "      <td>42.0</td>\n",
       "      <td>male</td>\n",
       "      <td>Canada</td>\n",
       "      <td>anthony.wong@example.com</td>\n",
       "    </tr>\n",
       "    <tr>\n",
       "      <th>38</th>\n",
       "      <td>Mrs Lotta Rintala</td>\n",
       "      <td>26.0</td>\n",
       "      <td>female</td>\n",
       "      <td>Finland</td>\n",
       "      <td>lotta.rintala@example.com</td>\n",
       "    </tr>\n",
       "    <tr>\n",
       "      <th>41</th>\n",
       "      <td>Miss Iida Ketola</td>\n",
       "      <td>46.0</td>\n",
       "      <td>female</td>\n",
       "      <td>Finland</td>\n",
       "      <td>iida.ketola@example.com</td>\n",
       "    </tr>\n",
       "    <tr>\n",
       "      <th>45</th>\n",
       "      <td>Ms Ilona Moilanen</td>\n",
       "      <td>22.0</td>\n",
       "      <td>female</td>\n",
       "      <td>Finland</td>\n",
       "      <td>ilona.moilanen@example.com</td>\n",
       "    </tr>\n",
       "    <tr>\n",
       "      <th>47</th>\n",
       "      <td>Miss Ellen Rinne</td>\n",
       "      <td>66.0</td>\n",
       "      <td>female</td>\n",
       "      <td>Finland</td>\n",
       "      <td>ellen.rinne@example.com</td>\n",
       "    </tr>\n",
       "    <tr>\n",
       "      <th>50</th>\n",
       "      <td>Mr Theo Miller</td>\n",
       "      <td>33.0</td>\n",
       "      <td>male</td>\n",
       "      <td>Canada</td>\n",
       "      <td>theo.miller@example.com</td>\n",
       "    </tr>\n",
       "    <tr>\n",
       "      <th>53</th>\n",
       "      <td>Ms Aino Lassila</td>\n",
       "      <td>54.0</td>\n",
       "      <td>female</td>\n",
       "      <td>Finland</td>\n",
       "      <td>aino.lassila@example.com</td>\n",
       "    </tr>\n",
       "    <tr>\n",
       "      <th>56</th>\n",
       "      <td>Ms Marcella Brosch</td>\n",
       "      <td>38.0</td>\n",
       "      <td>female</td>\n",
       "      <td>Germany</td>\n",
       "      <td>marcella.brosch@example.com</td>\n",
       "    </tr>\n",
       "    <tr>\n",
       "      <th>58</th>\n",
       "      <td>Miss Madison Ennis</td>\n",
       "      <td>49.0</td>\n",
       "      <td>female</td>\n",
       "      <td>Canada</td>\n",
       "      <td>madison.ennis@example.com</td>\n",
       "    </tr>\n",
       "    <tr>\n",
       "      <th>72</th>\n",
       "      <td>Ms Megan Brown</td>\n",
       "      <td>26.0</td>\n",
       "      <td>female</td>\n",
       "      <td>Canada</td>\n",
       "      <td>megan.brown@example.com</td>\n",
       "    </tr>\n",
       "    <tr>\n",
       "      <th>79</th>\n",
       "      <td>Ms Hanne Aschenbrenner</td>\n",
       "      <td>64.0</td>\n",
       "      <td>female</td>\n",
       "      <td>Germany</td>\n",
       "      <td>hanne.aschenbrenner@example.com</td>\n",
       "    </tr>\n",
       "    <tr>\n",
       "      <th>85</th>\n",
       "      <td>Mrs Luisa Weißmann</td>\n",
       "      <td>32.0</td>\n",
       "      <td>female</td>\n",
       "      <td>Germany</td>\n",
       "      <td>luisa.weissmann@example.com</td>\n",
       "    </tr>\n",
       "    <tr>\n",
       "      <th>87</th>\n",
       "      <td>Mr Joona Koskela</td>\n",
       "      <td>59.0</td>\n",
       "      <td>male</td>\n",
       "      <td>Finland</td>\n",
       "      <td>joona.koskela@example.com</td>\n",
       "    </tr>\n",
       "    <tr>\n",
       "      <th>88</th>\n",
       "      <td>Mrs Hilda Epp</td>\n",
       "      <td>22.0</td>\n",
       "      <td>female</td>\n",
       "      <td>Germany</td>\n",
       "      <td>hilda.epp@example.com</td>\n",
       "    </tr>\n",
       "    <tr>\n",
       "      <th>131</th>\n",
       "      <td>Mr Xavier Addy</td>\n",
       "      <td>30.0</td>\n",
       "      <td>male</td>\n",
       "      <td>Canada</td>\n",
       "      <td>xavier.addy@example.com</td>\n",
       "    </tr>\n",
       "    <tr>\n",
       "      <th>133</th>\n",
       "      <td>Miss Julia Ambrose</td>\n",
       "      <td>34.0</td>\n",
       "      <td>female</td>\n",
       "      <td>Canada</td>\n",
       "      <td>julia.ambrose@example.com</td>\n",
       "    </tr>\n",
       "    <tr>\n",
       "      <th>144</th>\n",
       "      <td>Ms Mareile Plate</td>\n",
       "      <td>51.0</td>\n",
       "      <td>female</td>\n",
       "      <td>Germany</td>\n",
       "      <td>mareile.plate@example.com</td>\n",
       "    </tr>\n",
       "    <tr>\n",
       "      <th>147</th>\n",
       "      <td>Mr Lauri Kotila</td>\n",
       "      <td>32.0</td>\n",
       "      <td>male</td>\n",
       "      <td>Finland</td>\n",
       "      <td>lauri.kotila@example.com</td>\n",
       "    </tr>\n",
       "    <tr>\n",
       "      <th>151</th>\n",
       "      <td>Mr Thomas Lam</td>\n",
       "      <td>42.0</td>\n",
       "      <td>male</td>\n",
       "      <td>Canada</td>\n",
       "      <td>thomas.lam@gmail.com</td>\n",
       "    </tr>\n",
       "    <tr>\n",
       "      <th>158</th>\n",
       "      <td>Mr Rafael Spangenberg</td>\n",
       "      <td>33.0</td>\n",
       "      <td>male</td>\n",
       "      <td>Germany</td>\n",
       "      <td>rafael.spangenberg@example.com</td>\n",
       "    </tr>\n",
       "    <tr>\n",
       "      <th>170</th>\n",
       "      <td>Mr Ryder Côté</td>\n",
       "      <td>25.0</td>\n",
       "      <td>male</td>\n",
       "      <td>Canada</td>\n",
       "      <td>ryder.cote@example.com</td>\n",
       "    </tr>\n",
       "    <tr>\n",
       "      <th>174</th>\n",
       "      <td>Ms Isla Koistinen</td>\n",
       "      <td>37.0</td>\n",
       "      <td>female</td>\n",
       "      <td>Finland</td>\n",
       "      <td>isla.koistinen@example.com</td>\n",
       "    </tr>\n",
       "    <tr>\n",
       "      <th>184</th>\n",
       "      <td>Mr Philip Bélanger</td>\n",
       "      <td>24.0</td>\n",
       "      <td>male</td>\n",
       "      <td>Canada</td>\n",
       "      <td>philip.belanger@example.com</td>\n",
       "    </tr>\n",
       "    <tr>\n",
       "      <th>193</th>\n",
       "      <td>Ms Delphine Ginnish</td>\n",
       "      <td>58.0</td>\n",
       "      <td>female</td>\n",
       "      <td>Canada</td>\n",
       "      <td>delphine.ginnish@example.com</td>\n",
       "    </tr>\n",
       "    <tr>\n",
       "      <th>196</th>\n",
       "      <td>Miss Maeva Fortin</td>\n",
       "      <td>40.0</td>\n",
       "      <td>female</td>\n",
       "      <td>Canada</td>\n",
       "      <td>maeva.fortin@example.com</td>\n",
       "    </tr>\n",
       "  </tbody>\n",
       "</table>\n",
       "</div>"
      ],
      "text/plain": [
       "                       name   age  gender  country  \\\n",
       "id                                                   \n",
       "5          Mr Harri Althoff  56.0    male  Germany   \n",
       "7         Ms Britta Weinert  35.0  female  Germany   \n",
       "9      Miss Emilia Laitinen  53.0  female  Finland   \n",
       "20     Mr Vincenzo Rauscher  25.0    male  Germany   \n",
       "21            Mr Louis Ross  60.0    male   Canada   \n",
       "31          Mr Toivo Kotila  27.0    male  Finland   \n",
       "36          Mr Anthony Wong  42.0    male   Canada   \n",
       "38        Mrs Lotta Rintala  26.0  female  Finland   \n",
       "41         Miss Iida Ketola  46.0  female  Finland   \n",
       "45        Ms Ilona Moilanen  22.0  female  Finland   \n",
       "47         Miss Ellen Rinne  66.0  female  Finland   \n",
       "50           Mr Theo Miller  33.0    male   Canada   \n",
       "53          Ms Aino Lassila  54.0  female  Finland   \n",
       "56       Ms Marcella Brosch  38.0  female  Germany   \n",
       "58       Miss Madison Ennis  49.0  female   Canada   \n",
       "72           Ms Megan Brown  26.0  female   Canada   \n",
       "79   Ms Hanne Aschenbrenner  64.0  female  Germany   \n",
       "85       Mrs Luisa Weißmann  32.0  female  Germany   \n",
       "87         Mr Joona Koskela  59.0    male  Finland   \n",
       "88            Mrs Hilda Epp  22.0  female  Germany   \n",
       "131          Mr Xavier Addy  30.0    male   Canada   \n",
       "133      Miss Julia Ambrose  34.0  female   Canada   \n",
       "144        Ms Mareile Plate  51.0  female  Germany   \n",
       "147         Mr Lauri Kotila  32.0    male  Finland   \n",
       "151           Mr Thomas Lam  42.0    male   Canada   \n",
       "158   Mr Rafael Spangenberg  33.0    male  Germany   \n",
       "170           Mr Ryder Côté  25.0    male   Canada   \n",
       "174       Ms Isla Koistinen  37.0  female  Finland   \n",
       "184      Mr Philip Bélanger  24.0    male   Canada   \n",
       "193     Ms Delphine Ginnish  58.0  female   Canada   \n",
       "196       Miss Maeva Fortin  40.0  female   Canada   \n",
       "\n",
       "                               email  \n",
       "id                                    \n",
       "5          harri.althoff@example.com  \n",
       "7         britta.weinert@example.com  \n",
       "9        emilia.laitinen@example.com  \n",
       "20     vincenzo.rauscher@example.com  \n",
       "21            louis.ross@example.com  \n",
       "31          toivo.kotila@example.com  \n",
       "36          anthony.wong@example.com  \n",
       "38         lotta.rintala@example.com  \n",
       "41           iida.ketola@example.com  \n",
       "45        ilona.moilanen@example.com  \n",
       "47           ellen.rinne@example.com  \n",
       "50           theo.miller@example.com  \n",
       "53          aino.lassila@example.com  \n",
       "56       marcella.brosch@example.com  \n",
       "58         madison.ennis@example.com  \n",
       "72           megan.brown@example.com  \n",
       "79   hanne.aschenbrenner@example.com  \n",
       "85       luisa.weissmann@example.com  \n",
       "87         joona.koskela@example.com  \n",
       "88             hilda.epp@example.com  \n",
       "131          xavier.addy@example.com  \n",
       "133        julia.ambrose@example.com  \n",
       "144        mareile.plate@example.com  \n",
       "147         lauri.kotila@example.com  \n",
       "151             thomas.lam@gmail.com  \n",
       "158   rafael.spangenberg@example.com  \n",
       "170           ryder.cote@example.com  \n",
       "174       isla.koistinen@example.com  \n",
       "184      philip.belanger@example.com  \n",
       "193     delphine.ginnish@example.com  \n",
       "196         maeva.fortin@example.com  "
      ]
     },
     "execution_count": 280,
     "metadata": {},
     "output_type": "execute_result"
    }
   ],
   "source": [
    "## 4ta Pregunta\n",
    "#\n",
    "# data[(data['country']== 'Germany') | \n",
    "#      (data['country'] == 'Finland') | \n",
    "#      (data['country'] == 'Canada')]\n",
    "\n",
    "# data[(data['country'].isin([\"Germany\",\"Finland\",\"Canada\"]))]\n",
    "data.query('country in (\"Germany\",\"Finland\",\"Canada\")')"
   ]
  },
  {
   "cell_type": "code",
   "execution_count": 281,
   "metadata": {
    "colab": {
     "base_uri": "https://localhost:8080/"
    },
    "executionInfo": {
     "elapsed": 14,
     "status": "ok",
     "timestamp": 1637847056237,
     "user": {
      "displayName": "heydy carrasco huaccha",
      "photoUrl": "https://lh3.googleusercontent.com/a-/AOh14GiGyezGgm9Px4LBw_sc7MFWfjUVhWWsvnAz1Ttg=s64",
      "userId": "00007591481982700116"
     },
     "user_tz": 300
    },
    "id": "cDx3a29Sttu_",
    "outputId": "9eba5384-0e72-4579-866c-db905d6fa810"
   },
   "outputs": [
    {
     "data": {
      "text/plain": [
       "name       31\n",
       "age        31\n",
       "gender     31\n",
       "country    31\n",
       "email      31\n",
       "dtype: int64"
      ]
     },
     "execution_count": 281,
     "metadata": {},
     "output_type": "execute_result"
    }
   ],
   "source": [
    "data[(data['country'].isin([\"Germany\",\"Finland\",\"Canada\"]))].count()"
   ]
  },
  {
   "cell_type": "markdown",
   "metadata": {
    "id": "Q_AwcxfzhJ8r"
   },
   "source": [
    "### 5ta Pregunta"
   ]
  },
  {
   "cell_type": "code",
   "execution_count": 282,
   "metadata": {
    "colab": {
     "base_uri": "https://localhost:8080/",
     "height": 269
    },
    "executionInfo": {
     "elapsed": 11,
     "status": "ok",
     "timestamp": 1637847056237,
     "user": {
      "displayName": "heydy carrasco huaccha",
      "photoUrl": "https://lh3.googleusercontent.com/a-/AOh14GiGyezGgm9Px4LBw_sc7MFWfjUVhWWsvnAz1Ttg=s64",
      "userId": "00007591481982700116"
     },
     "user_tz": 300
    },
    "id": "g5OhGXzptqXF",
    "outputId": "fea257df-d1c1-41d6-c0eb-3af5c05cad3e"
   },
   "outputs": [
    {
     "data": {
      "text/html": [
       "<div>\n",
       "<style scoped>\n",
       "    .dataframe tbody tr th:only-of-type {\n",
       "        vertical-align: middle;\n",
       "    }\n",
       "\n",
       "    .dataframe tbody tr th {\n",
       "        vertical-align: top;\n",
       "    }\n",
       "\n",
       "    .dataframe thead th {\n",
       "        text-align: right;\n",
       "    }\n",
       "</style>\n",
       "<table border=\"1\" class=\"dataframe\">\n",
       "  <thead>\n",
       "    <tr style=\"text-align: right;\">\n",
       "      <th></th>\n",
       "      <th>name</th>\n",
       "      <th>age</th>\n",
       "      <th>gender</th>\n",
       "      <th>country</th>\n",
       "      <th>email</th>\n",
       "    </tr>\n",
       "    <tr>\n",
       "      <th>id</th>\n",
       "      <th></th>\n",
       "      <th></th>\n",
       "      <th></th>\n",
       "      <th></th>\n",
       "      <th></th>\n",
       "    </tr>\n",
       "  </thead>\n",
       "  <tbody>\n",
       "    <tr>\n",
       "      <th>7</th>\n",
       "      <td>Ms Britta Weinert</td>\n",
       "      <td>35.0</td>\n",
       "      <td>female</td>\n",
       "      <td>Germany</td>\n",
       "      <td>britta.weinert@example.com</td>\n",
       "    </tr>\n",
       "    <tr>\n",
       "      <th>56</th>\n",
       "      <td>Ms Marcella Brosch</td>\n",
       "      <td>38.0</td>\n",
       "      <td>female</td>\n",
       "      <td>Germany</td>\n",
       "      <td>marcella.brosch@example.com</td>\n",
       "    </tr>\n",
       "    <tr>\n",
       "      <th>79</th>\n",
       "      <td>Ms Hanne Aschenbrenner</td>\n",
       "      <td>64.0</td>\n",
       "      <td>female</td>\n",
       "      <td>Germany</td>\n",
       "      <td>hanne.aschenbrenner@example.com</td>\n",
       "    </tr>\n",
       "    <tr>\n",
       "      <th>85</th>\n",
       "      <td>Mrs Luisa Weißmann</td>\n",
       "      <td>32.0</td>\n",
       "      <td>female</td>\n",
       "      <td>Germany</td>\n",
       "      <td>luisa.weissmann@example.com</td>\n",
       "    </tr>\n",
       "    <tr>\n",
       "      <th>88</th>\n",
       "      <td>Mrs Hilda Epp</td>\n",
       "      <td>22.0</td>\n",
       "      <td>female</td>\n",
       "      <td>Germany</td>\n",
       "      <td>hilda.epp@example.com</td>\n",
       "    </tr>\n",
       "    <tr>\n",
       "      <th>144</th>\n",
       "      <td>Ms Mareile Plate</td>\n",
       "      <td>51.0</td>\n",
       "      <td>female</td>\n",
       "      <td>Germany</td>\n",
       "      <td>mareile.plate@example.com</td>\n",
       "    </tr>\n",
       "  </tbody>\n",
       "</table>\n",
       "</div>"
      ],
      "text/plain": [
       "                       name   age  gender  country  \\\n",
       "id                                                   \n",
       "7         Ms Britta Weinert  35.0  female  Germany   \n",
       "56       Ms Marcella Brosch  38.0  female  Germany   \n",
       "79   Ms Hanne Aschenbrenner  64.0  female  Germany   \n",
       "85       Mrs Luisa Weißmann  32.0  female  Germany   \n",
       "88            Mrs Hilda Epp  22.0  female  Germany   \n",
       "144        Ms Mareile Plate  51.0  female  Germany   \n",
       "\n",
       "                               email  \n",
       "id                                    \n",
       "7         britta.weinert@example.com  \n",
       "56       marcella.brosch@example.com  \n",
       "79   hanne.aschenbrenner@example.com  \n",
       "85       luisa.weissmann@example.com  \n",
       "88             hilda.epp@example.com  \n",
       "144        mareile.plate@example.com  "
      ]
     },
     "execution_count": 282,
     "metadata": {},
     "output_type": "execute_result"
    }
   ],
   "source": [
    "### 5ta Pregunta\n",
    "##\n",
    "# data[(data['gender'] == 'female') & (data['country']== \"Germany\")]\n",
    "data.query('gender == \"female\" and country == \"Germany\" ')"
   ]
  },
  {
   "cell_type": "markdown",
   "metadata": {
    "id": "ioRn6Y4Vibq_"
   },
   "source": [
    "### 6ta Pregunta"
   ]
  },
  {
   "cell_type": "code",
   "execution_count": 283,
   "metadata": {
    "colab": {
     "base_uri": "https://localhost:8080/"
    },
    "executionInfo": {
     "elapsed": 11,
     "status": "ok",
     "timestamp": 1637847056238,
     "user": {
      "displayName": "heydy carrasco huaccha",
      "photoUrl": "https://lh3.googleusercontent.com/a-/AOh14GiGyezGgm9Px4LBw_sc7MFWfjUVhWWsvnAz1Ttg=s64",
      "userId": "00007591481982700116"
     },
     "user_tz": 300
    },
    "id": "J5wA1WKosXWS",
    "outputId": "f5a8ec82-abf1-4f1a-bb66-ad41c577760f"
   },
   "outputs": [
    {
     "data": {
      "text/plain": [
       "7"
      ]
     },
     "execution_count": 283,
     "metadata": {},
     "output_type": "execute_result"
    }
   ],
   "source": [
    "### 6ta Pregunta\n",
    "##\n",
    "data[(data['gender']=='male') & (data['country']=='Canada')].count()\n",
    "data[(data['gender']=='male') & (data['country']=='Canada')]['gender'].count()"
   ]
  },
  {
   "cell_type": "code",
   "execution_count": 284,
   "metadata": {
    "colab": {
     "base_uri": "https://localhost:8080/",
     "height": 300
    },
    "executionInfo": {
     "elapsed": 10,
     "status": "ok",
     "timestamp": 1637847056238,
     "user": {
      "displayName": "heydy carrasco huaccha",
      "photoUrl": "https://lh3.googleusercontent.com/a-/AOh14GiGyezGgm9Px4LBw_sc7MFWfjUVhWWsvnAz1Ttg=s64",
      "userId": "00007591481982700116"
     },
     "user_tz": 300
    },
    "id": "xqeLy3I4jMtQ",
    "outputId": "63dbdca7-5d1b-41b3-aec3-4bfc40ac5ca9"
   },
   "outputs": [
    {
     "data": {
      "text/html": [
       "<div>\n",
       "<style scoped>\n",
       "    .dataframe tbody tr th:only-of-type {\n",
       "        vertical-align: middle;\n",
       "    }\n",
       "\n",
       "    .dataframe tbody tr th {\n",
       "        vertical-align: top;\n",
       "    }\n",
       "\n",
       "    .dataframe thead th {\n",
       "        text-align: right;\n",
       "    }\n",
       "</style>\n",
       "<table border=\"1\" class=\"dataframe\">\n",
       "  <thead>\n",
       "    <tr style=\"text-align: right;\">\n",
       "      <th></th>\n",
       "      <th>name</th>\n",
       "      <th>age</th>\n",
       "      <th>gender</th>\n",
       "      <th>country</th>\n",
       "      <th>email</th>\n",
       "    </tr>\n",
       "    <tr>\n",
       "      <th>id</th>\n",
       "      <th></th>\n",
       "      <th></th>\n",
       "      <th></th>\n",
       "      <th></th>\n",
       "      <th></th>\n",
       "    </tr>\n",
       "  </thead>\n",
       "  <tbody>\n",
       "    <tr>\n",
       "      <th>21</th>\n",
       "      <td>Mr Louis Ross</td>\n",
       "      <td>60.0</td>\n",
       "      <td>male</td>\n",
       "      <td>Canada</td>\n",
       "      <td>louis.ross@example.com</td>\n",
       "    </tr>\n",
       "    <tr>\n",
       "      <th>36</th>\n",
       "      <td>Mr Anthony Wong</td>\n",
       "      <td>42.0</td>\n",
       "      <td>male</td>\n",
       "      <td>Canada</td>\n",
       "      <td>anthony.wong@example.com</td>\n",
       "    </tr>\n",
       "    <tr>\n",
       "      <th>50</th>\n",
       "      <td>Mr Theo Miller</td>\n",
       "      <td>33.0</td>\n",
       "      <td>male</td>\n",
       "      <td>Canada</td>\n",
       "      <td>theo.miller@example.com</td>\n",
       "    </tr>\n",
       "    <tr>\n",
       "      <th>131</th>\n",
       "      <td>Mr Xavier Addy</td>\n",
       "      <td>30.0</td>\n",
       "      <td>male</td>\n",
       "      <td>Canada</td>\n",
       "      <td>xavier.addy@example.com</td>\n",
       "    </tr>\n",
       "    <tr>\n",
       "      <th>151</th>\n",
       "      <td>Mr Thomas Lam</td>\n",
       "      <td>42.0</td>\n",
       "      <td>male</td>\n",
       "      <td>Canada</td>\n",
       "      <td>thomas.lam@gmail.com</td>\n",
       "    </tr>\n",
       "    <tr>\n",
       "      <th>170</th>\n",
       "      <td>Mr Ryder Côté</td>\n",
       "      <td>25.0</td>\n",
       "      <td>male</td>\n",
       "      <td>Canada</td>\n",
       "      <td>ryder.cote@example.com</td>\n",
       "    </tr>\n",
       "    <tr>\n",
       "      <th>184</th>\n",
       "      <td>Mr Philip Bélanger</td>\n",
       "      <td>24.0</td>\n",
       "      <td>male</td>\n",
       "      <td>Canada</td>\n",
       "      <td>philip.belanger@example.com</td>\n",
       "    </tr>\n",
       "  </tbody>\n",
       "</table>\n",
       "</div>"
      ],
      "text/plain": [
       "                   name   age gender country                        email\n",
       "id                                                                       \n",
       "21        Mr Louis Ross  60.0   male  Canada       louis.ross@example.com\n",
       "36      Mr Anthony Wong  42.0   male  Canada     anthony.wong@example.com\n",
       "50       Mr Theo Miller  33.0   male  Canada      theo.miller@example.com\n",
       "131      Mr Xavier Addy  30.0   male  Canada      xavier.addy@example.com\n",
       "151       Mr Thomas Lam  42.0   male  Canada         thomas.lam@gmail.com\n",
       "170       Mr Ryder Côté  25.0   male  Canada       ryder.cote@example.com\n",
       "184  Mr Philip Bélanger  24.0   male  Canada  philip.belanger@example.com"
      ]
     },
     "execution_count": 284,
     "metadata": {},
     "output_type": "execute_result"
    }
   ],
   "source": [
    "data.query('gender == \"male\" and country == \"Canada\" ')"
   ]
  },
  {
   "cell_type": "markdown",
   "metadata": {
    "id": "fMWw4mjWSdb6"
   },
   "source": [
    "### 7ma Pregunta"
   ]
  },
  {
   "cell_type": "code",
   "execution_count": 285,
   "metadata": {
    "colab": {
     "base_uri": "https://localhost:8080/"
    },
    "executionInfo": {
     "elapsed": 245,
     "status": "ok",
     "timestamp": 1637847559265,
     "user": {
      "displayName": "heydy carrasco huaccha",
      "photoUrl": "https://lh3.googleusercontent.com/a-/AOh14GiGyezGgm9Px4LBw_sc7MFWfjUVhWWsvnAz1Ttg=s64",
      "userId": "00007591481982700116"
     },
     "user_tz": 300
    },
    "id": "oBI2YbYsSc8U",
    "outputId": "04abb024-ef8b-4ce3-a8f2-0cb5a059da87"
   },
   "outputs": [
    {
     "data": {
      "text/plain": [
       "gender\n",
       "female    106\n",
       "male       92\n",
       "Name: gender, dtype: int64"
      ]
     },
     "execution_count": 285,
     "metadata": {},
     "output_type": "execute_result"
    }
   ],
   "source": [
    "### 7ma Pregunta\n",
    "##\n",
    "data.groupby('gender')['gender'].count()"
   ]
  },
  {
   "cell_type": "code",
   "execution_count": 286,
   "metadata": {
    "colab": {
     "base_uri": "https://localhost:8080/"
    },
    "executionInfo": {
     "elapsed": 250,
     "status": "ok",
     "timestamp": 1637847496372,
     "user": {
      "displayName": "heydy carrasco huaccha",
      "photoUrl": "https://lh3.googleusercontent.com/a-/AOh14GiGyezGgm9Px4LBw_sc7MFWfjUVhWWsvnAz1Ttg=s64",
      "userId": "00007591481982700116"
     },
     "user_tz": 300
    },
    "id": "54GGcBV8Sc4y",
    "outputId": "d96786c0-911d-4241-b976-244462277f36"
   },
   "outputs": [
    {
     "data": {
      "text/plain": [
       "Index(['female', 'male'], dtype='object', name='gender')"
      ]
     },
     "execution_count": 286,
     "metadata": {},
     "output_type": "execute_result"
    }
   ],
   "source": [
    "data.groupby('gender').count().index"
   ]
  },
  {
   "cell_type": "code",
   "execution_count": 287,
   "metadata": {
    "colab": {
     "base_uri": "https://localhost:8080/"
    },
    "executionInfo": {
     "elapsed": 253,
     "status": "ok",
     "timestamp": 1637847518689,
     "user": {
      "displayName": "heydy carrasco huaccha",
      "photoUrl": "https://lh3.googleusercontent.com/a-/AOh14GiGyezGgm9Px4LBw_sc7MFWfjUVhWWsvnAz1Ttg=s64",
      "userId": "00007591481982700116"
     },
     "user_tz": 300
    },
    "id": "UhtdquaqSc1i",
    "outputId": "9bf0b5aa-8e00-4226-b8da-99d087b83086"
   },
   "outputs": [
    {
     "data": {
      "text/plain": [
       "array(['female', 'male'], dtype=object)"
      ]
     },
     "execution_count": 287,
     "metadata": {},
     "output_type": "execute_result"
    }
   ],
   "source": [
    "data.groupby('gender').count().index.values"
   ]
  },
  {
   "cell_type": "code",
   "execution_count": 288,
   "metadata": {
    "colab": {
     "base_uri": "https://localhost:8080/"
    },
    "executionInfo": {
     "elapsed": 271,
     "status": "ok",
     "timestamp": 1637847547183,
     "user": {
      "displayName": "heydy carrasco huaccha",
      "photoUrl": "https://lh3.googleusercontent.com/a-/AOh14GiGyezGgm9Px4LBw_sc7MFWfjUVhWWsvnAz1Ttg=s64",
      "userId": "00007591481982700116"
     },
     "user_tz": 300
    },
    "id": "gBRFhdQBjMqo",
    "outputId": "919f2b4b-a823-4895-a629-39c1d4be7023"
   },
   "outputs": [
    {
     "data": {
      "text/plain": [
       "gender\n",
       "female    106\n",
       "male       92\n",
       "Name: gender, dtype: int64"
      ]
     },
     "execution_count": 288,
     "metadata": {},
     "output_type": "execute_result"
    }
   ],
   "source": [
    "data.groupby('gender')['gender'].count()"
   ]
  },
  {
   "cell_type": "code",
   "execution_count": 289,
   "metadata": {
    "colab": {
     "base_uri": "https://localhost:8080/"
    },
    "executionInfo": {
     "elapsed": 259,
     "status": "ok",
     "timestamp": 1637847796676,
     "user": {
      "displayName": "heydy carrasco huaccha",
      "photoUrl": "https://lh3.googleusercontent.com/a-/AOh14GiGyezGgm9Px4LBw_sc7MFWfjUVhWWsvnAz1Ttg=s64",
      "userId": "00007591481982700116"
     },
     "user_tz": 300
    },
    "id": "lYLabP3yVZuv",
    "outputId": "ab8b3132-5227-475f-e988-cfd82435e65d"
   },
   "outputs": [
    {
     "data": {
      "text/plain": [
       "gender\n",
       "female    106\n",
       "male       92\n",
       "dtype: int64"
      ]
     },
     "execution_count": 289,
     "metadata": {},
     "output_type": "execute_result"
    }
   ],
   "source": [
    "data.value_counts(data['gender']) # MUCHO MEJOR !!!!"
   ]
  },
  {
   "cell_type": "code",
   "execution_count": 290,
   "metadata": {
    "colab": {
     "base_uri": "https://localhost:8080/"
    },
    "executionInfo": {
     "elapsed": 250,
     "status": "ok",
     "timestamp": 1637848239418,
     "user": {
      "displayName": "heydy carrasco huaccha",
      "photoUrl": "https://lh3.googleusercontent.com/a-/AOh14GiGyezGgm9Px4LBw_sc7MFWfjUVhWWsvnAz1Ttg=s64",
      "userId": "00007591481982700116"
     },
     "user_tz": 300
    },
    "id": "w95pZzOqVqIS",
    "outputId": "7d53157e-8556-4daa-cfae-794604fe132e"
   },
   "outputs": [
    {
     "data": {
      "text/plain": [
       "gender\n",
       "female    106\n",
       "male       92\n",
       "Name: gender, dtype: int64"
      ]
     },
     "execution_count": 290,
     "metadata": {},
     "output_type": "execute_result"
    }
   ],
   "source": [
    "# data.groupby('gender')[''].agg({'count':'gender'}) # NO FUNCIONA\n",
    "\n",
    "# data.groupby('gender').agg({'gender':'count'}) # OK\n",
    "data.groupby('gender')['gender'].agg('count') # OK\n",
    "# PENDIENTE "
   ]
  },
  {
   "cell_type": "markdown",
   "metadata": {
    "id": "jE-XqSzRU8h4"
   },
   "source": [
    "### 8va Pregunta"
   ]
  },
  {
   "cell_type": "markdown",
   "metadata": {
    "id": "9mX8Fv8T_yW6"
   },
   "source": [
    "**Encontrar el pais con mas mujeres**\n",
    "* Filtra mujeres\n",
    "* Agrupa segun pais los ya filtrado\n",
    "* Cuenta solos elementos de pais"
   ]
  },
  {
   "cell_type": "code",
   "execution_count": 291,
   "metadata": {
    "colab": {
     "base_uri": "https://localhost:8080/"
    },
    "executionInfo": {
     "elapsed": 248,
     "status": "ok",
     "timestamp": 1637848470353,
     "user": {
      "displayName": "heydy carrasco huaccha",
      "photoUrl": "https://lh3.googleusercontent.com/a-/AOh14GiGyezGgm9Px4LBw_sc7MFWfjUVhWWsvnAz1Ttg=s64",
      "userId": "00007591481982700116"
     },
     "user_tz": 300
    },
    "id": "98PVXwaEX3Ig",
    "outputId": "157376d2-6916-4931-ef77-eb9173ab3f14"
   },
   "outputs": [
    {
     "data": {
      "text/plain": [
       "country\n",
       "Australia          6\n",
       "Brazil             5\n",
       "Canada             5\n",
       "Denmark           12\n",
       "Finland            7\n",
       "France             4\n",
       "Germany            6\n",
       "Iran               5\n",
       "Ireland            6\n",
       "Netherlands        4\n",
       "New Zealand       10\n",
       "Norway             6\n",
       "Spain              9\n",
       "Switzerland        6\n",
       "Turkey             7\n",
       "United Kingdom     6\n",
       "United States      2\n",
       "Name: country, dtype: int64"
      ]
     },
     "execution_count": 291,
     "metadata": {},
     "output_type": "execute_result"
    }
   ],
   "source": [
    "data[data['gender']=='female'].groupby('country')['country'].count()"
   ]
  },
  {
   "cell_type": "markdown",
   "metadata": {
    "id": "_YJ1g_KZAJV_"
   },
   "source": [
    "* Ordena la tabla agrupada por pais de manera descentende\n",
    "* Solo me importa tener el primer encabezado"
   ]
  },
  {
   "cell_type": "code",
   "execution_count": 292,
   "metadata": {
    "colab": {
     "base_uri": "https://localhost:8080/"
    },
    "executionInfo": {
     "elapsed": 301,
     "status": "ok",
     "timestamp": 1637848527164,
     "user": {
      "displayName": "heydy carrasco huaccha",
      "photoUrl": "https://lh3.googleusercontent.com/a-/AOh14GiGyezGgm9Px4LBw_sc7MFWfjUVhWWsvnAz1Ttg=s64",
      "userId": "00007591481982700116"
     },
     "user_tz": 300
    },
    "id": "MX6L9aUKwlBo",
    "outputId": "4212accd-730b-4a29-d0f6-2cb480053b4b"
   },
   "outputs": [
    {
     "data": {
      "text/plain": [
       "country\n",
       "Denmark        12\n",
       "New Zealand    10\n",
       "Spain           9\n",
       "Name: country, dtype: int64"
      ]
     },
     "execution_count": 292,
     "metadata": {},
     "output_type": "execute_result"
    }
   ],
   "source": [
    "data[data['gender']=='female'].groupby('country')['country'].count(\n",
    ").sort_values(ascending=False).head(3)"
   ]
  },
  {
   "cell_type": "markdown",
   "metadata": {
    "id": "sMMKloIJYdb4"
   },
   "source": [
    "### 9na Pregunta"
   ]
  },
  {
   "cell_type": "markdown",
   "metadata": {
    "id": "wULfPpaSAYGL"
   },
   "source": [
    "Obtener los 5 pais con mas usuarios"
   ]
  },
  {
   "cell_type": "code",
   "execution_count": 293,
   "metadata": {
    "colab": {
     "base_uri": "https://localhost:8080/"
    },
    "executionInfo": {
     "elapsed": 248,
     "status": "ok",
     "timestamp": 1637848736525,
     "user": {
      "displayName": "heydy carrasco huaccha",
      "photoUrl": "https://lh3.googleusercontent.com/a-/AOh14GiGyezGgm9Px4LBw_sc7MFWfjUVhWWsvnAz1Ttg=s64",
      "userId": "00007591481982700116"
     },
     "user_tz": 300
    },
    "id": "F1fjiEw7w9TU",
    "outputId": "b01ac2ca-b890-4d10-ff43-58caefa716a7"
   },
   "outputs": [
    {
     "data": {
      "text/plain": [
       "country\n",
       "Ireland           16\n",
       "Denmark           16\n",
       "New Zealand       14\n",
       "United Kingdom    14\n",
       "Norway            14\n",
       "Name: country, dtype: int64"
      ]
     },
     "execution_count": 293,
     "metadata": {},
     "output_type": "execute_result"
    }
   ],
   "source": [
    "data.groupby('country')['country'].count().sort_values(ascending=False).head(5)"
   ]
  },
  {
   "cell_type": "code",
   "execution_count": 294,
   "metadata": {
    "colab": {
     "base_uri": "https://localhost:8080/"
    },
    "executionInfo": {
     "elapsed": 260,
     "status": "ok",
     "timestamp": 1637849320122,
     "user": {
      "displayName": "heydy carrasco huaccha",
      "photoUrl": "https://lh3.googleusercontent.com/a-/AOh14GiGyezGgm9Px4LBw_sc7MFWfjUVhWWsvnAz1Ttg=s64",
      "userId": "00007591481982700116"
     },
     "user_tz": 300
    },
    "id": "_uDLngGgbTJI",
    "outputId": "9c4478b9-93be-4ddb-f595-a241129f9121"
   },
   "outputs": [
    {
     "data": {
      "text/plain": [
       "pandas.core.series.Series"
      ]
     },
     "execution_count": 294,
     "metadata": {},
     "output_type": "execute_result"
    }
   ],
   "source": [
    "type(data.groupby('country')['country'].count())"
   ]
  },
  {
   "cell_type": "code",
   "execution_count": null,
   "metadata": {},
   "outputs": [],
   "source": []
  }
 ],
 "metadata": {
  "colab": {
   "collapsed_sections": [],
   "name": "Practica Numpy & Pandas.ipynb",
   "provenance": [
    {
     "file_id": "1PJ1mYCB2wNyrVxAMcWESi1aLlbSHeUx1",
     "timestamp": 1637715812905
    }
   ]
  },
  "kernelspec": {
   "display_name": "Python 3",
   "language": "python",
   "name": "python3"
  },
  "language_info": {
   "codemirror_mode": {
    "name": "ipython",
    "version": 3
   },
   "file_extension": ".py",
   "mimetype": "text/x-python",
   "name": "python",
   "nbconvert_exporter": "python",
   "pygments_lexer": "ipython3",
   "version": "3.8.8"
  }
 },
 "nbformat": 4,
 "nbformat_minor": 1
}
