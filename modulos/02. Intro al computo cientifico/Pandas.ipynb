{
 "cells": [
  {
   "cell_type": "markdown",
   "metadata": {},
   "source": [
    "# PANDAS"
   ]
  },
  {
   "cell_type": "markdown",
   "metadata": {},
   "source": [
    "## SERIE | DATAFRAMES | FUNCIONES"
   ]
  },
  {
   "cell_type": "code",
   "execution_count": 2,
   "metadata": {
    "executionInfo": {
     "elapsed": 277,
     "status": "ok",
     "timestamp": 1636691806435,
     "user": {
      "displayName": "heydy carrasco huaccha",
      "photoUrl": "https://lh3.googleusercontent.com/a-/AOh14GiGyezGgm9Px4LBw_sc7MFWfjUVhWWsvnAz1Ttg=s64",
      "userId": "00007591481982700116"
     },
     "user_tz": 300
    },
    "id": "48dqgTmB-7y8"
   },
   "outputs": [],
   "source": [
    "# SERIE\n",
    "import pandas as pd\n",
    "import numpy as np"
   ]
  },
  {
   "cell_type": "code",
   "execution_count": 4,
   "metadata": {
    "colab": {
     "base_uri": "https://localhost:8080/"
    },
    "executionInfo": {
     "elapsed": 7,
     "status": "ok",
     "timestamp": 1636691806719,
     "user": {
      "displayName": "heydy carrasco huaccha",
      "photoUrl": "https://lh3.googleusercontent.com/a-/AOh14GiGyezGgm9Px4LBw_sc7MFWfjUVhWWsvnAz1Ttg=s64",
      "userId": "00007591481982700116"
     },
     "user_tz": 300
    },
    "id": "8EuQ-bnD_WdH",
    "outputId": "3d4fe2d9-3ba5-4f22-8004-7ed0be990308"
   },
   "outputs": [
    {
     "data": {
      "text/plain": [
       "0    10\n",
       "1    20\n",
       "2    30\n",
       "3    40\n",
       "4    50\n",
       "dtype: int64"
      ]
     },
     "execution_count": 4,
     "metadata": {},
     "output_type": "execute_result"
    }
   ],
   "source": [
    "# Una serie es un arreglo de una dimension\n",
    "pd.Series([10, 20, 30, 40, 50])"
   ]
  },
  {
   "cell_type": "code",
   "execution_count": 5,
   "metadata": {
    "colab": {
     "base_uri": "https://localhost:8080/"
    },
    "executionInfo": {
     "elapsed": 4,
     "status": "ok",
     "timestamp": 1636691806719,
     "user": {
      "displayName": "heydy carrasco huaccha",
      "photoUrl": "https://lh3.googleusercontent.com/a-/AOh14GiGyezGgm9Px4LBw_sc7MFWfjUVhWWsvnAz1Ttg=s64",
      "userId": "00007591481982700116"
     },
     "user_tz": 300
    },
    "id": "cAfrX848_uxU",
    "outputId": "6e4da503-c20a-48eb-924d-76f9b21b84fe"
   },
   "outputs": [
    {
     "data": {
      "text/plain": [
       "0    10.0\n",
       "1    20.0\n",
       "2    30.0\n",
       "3    40.0\n",
       "4    50.0\n",
       "dtype: float32"
      ]
     },
     "execution_count": 5,
     "metadata": {},
     "output_type": "execute_result"
    }
   ],
   "source": [
    "# pd.Series([10, 20, 30, 40, 50],dtype=np.int32)\n",
    "pd.Series([10, 20, 30, 40, 50],dtype=np.float32)"
   ]
  },
  {
   "cell_type": "code",
   "execution_count": 6,
   "metadata": {
    "executionInfo": {
     "elapsed": 3,
     "status": "ok",
     "timestamp": 1636691806719,
     "user": {
      "displayName": "heydy carrasco huaccha",
      "photoUrl": "https://lh3.googleusercontent.com/a-/AOh14GiGyezGgm9Px4LBw_sc7MFWfjUVhWWsvnAz1Ttg=s64",
      "userId": "00007591481982700116"
     },
     "user_tz": 300
    },
    "id": "5vRqHFii_uu0"
   },
   "outputs": [],
   "source": [
    "a = pd.Series([10, 20, 30, 40, 50],dtype=np.int32, index=['a','b','c','d','e'])"
   ]
  },
  {
   "cell_type": "code",
   "execution_count": 7,
   "metadata": {
    "colab": {
     "base_uri": "https://localhost:8080/"
    },
    "executionInfo": {
     "elapsed": 3,
     "status": "ok",
     "timestamp": 1636691806720,
     "user": {
      "displayName": "heydy carrasco huaccha",
      "photoUrl": "https://lh3.googleusercontent.com/a-/AOh14GiGyezGgm9Px4LBw_sc7MFWfjUVhWWsvnAz1Ttg=s64",
      "userId": "00007591481982700116"
     },
     "user_tz": 300
    },
    "id": "HZBWE2Fd_usN",
    "outputId": "5d7acf7d-e1fb-4b96-f978-f70ccfeb6339"
   },
   "outputs": [
    {
     "data": {
      "text/plain": [
       "30"
      ]
     },
     "execution_count": 7,
     "metadata": {},
     "output_type": "execute_result"
    }
   ],
   "source": [
    "a['c']"
   ]
  },
  {
   "cell_type": "code",
   "execution_count": 8,
   "metadata": {
    "executionInfo": {
     "elapsed": 2,
     "status": "ok",
     "timestamp": 1636691806720,
     "user": {
      "displayName": "heydy carrasco huaccha",
      "photoUrl": "https://lh3.googleusercontent.com/a-/AOh14GiGyezGgm9Px4LBw_sc7MFWfjUVhWWsvnAz1Ttg=s64",
      "userId": "00007591481982700116"
     },
     "user_tz": 300
    },
    "id": "Dx08OdQS_up1"
   },
   "outputs": [],
   "source": [
    "diccionario = {\n",
    "    'a':10,\n",
    "    'b':200,\n",
    "    'c':300\n",
    "}"
   ]
  },
  {
   "cell_type": "code",
   "execution_count": 9,
   "metadata": {
    "colab": {
     "base_uri": "https://localhost:8080/"
    },
    "executionInfo": {
     "elapsed": 21,
     "status": "ok",
     "timestamp": 1636691807125,
     "user": {
      "displayName": "heydy carrasco huaccha",
      "photoUrl": "https://lh3.googleusercontent.com/a-/AOh14GiGyezGgm9Px4LBw_sc7MFWfjUVhWWsvnAz1Ttg=s64",
      "userId": "00007591481982700116"
     },
     "user_tz": 300
    },
    "id": "4gKrjJJI_um1",
    "outputId": "236cb374-7ac5-4527-ff9f-803f8d995eac"
   },
   "outputs": [
    {
     "data": {
      "text/plain": [
       "a     10\n",
       "b    200\n",
       "c    300\n",
       "dtype: int64"
      ]
     },
     "execution_count": 9,
     "metadata": {},
     "output_type": "execute_result"
    }
   ],
   "source": [
    "# DE DICCIONARIO A SERIE\n",
    "b = pd.Series(diccionario)\n",
    "b"
   ]
  },
  {
   "cell_type": "code",
   "execution_count": 10,
   "metadata": {
    "colab": {
     "base_uri": "https://localhost:8080/"
    },
    "executionInfo": {
     "elapsed": 18,
     "status": "ok",
     "timestamp": 1636691807125,
     "user": {
      "displayName": "heydy carrasco huaccha",
      "photoUrl": "https://lh3.googleusercontent.com/a-/AOh14GiGyezGgm9Px4LBw_sc7MFWfjUVhWWsvnAz1Ttg=s64",
      "userId": "00007591481982700116"
     },
     "user_tz": 300
    },
    "id": "xkxA6LhJFN16",
    "outputId": "ad700cdc-8312-4630-9903-11c0dc9f8c30"
   },
   "outputs": [
    {
     "data": {
      "text/plain": [
       "0    0\n",
       "1    1\n",
       "2    2\n",
       "3    3\n",
       "dtype: int32"
      ]
     },
     "execution_count": 10,
     "metadata": {},
     "output_type": "execute_result"
    }
   ],
   "source": [
    "a = pd.Series(np.arange(4))\n",
    "a"
   ]
  },
  {
   "cell_type": "code",
   "execution_count": 11,
   "metadata": {
    "colab": {
     "base_uri": "https://localhost:8080/"
    },
    "executionInfo": {
     "elapsed": 17,
     "status": "ok",
     "timestamp": 1636691807125,
     "user": {
      "displayName": "heydy carrasco huaccha",
      "photoUrl": "https://lh3.googleusercontent.com/a-/AOh14GiGyezGgm9Px4LBw_sc7MFWfjUVhWWsvnAz1Ttg=s64",
      "userId": "00007591481982700116"
     },
     "user_tz": 300
    },
    "id": "B6rLLSARFNzD",
    "outputId": "b45faf57-c0d5-4f33-b4e4-1a18aa44e884"
   },
   "outputs": [
    {
     "data": {
      "text/plain": [
       "0    0\n",
       "1    1\n",
       "2    2\n",
       "3    3\n",
       "Name: Numeros, dtype: int32"
      ]
     },
     "execution_count": 11,
     "metadata": {},
     "output_type": "execute_result"
    }
   ],
   "source": [
    "# PONER NOMBRE A MI SERIE\n",
    "a.name = 'Numeros'\n",
    "a"
   ]
  },
  {
   "cell_type": "code",
   "execution_count": 12,
   "metadata": {
    "colab": {
     "base_uri": "https://localhost:8080/"
    },
    "executionInfo": {
     "elapsed": 15,
     "status": "ok",
     "timestamp": 1636691807125,
     "user": {
      "displayName": "heydy carrasco huaccha",
      "photoUrl": "https://lh3.googleusercontent.com/a-/AOh14GiGyezGgm9Px4LBw_sc7MFWfjUVhWWsvnAz1Ttg=s64",
      "userId": "00007591481982700116"
     },
     "user_tz": 300
    },
    "id": "Dr5S9n8EFNwZ",
    "outputId": "81079159-9be3-454c-bbe1-af4b3e4f3534"
   },
   "outputs": [
    {
     "data": {
      "text/plain": [
       "RangeIndex(start=0, stop=4, step=1)"
      ]
     },
     "execution_count": 12,
     "metadata": {},
     "output_type": "execute_result"
    }
   ],
   "source": [
    "a.index"
   ]
  },
  {
   "cell_type": "code",
   "execution_count": 13,
   "metadata": {
    "colab": {
     "base_uri": "https://localhost:8080/"
    },
    "executionInfo": {
     "elapsed": 15,
     "status": "ok",
     "timestamp": 1636691807126,
     "user": {
      "displayName": "heydy carrasco huaccha",
      "photoUrl": "https://lh3.googleusercontent.com/a-/AOh14GiGyezGgm9Px4LBw_sc7MFWfjUVhWWsvnAz1Ttg=s64",
      "userId": "00007591481982700116"
     },
     "user_tz": 300
    },
    "id": "BcIDivmgFNqh",
    "outputId": "ebbf521b-54ce-453b-c44d-773b54abc4a3"
   },
   "outputs": [
    {
     "data": {
      "text/plain": [
       "array([0, 1, 2, 3], dtype=int64)"
      ]
     },
     "execution_count": 13,
     "metadata": {},
     "output_type": "execute_result"
    }
   ],
   "source": [
    "a.index.values"
   ]
  },
  {
   "cell_type": "code",
   "execution_count": 14,
   "metadata": {
    "colab": {
     "base_uri": "https://localhost:8080/"
    },
    "executionInfo": {
     "elapsed": 14,
     "status": "ok",
     "timestamp": 1636691807126,
     "user": {
      "displayName": "heydy carrasco huaccha",
      "photoUrl": "https://lh3.googleusercontent.com/a-/AOh14GiGyezGgm9Px4LBw_sc7MFWfjUVhWWsvnAz1Ttg=s64",
      "userId": "00007591481982700116"
     },
     "user_tz": 300
    },
    "id": "HVzqfEdgFNnp",
    "outputId": "f1b6f36a-676d-40e6-a44f-623a312d6b62"
   },
   "outputs": [
    {
     "data": {
      "text/plain": [
       "[0, 1, 2, 3]"
      ]
     },
     "execution_count": 14,
     "metadata": {},
     "output_type": "execute_result"
    }
   ],
   "source": [
    "a.index.tolist()"
   ]
  },
  {
   "cell_type": "code",
   "execution_count": 15,
   "metadata": {
    "colab": {
     "base_uri": "https://localhost:8080/"
    },
    "executionInfo": {
     "elapsed": 13,
     "status": "ok",
     "timestamp": 1636691807126,
     "user": {
      "displayName": "heydy carrasco huaccha",
      "photoUrl": "https://lh3.googleusercontent.com/a-/AOh14GiGyezGgm9Px4LBw_sc7MFWfjUVhWWsvnAz1Ttg=s64",
      "userId": "00007591481982700116"
     },
     "user_tz": 300
    },
    "id": "w0x-FRO6F1q7",
    "outputId": "3fcbfd1b-9fde-4832-db1e-4fdf94c950ef"
   },
   "outputs": [
    {
     "data": {
      "text/plain": [
       "indices\n",
       "0    0\n",
       "1    1\n",
       "2    2\n",
       "3    3\n",
       "Name: Numeros, dtype: int32"
      ]
     },
     "execution_count": 15,
     "metadata": {},
     "output_type": "execute_result"
    }
   ],
   "source": [
    "a.index.name = 'indices'\n",
    "a"
   ]
  },
  {
   "cell_type": "code",
   "execution_count": 16,
   "metadata": {
    "executionInfo": {
     "elapsed": 12,
     "status": "ok",
     "timestamp": 1636691807126,
     "user": {
      "displayName": "heydy carrasco huaccha",
      "photoUrl": "https://lh3.googleusercontent.com/a-/AOh14GiGyezGgm9Px4LBw_sc7MFWfjUVhWWsvnAz1Ttg=s64",
      "userId": "00007591481982700116"
     },
     "user_tz": 300
    },
    "id": "2S_IOnb-GQoV"
   },
   "outputs": [],
   "source": [
    "# np.NaN"
   ]
  },
  {
   "cell_type": "code",
   "execution_count": 17,
   "metadata": {
    "executionInfo": {
     "elapsed": 13,
     "status": "ok",
     "timestamp": 1636691807127,
     "user": {
      "displayName": "heydy carrasco huaccha",
      "photoUrl": "https://lh3.googleusercontent.com/a-/AOh14GiGyezGgm9Px4LBw_sc7MFWfjUVhWWsvnAz1Ttg=s64",
      "userId": "00007591481982700116"
     },
     "user_tz": 300
    },
    "id": "1AjPexYmGQjN"
   },
   "outputs": [],
   "source": [
    "a = pd.Series([10, 20, np.NaN, 40, np.NaN])"
   ]
  },
  {
   "cell_type": "code",
   "execution_count": 18,
   "metadata": {
    "colab": {
     "base_uri": "https://localhost:8080/"
    },
    "executionInfo": {
     "elapsed": 12,
     "status": "ok",
     "timestamp": 1636691807127,
     "user": {
      "displayName": "heydy carrasco huaccha",
      "photoUrl": "https://lh3.googleusercontent.com/a-/AOh14GiGyezGgm9Px4LBw_sc7MFWfjUVhWWsvnAz1Ttg=s64",
      "userId": "00007591481982700116"
     },
     "user_tz": 300
    },
    "id": "KZon77bUG__I",
    "outputId": "96e5f005-8047-409b-f9ec-14eac83028c8"
   },
   "outputs": [
    {
     "data": {
      "text/plain": [
       "0    False\n",
       "1    False\n",
       "2     True\n",
       "3    False\n",
       "4     True\n",
       "dtype: bool"
      ]
     },
     "execution_count": 18,
     "metadata": {},
     "output_type": "execute_result"
    }
   ],
   "source": [
    "# pd.isnull(a)\n",
    "# pd.notnull(a)\n",
    "a.isnull()"
   ]
  },
  {
   "cell_type": "code",
   "execution_count": 19,
   "metadata": {
    "colab": {
     "base_uri": "https://localhost:8080/"
    },
    "executionInfo": {
     "elapsed": 11,
     "status": "ok",
     "timestamp": 1636691807127,
     "user": {
      "displayName": "heydy carrasco huaccha",
      "photoUrl": "https://lh3.googleusercontent.com/a-/AOh14GiGyezGgm9Px4LBw_sc7MFWfjUVhWWsvnAz1Ttg=s64",
      "userId": "00007591481982700116"
     },
     "user_tz": 300
    },
    "id": "AadDNZ7zHRIC",
    "outputId": "f5fb37eb-9871-4942-f140-045386eb7808"
   },
   "outputs": [
    {
     "data": {
      "text/plain": [
       "0    10.0\n",
       "1    20.0\n",
       "2     NaN\n",
       "3    40.0\n",
       "4     NaN\n",
       "dtype: float64"
      ]
     },
     "execution_count": 19,
     "metadata": {},
     "output_type": "execute_result"
    }
   ],
   "source": [
    "a"
   ]
  },
  {
   "cell_type": "code",
   "execution_count": 20,
   "metadata": {
    "colab": {
     "base_uri": "https://localhost:8080/"
    },
    "executionInfo": {
     "elapsed": 10,
     "status": "ok",
     "timestamp": 1636691807127,
     "user": {
      "displayName": "heydy carrasco huaccha",
      "photoUrl": "https://lh3.googleusercontent.com/a-/AOh14GiGyezGgm9Px4LBw_sc7MFWfjUVhWWsvnAz1Ttg=s64",
      "userId": "00007591481982700116"
     },
     "user_tz": 300
    },
    "id": "fXj6LPsFHNJM",
    "outputId": "de6a5ac9-3f35-49d2-b35b-b8c31b6d0a2a"
   },
   "outputs": [
    {
     "data": {
      "text/plain": [
       "0    10.0\n",
       "1    20.0\n",
       "3    40.0\n",
       "dtype: float64"
      ]
     },
     "execution_count": 20,
     "metadata": {},
     "output_type": "execute_result"
    }
   ],
   "source": [
    "a.dropna() # NUEVA SERIE QUE ELIMINA LOS VALORES NULOS"
   ]
  },
  {
   "cell_type": "code",
   "execution_count": 21,
   "metadata": {
    "colab": {
     "base_uri": "https://localhost:8080/"
    },
    "executionInfo": {
     "elapsed": 10,
     "status": "ok",
     "timestamp": 1636691807128,
     "user": {
      "displayName": "heydy carrasco huaccha",
      "photoUrl": "https://lh3.googleusercontent.com/a-/AOh14GiGyezGgm9Px4LBw_sc7MFWfjUVhWWsvnAz1Ttg=s64",
      "userId": "00007591481982700116"
     },
     "user_tz": 300
    },
    "id": "rdyzNMwtIyQY",
    "outputId": "c9f193c2-25db-4845-8554-ffcafc226ebb"
   },
   "outputs": [
    {
     "data": {
      "text/plain": [
       "0    10.0\n",
       "1    20.0\n",
       "2    99.0\n",
       "3    40.0\n",
       "4    99.0\n",
       "dtype: float64"
      ]
     },
     "execution_count": 21,
     "metadata": {},
     "output_type": "execute_result"
    }
   ],
   "source": [
    "a.fillna(99)"
   ]
  },
  {
   "cell_type": "code",
   "execution_count": 22,
   "metadata": {
    "colab": {
     "base_uri": "https://localhost:8080/"
    },
    "executionInfo": {
     "elapsed": 9,
     "status": "ok",
     "timestamp": 1636691807128,
     "user": {
      "displayName": "heydy carrasco huaccha",
      "photoUrl": "https://lh3.googleusercontent.com/a-/AOh14GiGyezGgm9Px4LBw_sc7MFWfjUVhWWsvnAz1Ttg=s64",
      "userId": "00007591481982700116"
     },
     "user_tz": 300
    },
    "id": "j26e7TJQI7pp",
    "outputId": "e7eaa35d-7190-4112-8d22-a083a0d37476"
   },
   "outputs": [
    {
     "data": {
      "text/plain": [
       "0    10.0\n",
       "1    20.0\n",
       "3    40.0\n",
       "dtype: float64"
      ]
     },
     "execution_count": 22,
     "metadata": {},
     "output_type": "execute_result"
    }
   ],
   "source": [
    "a[a.notnull()]"
   ]
  },
  {
   "cell_type": "code",
   "execution_count": 23,
   "metadata": {
    "executionInfo": {
     "elapsed": 8,
     "status": "ok",
     "timestamp": 1636691807128,
     "user": {
      "displayName": "heydy carrasco huaccha",
      "photoUrl": "https://lh3.googleusercontent.com/a-/AOh14GiGyezGgm9Px4LBw_sc7MFWfjUVhWWsvnAz1Ttg=s64",
      "userId": "00007591481982700116"
     },
     "user_tz": 300
    },
    "id": "XEUye1EqMQ_O"
   },
   "outputs": [],
   "source": [
    "# DATAFRAME\n",
    "# pd.dataframe\n",
    "\n",
    "usuarios = {\n",
    "    'nombre':[\"mayu\",\"shirley\",\"ines\",\"karina\"],\n",
    "    'calificaciones':[9,10,4,9.5],\n",
    "    'edad':[23,17,20,34],\n",
    "    'aprobado':[True, False, True, True]\n",
    "}"
   ]
  },
  {
   "cell_type": "code",
   "execution_count": 24,
   "metadata": {
    "colab": {
     "base_uri": "https://localhost:8080/"
    },
    "executionInfo": {
     "elapsed": 7,
     "status": "ok",
     "timestamp": 1636691807128,
     "user": {
      "displayName": "heydy carrasco huaccha",
      "photoUrl": "https://lh3.googleusercontent.com/a-/AOh14GiGyezGgm9Px4LBw_sc7MFWfjUVhWWsvnAz1Ttg=s64",
      "userId": "00007591481982700116"
     },
     "user_tz": 300
    },
    "id": "xztCXSUXMw3u",
    "outputId": "95fb1cea-c96d-4790-f132-52692e4392b7"
   },
   "outputs": [
    {
     "data": {
      "text/plain": [
       "{'nombre': ['mayu', 'shirley', 'ines', 'karina'],\n",
       " 'calificaciones': [9, 10, 4, 9.5],\n",
       " 'edad': [23, 17, 20, 34],\n",
       " 'aprobado': [True, False, True, True]}"
      ]
     },
     "execution_count": 24,
     "metadata": {},
     "output_type": "execute_result"
    }
   ],
   "source": [
    "usuarios"
   ]
  },
  {
   "cell_type": "code",
   "execution_count": 25,
   "metadata": {
    "executionInfo": {
     "elapsed": 272,
     "status": "ok",
     "timestamp": 1636691807394,
     "user": {
      "displayName": "heydy carrasco huaccha",
      "photoUrl": "https://lh3.googleusercontent.com/a-/AOh14GiGyezGgm9Px4LBw_sc7MFWfjUVhWWsvnAz1Ttg=s64",
      "userId": "00007591481982700116"
     },
     "user_tz": 300
    },
    "id": "Gzb7cAH6Mw1F"
   },
   "outputs": [],
   "source": [
    "import pandas as pd\n",
    "users = pd.DataFrame(usuarios,index=['a','b','c','d'])\n"
   ]
  },
  {
   "cell_type": "code",
   "execution_count": 26,
   "metadata": {
    "colab": {
     "base_uri": "https://localhost:8080/",
     "height": 171
    },
    "executionInfo": {
     "elapsed": 7,
     "status": "ok",
     "timestamp": 1636691807395,
     "user": {
      "displayName": "heydy carrasco huaccha",
      "photoUrl": "https://lh3.googleusercontent.com/a-/AOh14GiGyezGgm9Px4LBw_sc7MFWfjUVhWWsvnAz1Ttg=s64",
      "userId": "00007591481982700116"
     },
     "user_tz": 300
    },
    "id": "CxZh0rF9Mwyd",
    "outputId": "f9862c19-7833-44da-cf1d-02e944eea382"
   },
   "outputs": [
    {
     "data": {
      "text/html": [
       "<div>\n",
       "<style scoped>\n",
       "    .dataframe tbody tr th:only-of-type {\n",
       "        vertical-align: middle;\n",
       "    }\n",
       "\n",
       "    .dataframe tbody tr th {\n",
       "        vertical-align: top;\n",
       "    }\n",
       "\n",
       "    .dataframe thead th {\n",
       "        text-align: right;\n",
       "    }\n",
       "</style>\n",
       "<table border=\"1\" class=\"dataframe\">\n",
       "  <thead>\n",
       "    <tr style=\"text-align: right;\">\n",
       "      <th></th>\n",
       "      <th>nombre</th>\n",
       "      <th>calificaciones</th>\n",
       "    </tr>\n",
       "  </thead>\n",
       "  <tbody>\n",
       "    <tr>\n",
       "      <th>a</th>\n",
       "      <td>mayu</td>\n",
       "      <td>9.0</td>\n",
       "    </tr>\n",
       "    <tr>\n",
       "      <th>b</th>\n",
       "      <td>shirley</td>\n",
       "      <td>10.0</td>\n",
       "    </tr>\n",
       "    <tr>\n",
       "      <th>c</th>\n",
       "      <td>ines</td>\n",
       "      <td>4.0</td>\n",
       "    </tr>\n",
       "    <tr>\n",
       "      <th>d</th>\n",
       "      <td>karina</td>\n",
       "      <td>9.5</td>\n",
       "    </tr>\n",
       "  </tbody>\n",
       "</table>\n",
       "</div>"
      ],
      "text/plain": [
       "    nombre  calificaciones\n",
       "a     mayu             9.0\n",
       "b  shirley            10.0\n",
       "c     ines             4.0\n",
       "d   karina             9.5"
      ]
     },
     "execution_count": 26,
     "metadata": {},
     "output_type": "execute_result"
    }
   ],
   "source": [
    "users = pd.DataFrame(usuarios,index=['a','b','c','d'],columns=['nombre','calificaciones'])\n",
    "users"
   ]
  },
  {
   "cell_type": "code",
   "execution_count": 27,
   "metadata": {
    "executionInfo": {
     "elapsed": 6,
     "status": "ok",
     "timestamp": 1636691807395,
     "user": {
      "displayName": "heydy carrasco huaccha",
      "photoUrl": "https://lh3.googleusercontent.com/a-/AOh14GiGyezGgm9Px4LBw_sc7MFWfjUVhWWsvnAz1Ttg=s64",
      "userId": "00007591481982700116"
     },
     "user_tz": 300
    },
    "id": "usdGtrurOlc8"
   },
   "outputs": [],
   "source": [
    "users.columns = ['nombre1','calificaciones1']\n",
    "users.index = '1a','2b','3c','4d'"
   ]
  },
  {
   "cell_type": "code",
   "execution_count": 28,
   "metadata": {
    "colab": {
     "base_uri": "https://localhost:8080/",
     "height": 171
    },
    "executionInfo": {
     "elapsed": 6,
     "status": "ok",
     "timestamp": 1636691807395,
     "user": {
      "displayName": "heydy carrasco huaccha",
      "photoUrl": "https://lh3.googleusercontent.com/a-/AOh14GiGyezGgm9Px4LBw_sc7MFWfjUVhWWsvnAz1Ttg=s64",
      "userId": "00007591481982700116"
     },
     "user_tz": 300
    },
    "id": "Bh-EMY5oOlZ8",
    "outputId": "4238e95a-4b51-4277-b335-63c7e9ae0c4b"
   },
   "outputs": [
    {
     "data": {
      "text/html": [
       "<div>\n",
       "<style scoped>\n",
       "    .dataframe tbody tr th:only-of-type {\n",
       "        vertical-align: middle;\n",
       "    }\n",
       "\n",
       "    .dataframe tbody tr th {\n",
       "        vertical-align: top;\n",
       "    }\n",
       "\n",
       "    .dataframe thead th {\n",
       "        text-align: right;\n",
       "    }\n",
       "</style>\n",
       "<table border=\"1\" class=\"dataframe\">\n",
       "  <thead>\n",
       "    <tr style=\"text-align: right;\">\n",
       "      <th></th>\n",
       "      <th>nombre1</th>\n",
       "      <th>calificaciones1</th>\n",
       "    </tr>\n",
       "  </thead>\n",
       "  <tbody>\n",
       "    <tr>\n",
       "      <th>1a</th>\n",
       "      <td>mayu</td>\n",
       "      <td>9.0</td>\n",
       "    </tr>\n",
       "    <tr>\n",
       "      <th>2b</th>\n",
       "      <td>shirley</td>\n",
       "      <td>10.0</td>\n",
       "    </tr>\n",
       "    <tr>\n",
       "      <th>3c</th>\n",
       "      <td>ines</td>\n",
       "      <td>4.0</td>\n",
       "    </tr>\n",
       "    <tr>\n",
       "      <th>4d</th>\n",
       "      <td>karina</td>\n",
       "      <td>9.5</td>\n",
       "    </tr>\n",
       "  </tbody>\n",
       "</table>\n",
       "</div>"
      ],
      "text/plain": [
       "    nombre1  calificaciones1\n",
       "1a     mayu              9.0\n",
       "2b  shirley             10.0\n",
       "3c     ines              4.0\n",
       "4d   karina              9.5"
      ]
     },
     "execution_count": 28,
     "metadata": {},
     "output_type": "execute_result"
    }
   ],
   "source": [
    "users"
   ]
  },
  {
   "cell_type": "code",
   "execution_count": 29,
   "metadata": {
    "colab": {
     "base_uri": "https://localhost:8080/",
     "height": 171
    },
    "executionInfo": {
     "elapsed": 268,
     "status": "ok",
     "timestamp": 1636691985997,
     "user": {
      "displayName": "heydy carrasco huaccha",
      "photoUrl": "https://lh3.googleusercontent.com/a-/AOh14GiGyezGgm9Px4LBw_sc7MFWfjUVhWWsvnAz1Ttg=s64",
      "userId": "00007591481982700116"
     },
     "user_tz": 300
    },
    "id": "-nYNrFhAOlXM",
    "outputId": "18020d5d-460d-4ab6-809f-54b024804bc3"
   },
   "outputs": [
    {
     "data": {
      "text/html": [
       "<div>\n",
       "<style scoped>\n",
       "    .dataframe tbody tr th:only-of-type {\n",
       "        vertical-align: middle;\n",
       "    }\n",
       "\n",
       "    .dataframe tbody tr th {\n",
       "        vertical-align: top;\n",
       "    }\n",
       "\n",
       "    .dataframe thead th {\n",
       "        text-align: right;\n",
       "    }\n",
       "</style>\n",
       "<table border=\"1\" class=\"dataframe\">\n",
       "  <thead>\n",
       "    <tr style=\"text-align: right;\">\n",
       "      <th></th>\n",
       "      <th>nombre1</th>\n",
       "      <th>calificaciones1</th>\n",
       "    </tr>\n",
       "  </thead>\n",
       "  <tbody>\n",
       "    <tr>\n",
       "      <th>1a</th>\n",
       "      <td>mayu</td>\n",
       "      <td>9.0</td>\n",
       "    </tr>\n",
       "    <tr>\n",
       "      <th>2b</th>\n",
       "      <td>shirley</td>\n",
       "      <td>10.0</td>\n",
       "    </tr>\n",
       "    <tr>\n",
       "      <th>3c</th>\n",
       "      <td>ines</td>\n",
       "      <td>4.0</td>\n",
       "    </tr>\n",
       "    <tr>\n",
       "      <th>4d</th>\n",
       "      <td>karina</td>\n",
       "      <td>9.5</td>\n",
       "    </tr>\n",
       "  </tbody>\n",
       "</table>\n",
       "</div>"
      ],
      "text/plain": [
       "    nombre1  calificaciones1\n",
       "1a     mayu              9.0\n",
       "2b  shirley             10.0\n",
       "3c     ines              4.0\n",
       "4d   karina              9.5"
      ]
     },
     "execution_count": 29,
     "metadata": {},
     "output_type": "execute_result"
    }
   ],
   "source": [
    "users.rename(columns={'nombre':'nameHM'})"
   ]
  },
  {
   "cell_type": "code",
   "execution_count": 30,
   "metadata": {
    "colab": {
     "base_uri": "https://localhost:8080/",
     "height": 171
    },
    "executionInfo": {
     "elapsed": 409,
     "status": "ok",
     "timestamp": 1636692536139,
     "user": {
      "displayName": "heydy carrasco huaccha",
      "photoUrl": "https://lh3.googleusercontent.com/a-/AOh14GiGyezGgm9Px4LBw_sc7MFWfjUVhWWsvnAz1Ttg=s64",
      "userId": "00007591481982700116"
     },
     "user_tz": 300
    },
    "id": "Su0DQIkEdZXW",
    "outputId": "da419620-edf4-4599-8588-8f7bc4543d3d"
   },
   "outputs": [
    {
     "data": {
      "text/html": [
       "<div>\n",
       "<style scoped>\n",
       "    .dataframe tbody tr th:only-of-type {\n",
       "        vertical-align: middle;\n",
       "    }\n",
       "\n",
       "    .dataframe tbody tr th {\n",
       "        vertical-align: top;\n",
       "    }\n",
       "\n",
       "    .dataframe thead th {\n",
       "        text-align: right;\n",
       "    }\n",
       "</style>\n",
       "<table border=\"1\" class=\"dataframe\">\n",
       "  <thead>\n",
       "    <tr style=\"text-align: right;\">\n",
       "      <th></th>\n",
       "      <th>nombre1</th>\n",
       "      <th>calificaciones1</th>\n",
       "    </tr>\n",
       "  </thead>\n",
       "  <tbody>\n",
       "    <tr>\n",
       "      <th>1a</th>\n",
       "      <td>mayu</td>\n",
       "      <td>9.0</td>\n",
       "    </tr>\n",
       "    <tr>\n",
       "      <th>2b</th>\n",
       "      <td>shirley</td>\n",
       "      <td>10.0</td>\n",
       "    </tr>\n",
       "    <tr>\n",
       "      <th>3c</th>\n",
       "      <td>ines</td>\n",
       "      <td>4.0</td>\n",
       "    </tr>\n",
       "    <tr>\n",
       "      <th>4d</th>\n",
       "      <td>karina</td>\n",
       "      <td>9.5</td>\n",
       "    </tr>\n",
       "  </tbody>\n",
       "</table>\n",
       "</div>"
      ],
      "text/plain": [
       "    nombre1  calificaciones1\n",
       "1a     mayu              9.0\n",
       "2b  shirley             10.0\n",
       "3c     ines              4.0\n",
       "4d   karina              9.5"
      ]
     },
     "execution_count": 30,
     "metadata": {},
     "output_type": "execute_result"
    }
   ],
   "source": [
    "# apply\n",
    "#df.apply(function, axis=1) #axis = 1 <> filas\n",
    "users"
   ]
  },
  {
   "cell_type": "code",
   "execution_count": 31,
   "metadata": {
    "colab": {
     "base_uri": "https://localhost:8080/"
    },
    "executionInfo": {
     "elapsed": 272,
     "status": "ok",
     "timestamp": 1636692477898,
     "user": {
      "displayName": "heydy carrasco huaccha",
      "photoUrl": "https://lh3.googleusercontent.com/a-/AOh14GiGyezGgm9Px4LBw_sc7MFWfjUVhWWsvnAz1Ttg=s64",
      "userId": "00007591481982700116"
     },
     "user_tz": 300
    },
    "id": "1ItfeDyadZUe",
    "outputId": "f745e8e4-c195-4ee3-8922-78406f1c7842"
   },
   "outputs": [
    {
     "data": {
      "text/plain": [
       "1a    10.0\n",
       "2b    11.0\n",
       "3c     5.0\n",
       "4d    10.5\n",
       "dtype: float64"
      ]
     },
     "execution_count": 31,
     "metadata": {},
     "output_type": "execute_result"
    }
   ],
   "source": [
    "users.apply(lambda row: row['calificaciones1'] + 1 , axis=1)"
   ]
  },
  {
   "cell_type": "code",
   "execution_count": 32,
   "metadata": {
    "executionInfo": {
     "elapsed": 269,
     "status": "ok",
     "timestamp": 1636692534016,
     "user": {
      "displayName": "heydy carrasco huaccha",
      "photoUrl": "https://lh3.googleusercontent.com/a-/AOh14GiGyezGgm9Px4LBw_sc7MFWfjUVhWWsvnAz1Ttg=s64",
      "userId": "00007591481982700116"
     },
     "user_tz": 300
    },
    "id": "k53DAKeTdZRl"
   },
   "outputs": [],
   "source": [
    "users['calificaciones1'] = users.apply(lambda row: row['calificaciones1'] + 1 , axis=1)"
   ]
  },
  {
   "cell_type": "code",
   "execution_count": 33,
   "metadata": {},
   "outputs": [
    {
     "data": {
      "text/html": [
       "<div>\n",
       "<style scoped>\n",
       "    .dataframe tbody tr th:only-of-type {\n",
       "        vertical-align: middle;\n",
       "    }\n",
       "\n",
       "    .dataframe tbody tr th {\n",
       "        vertical-align: top;\n",
       "    }\n",
       "\n",
       "    .dataframe thead th {\n",
       "        text-align: right;\n",
       "    }\n",
       "</style>\n",
       "<table border=\"1\" class=\"dataframe\">\n",
       "  <thead>\n",
       "    <tr style=\"text-align: right;\">\n",
       "      <th></th>\n",
       "      <th>nombre1</th>\n",
       "      <th>calificaciones1</th>\n",
       "    </tr>\n",
       "  </thead>\n",
       "  <tbody>\n",
       "    <tr>\n",
       "      <th>1a</th>\n",
       "      <td>mayu</td>\n",
       "      <td>10.0</td>\n",
       "    </tr>\n",
       "    <tr>\n",
       "      <th>2b</th>\n",
       "      <td>shirley</td>\n",
       "      <td>11.0</td>\n",
       "    </tr>\n",
       "    <tr>\n",
       "      <th>3c</th>\n",
       "      <td>ines</td>\n",
       "      <td>5.0</td>\n",
       "    </tr>\n",
       "    <tr>\n",
       "      <th>4d</th>\n",
       "      <td>karina</td>\n",
       "      <td>10.5</td>\n",
       "    </tr>\n",
       "  </tbody>\n",
       "</table>\n",
       "</div>"
      ],
      "text/plain": [
       "    nombre1  calificaciones1\n",
       "1a     mayu             10.0\n",
       "2b  shirley             11.0\n",
       "3c     ines              5.0\n",
       "4d   karina             10.5"
      ]
     },
     "execution_count": 33,
     "metadata": {},
     "output_type": "execute_result"
    }
   ],
   "source": [
    "users"
   ]
  },
  {
   "cell_type": "markdown",
   "metadata": {},
   "source": [
    "## ARCHIVOS"
   ]
  },
  {
   "cell_type": "code",
   "execution_count": 41,
   "metadata": {
    "id": "Q9wYtYjadZOu"
   },
   "outputs": [
    {
     "data": {
      "text/html": [
       "<div>\n",
       "<style scoped>\n",
       "    .dataframe tbody tr th:only-of-type {\n",
       "        vertical-align: middle;\n",
       "    }\n",
       "\n",
       "    .dataframe tbody tr th {\n",
       "        vertical-align: top;\n",
       "    }\n",
       "\n",
       "    .dataframe thead th {\n",
       "        text-align: right;\n",
       "    }\n",
       "</style>\n",
       "<table border=\"1\" class=\"dataframe\">\n",
       "  <thead>\n",
       "    <tr style=\"text-align: right;\">\n",
       "      <th></th>\n",
       "      <th>Unnamed: 0</th>\n",
       "      <th>nombre</th>\n",
       "      <th>edad</th>\n",
       "      <th>genero</th>\n",
       "      <th>pais</th>\n",
       "      <th>email</th>\n",
       "    </tr>\n",
       "  </thead>\n",
       "  <tbody>\n",
       "    <tr>\n",
       "      <th>0</th>\n",
       "      <td>0</td>\n",
       "      <td>Mr Jerome Thomas</td>\n",
       "      <td>73</td>\n",
       "      <td>male</td>\n",
       "      <td>United States</td>\n",
       "      <td>jerome.thomas@example.com</td>\n",
       "    </tr>\n",
       "    <tr>\n",
       "      <th>1</th>\n",
       "      <td>1</td>\n",
       "      <td>Mr Gary Berry</td>\n",
       "      <td>70</td>\n",
       "      <td>male</td>\n",
       "      <td>United Kingdom</td>\n",
       "      <td>gary.berry@example.com</td>\n",
       "    </tr>\n",
       "    <tr>\n",
       "      <th>2</th>\n",
       "      <td>2</td>\n",
       "      <td>Mr Noham Dubois</td>\n",
       "      <td>40</td>\n",
       "      <td>male</td>\n",
       "      <td>France</td>\n",
       "      <td>noham.dubois@example.com</td>\n",
       "    </tr>\n",
       "  </tbody>\n",
       "</table>\n",
       "</div>"
      ],
      "text/plain": [
       "   Unnamed: 0            nombre  edad genero            pais  \\\n",
       "0           0  Mr Jerome Thomas    73   male   United States   \n",
       "1           1     Mr Gary Berry    70   male  United Kingdom   \n",
       "2           2   Mr Noham Dubois    40   male          France   \n",
       "\n",
       "                       email  \n",
       "0  jerome.thomas@example.com  \n",
       "1     gary.berry@example.com  \n",
       "2   noham.dubois@example.com  "
      ]
     },
     "execution_count": 41,
     "metadata": {},
     "output_type": "execute_result"
    }
   ],
   "source": [
    "# df = pd.read_csv('./datasets/users.csv', delimiter=\",\", header=5)\n",
    "userdf = pd.read_csv('./datasets/users.csv', delimiter=\",\")\n",
    "userdf.head(3)"
   ]
  },
  {
   "cell_type": "code",
   "execution_count": 42,
   "metadata": {
    "id": "GebaHWd8dZLv"
   },
   "outputs": [
    {
     "data": {
      "text/html": [
       "<div>\n",
       "<style scoped>\n",
       "    .dataframe tbody tr th:only-of-type {\n",
       "        vertical-align: middle;\n",
       "    }\n",
       "\n",
       "    .dataframe tbody tr th {\n",
       "        vertical-align: top;\n",
       "    }\n",
       "\n",
       "    .dataframe thead th {\n",
       "        text-align: right;\n",
       "    }\n",
       "</style>\n",
       "<table border=\"1\" class=\"dataframe\">\n",
       "  <thead>\n",
       "    <tr style=\"text-align: right;\">\n",
       "      <th></th>\n",
       "      <th>Unnamed: 0</th>\n",
       "      <th>nombre</th>\n",
       "      <th>edad</th>\n",
       "      <th>genero</th>\n",
       "      <th>pais</th>\n",
       "      <th>email</th>\n",
       "    </tr>\n",
       "  </thead>\n",
       "  <tbody>\n",
       "    <tr>\n",
       "      <th>197</th>\n",
       "      <td>197</td>\n",
       "      <td>Mr Gabriel Berger</td>\n",
       "      <td>40</td>\n",
       "      <td>male</td>\n",
       "      <td>France</td>\n",
       "      <td>gabriel.berger@example.com</td>\n",
       "    </tr>\n",
       "    <tr>\n",
       "      <th>198</th>\n",
       "      <td>198</td>\n",
       "      <td>Mrs Ülkü Tanrıkulu</td>\n",
       "      <td>37</td>\n",
       "      <td>female</td>\n",
       "      <td>Turkey</td>\n",
       "      <td>ulku.tanrikulu@example.com</td>\n",
       "    </tr>\n",
       "    <tr>\n",
       "      <th>199</th>\n",
       "      <td>199</td>\n",
       "      <td>Mr Raff Valkema</td>\n",
       "      <td>60</td>\n",
       "      <td>male</td>\n",
       "      <td>Netherlands</td>\n",
       "      <td>raff.valkema@example.com</td>\n",
       "    </tr>\n",
       "  </tbody>\n",
       "</table>\n",
       "</div>"
      ],
      "text/plain": [
       "     Unnamed: 0              nombre  edad  genero         pais  \\\n",
       "197         197   Mr Gabriel Berger    40    male       France   \n",
       "198         198  Mrs Ülkü Tanrıkulu    37  female       Turkey   \n",
       "199         199     Mr Raff Valkema    60    male  Netherlands   \n",
       "\n",
       "                          email  \n",
       "197  gabriel.berger@example.com  \n",
       "198  ulku.tanrikulu@example.com  \n",
       "199    raff.valkema@example.com  "
      ]
     },
     "execution_count": 42,
     "metadata": {},
     "output_type": "execute_result"
    }
   ],
   "source": [
    "userdf.tail(3)"
   ]
  },
  {
   "cell_type": "code",
   "execution_count": 46,
   "metadata": {},
   "outputs": [
    {
     "data": {
      "text/html": [
       "<div>\n",
       "<style scoped>\n",
       "    .dataframe tbody tr th:only-of-type {\n",
       "        vertical-align: middle;\n",
       "    }\n",
       "\n",
       "    .dataframe tbody tr th {\n",
       "        vertical-align: top;\n",
       "    }\n",
       "\n",
       "    .dataframe thead th {\n",
       "        text-align: right;\n",
       "    }\n",
       "</style>\n",
       "<table border=\"1\" class=\"dataframe\">\n",
       "  <thead>\n",
       "    <tr style=\"text-align: right;\">\n",
       "      <th></th>\n",
       "      <th>pais</th>\n",
       "      <th>poblacion</th>\n",
       "      <th>lat</th>\n",
       "      <th>long</th>\n",
       "    </tr>\n",
       "  </thead>\n",
       "  <tbody>\n",
       "    <tr>\n",
       "      <th>0</th>\n",
       "      <td>Afganistán</td>\n",
       "      <td>29.121.286</td>\n",
       "      <td>33.000000</td>\n",
       "      <td>65.000000</td>\n",
       "    </tr>\n",
       "    <tr>\n",
       "      <th>1</th>\n",
       "      <td>Albania</td>\n",
       "      <td>2.986.952</td>\n",
       "      <td>41.333333</td>\n",
       "      <td>19.816667</td>\n",
       "    </tr>\n",
       "    <tr>\n",
       "      <th>2</th>\n",
       "      <td>Alemania</td>\n",
       "      <td>81.802.257</td>\n",
       "      <td>51.000000</td>\n",
       "      <td>9.000000</td>\n",
       "    </tr>\n",
       "    <tr>\n",
       "      <th>3</th>\n",
       "      <td>Andorra</td>\n",
       "      <td>84.000</td>\n",
       "      <td>42.500000</td>\n",
       "      <td>1.600000</td>\n",
       "    </tr>\n",
       "    <tr>\n",
       "      <th>4</th>\n",
       "      <td>Angola</td>\n",
       "      <td>13.068.161</td>\n",
       "      <td>-12.500000</td>\n",
       "      <td>18.500000</td>\n",
       "    </tr>\n",
       "  </tbody>\n",
       "</table>\n",
       "</div>"
      ],
      "text/plain": [
       "         pais   poblacion        lat       long\n",
       "0  Afganistán  29.121.286  33.000000  65.000000\n",
       "1     Albania   2.986.952  41.333333  19.816667\n",
       "2    Alemania  81.802.257  51.000000   9.000000\n",
       "3     Andorra      84.000  42.500000   1.600000\n",
       "4      Angola  13.068.161 -12.500000  18.500000"
      ]
     },
     "execution_count": 46,
     "metadata": {},
     "output_type": "execute_result"
    }
   ],
   "source": [
    "paisesdf = pd.read_csv('./datasets/paises.csv', usecols=['pais','poblacion','long','lat'])\n",
    "paisesdf.head(3)"
   ]
  },
  {
   "cell_type": "code",
   "execution_count": 47,
   "metadata": {},
   "outputs": [],
   "source": [
    "paisesdf = pd.read_csv('./datasets/paises.csv', \n",
    "                       usecols=['pais','poblacion','long','lat'],\n",
    "                      na_values=['N/S'])"
   ]
  },
  {
   "cell_type": "code",
   "execution_count": 48,
   "metadata": {},
   "outputs": [
    {
     "data": {
      "text/html": [
       "<div>\n",
       "<style scoped>\n",
       "    .dataframe tbody tr th:only-of-type {\n",
       "        vertical-align: middle;\n",
       "    }\n",
       "\n",
       "    .dataframe tbody tr th {\n",
       "        vertical-align: top;\n",
       "    }\n",
       "\n",
       "    .dataframe thead th {\n",
       "        text-align: right;\n",
       "    }\n",
       "</style>\n",
       "<table border=\"1\" class=\"dataframe\">\n",
       "  <thead>\n",
       "    <tr style=\"text-align: right;\">\n",
       "      <th></th>\n",
       "      <th>pais</th>\n",
       "      <th>poblacion</th>\n",
       "      <th>lat</th>\n",
       "      <th>long</th>\n",
       "    </tr>\n",
       "  </thead>\n",
       "  <tbody>\n",
       "    <tr>\n",
       "      <th>0</th>\n",
       "      <td>Afganistán</td>\n",
       "      <td>29.121.286</td>\n",
       "      <td>33.000000</td>\n",
       "      <td>65.000000</td>\n",
       "    </tr>\n",
       "    <tr>\n",
       "      <th>1</th>\n",
       "      <td>Albania</td>\n",
       "      <td>2.986.952</td>\n",
       "      <td>41.333333</td>\n",
       "      <td>19.816667</td>\n",
       "    </tr>\n",
       "    <tr>\n",
       "      <th>2</th>\n",
       "      <td>Alemania</td>\n",
       "      <td>81.802.257</td>\n",
       "      <td>51.000000</td>\n",
       "      <td>9.000000</td>\n",
       "    </tr>\n",
       "  </tbody>\n",
       "</table>\n",
       "</div>"
      ],
      "text/plain": [
       "         pais   poblacion        lat       long\n",
       "0  Afganistán  29.121.286  33.000000  65.000000\n",
       "1     Albania   2.986.952  41.333333  19.816667\n",
       "2    Alemania  81.802.257  51.000000   9.000000"
      ]
     },
     "execution_count": 48,
     "metadata": {},
     "output_type": "execute_result"
    }
   ],
   "source": [
    "paisesdf.head(3)"
   ]
  },
  {
   "cell_type": "code",
   "execution_count": 52,
   "metadata": {},
   "outputs": [],
   "source": [
    "# paisesdf.poblacion.values"
   ]
  },
  {
   "cell_type": "code",
   "execution_count": 56,
   "metadata": {},
   "outputs": [],
   "source": [
    "paises = paisesdf[paisesdf.poblacion.notnull()]"
   ]
  },
  {
   "cell_type": "code",
   "execution_count": 63,
   "metadata": {},
   "outputs": [
    {
     "data": {
      "text/html": [
       "<div>\n",
       "<style scoped>\n",
       "    .dataframe tbody tr th:only-of-type {\n",
       "        vertical-align: middle;\n",
       "    }\n",
       "\n",
       "    .dataframe tbody tr th {\n",
       "        vertical-align: top;\n",
       "    }\n",
       "\n",
       "    .dataframe thead th {\n",
       "        text-align: right;\n",
       "    }\n",
       "</style>\n",
       "<table border=\"1\" class=\"dataframe\">\n",
       "  <thead>\n",
       "    <tr style=\"text-align: right;\">\n",
       "      <th></th>\n",
       "      <th>pais</th>\n",
       "      <th>poblacion</th>\n",
       "      <th>lat</th>\n",
       "      <th>long</th>\n",
       "    </tr>\n",
       "  </thead>\n",
       "  <tbody>\n",
       "    <tr>\n",
       "      <th>0</th>\n",
       "      <td>Afganistán</td>\n",
       "      <td>29121286</td>\n",
       "      <td>33.000000</td>\n",
       "      <td>65.000000</td>\n",
       "    </tr>\n",
       "    <tr>\n",
       "      <th>1</th>\n",
       "      <td>Albania</td>\n",
       "      <td>2986952</td>\n",
       "      <td>41.333333</td>\n",
       "      <td>19.816667</td>\n",
       "    </tr>\n",
       "    <tr>\n",
       "      <th>2</th>\n",
       "      <td>Alemania</td>\n",
       "      <td>81802257</td>\n",
       "      <td>51.000000</td>\n",
       "      <td>9.000000</td>\n",
       "    </tr>\n",
       "  </tbody>\n",
       "</table>\n",
       "</div>"
      ],
      "text/plain": [
       "         pais  poblacion        lat       long\n",
       "0  Afganistán   29121286  33.000000  65.000000\n",
       "1     Albania    2986952  41.333333  19.816667\n",
       "2    Alemania   81802257  51.000000   9.000000"
      ]
     },
     "execution_count": 63,
     "metadata": {},
     "output_type": "execute_result"
    }
   ],
   "source": [
    "paises.head(3)"
   ]
  },
  {
   "cell_type": "code",
   "execution_count": 62,
   "metadata": {},
   "outputs": [],
   "source": [
    "paises.poblacion = paises.apply(lambda row: int(str(row['poblacion']).replace('.','')), axis=1)"
   ]
  },
  {
   "cell_type": "code",
   "execution_count": null,
   "metadata": {},
   "outputs": [],
   "source": [
    "# Indices columnas"
   ]
  },
  {
   "cell_type": "code",
   "execution_count": null,
   "metadata": {},
   "outputs": [],
   "source": [
    "paises"
   ]
  },
  {
   "cell_type": "code",
   "execution_count": 65,
   "metadata": {},
   "outputs": [
    {
     "data": {
      "text/html": [
       "<div>\n",
       "<style scoped>\n",
       "    .dataframe tbody tr th:only-of-type {\n",
       "        vertical-align: middle;\n",
       "    }\n",
       "\n",
       "    .dataframe tbody tr th {\n",
       "        vertical-align: top;\n",
       "    }\n",
       "\n",
       "    .dataframe thead th {\n",
       "        text-align: right;\n",
       "    }\n",
       "</style>\n",
       "<table border=\"1\" class=\"dataframe\">\n",
       "  <thead>\n",
       "    <tr style=\"text-align: right;\">\n",
       "      <th></th>\n",
       "      <th>pais</th>\n",
       "      <th>poblacion</th>\n",
       "      <th>lat</th>\n",
       "      <th>long</th>\n",
       "    </tr>\n",
       "  </thead>\n",
       "  <tbody>\n",
       "    <tr>\n",
       "      <th>240</th>\n",
       "      <td>Zimbabue</td>\n",
       "      <td>11651858</td>\n",
       "      <td>-20.000000</td>\n",
       "      <td>30.000000</td>\n",
       "    </tr>\n",
       "    <tr>\n",
       "      <th>239</th>\n",
       "      <td>Zambia</td>\n",
       "      <td>13460305</td>\n",
       "      <td>-15.000000</td>\n",
       "      <td>30.000000</td>\n",
       "    </tr>\n",
       "    <tr>\n",
       "      <th>238</th>\n",
       "      <td>Yibuti</td>\n",
       "      <td>740528</td>\n",
       "      <td>11.500000</td>\n",
       "      <td>43.000000</td>\n",
       "    </tr>\n",
       "    <tr>\n",
       "      <th>237</th>\n",
       "      <td>Yemen</td>\n",
       "      <td>23495361</td>\n",
       "      <td>15.000000</td>\n",
       "      <td>48.000000</td>\n",
       "    </tr>\n",
       "    <tr>\n",
       "      <th>235</th>\n",
       "      <td>Vietnam</td>\n",
       "      <td>89571130</td>\n",
       "      <td>16.000000</td>\n",
       "      <td>106.000000</td>\n",
       "    </tr>\n",
       "    <tr>\n",
       "      <th>...</th>\n",
       "      <td>...</td>\n",
       "      <td>...</td>\n",
       "      <td>...</td>\n",
       "      <td>...</td>\n",
       "    </tr>\n",
       "    <tr>\n",
       "      <th>4</th>\n",
       "      <td>Angola</td>\n",
       "      <td>13068161</td>\n",
       "      <td>-12.500000</td>\n",
       "      <td>18.500000</td>\n",
       "    </tr>\n",
       "    <tr>\n",
       "      <th>3</th>\n",
       "      <td>Andorra</td>\n",
       "      <td>84000</td>\n",
       "      <td>42.500000</td>\n",
       "      <td>1.600000</td>\n",
       "    </tr>\n",
       "    <tr>\n",
       "      <th>2</th>\n",
       "      <td>Alemania</td>\n",
       "      <td>81802257</td>\n",
       "      <td>51.000000</td>\n",
       "      <td>9.000000</td>\n",
       "    </tr>\n",
       "    <tr>\n",
       "      <th>1</th>\n",
       "      <td>Albania</td>\n",
       "      <td>2986952</td>\n",
       "      <td>41.333333</td>\n",
       "      <td>19.816667</td>\n",
       "    </tr>\n",
       "    <tr>\n",
       "      <th>0</th>\n",
       "      <td>Afganistán</td>\n",
       "      <td>29121286</td>\n",
       "      <td>33.000000</td>\n",
       "      <td>65.000000</td>\n",
       "    </tr>\n",
       "  </tbody>\n",
       "</table>\n",
       "<p>191 rows × 4 columns</p>\n",
       "</div>"
      ],
      "text/plain": [
       "           pais  poblacion        lat        long\n",
       "240    Zimbabue   11651858 -20.000000   30.000000\n",
       "239      Zambia   13460305 -15.000000   30.000000\n",
       "238      Yibuti     740528  11.500000   43.000000\n",
       "237       Yemen   23495361  15.000000   48.000000\n",
       "235     Vietnam   89571130  16.000000  106.000000\n",
       "..          ...        ...        ...         ...\n",
       "4        Angola   13068161 -12.500000   18.500000\n",
       "3       Andorra      84000  42.500000    1.600000\n",
       "2      Alemania   81802257  51.000000    9.000000\n",
       "1       Albania    2986952  41.333333   19.816667\n",
       "0    Afganistán   29121286  33.000000   65.000000\n",
       "\n",
       "[191 rows x 4 columns]"
      ]
     },
     "execution_count": 65,
     "metadata": {},
     "output_type": "execute_result"
    }
   ],
   "source": [
    "paises.sort_index(ascending=False)"
   ]
  },
  {
   "cell_type": "code",
   "execution_count": 67,
   "metadata": {},
   "outputs": [
    {
     "data": {
      "text/html": [
       "<div>\n",
       "<style scoped>\n",
       "    .dataframe tbody tr th:only-of-type {\n",
       "        vertical-align: middle;\n",
       "    }\n",
       "\n",
       "    .dataframe tbody tr th {\n",
       "        vertical-align: top;\n",
       "    }\n",
       "\n",
       "    .dataframe thead th {\n",
       "        text-align: right;\n",
       "    }\n",
       "</style>\n",
       "<table border=\"1\" class=\"dataframe\">\n",
       "  <thead>\n",
       "    <tr style=\"text-align: right;\">\n",
       "      <th></th>\n",
       "      <th>pais</th>\n",
       "      <th>poblacion</th>\n",
       "      <th>lat</th>\n",
       "      <th>long</th>\n",
       "    </tr>\n",
       "  </thead>\n",
       "  <tbody>\n",
       "    <tr>\n",
       "      <th>42</th>\n",
       "      <td>China</td>\n",
       "      <td>1330044000</td>\n",
       "      <td>35.0000</td>\n",
       "      <td>105.0000</td>\n",
       "    </tr>\n",
       "    <tr>\n",
       "      <th>92</th>\n",
       "      <td>India</td>\n",
       "      <td>1173108018</td>\n",
       "      <td>20.0000</td>\n",
       "      <td>77.0000</td>\n",
       "    </tr>\n",
       "    <tr>\n",
       "      <th>64</th>\n",
       "      <td>Estados Unidos</td>\n",
       "      <td>310232863</td>\n",
       "      <td>38.0000</td>\n",
       "      <td>-97.0000</td>\n",
       "    </tr>\n",
       "    <tr>\n",
       "      <th>93</th>\n",
       "      <td>Indonesia</td>\n",
       "      <td>242968342</td>\n",
       "      <td>-5.0000</td>\n",
       "      <td>120.0000</td>\n",
       "    </tr>\n",
       "    <tr>\n",
       "      <th>29</th>\n",
       "      <td>Brasil</td>\n",
       "      <td>201103330</td>\n",
       "      <td>-10.0000</td>\n",
       "      <td>-55.0000</td>\n",
       "    </tr>\n",
       "    <tr>\n",
       "      <th>...</th>\n",
       "      <td>...</td>\n",
       "      <td>...</td>\n",
       "      <td>...</td>\n",
       "      <td>...</td>\n",
       "    </tr>\n",
       "    <tr>\n",
       "      <th>150</th>\n",
       "      <td>Mónaco</td>\n",
       "      <td>32965</td>\n",
       "      <td>43.7333</td>\n",
       "      <td>7.4000</td>\n",
       "    </tr>\n",
       "    <tr>\n",
       "      <th>193</th>\n",
       "      <td>San Marino</td>\n",
       "      <td>31477</td>\n",
       "      <td>43.7667</td>\n",
       "      <td>12.4167</td>\n",
       "    </tr>\n",
       "    <tr>\n",
       "      <th>228</th>\n",
       "      <td>Tuvalu</td>\n",
       "      <td>10472</td>\n",
       "      <td>-8.0000</td>\n",
       "      <td>178.0000</td>\n",
       "    </tr>\n",
       "    <tr>\n",
       "      <th>156</th>\n",
       "      <td>Nauru</td>\n",
       "      <td>10065</td>\n",
       "      <td>-0.5333</td>\n",
       "      <td>166.9167</td>\n",
       "    </tr>\n",
       "    <tr>\n",
       "      <th>44</th>\n",
       "      <td>Ciudad del Vaticano</td>\n",
       "      <td>921</td>\n",
       "      <td>41.9000</td>\n",
       "      <td>12.4500</td>\n",
       "    </tr>\n",
       "  </tbody>\n",
       "</table>\n",
       "<p>191 rows × 4 columns</p>\n",
       "</div>"
      ],
      "text/plain": [
       "                    pais   poblacion      lat      long\n",
       "42                 China  1330044000  35.0000  105.0000\n",
       "92                 India  1173108018  20.0000   77.0000\n",
       "64        Estados Unidos   310232863  38.0000  -97.0000\n",
       "93             Indonesia   242968342  -5.0000  120.0000\n",
       "29                Brasil   201103330 -10.0000  -55.0000\n",
       "..                   ...         ...      ...       ...\n",
       "150               Mónaco       32965  43.7333    7.4000\n",
       "193           San Marino       31477  43.7667   12.4167\n",
       "228               Tuvalu       10472  -8.0000  178.0000\n",
       "156                Nauru       10065  -0.5333  166.9167\n",
       "44   Ciudad del Vaticano         921  41.9000   12.4500\n",
       "\n",
       "[191 rows x 4 columns]"
      ]
     },
     "execution_count": 67,
     "metadata": {},
     "output_type": "execute_result"
    }
   ],
   "source": [
    "paises.sort_values('poblacion',ascending=False)"
   ]
  },
  {
   "cell_type": "code",
   "execution_count": 72,
   "metadata": {},
   "outputs": [],
   "source": [
    "# Crear archivos\n",
    "# paises.to_csv('./datasets/paisesNew.csv')\n",
    "# paises.to_csv('./datasets/paisesNew.csv',columns=['pais','poblacion']) # Solo algunas columnas\n",
    "paises.to_csv('./datasets/paisesNew.csv', \n",
    "              columns=['pais','poblacion'],\n",
    "              index=False\n",
    "             )  # SIN INDICE"
   ]
  },
  {
   "cell_type": "code",
   "execution_count": null,
   "metadata": {},
   "outputs": [],
   "source": [
    "# MODIFICAR DATAFRAME"
   ]
  },
  {
   "cell_type": "code",
   "execution_count": 3,
   "metadata": {},
   "outputs": [],
   "source": [
    "# pd.DataFrame(np.arange(16).reshape(4,4))\n",
    "df = pd.DataFrame(np.arange(16).reshape(4,4), \n",
    "             columns=list('ABCD'),\n",
    "            index=list('abcd'))"
   ]
  },
  {
   "cell_type": "code",
   "execution_count": 77,
   "metadata": {},
   "outputs": [],
   "source": [
    "df.B['b'] = 50"
   ]
  },
  {
   "cell_type": "code",
   "execution_count": 89,
   "metadata": {},
   "outputs": [
    {
     "data": {
      "text/html": [
       "<div>\n",
       "<style scoped>\n",
       "    .dataframe tbody tr th:only-of-type {\n",
       "        vertical-align: middle;\n",
       "    }\n",
       "\n",
       "    .dataframe tbody tr th {\n",
       "        vertical-align: top;\n",
       "    }\n",
       "\n",
       "    .dataframe thead th {\n",
       "        text-align: right;\n",
       "    }\n",
       "</style>\n",
       "<table border=\"1\" class=\"dataframe\">\n",
       "  <thead>\n",
       "    <tr style=\"text-align: right;\">\n",
       "      <th></th>\n",
       "      <th>A</th>\n",
       "      <th>Z</th>\n",
       "      <th>B</th>\n",
       "      <th>C</th>\n",
       "      <th>D</th>\n",
       "    </tr>\n",
       "  </thead>\n",
       "  <tbody>\n",
       "    <tr>\n",
       "      <th>a</th>\n",
       "      <td>0</td>\n",
       "      <td>100</td>\n",
       "      <td>10</td>\n",
       "      <td>2</td>\n",
       "      <td>3</td>\n",
       "    </tr>\n",
       "    <tr>\n",
       "      <th>b</th>\n",
       "      <td>4</td>\n",
       "      <td>200</td>\n",
       "      <td>20</td>\n",
       "      <td>6</td>\n",
       "      <td>7</td>\n",
       "    </tr>\n",
       "    <tr>\n",
       "      <th>c</th>\n",
       "      <td>8</td>\n",
       "      <td>300</td>\n",
       "      <td>30</td>\n",
       "      <td>10</td>\n",
       "      <td>11</td>\n",
       "    </tr>\n",
       "    <tr>\n",
       "      <th>d</th>\n",
       "      <td>12</td>\n",
       "      <td>400</td>\n",
       "      <td>40</td>\n",
       "      <td>14</td>\n",
       "      <td>15</td>\n",
       "    </tr>\n",
       "  </tbody>\n",
       "</table>\n",
       "</div>"
      ],
      "text/plain": [
       "    A    Z   B   C   D\n",
       "a   0  100  10   2   3\n",
       "b   4  200  20   6   7\n",
       "c   8  300  30  10  11\n",
       "d  12  400  40  14  15"
      ]
     },
     "execution_count": 89,
     "metadata": {},
     "output_type": "execute_result"
    }
   ],
   "source": [
    "df"
   ]
  },
  {
   "cell_type": "code",
   "execution_count": 79,
   "metadata": {},
   "outputs": [],
   "source": [
    "df['B']=10,20,30,40"
   ]
  },
  {
   "cell_type": "code",
   "execution_count": 81,
   "metadata": {},
   "outputs": [
    {
     "data": {
      "text/html": [
       "<div>\n",
       "<style scoped>\n",
       "    .dataframe tbody tr th:only-of-type {\n",
       "        vertical-align: middle;\n",
       "    }\n",
       "\n",
       "    .dataframe tbody tr th {\n",
       "        vertical-align: top;\n",
       "    }\n",
       "\n",
       "    .dataframe thead th {\n",
       "        text-align: right;\n",
       "    }\n",
       "</style>\n",
       "<table border=\"1\" class=\"dataframe\">\n",
       "  <thead>\n",
       "    <tr style=\"text-align: right;\">\n",
       "      <th></th>\n",
       "      <th>A</th>\n",
       "      <th>B</th>\n",
       "      <th>C</th>\n",
       "    </tr>\n",
       "  </thead>\n",
       "  <tbody>\n",
       "    <tr>\n",
       "      <th>a</th>\n",
       "      <td>0</td>\n",
       "      <td>10</td>\n",
       "      <td>2</td>\n",
       "    </tr>\n",
       "    <tr>\n",
       "      <th>b</th>\n",
       "      <td>4</td>\n",
       "      <td>20</td>\n",
       "      <td>6</td>\n",
       "    </tr>\n",
       "    <tr>\n",
       "      <th>c</th>\n",
       "      <td>8</td>\n",
       "      <td>30</td>\n",
       "      <td>10</td>\n",
       "    </tr>\n",
       "    <tr>\n",
       "      <th>d</th>\n",
       "      <td>12</td>\n",
       "      <td>40</td>\n",
       "      <td>14</td>\n",
       "    </tr>\n",
       "  </tbody>\n",
       "</table>\n",
       "</div>"
      ],
      "text/plain": [
       "    A   B   C\n",
       "a   0  10   2\n",
       "b   4  20   6\n",
       "c   8  30  10\n",
       "d  12  40  14"
      ]
     },
     "execution_count": 81,
     "metadata": {},
     "output_type": "execute_result"
    }
   ],
   "source": [
    "# ELIMINAR la COLUMNA\n",
    "df.drop('D', axis=1) # axis=1 <> Columnas"
   ]
  },
  {
   "cell_type": "code",
   "execution_count": 83,
   "metadata": {},
   "outputs": [
    {
     "data": {
      "text/html": [
       "<div>\n",
       "<style scoped>\n",
       "    .dataframe tbody tr th:only-of-type {\n",
       "        vertical-align: middle;\n",
       "    }\n",
       "\n",
       "    .dataframe tbody tr th {\n",
       "        vertical-align: top;\n",
       "    }\n",
       "\n",
       "    .dataframe thead th {\n",
       "        text-align: right;\n",
       "    }\n",
       "</style>\n",
       "<table border=\"1\" class=\"dataframe\">\n",
       "  <thead>\n",
       "    <tr style=\"text-align: right;\">\n",
       "      <th></th>\n",
       "      <th>A</th>\n",
       "      <th>B</th>\n",
       "      <th>C</th>\n",
       "      <th>D</th>\n",
       "    </tr>\n",
       "  </thead>\n",
       "  <tbody>\n",
       "    <tr>\n",
       "      <th>a</th>\n",
       "      <td>0</td>\n",
       "      <td>10</td>\n",
       "      <td>2</td>\n",
       "      <td>3</td>\n",
       "    </tr>\n",
       "    <tr>\n",
       "      <th>c</th>\n",
       "      <td>8</td>\n",
       "      <td>30</td>\n",
       "      <td>10</td>\n",
       "      <td>11</td>\n",
       "    </tr>\n",
       "    <tr>\n",
       "      <th>d</th>\n",
       "      <td>12</td>\n",
       "      <td>40</td>\n",
       "      <td>14</td>\n",
       "      <td>15</td>\n",
       "    </tr>\n",
       "  </tbody>\n",
       "</table>\n",
       "</div>"
      ],
      "text/plain": [
       "    A   B   C   D\n",
       "a   0  10   2   3\n",
       "c   8  30  10  11\n",
       "d  12  40  14  15"
      ]
     },
     "execution_count": 83,
     "metadata": {},
     "output_type": "execute_result"
    }
   ],
   "source": [
    "# ELIMINAR la FILA\n",
    "df.drop('b', axis=0)"
   ]
  },
  {
   "cell_type": "code",
   "execution_count": 4,
   "metadata": {},
   "outputs": [],
   "source": [
    "# INSERTAR NUEVA COLUMNA\n",
    "df.insert(1,'Z',[100,200,300,400]) # SI MODIFICA al Dataframe"
   ]
  },
  {
   "cell_type": "code",
   "execution_count": 7,
   "metadata": {},
   "outputs": [
    {
     "data": {
      "text/html": [
       "<div>\n",
       "<style scoped>\n",
       "    .dataframe tbody tr th:only-of-type {\n",
       "        vertical-align: middle;\n",
       "    }\n",
       "\n",
       "    .dataframe tbody tr th {\n",
       "        vertical-align: top;\n",
       "    }\n",
       "\n",
       "    .dataframe thead th {\n",
       "        text-align: right;\n",
       "    }\n",
       "</style>\n",
       "<table border=\"1\" class=\"dataframe\">\n",
       "  <thead>\n",
       "    <tr style=\"text-align: right;\">\n",
       "      <th></th>\n",
       "      <th>A</th>\n",
       "      <th>Z</th>\n",
       "      <th>B</th>\n",
       "      <th>C</th>\n",
       "      <th>D</th>\n",
       "    </tr>\n",
       "  </thead>\n",
       "  <tbody>\n",
       "    <tr>\n",
       "      <th>a</th>\n",
       "      <td>0</td>\n",
       "      <td>100</td>\n",
       "      <td>1</td>\n",
       "      <td>2</td>\n",
       "      <td>3</td>\n",
       "    </tr>\n",
       "    <tr>\n",
       "      <th>b</th>\n",
       "      <td>4</td>\n",
       "      <td>200</td>\n",
       "      <td>5</td>\n",
       "      <td>6</td>\n",
       "      <td>7</td>\n",
       "    </tr>\n",
       "    <tr>\n",
       "      <th>c</th>\n",
       "      <td>8</td>\n",
       "      <td>300</td>\n",
       "      <td>9</td>\n",
       "      <td>10</td>\n",
       "      <td>11</td>\n",
       "    </tr>\n",
       "    <tr>\n",
       "      <th>d</th>\n",
       "      <td>12</td>\n",
       "      <td>400</td>\n",
       "      <td>13</td>\n",
       "      <td>14</td>\n",
       "      <td>15</td>\n",
       "    </tr>\n",
       "  </tbody>\n",
       "</table>\n",
       "</div>"
      ],
      "text/plain": [
       "    A    Z   B   C   D\n",
       "a   0  100   1   2   3\n",
       "b   4  200   5   6   7\n",
       "c   8  300   9  10  11\n",
       "d  12  400  13  14  15"
      ]
     },
     "execution_count": 7,
     "metadata": {},
     "output_type": "execute_result"
    }
   ],
   "source": [
    "df"
   ]
  },
  {
   "cell_type": "code",
   "execution_count": 6,
   "metadata": {},
   "outputs": [
    {
     "data": {
      "text/html": [
       "<div>\n",
       "<style scoped>\n",
       "    .dataframe tbody tr th:only-of-type {\n",
       "        vertical-align: middle;\n",
       "    }\n",
       "\n",
       "    .dataframe tbody tr th {\n",
       "        vertical-align: top;\n",
       "    }\n",
       "\n",
       "    .dataframe thead th {\n",
       "        text-align: right;\n",
       "    }\n",
       "</style>\n",
       "<table border=\"1\" class=\"dataframe\">\n",
       "  <thead>\n",
       "    <tr style=\"text-align: right;\">\n",
       "      <th></th>\n",
       "      <th>A</th>\n",
       "      <th>Z</th>\n",
       "      <th>B</th>\n",
       "      <th>C</th>\n",
       "      <th>D</th>\n",
       "      <th>Z2</th>\n",
       "    </tr>\n",
       "  </thead>\n",
       "  <tbody>\n",
       "    <tr>\n",
       "      <th>a</th>\n",
       "      <td>0</td>\n",
       "      <td>100</td>\n",
       "      <td>1</td>\n",
       "      <td>2</td>\n",
       "      <td>3</td>\n",
       "      <td>100</td>\n",
       "    </tr>\n",
       "    <tr>\n",
       "      <th>b</th>\n",
       "      <td>4</td>\n",
       "      <td>200</td>\n",
       "      <td>5</td>\n",
       "      <td>6</td>\n",
       "      <td>7</td>\n",
       "      <td>200</td>\n",
       "    </tr>\n",
       "    <tr>\n",
       "      <th>c</th>\n",
       "      <td>8</td>\n",
       "      <td>300</td>\n",
       "      <td>9</td>\n",
       "      <td>10</td>\n",
       "      <td>11</td>\n",
       "      <td>300</td>\n",
       "    </tr>\n",
       "    <tr>\n",
       "      <th>d</th>\n",
       "      <td>12</td>\n",
       "      <td>400</td>\n",
       "      <td>13</td>\n",
       "      <td>14</td>\n",
       "      <td>15</td>\n",
       "      <td>400</td>\n",
       "    </tr>\n",
       "  </tbody>\n",
       "</table>\n",
       "</div>"
      ],
      "text/plain": [
       "    A    Z   B   C   D   Z2\n",
       "a   0  100   1   2   3  100\n",
       "b   4  200   5   6   7  200\n",
       "c   8  300   9  10  11  300\n",
       "d  12  400  13  14  15  400"
      ]
     },
     "execution_count": 6,
     "metadata": {},
     "output_type": "execute_result"
    }
   ],
   "source": [
    "df.assign(Z2 =[100,200,300,400])"
   ]
  },
  {
   "cell_type": "markdown",
   "metadata": {},
   "source": [
    "## loc"
   ]
  },
  {
   "cell_type": "code",
   "execution_count": 122,
   "metadata": {},
   "outputs": [],
   "source": [
    "usuarios = {\n",
    "    'nombre':[\"mayu\",\"shirley\",\"ines\",\"karina\",'marilu'],\n",
    "    'calificaciones':np.random.randint(5,10,5),\n",
    "    'edad':np.random.randint(15,30,5),\n",
    "    'email':[\"mayu@aa\",\"shirley@aa\",\"ines@bb\",\"karina@bb\",'marilu@aa'],\n",
    "    'aprobado':[True, False, True, True, False]\n",
    "}"
   ]
  },
  {
   "cell_type": "code",
   "execution_count": 123,
   "metadata": {},
   "outputs": [
    {
     "data": {
      "text/html": [
       "<div>\n",
       "<style scoped>\n",
       "    .dataframe tbody tr th:only-of-type {\n",
       "        vertical-align: middle;\n",
       "    }\n",
       "\n",
       "    .dataframe tbody tr th {\n",
       "        vertical-align: top;\n",
       "    }\n",
       "\n",
       "    .dataframe thead th {\n",
       "        text-align: right;\n",
       "    }\n",
       "</style>\n",
       "<table border=\"1\" class=\"dataframe\">\n",
       "  <thead>\n",
       "    <tr style=\"text-align: right;\">\n",
       "      <th></th>\n",
       "      <th>nombre</th>\n",
       "      <th>calificaciones</th>\n",
       "      <th>edad</th>\n",
       "      <th>email</th>\n",
       "      <th>aprobado</th>\n",
       "    </tr>\n",
       "  </thead>\n",
       "  <tbody>\n",
       "    <tr>\n",
       "      <th>0</th>\n",
       "      <td>mayu</td>\n",
       "      <td>7</td>\n",
       "      <td>16</td>\n",
       "      <td>mayu@aa</td>\n",
       "      <td>True</td>\n",
       "    </tr>\n",
       "    <tr>\n",
       "      <th>1</th>\n",
       "      <td>shirley</td>\n",
       "      <td>8</td>\n",
       "      <td>29</td>\n",
       "      <td>shirley@aa</td>\n",
       "      <td>False</td>\n",
       "    </tr>\n",
       "    <tr>\n",
       "      <th>2</th>\n",
       "      <td>ines</td>\n",
       "      <td>7</td>\n",
       "      <td>24</td>\n",
       "      <td>ines@bb</td>\n",
       "      <td>True</td>\n",
       "    </tr>\n",
       "    <tr>\n",
       "      <th>3</th>\n",
       "      <td>karina</td>\n",
       "      <td>7</td>\n",
       "      <td>18</td>\n",
       "      <td>karina@bb</td>\n",
       "      <td>True</td>\n",
       "    </tr>\n",
       "    <tr>\n",
       "      <th>4</th>\n",
       "      <td>marilu</td>\n",
       "      <td>8</td>\n",
       "      <td>23</td>\n",
       "      <td>marilu@aa</td>\n",
       "      <td>False</td>\n",
       "    </tr>\n",
       "  </tbody>\n",
       "</table>\n",
       "</div>"
      ],
      "text/plain": [
       "    nombre  calificaciones  edad       email  aprobado\n",
       "0     mayu               7    16     mayu@aa      True\n",
       "1  shirley               8    29  shirley@aa     False\n",
       "2     ines               7    24     ines@bb      True\n",
       "3   karina               7    18   karina@bb      True\n",
       "4   marilu               8    23   marilu@aa     False"
      ]
     },
     "execution_count": 123,
     "metadata": {},
     "output_type": "execute_result"
    }
   ],
   "source": [
    "pd.DataFrame(usuarios)"
   ]
  },
  {
   "cell_type": "code",
   "execution_count": 124,
   "metadata": {},
   "outputs": [
    {
     "data": {
      "text/html": [
       "<div>\n",
       "<style scoped>\n",
       "    .dataframe tbody tr th:only-of-type {\n",
       "        vertical-align: middle;\n",
       "    }\n",
       "\n",
       "    .dataframe tbody tr th {\n",
       "        vertical-align: top;\n",
       "    }\n",
       "\n",
       "    .dataframe thead th {\n",
       "        text-align: right;\n",
       "    }\n",
       "</style>\n",
       "<table border=\"1\" class=\"dataframe\">\n",
       "  <thead>\n",
       "    <tr style=\"text-align: right;\">\n",
       "      <th></th>\n",
       "      <th>nombre</th>\n",
       "      <th>calificaciones</th>\n",
       "      <th>edad</th>\n",
       "      <th>email</th>\n",
       "      <th>aprobado</th>\n",
       "    </tr>\n",
       "  </thead>\n",
       "  <tbody>\n",
       "    <tr>\n",
       "      <th>a</th>\n",
       "      <td>mayu</td>\n",
       "      <td>7</td>\n",
       "      <td>16</td>\n",
       "      <td>mayu@aa</td>\n",
       "      <td>True</td>\n",
       "    </tr>\n",
       "    <tr>\n",
       "      <th>b</th>\n",
       "      <td>shirley</td>\n",
       "      <td>8</td>\n",
       "      <td>29</td>\n",
       "      <td>shirley@aa</td>\n",
       "      <td>False</td>\n",
       "    </tr>\n",
       "    <tr>\n",
       "      <th>c</th>\n",
       "      <td>ines</td>\n",
       "      <td>7</td>\n",
       "      <td>24</td>\n",
       "      <td>ines@bb</td>\n",
       "      <td>True</td>\n",
       "    </tr>\n",
       "    <tr>\n",
       "      <th>d</th>\n",
       "      <td>karina</td>\n",
       "      <td>7</td>\n",
       "      <td>18</td>\n",
       "      <td>karina@bb</td>\n",
       "      <td>True</td>\n",
       "    </tr>\n",
       "    <tr>\n",
       "      <th>e</th>\n",
       "      <td>marilu</td>\n",
       "      <td>8</td>\n",
       "      <td>23</td>\n",
       "      <td>marilu@aa</td>\n",
       "      <td>False</td>\n",
       "    </tr>\n",
       "  </tbody>\n",
       "</table>\n",
       "</div>"
      ],
      "text/plain": [
       "    nombre  calificaciones  edad       email  aprobado\n",
       "a     mayu               7    16     mayu@aa      True\n",
       "b  shirley               8    29  shirley@aa     False\n",
       "c     ines               7    24     ines@bb      True\n",
       "d   karina               7    18   karina@bb      True\n",
       "e   marilu               8    23   marilu@aa     False"
      ]
     },
     "execution_count": 124,
     "metadata": {},
     "output_type": "execute_result"
    }
   ],
   "source": [
    "# Renombrando indice\n",
    "df = pd.DataFrame(usuarios, index=list('abcde'))\n",
    "df"
   ]
  },
  {
   "cell_type": "code",
   "execution_count": 125,
   "metadata": {},
   "outputs": [
    {
     "data": {
      "text/plain": [
       "a       mayu\n",
       "b    shirley\n",
       "c       ines\n",
       "Name: nombre, dtype: object"
      ]
     },
     "execution_count": 125,
     "metadata": {},
     "output_type": "execute_result"
    }
   ],
   "source": [
    "df.loc['a':'c','nombre']"
   ]
  },
  {
   "cell_type": "code",
   "execution_count": 126,
   "metadata": {},
   "outputs": [
    {
     "data": {
      "text/html": [
       "<div>\n",
       "<style scoped>\n",
       "    .dataframe tbody tr th:only-of-type {\n",
       "        vertical-align: middle;\n",
       "    }\n",
       "\n",
       "    .dataframe tbody tr th {\n",
       "        vertical-align: top;\n",
       "    }\n",
       "\n",
       "    .dataframe thead th {\n",
       "        text-align: right;\n",
       "    }\n",
       "</style>\n",
       "<table border=\"1\" class=\"dataframe\">\n",
       "  <thead>\n",
       "    <tr style=\"text-align: right;\">\n",
       "      <th></th>\n",
       "      <th>nombre</th>\n",
       "      <th>edad</th>\n",
       "    </tr>\n",
       "  </thead>\n",
       "  <tbody>\n",
       "    <tr>\n",
       "      <th>a</th>\n",
       "      <td>mayu</td>\n",
       "      <td>16</td>\n",
       "    </tr>\n",
       "    <tr>\n",
       "      <th>b</th>\n",
       "      <td>shirley</td>\n",
       "      <td>29</td>\n",
       "    </tr>\n",
       "    <tr>\n",
       "      <th>c</th>\n",
       "      <td>ines</td>\n",
       "      <td>24</td>\n",
       "    </tr>\n",
       "  </tbody>\n",
       "</table>\n",
       "</div>"
      ],
      "text/plain": [
       "    nombre  edad\n",
       "a     mayu    16\n",
       "b  shirley    29\n",
       "c     ines    24"
      ]
     },
     "execution_count": 126,
     "metadata": {},
     "output_type": "execute_result"
    }
   ],
   "source": [
    "df.loc['a':'c',['nombre','edad']]"
   ]
  },
  {
   "cell_type": "code",
   "execution_count": 127,
   "metadata": {},
   "outputs": [
    {
     "data": {
      "text/html": [
       "<div>\n",
       "<style scoped>\n",
       "    .dataframe tbody tr th:only-of-type {\n",
       "        vertical-align: middle;\n",
       "    }\n",
       "\n",
       "    .dataframe tbody tr th {\n",
       "        vertical-align: top;\n",
       "    }\n",
       "\n",
       "    .dataframe thead th {\n",
       "        text-align: right;\n",
       "    }\n",
       "</style>\n",
       "<table border=\"1\" class=\"dataframe\">\n",
       "  <thead>\n",
       "    <tr style=\"text-align: right;\">\n",
       "      <th></th>\n",
       "      <th>nombre</th>\n",
       "      <th>edad</th>\n",
       "    </tr>\n",
       "  </thead>\n",
       "  <tbody>\n",
       "    <tr>\n",
       "      <th>a</th>\n",
       "      <td>mayu</td>\n",
       "      <td>16</td>\n",
       "    </tr>\n",
       "    <tr>\n",
       "      <th>b</th>\n",
       "      <td>shirley</td>\n",
       "      <td>29</td>\n",
       "    </tr>\n",
       "    <tr>\n",
       "      <th>c</th>\n",
       "      <td>ines</td>\n",
       "      <td>24</td>\n",
       "    </tr>\n",
       "    <tr>\n",
       "      <th>d</th>\n",
       "      <td>karina</td>\n",
       "      <td>18</td>\n",
       "    </tr>\n",
       "    <tr>\n",
       "      <th>e</th>\n",
       "      <td>marilu</td>\n",
       "      <td>23</td>\n",
       "    </tr>\n",
       "  </tbody>\n",
       "</table>\n",
       "</div>"
      ],
      "text/plain": [
       "    nombre  edad\n",
       "a     mayu    16\n",
       "b  shirley    29\n",
       "c     ines    24\n",
       "d   karina    18\n",
       "e   marilu    23"
      ]
     },
     "execution_count": 127,
     "metadata": {},
     "output_type": "execute_result"
    }
   ],
   "source": [
    "# df.loc[df.calificaciones > 5]\n",
    "df.loc[df.calificaciones > 5, ['nombre','edad']]"
   ]
  },
  {
   "cell_type": "code",
   "execution_count": 128,
   "metadata": {},
   "outputs": [
    {
     "data": {
      "text/html": [
       "<div>\n",
       "<style scoped>\n",
       "    .dataframe tbody tr th:only-of-type {\n",
       "        vertical-align: middle;\n",
       "    }\n",
       "\n",
       "    .dataframe tbody tr th {\n",
       "        vertical-align: top;\n",
       "    }\n",
       "\n",
       "    .dataframe thead th {\n",
       "        text-align: right;\n",
       "    }\n",
       "</style>\n",
       "<table border=\"1\" class=\"dataframe\">\n",
       "  <thead>\n",
       "    <tr style=\"text-align: right;\">\n",
       "      <th></th>\n",
       "      <th>nombre</th>\n",
       "      <th>edad</th>\n",
       "      <th>calificaciones</th>\n",
       "    </tr>\n",
       "  </thead>\n",
       "  <tbody>\n",
       "    <tr>\n",
       "      <th>b</th>\n",
       "      <td>shirley</td>\n",
       "      <td>29</td>\n",
       "      <td>8</td>\n",
       "    </tr>\n",
       "    <tr>\n",
       "      <th>e</th>\n",
       "      <td>marilu</td>\n",
       "      <td>23</td>\n",
       "      <td>8</td>\n",
       "    </tr>\n",
       "  </tbody>\n",
       "</table>\n",
       "</div>"
      ],
      "text/plain": [
       "    nombre  edad  calificaciones\n",
       "b  shirley    29               8\n",
       "e   marilu    23               8"
      ]
     },
     "execution_count": 128,
     "metadata": {},
     "output_type": "execute_result"
    }
   ],
   "source": [
    "df.loc[df.calificaciones > 5, ['nombre','edad','calificaciones']\n",
    "      ].sort_values('calificaciones', ascending=False).head(2)"
   ]
  },
  {
   "cell_type": "markdown",
   "metadata": {},
   "source": [
    "## iloc"
   ]
  },
  {
   "cell_type": "code",
   "execution_count": 129,
   "metadata": {},
   "outputs": [
    {
     "data": {
      "text/html": [
       "<div>\n",
       "<style scoped>\n",
       "    .dataframe tbody tr th:only-of-type {\n",
       "        vertical-align: middle;\n",
       "    }\n",
       "\n",
       "    .dataframe tbody tr th {\n",
       "        vertical-align: top;\n",
       "    }\n",
       "\n",
       "    .dataframe thead th {\n",
       "        text-align: right;\n",
       "    }\n",
       "</style>\n",
       "<table border=\"1\" class=\"dataframe\">\n",
       "  <thead>\n",
       "    <tr style=\"text-align: right;\">\n",
       "      <th></th>\n",
       "      <th>nombre</th>\n",
       "      <th>calificaciones</th>\n",
       "      <th>edad</th>\n",
       "      <th>email</th>\n",
       "      <th>aprobado</th>\n",
       "    </tr>\n",
       "  </thead>\n",
       "  <tbody>\n",
       "    <tr>\n",
       "      <th>a</th>\n",
       "      <td>mayu</td>\n",
       "      <td>7</td>\n",
       "      <td>16</td>\n",
       "      <td>mayu@aa</td>\n",
       "      <td>True</td>\n",
       "    </tr>\n",
       "    <tr>\n",
       "      <th>b</th>\n",
       "      <td>shirley</td>\n",
       "      <td>8</td>\n",
       "      <td>29</td>\n",
       "      <td>shirley@aa</td>\n",
       "      <td>False</td>\n",
       "    </tr>\n",
       "    <tr>\n",
       "      <th>c</th>\n",
       "      <td>ines</td>\n",
       "      <td>7</td>\n",
       "      <td>24</td>\n",
       "      <td>ines@bb</td>\n",
       "      <td>True</td>\n",
       "    </tr>\n",
       "    <tr>\n",
       "      <th>d</th>\n",
       "      <td>karina</td>\n",
       "      <td>7</td>\n",
       "      <td>18</td>\n",
       "      <td>karina@bb</td>\n",
       "      <td>True</td>\n",
       "    </tr>\n",
       "    <tr>\n",
       "      <th>e</th>\n",
       "      <td>marilu</td>\n",
       "      <td>8</td>\n",
       "      <td>23</td>\n",
       "      <td>marilu@aa</td>\n",
       "      <td>False</td>\n",
       "    </tr>\n",
       "  </tbody>\n",
       "</table>\n",
       "</div>"
      ],
      "text/plain": [
       "    nombre  calificaciones  edad       email  aprobado\n",
       "a     mayu               7    16     mayu@aa      True\n",
       "b  shirley               8    29  shirley@aa     False\n",
       "c     ines               7    24     ines@bb      True\n",
       "d   karina               7    18   karina@bb      True\n",
       "e   marilu               8    23   marilu@aa     False"
      ]
     },
     "execution_count": 129,
     "metadata": {},
     "output_type": "execute_result"
    }
   ],
   "source": [
    "df = pd.DataFrame(usuarios, index=list('abcde'))\n",
    "df"
   ]
  },
  {
   "cell_type": "code",
   "execution_count": 130,
   "metadata": {},
   "outputs": [
    {
     "data": {
      "text/html": [
       "<div>\n",
       "<style scoped>\n",
       "    .dataframe tbody tr th:only-of-type {\n",
       "        vertical-align: middle;\n",
       "    }\n",
       "\n",
       "    .dataframe tbody tr th {\n",
       "        vertical-align: top;\n",
       "    }\n",
       "\n",
       "    .dataframe thead th {\n",
       "        text-align: right;\n",
       "    }\n",
       "</style>\n",
       "<table border=\"1\" class=\"dataframe\">\n",
       "  <thead>\n",
       "    <tr style=\"text-align: right;\">\n",
       "      <th></th>\n",
       "      <th>calificaciones</th>\n",
       "      <th>edad</th>\n",
       "    </tr>\n",
       "  </thead>\n",
       "  <tbody>\n",
       "    <tr>\n",
       "      <th>a</th>\n",
       "      <td>7</td>\n",
       "      <td>16</td>\n",
       "    </tr>\n",
       "    <tr>\n",
       "      <th>b</th>\n",
       "      <td>8</td>\n",
       "      <td>29</td>\n",
       "    </tr>\n",
       "    <tr>\n",
       "      <th>c</th>\n",
       "      <td>7</td>\n",
       "      <td>24</td>\n",
       "    </tr>\n",
       "    <tr>\n",
       "      <th>d</th>\n",
       "      <td>7</td>\n",
       "      <td>18</td>\n",
       "    </tr>\n",
       "  </tbody>\n",
       "</table>\n",
       "</div>"
      ],
      "text/plain": [
       "   calificaciones  edad\n",
       "a               7    16\n",
       "b               8    29\n",
       "c               7    24\n",
       "d               7    18"
      ]
     },
     "execution_count": 130,
     "metadata": {},
     "output_type": "execute_result"
    }
   ],
   "source": [
    "df.iloc[0:4,1:3]"
   ]
  },
  {
   "cell_type": "code",
   "execution_count": 131,
   "metadata": {},
   "outputs": [
    {
     "data": {
      "text/html": [
       "<div>\n",
       "<style scoped>\n",
       "    .dataframe tbody tr th:only-of-type {\n",
       "        vertical-align: middle;\n",
       "    }\n",
       "\n",
       "    .dataframe tbody tr th {\n",
       "        vertical-align: top;\n",
       "    }\n",
       "\n",
       "    .dataframe thead th {\n",
       "        text-align: right;\n",
       "    }\n",
       "</style>\n",
       "<table border=\"1\" class=\"dataframe\">\n",
       "  <thead>\n",
       "    <tr style=\"text-align: right;\">\n",
       "      <th></th>\n",
       "      <th>nombre</th>\n",
       "      <th>edad</th>\n",
       "    </tr>\n",
       "  </thead>\n",
       "  <tbody>\n",
       "    <tr>\n",
       "      <th>a</th>\n",
       "      <td>mayu</td>\n",
       "      <td>16</td>\n",
       "    </tr>\n",
       "    <tr>\n",
       "      <th>b</th>\n",
       "      <td>shirley</td>\n",
       "      <td>29</td>\n",
       "    </tr>\n",
       "    <tr>\n",
       "      <th>c</th>\n",
       "      <td>ines</td>\n",
       "      <td>24</td>\n",
       "    </tr>\n",
       "    <tr>\n",
       "      <th>d</th>\n",
       "      <td>karina</td>\n",
       "      <td>18</td>\n",
       "    </tr>\n",
       "  </tbody>\n",
       "</table>\n",
       "</div>"
      ],
      "text/plain": [
       "    nombre  edad\n",
       "a     mayu    16\n",
       "b  shirley    29\n",
       "c     ines    24\n",
       "d   karina    18"
      ]
     },
     "execution_count": 131,
     "metadata": {},
     "output_type": "execute_result"
    }
   ],
   "source": [
    "df.iloc[0:4,[0,2]]"
   ]
  },
  {
   "cell_type": "markdown",
   "metadata": {},
   "source": [
    "## EXAMPLE"
   ]
  },
  {
   "cell_type": "code",
   "execution_count": 132,
   "metadata": {},
   "outputs": [
    {
     "data": {
      "text/html": [
       "<div>\n",
       "<style scoped>\n",
       "    .dataframe tbody tr th:only-of-type {\n",
       "        vertical-align: middle;\n",
       "    }\n",
       "\n",
       "    .dataframe tbody tr th {\n",
       "        vertical-align: top;\n",
       "    }\n",
       "\n",
       "    .dataframe thead th {\n",
       "        text-align: right;\n",
       "    }\n",
       "</style>\n",
       "<table border=\"1\" class=\"dataframe\">\n",
       "  <thead>\n",
       "    <tr style=\"text-align: right;\">\n",
       "      <th></th>\n",
       "      <th>nombre</th>\n",
       "      <th>edad</th>\n",
       "      <th>genero</th>\n",
       "      <th>pais</th>\n",
       "      <th>email</th>\n",
       "    </tr>\n",
       "  </thead>\n",
       "  <tbody>\n",
       "    <tr>\n",
       "      <th>0</th>\n",
       "      <td>Mr Jerome Thomas</td>\n",
       "      <td>73</td>\n",
       "      <td>male</td>\n",
       "      <td>United States</td>\n",
       "      <td>jerome.thomas@example.com</td>\n",
       "    </tr>\n",
       "    <tr>\n",
       "      <th>1</th>\n",
       "      <td>Mr Gary Berry</td>\n",
       "      <td>70</td>\n",
       "      <td>male</td>\n",
       "      <td>United Kingdom</td>\n",
       "      <td>gary.berry@example.com</td>\n",
       "    </tr>\n",
       "    <tr>\n",
       "      <th>2</th>\n",
       "      <td>Mr Noham Dubois</td>\n",
       "      <td>40</td>\n",
       "      <td>male</td>\n",
       "      <td>France</td>\n",
       "      <td>noham.dubois@example.com</td>\n",
       "    </tr>\n",
       "  </tbody>\n",
       "</table>\n",
       "</div>"
      ],
      "text/plain": [
       "             nombre  edad genero            pais                      email\n",
       "0  Mr Jerome Thomas    73   male   United States  jerome.thomas@example.com\n",
       "1     Mr Gary Berry    70   male  United Kingdom     gary.berry@example.com\n",
       "2   Mr Noham Dubois    40   male          France   noham.dubois@example.com"
      ]
     },
     "execution_count": 132,
     "metadata": {},
     "output_type": "execute_result"
    }
   ],
   "source": [
    "userdf = pd.read_csv('./datasets/users.csv', usecols=['nombre','edad','genero','pais','email'])\n",
    "userdf.head(3)"
   ]
  },
  {
   "cell_type": "code",
   "execution_count": 133,
   "metadata": {},
   "outputs": [
    {
     "data": {
      "text/plain": [
       "0         Mr Jerome Thomas\n",
       "13      Mr Gerardo Garrido\n",
       "17       Mr Grayson Walker\n",
       "19       Ms Asta Jørgensen\n",
       "24       Mr Leo Montgomery\n",
       "29        Mr Ilyès Lemaire\n",
       "43        Miss Anna Hansen\n",
       "82     Miss Elsie Lawrence\n",
       "84        Mr Jordan Castro\n",
       "90          Ms Emilia Vega\n",
       "108          Mr كيان احمدی\n",
       "126        Mr Eliott Andre\n",
       "129      Mr Davut Mertoğlu\n",
       "135           Mr Ray Henry\n",
       "152        Mr Edward Brown\n",
       "153       Mrs Sophie Lewis\n",
       "Name: nombre, dtype: object"
      ]
     },
     "execution_count": 133,
     "metadata": {},
     "output_type": "execute_result"
    }
   ],
   "source": [
    "# userdf[userdf['edad'] > 70].nombre\n",
    "userdf.loc[userdf['edad'] > 70,'nombre']"
   ]
  },
  {
   "cell_type": "code",
   "execution_count": 137,
   "metadata": {},
   "outputs": [
    {
     "data": {
      "text/plain": [
       "19       Ms Asta Jørgensen\n",
       "43        Miss Anna Hansen\n",
       "82     Miss Elsie Lawrence\n",
       "90          Ms Emilia Vega\n",
       "153       Mrs Sophie Lewis\n",
       "Name: nombre, dtype: object"
      ]
     },
     "execution_count": 137,
     "metadata": {},
     "output_type": "execute_result"
    }
   ],
   "source": [
    "userdf.loc[(userdf['edad'] > 70) & (userdf.genero == 'female') ,'nombre']"
   ]
  },
  {
   "cell_type": "code",
   "execution_count": 139,
   "metadata": {},
   "outputs": [
    {
     "data": {
      "text/plain": [
       "151    Mr Thomas Lam\n",
       "Name: nombre, dtype: object"
      ]
     },
     "execution_count": 139,
     "metadata": {},
     "output_type": "execute_result"
    }
   ],
   "source": [
    "userdf.loc[userdf['email'].str.endswith('@gmail.com'),'nombre']"
   ]
  },
  {
   "cell_type": "code",
   "execution_count": 140,
   "metadata": {},
   "outputs": [
    {
     "data": {
      "text/plain": [
       "0        Mr Jerome Thomas\n",
       "1           Mr Gary Berry\n",
       "2         Mr Noham Dubois\n",
       "3       Mrs Naja Johansen\n",
       "4      Mr Damien Marchand\n",
       "              ...        \n",
       "195         Mr Raul Bravo\n",
       "196     Miss Maeva Fortin\n",
       "197     Mr Gabriel Berger\n",
       "198    Mrs Ülkü Tanrıkulu\n",
       "199       Mr Raff Valkema\n",
       "Name: nombre, Length: 199, dtype: object"
      ]
     },
     "execution_count": 140,
     "metadata": {},
     "output_type": "execute_result"
    }
   ],
   "source": [
    "userdf.loc[~userdf['email'].str.endswith('@gmail.com'),'nombre']"
   ]
  },
  {
   "cell_type": "code",
   "execution_count": 143,
   "metadata": {},
   "outputs": [
    {
     "data": {
      "text/html": [
       "<div>\n",
       "<style scoped>\n",
       "    .dataframe tbody tr th:only-of-type {\n",
       "        vertical-align: middle;\n",
       "    }\n",
       "\n",
       "    .dataframe tbody tr th {\n",
       "        vertical-align: top;\n",
       "    }\n",
       "\n",
       "    .dataframe thead th {\n",
       "        text-align: right;\n",
       "    }\n",
       "</style>\n",
       "<table border=\"1\" class=\"dataframe\">\n",
       "  <thead>\n",
       "    <tr style=\"text-align: right;\">\n",
       "      <th></th>\n",
       "      <th>nombre</th>\n",
       "      <th>pais</th>\n",
       "    </tr>\n",
       "  </thead>\n",
       "  <tbody>\n",
       "    <tr>\n",
       "      <th>5</th>\n",
       "      <td>Mr Harri Althoff</td>\n",
       "      <td>Germany</td>\n",
       "    </tr>\n",
       "    <tr>\n",
       "      <th>7</th>\n",
       "      <td>Ms Britta Weinert</td>\n",
       "      <td>Germany</td>\n",
       "    </tr>\n",
       "    <tr>\n",
       "      <th>9</th>\n",
       "      <td>Miss Emilia Laitinen</td>\n",
       "      <td>Finland</td>\n",
       "    </tr>\n",
       "  </tbody>\n",
       "</table>\n",
       "</div>"
      ],
      "text/plain": [
       "                 nombre     pais\n",
       "5      Mr Harri Althoff  Germany\n",
       "7     Ms Britta Weinert  Germany\n",
       "9  Miss Emilia Laitinen  Finland"
      ]
     },
     "execution_count": 143,
     "metadata": {},
     "output_type": "execute_result"
    }
   ],
   "source": [
    "(userdf.loc[userdf['pais'].isin(['Germany','Finland','Canada']),['nombre','pais']]).head(3)"
   ]
  },
  {
   "cell_type": "code",
   "execution_count": 149,
   "metadata": {},
   "outputs": [
    {
     "data": {
      "text/html": [
       "<div>\n",
       "<style scoped>\n",
       "    .dataframe tbody tr th:only-of-type {\n",
       "        vertical-align: middle;\n",
       "    }\n",
       "\n",
       "    .dataframe tbody tr th {\n",
       "        vertical-align: top;\n",
       "    }\n",
       "\n",
       "    .dataframe thead th {\n",
       "        text-align: right;\n",
       "    }\n",
       "</style>\n",
       "<table border=\"1\" class=\"dataframe\">\n",
       "  <thead>\n",
       "    <tr style=\"text-align: right;\">\n",
       "      <th></th>\n",
       "      <th>nombre</th>\n",
       "      <th>email</th>\n",
       "      <th>pais</th>\n",
       "    </tr>\n",
       "  </thead>\n",
       "  <tbody>\n",
       "    <tr>\n",
       "      <th>7</th>\n",
       "      <td>Ms Britta Weinert</td>\n",
       "      <td>britta.weinert@example.com</td>\n",
       "      <td>Germany</td>\n",
       "    </tr>\n",
       "    <tr>\n",
       "      <th>9</th>\n",
       "      <td>Miss Emilia Laitinen</td>\n",
       "      <td>emilia.laitinen@example.com</td>\n",
       "      <td>Finland</td>\n",
       "    </tr>\n",
       "    <tr>\n",
       "      <th>38</th>\n",
       "      <td>Mrs Lotta Rintala</td>\n",
       "      <td>lotta.rintala@example.com</td>\n",
       "      <td>Finland</td>\n",
       "    </tr>\n",
       "    <tr>\n",
       "      <th>41</th>\n",
       "      <td>Miss Iida Ketola</td>\n",
       "      <td>iida.ketola@example.com</td>\n",
       "      <td>Finland</td>\n",
       "    </tr>\n",
       "    <tr>\n",
       "      <th>45</th>\n",
       "      <td>Ms Ilona Moilanen</td>\n",
       "      <td>ilona.moilanen@example.com</td>\n",
       "      <td>Finland</td>\n",
       "    </tr>\n",
       "    <tr>\n",
       "      <th>47</th>\n",
       "      <td>Miss Ellen Rinne</td>\n",
       "      <td>ellen.rinne@example.com</td>\n",
       "      <td>Finland</td>\n",
       "    </tr>\n",
       "    <tr>\n",
       "      <th>53</th>\n",
       "      <td>Ms Aino Lassila</td>\n",
       "      <td>aino.lassila@example.com</td>\n",
       "      <td>Finland</td>\n",
       "    </tr>\n",
       "    <tr>\n",
       "      <th>56</th>\n",
       "      <td>Ms Marcella Brosch</td>\n",
       "      <td>marcella.brosch@example.com</td>\n",
       "      <td>Germany</td>\n",
       "    </tr>\n",
       "    <tr>\n",
       "      <th>58</th>\n",
       "      <td>Miss Madison Ennis</td>\n",
       "      <td>madison.ennis@example.com</td>\n",
       "      <td>Canada</td>\n",
       "    </tr>\n",
       "    <tr>\n",
       "      <th>72</th>\n",
       "      <td>Ms Megan Brown</td>\n",
       "      <td>megan.brown@example.com</td>\n",
       "      <td>Canada</td>\n",
       "    </tr>\n",
       "    <tr>\n",
       "      <th>79</th>\n",
       "      <td>Ms Hanne Aschenbrenner</td>\n",
       "      <td>hanne.aschenbrenner@example.com</td>\n",
       "      <td>Germany</td>\n",
       "    </tr>\n",
       "    <tr>\n",
       "      <th>85</th>\n",
       "      <td>Mrs Luisa Weißmann</td>\n",
       "      <td>luisa.weissmann@example.com</td>\n",
       "      <td>Germany</td>\n",
       "    </tr>\n",
       "    <tr>\n",
       "      <th>88</th>\n",
       "      <td>Mrs Hilda Epp</td>\n",
       "      <td>hilda.epp@example.com</td>\n",
       "      <td>Germany</td>\n",
       "    </tr>\n",
       "    <tr>\n",
       "      <th>133</th>\n",
       "      <td>Miss Julia Ambrose</td>\n",
       "      <td>julia.ambrose@example.com</td>\n",
       "      <td>Canada</td>\n",
       "    </tr>\n",
       "    <tr>\n",
       "      <th>144</th>\n",
       "      <td>Ms Mareile Plate</td>\n",
       "      <td>mareile.plate@example.com</td>\n",
       "      <td>Germany</td>\n",
       "    </tr>\n",
       "    <tr>\n",
       "      <th>174</th>\n",
       "      <td>Ms Isla Koistinen</td>\n",
       "      <td>isla.koistinen@example.com</td>\n",
       "      <td>Finland</td>\n",
       "    </tr>\n",
       "    <tr>\n",
       "      <th>193</th>\n",
       "      <td>Ms Delphine Ginnish</td>\n",
       "      <td>delphine.ginnish@example.com</td>\n",
       "      <td>Canada</td>\n",
       "    </tr>\n",
       "    <tr>\n",
       "      <th>196</th>\n",
       "      <td>Miss Maeva Fortin</td>\n",
       "      <td>maeva.fortin@example.com</td>\n",
       "      <td>Canada</td>\n",
       "    </tr>\n",
       "  </tbody>\n",
       "</table>\n",
       "</div>"
      ],
      "text/plain": [
       "                     nombre                            email     pais\n",
       "7         Ms Britta Weinert       britta.weinert@example.com  Germany\n",
       "9      Miss Emilia Laitinen      emilia.laitinen@example.com  Finland\n",
       "38        Mrs Lotta Rintala        lotta.rintala@example.com  Finland\n",
       "41         Miss Iida Ketola          iida.ketola@example.com  Finland\n",
       "45        Ms Ilona Moilanen       ilona.moilanen@example.com  Finland\n",
       "47         Miss Ellen Rinne          ellen.rinne@example.com  Finland\n",
       "53          Ms Aino Lassila         aino.lassila@example.com  Finland\n",
       "56       Ms Marcella Brosch      marcella.brosch@example.com  Germany\n",
       "58       Miss Madison Ennis        madison.ennis@example.com   Canada\n",
       "72           Ms Megan Brown          megan.brown@example.com   Canada\n",
       "79   Ms Hanne Aschenbrenner  hanne.aschenbrenner@example.com  Germany\n",
       "85       Mrs Luisa Weißmann      luisa.weissmann@example.com  Germany\n",
       "88            Mrs Hilda Epp            hilda.epp@example.com  Germany\n",
       "133      Miss Julia Ambrose        julia.ambrose@example.com   Canada\n",
       "144        Ms Mareile Plate        mareile.plate@example.com  Germany\n",
       "174       Ms Isla Koistinen       isla.koistinen@example.com  Finland\n",
       "193     Ms Delphine Ginnish     delphine.ginnish@example.com   Canada\n",
       "196       Miss Maeva Fortin         maeva.fortin@example.com   Canada"
      ]
     },
     "execution_count": 149,
     "metadata": {},
     "output_type": "execute_result"
    }
   ],
   "source": [
    "userdf.loc[(userdf['edad'] > 20) & (\n",
    "    userdf.genero == 'female') & (\n",
    "    userdf['pais'].isin(['Germany','Finland','Canada'])\n",
    "),['nombre','email','pais']]"
   ]
  },
  {
   "cell_type": "code",
   "execution_count": 151,
   "metadata": {},
   "outputs": [
    {
     "data": {
      "text/html": [
       "<div>\n",
       "<style scoped>\n",
       "    .dataframe tbody tr th:only-of-type {\n",
       "        vertical-align: middle;\n",
       "    }\n",
       "\n",
       "    .dataframe tbody tr th {\n",
       "        vertical-align: top;\n",
       "    }\n",
       "\n",
       "    .dataframe thead th {\n",
       "        text-align: right;\n",
       "    }\n",
       "</style>\n",
       "<table border=\"1\" class=\"dataframe\">\n",
       "  <thead>\n",
       "    <tr style=\"text-align: right;\">\n",
       "      <th></th>\n",
       "      <th>nombre</th>\n",
       "      <th>edad</th>\n",
       "      <th>genero</th>\n",
       "      <th>pais</th>\n",
       "      <th>email</th>\n",
       "    </tr>\n",
       "  </thead>\n",
       "  <tbody>\n",
       "    <tr>\n",
       "      <th>82</th>\n",
       "      <td>Miss Elsie Lawrence</td>\n",
       "      <td>75</td>\n",
       "      <td>female</td>\n",
       "      <td>Australia</td>\n",
       "      <td>elsie.lawrence@example.com</td>\n",
       "    </tr>\n",
       "    <tr>\n",
       "      <th>29</th>\n",
       "      <td>Mr Ilyès Lemaire</td>\n",
       "      <td>75</td>\n",
       "      <td>male</td>\n",
       "      <td>France</td>\n",
       "      <td>ilyes.lemaire@example.com</td>\n",
       "    </tr>\n",
       "    <tr>\n",
       "      <th>135</th>\n",
       "      <td>Mr Ray Henry</td>\n",
       "      <td>75</td>\n",
       "      <td>male</td>\n",
       "      <td>United States</td>\n",
       "      <td>ray.henry@example.com</td>\n",
       "    </tr>\n",
       "    <tr>\n",
       "      <th>153</th>\n",
       "      <td>Mrs Sophie Lewis</td>\n",
       "      <td>75</td>\n",
       "      <td>female</td>\n",
       "      <td>New Zealand</td>\n",
       "      <td>sophie.lewis@example.com</td>\n",
       "    </tr>\n",
       "    <tr>\n",
       "      <th>13</th>\n",
       "      <td>Mr Gerardo Garrido</td>\n",
       "      <td>74</td>\n",
       "      <td>male</td>\n",
       "      <td>Spain</td>\n",
       "      <td>gerardo.garrido@example.com</td>\n",
       "    </tr>\n",
       "    <tr>\n",
       "      <th>84</th>\n",
       "      <td>Mr Jordan Castro</td>\n",
       "      <td>74</td>\n",
       "      <td>male</td>\n",
       "      <td>Australia</td>\n",
       "      <td>jordan.castro@example.com</td>\n",
       "    </tr>\n",
       "    <tr>\n",
       "      <th>129</th>\n",
       "      <td>Mr Davut Mertoğlu</td>\n",
       "      <td>74</td>\n",
       "      <td>male</td>\n",
       "      <td>Turkey</td>\n",
       "      <td>davut.mertoglu@example.com</td>\n",
       "    </tr>\n",
       "    <tr>\n",
       "      <th>17</th>\n",
       "      <td>Mr Grayson Walker</td>\n",
       "      <td>74</td>\n",
       "      <td>male</td>\n",
       "      <td>New Zealand</td>\n",
       "      <td>grayson.walker@example.com</td>\n",
       "    </tr>\n",
       "  </tbody>\n",
       "</table>\n",
       "</div>"
      ],
      "text/plain": [
       "                  nombre  edad  genero           pais  \\\n",
       "82   Miss Elsie Lawrence    75  female      Australia   \n",
       "29      Mr Ilyès Lemaire    75    male         France   \n",
       "135         Mr Ray Henry    75    male  United States   \n",
       "153     Mrs Sophie Lewis    75  female    New Zealand   \n",
       "13    Mr Gerardo Garrido    74    male          Spain   \n",
       "84      Mr Jordan Castro    74    male      Australia   \n",
       "129    Mr Davut Mertoğlu    74    male         Turkey   \n",
       "17     Mr Grayson Walker    74    male    New Zealand   \n",
       "\n",
       "                           email  \n",
       "82    elsie.lawrence@example.com  \n",
       "29     ilyes.lemaire@example.com  \n",
       "135        ray.henry@example.com  \n",
       "153     sophie.lewis@example.com  \n",
       "13   gerardo.garrido@example.com  \n",
       "84     jordan.castro@example.com  \n",
       "129   davut.mertoglu@example.com  \n",
       "17    grayson.walker@example.com  "
      ]
     },
     "execution_count": 151,
     "metadata": {},
     "output_type": "execute_result"
    }
   ],
   "source": [
    "userdf.sort_values('edad', ascending=False).head(8)"
   ]
  },
  {
   "cell_type": "markdown",
   "metadata": {},
   "source": [
    "Agrupamiento"
   ]
  },
  {
   "cell_type": "code",
   "execution_count": 152,
   "metadata": {},
   "outputs": [],
   "source": [
    "frutas = {\n",
    "    'nombre':['Naranja','Manzana','Manzana','Pera','Naranja','Manzana','Sandia'],\n",
    "    'color':['Naranja','Rojo','Verde','Verde','Naranja','Rojo','Rojo'],\n",
    "    'cantidad': np.random.randint(5,10,7),\n",
    "    'precio': np.random.randint(1,5,7),\n",
    "}"
   ]
  },
  {
   "cell_type": "code",
   "execution_count": 154,
   "metadata": {},
   "outputs": [
    {
     "data": {
      "text/html": [
       "<div>\n",
       "<style scoped>\n",
       "    .dataframe tbody tr th:only-of-type {\n",
       "        vertical-align: middle;\n",
       "    }\n",
       "\n",
       "    .dataframe tbody tr th {\n",
       "        vertical-align: top;\n",
       "    }\n",
       "\n",
       "    .dataframe thead th {\n",
       "        text-align: right;\n",
       "    }\n",
       "</style>\n",
       "<table border=\"1\" class=\"dataframe\">\n",
       "  <thead>\n",
       "    <tr style=\"text-align: right;\">\n",
       "      <th></th>\n",
       "      <th>nombre</th>\n",
       "      <th>color</th>\n",
       "      <th>cantidad</th>\n",
       "      <th>precio</th>\n",
       "    </tr>\n",
       "  </thead>\n",
       "  <tbody>\n",
       "    <tr>\n",
       "      <th>0</th>\n",
       "      <td>Naranja</td>\n",
       "      <td>Naranja</td>\n",
       "      <td>8</td>\n",
       "      <td>3</td>\n",
       "    </tr>\n",
       "    <tr>\n",
       "      <th>1</th>\n",
       "      <td>Manzana</td>\n",
       "      <td>Rojo</td>\n",
       "      <td>5</td>\n",
       "      <td>3</td>\n",
       "    </tr>\n",
       "    <tr>\n",
       "      <th>2</th>\n",
       "      <td>Manzana</td>\n",
       "      <td>Verde</td>\n",
       "      <td>8</td>\n",
       "      <td>1</td>\n",
       "    </tr>\n",
       "    <tr>\n",
       "      <th>3</th>\n",
       "      <td>Pera</td>\n",
       "      <td>Verde</td>\n",
       "      <td>6</td>\n",
       "      <td>1</td>\n",
       "    </tr>\n",
       "    <tr>\n",
       "      <th>4</th>\n",
       "      <td>Naranja</td>\n",
       "      <td>Naranja</td>\n",
       "      <td>6</td>\n",
       "      <td>2</td>\n",
       "    </tr>\n",
       "    <tr>\n",
       "      <th>5</th>\n",
       "      <td>Manzana</td>\n",
       "      <td>Rojo</td>\n",
       "      <td>9</td>\n",
       "      <td>1</td>\n",
       "    </tr>\n",
       "    <tr>\n",
       "      <th>6</th>\n",
       "      <td>Sandia</td>\n",
       "      <td>Rojo</td>\n",
       "      <td>5</td>\n",
       "      <td>2</td>\n",
       "    </tr>\n",
       "  </tbody>\n",
       "</table>\n",
       "</div>"
      ],
      "text/plain": [
       "    nombre    color  cantidad  precio\n",
       "0  Naranja  Naranja         8       3\n",
       "1  Manzana     Rojo         5       3\n",
       "2  Manzana    Verde         8       1\n",
       "3     Pera    Verde         6       1\n",
       "4  Naranja  Naranja         6       2\n",
       "5  Manzana     Rojo         9       1\n",
       "6   Sandia     Rojo         5       2"
      ]
     },
     "execution_count": 154,
     "metadata": {},
     "output_type": "execute_result"
    }
   ],
   "source": [
    "fruitdf = pd.DataFrame(frutas)\n",
    "fruitdf"
   ]
  },
  {
   "cell_type": "code",
   "execution_count": 155,
   "metadata": {},
   "outputs": [
    {
     "data": {
      "text/plain": [
       "<pandas.core.groupby.generic.DataFrameGroupBy object at 0x0000016B6EB5F280>"
      ]
     },
     "execution_count": 155,
     "metadata": {},
     "output_type": "execute_result"
    }
   ],
   "source": [
    "fruitdf.groupby('nombre')"
   ]
  },
  {
   "cell_type": "code",
   "execution_count": 156,
   "metadata": {},
   "outputs": [
    {
     "data": {
      "text/plain": [
       "nombre\n",
       "Manzana    22\n",
       "Naranja    14\n",
       "Pera        6\n",
       "Sandia      5\n",
       "Name: cantidad, dtype: int32"
      ]
     },
     "execution_count": 156,
     "metadata": {},
     "output_type": "execute_result"
    }
   ],
   "source": [
    "fruitdf.groupby('nombre').cantidad.sum()"
   ]
  },
  {
   "cell_type": "code",
   "execution_count": 157,
   "metadata": {},
   "outputs": [
    {
     "data": {
      "text/html": [
       "<div>\n",
       "<style scoped>\n",
       "    .dataframe tbody tr th:only-of-type {\n",
       "        vertical-align: middle;\n",
       "    }\n",
       "\n",
       "    .dataframe tbody tr th {\n",
       "        vertical-align: top;\n",
       "    }\n",
       "\n",
       "    .dataframe thead th {\n",
       "        text-align: right;\n",
       "    }\n",
       "</style>\n",
       "<table border=\"1\" class=\"dataframe\">\n",
       "  <thead>\n",
       "    <tr style=\"text-align: right;\">\n",
       "      <th></th>\n",
       "      <th>cantidad</th>\n",
       "    </tr>\n",
       "    <tr>\n",
       "      <th>nombre</th>\n",
       "      <th></th>\n",
       "    </tr>\n",
       "  </thead>\n",
       "  <tbody>\n",
       "    <tr>\n",
       "      <th>Manzana</th>\n",
       "      <td>22</td>\n",
       "    </tr>\n",
       "    <tr>\n",
       "      <th>Naranja</th>\n",
       "      <td>14</td>\n",
       "    </tr>\n",
       "    <tr>\n",
       "      <th>Pera</th>\n",
       "      <td>6</td>\n",
       "    </tr>\n",
       "    <tr>\n",
       "      <th>Sandia</th>\n",
       "      <td>5</td>\n",
       "    </tr>\n",
       "  </tbody>\n",
       "</table>\n",
       "</div>"
      ],
      "text/plain": [
       "         cantidad\n",
       "nombre           \n",
       "Manzana        22\n",
       "Naranja        14\n",
       "Pera            6\n",
       "Sandia          5"
      ]
     },
     "execution_count": 157,
     "metadata": {},
     "output_type": "execute_result"
    }
   ],
   "source": [
    "fruitdf.groupby('nombre').cantidad.sum().to_frame('cantidad') # to_frame <> Crear un new dataframe"
   ]
  },
  {
   "cell_type": "code",
   "execution_count": 159,
   "metadata": {},
   "outputs": [
    {
     "data": {
      "text/html": [
       "<div>\n",
       "<style scoped>\n",
       "    .dataframe tbody tr th:only-of-type {\n",
       "        vertical-align: middle;\n",
       "    }\n",
       "\n",
       "    .dataframe tbody tr th {\n",
       "        vertical-align: top;\n",
       "    }\n",
       "\n",
       "    .dataframe thead th {\n",
       "        text-align: right;\n",
       "    }\n",
       "</style>\n",
       "<table border=\"1\" class=\"dataframe\">\n",
       "  <thead>\n",
       "    <tr style=\"text-align: right;\">\n",
       "      <th></th>\n",
       "      <th>nombre</th>\n",
       "      <th>color</th>\n",
       "      <th>cantidad</th>\n",
       "      <th>precio</th>\n",
       "    </tr>\n",
       "  </thead>\n",
       "  <tbody>\n",
       "    <tr>\n",
       "      <th>0</th>\n",
       "      <td>Naranja</td>\n",
       "      <td>Naranja</td>\n",
       "      <td>8</td>\n",
       "      <td>3</td>\n",
       "    </tr>\n",
       "    <tr>\n",
       "      <th>1</th>\n",
       "      <td>Manzana</td>\n",
       "      <td>Rojo</td>\n",
       "      <td>5</td>\n",
       "      <td>3</td>\n",
       "    </tr>\n",
       "    <tr>\n",
       "      <th>2</th>\n",
       "      <td>Manzana</td>\n",
       "      <td>Verde</td>\n",
       "      <td>8</td>\n",
       "      <td>1</td>\n",
       "    </tr>\n",
       "    <tr>\n",
       "      <th>4</th>\n",
       "      <td>Naranja</td>\n",
       "      <td>Naranja</td>\n",
       "      <td>6</td>\n",
       "      <td>2</td>\n",
       "    </tr>\n",
       "    <tr>\n",
       "      <th>5</th>\n",
       "      <td>Manzana</td>\n",
       "      <td>Rojo</td>\n",
       "      <td>9</td>\n",
       "      <td>1</td>\n",
       "    </tr>\n",
       "  </tbody>\n",
       "</table>\n",
       "</div>"
      ],
      "text/plain": [
       "    nombre    color  cantidad  precio\n",
       "0  Naranja  Naranja         8       3\n",
       "1  Manzana     Rojo         5       3\n",
       "2  Manzana    Verde         8       1\n",
       "4  Naranja  Naranja         6       2\n",
       "5  Manzana     Rojo         9       1"
      ]
     },
     "execution_count": 159,
     "metadata": {},
     "output_type": "execute_result"
    }
   ],
   "source": [
    "fruitdf.groupby('nombre').filter(lambda fruta: fruta.cantidad.sum() > 10)"
   ]
  },
  {
   "cell_type": "code",
   "execution_count": 160,
   "metadata": {},
   "outputs": [
    {
     "data": {
      "text/plain": [
       "nombre\n",
       "Manzana    22\n",
       "Naranja    14\n",
       "Name: cantidad, dtype: int32"
      ]
     },
     "execution_count": 160,
     "metadata": {},
     "output_type": "execute_result"
    }
   ],
   "source": [
    "fruitdf.groupby('nombre').filter(lambda fruta: fruta.cantidad.sum() > 10\n",
    "                                ).groupby('nombre').cantidad.sum()"
   ]
  },
  {
   "cell_type": "code",
   "execution_count": 162,
   "metadata": {},
   "outputs": [
    {
     "data": {
      "text/plain": [
       "color\n",
       "Rojo     14\n",
       "Verde     8\n",
       "Name: cantidad, dtype: int32"
      ]
     },
     "execution_count": 162,
     "metadata": {},
     "output_type": "execute_result"
    }
   ],
   "source": [
    "fruitdf[fruitdf.nombre == 'Manzana'].groupby('color').cantidad.sum()"
   ]
  },
  {
   "cell_type": "code",
   "execution_count": null,
   "metadata": {},
   "outputs": [],
   "source": []
  }
 ],
 "metadata": {
  "colab": {
   "authorship_tag": "ABX9TyOwSXXRBV4qpLvaNkVXoD/h",
   "name": "Pandas.ipynb",
   "provenance": []
  },
  "kernelspec": {
   "display_name": "Python 3",
   "language": "python",
   "name": "python3"
  },
  "language_info": {
   "codemirror_mode": {
    "name": "ipython",
    "version": 3
   },
   "file_extension": ".py",
   "mimetype": "text/x-python",
   "name": "python",
   "nbconvert_exporter": "python",
   "pygments_lexer": "ipython3",
   "version": "3.8.8"
  }
 },
 "nbformat": 4,
 "nbformat_minor": 1
}
