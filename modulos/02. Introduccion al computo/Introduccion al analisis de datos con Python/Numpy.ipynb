{
 "cells": [
  {
   "cell_type": "markdown",
   "metadata": {},
   "source": [
    "# NUMPY"
   ]
  },
  {
   "cell_type": "code",
   "execution_count": 35,
   "metadata": {
    "id": "8zudxOiAbEds"
   },
   "outputs": [],
   "source": [
    "import numpy as np"
   ]
  },
  {
   "cell_type": "code",
   "execution_count": 36,
   "metadata": {
    "id": "58ilJ6WibbV_"
   },
   "outputs": [],
   "source": [
    "# ARREGLO ES UNA LISTA EN PYTHON\n",
    "# Ambos nos permite almacenar n datos\n",
    "# Arreglo en numpy es mas rapido y compacto que una lista en python\n",
    "# Arreglo consume menos memoria"
   ]
  },
  {
   "cell_type": "code",
   "execution_count": 37,
   "metadata": {
    "colab": {
     "base_uri": "https://localhost:8080/"
    },
    "executionInfo": {
     "elapsed": 14,
     "status": "ok",
     "timestamp": 1636643169798,
     "user": {
      "displayName": "heydy carrasco huaccha",
      "photoUrl": "https://lh3.googleusercontent.com/a-/AOh14GiGyezGgm9Px4LBw_sc7MFWfjUVhWWsvnAz1Ttg=s64",
      "userId": "00007591481982700116"
     },
     "user_tz": 300
    },
    "id": "FfPaNm1SbLLu",
    "outputId": "8778626a-7d1c-4c2c-e4d6-64fb79bfd40e"
   },
   "outputs": [
    {
     "data": {
      "text/plain": [
       "list"
      ]
     },
     "execution_count": 37,
     "metadata": {},
     "output_type": "execute_result"
    }
   ],
   "source": [
    "lista = [14, 58, 36, 59,4,78,23,56]\n",
    "type(lista)"
   ]
  },
  {
   "cell_type": "code",
   "execution_count": 38,
   "metadata": {
    "colab": {
     "base_uri": "https://localhost:8080/"
    },
    "executionInfo": {
     "elapsed": 12,
     "status": "ok",
     "timestamp": 1636643169798,
     "user": {
      "displayName": "heydy carrasco huaccha",
      "photoUrl": "https://lh3.googleusercontent.com/a-/AOh14GiGyezGgm9Px4LBw_sc7MFWfjUVhWWsvnAz1Ttg=s64",
      "userId": "00007591481982700116"
     },
     "user_tz": 300
    },
    "id": "pFU7qhlPbLGF",
    "outputId": "35d18c66-56a4-4d37-b766-d47ad7bee0ec"
   },
   "outputs": [
    {
     "data": {
      "text/plain": [
       "numpy.ndarray"
      ]
     },
     "execution_count": 38,
     "metadata": {},
     "output_type": "execute_result"
    }
   ],
   "source": [
    "arList = np.array(lista) # Array\n",
    "type(arList)"
   ]
  },
  {
   "cell_type": "code",
   "execution_count": 39,
   "metadata": {
    "colab": {
     "base_uri": "https://localhost:8080/"
    },
    "executionInfo": {
     "elapsed": 11,
     "status": "ok",
     "timestamp": 1636643169798,
     "user": {
      "displayName": "heydy carrasco huaccha",
      "photoUrl": "https://lh3.googleusercontent.com/a-/AOh14GiGyezGgm9Px4LBw_sc7MFWfjUVhWWsvnAz1Ttg=s64",
      "userId": "00007591481982700116"
     },
     "user_tz": 300
    },
    "id": "I9ZT-UUwbLDH",
    "outputId": "d750fe23-05ac-4bec-c1af-ecd3672cd914"
   },
   "outputs": [
    {
     "data": {
      "text/plain": [
       "1"
      ]
     },
     "execution_count": 39,
     "metadata": {},
     "output_type": "execute_result"
    }
   ],
   "source": [
    "# Dimensiones del arreglo\n",
    "arList.ndim"
   ]
  },
  {
   "cell_type": "code",
   "execution_count": 40,
   "metadata": {
    "colab": {
     "base_uri": "https://localhost:8080/"
    },
    "executionInfo": {
     "elapsed": 10,
     "status": "ok",
     "timestamp": 1636643169798,
     "user": {
      "displayName": "heydy carrasco huaccha",
      "photoUrl": "https://lh3.googleusercontent.com/a-/AOh14GiGyezGgm9Px4LBw_sc7MFWfjUVhWWsvnAz1Ttg=s64",
      "userId": "00007591481982700116"
     },
     "user_tz": 300
    },
    "id": "iPG4BxXNcobs",
    "outputId": "5dc0cf8b-f219-4e85-e1fb-ed2d6896f659"
   },
   "outputs": [
    {
     "data": {
      "text/plain": [
       "8"
      ]
     },
     "execution_count": 40,
     "metadata": {},
     "output_type": "execute_result"
    }
   ],
   "source": [
    "arList.size \n",
    "# nro elementos"
   ]
  },
  {
   "cell_type": "code",
   "execution_count": 41,
   "metadata": {
    "colab": {
     "base_uri": "https://localhost:8080/"
    },
    "executionInfo": {
     "elapsed": 10,
     "status": "ok",
     "timestamp": 1636643169799,
     "user": {
      "displayName": "heydy carrasco huaccha",
      "photoUrl": "https://lh3.googleusercontent.com/a-/AOh14GiGyezGgm9Px4LBw_sc7MFWfjUVhWWsvnAz1Ttg=s64",
      "userId": "00007591481982700116"
     },
     "user_tz": 300
    },
    "id": "ifzAQkJgcvs3",
    "outputId": "03437920-2b9f-4217-d0e1-29802f978dba"
   },
   "outputs": [
    {
     "data": {
      "text/plain": [
       "4"
      ]
     },
     "execution_count": 41,
     "metadata": {},
     "output_type": "execute_result"
    }
   ],
   "source": [
    "arList.itemsize\n",
    "# tamanio en byte del arreglo"
   ]
  },
  {
   "cell_type": "code",
   "execution_count": 42,
   "metadata": {
    "colab": {
     "base_uri": "https://localhost:8080/"
    },
    "executionInfo": {
     "elapsed": 9,
     "status": "ok",
     "timestamp": 1636643169799,
     "user": {
      "displayName": "heydy carrasco huaccha",
      "photoUrl": "https://lh3.googleusercontent.com/a-/AOh14GiGyezGgm9Px4LBw_sc7MFWfjUVhWWsvnAz1Ttg=s64",
      "userId": "00007591481982700116"
     },
     "user_tz": 300
    },
    "id": "pyqMbopdc2mB",
    "outputId": "0ab6b0e4-e1e1-4aec-e9bf-4b4b5b3ffa33"
   },
   "outputs": [
    {
     "data": {
      "text/plain": [
       "(8,)"
      ]
     },
     "execution_count": 42,
     "metadata": {},
     "output_type": "execute_result"
    }
   ],
   "source": [
    "arList.shape"
   ]
  },
  {
   "cell_type": "code",
   "execution_count": 43,
   "metadata": {
    "colab": {
     "base_uri": "https://localhost:8080/"
    },
    "executionInfo": {
     "elapsed": 8,
     "status": "ok",
     "timestamp": 1636643169799,
     "user": {
      "displayName": "heydy carrasco huaccha",
      "photoUrl": "https://lh3.googleusercontent.com/a-/AOh14GiGyezGgm9Px4LBw_sc7MFWfjUVhWWsvnAz1Ttg=s64",
      "userId": "00007591481982700116"
     },
     "user_tz": 300
    },
    "id": "mLoFG8BudEb6",
    "outputId": "1b381090-bce0-4b24-da2f-e0b90ad63dd7"
   },
   "outputs": [
    {
     "data": {
      "text/plain": [
       "array([14, 58, 36, 59,  4, 78, 23, 56])"
      ]
     },
     "execution_count": 43,
     "metadata": {},
     "output_type": "execute_result"
    }
   ],
   "source": [
    "arList"
   ]
  },
  {
   "cell_type": "code",
   "execution_count": 44,
   "metadata": {
    "colab": {
     "base_uri": "https://localhost:8080/"
    },
    "executionInfo": {
     "elapsed": 7,
     "status": "ok",
     "timestamp": 1636643169799,
     "user": {
      "displayName": "heydy carrasco huaccha",
      "photoUrl": "https://lh3.googleusercontent.com/a-/AOh14GiGyezGgm9Px4LBw_sc7MFWfjUVhWWsvnAz1Ttg=s64",
      "userId": "00007591481982700116"
     },
     "user_tz": 300
    },
    "id": "xv76iBowdAZL",
    "outputId": "93ed609c-2a10-4bdf-8e65-831f605b657a"
   },
   "outputs": [
    {
     "data": {
      "text/plain": [
       "56"
      ]
     },
     "execution_count": 44,
     "metadata": {},
     "output_type": "execute_result"
    }
   ],
   "source": [
    "arList[1]\n",
    "arList[arList.size-1]"
   ]
  },
  {
   "cell_type": "code",
   "execution_count": 45,
   "metadata": {
    "colab": {
     "base_uri": "https://localhost:8080/"
    },
    "executionInfo": {
     "elapsed": 6,
     "status": "ok",
     "timestamp": 1636643169799,
     "user": {
      "displayName": "heydy carrasco huaccha",
      "photoUrl": "https://lh3.googleusercontent.com/a-/AOh14GiGyezGgm9Px4LBw_sc7MFWfjUVhWWsvnAz1Ttg=s64",
      "userId": "00007591481982700116"
     },
     "user_tz": 300
    },
    "id": "oXP-_6UpdAWe",
    "outputId": "eff8918f-7746-447e-846f-32980099f181"
   },
   "outputs": [
    {
     "data": {
      "text/plain": [
       "array([58, 36])"
      ]
     },
     "execution_count": 45,
     "metadata": {},
     "output_type": "execute_result"
    }
   ],
   "source": [
    "arList[1:3]"
   ]
  },
  {
   "cell_type": "code",
   "execution_count": 46,
   "metadata": {
    "colab": {
     "base_uri": "https://localhost:8080/"
    },
    "executionInfo": {
     "elapsed": 7,
     "status": "ok",
     "timestamp": 1636643169800,
     "user": {
      "displayName": "heydy carrasco huaccha",
      "photoUrl": "https://lh3.googleusercontent.com/a-/AOh14GiGyezGgm9Px4LBw_sc7MFWfjUVhWWsvnAz1Ttg=s64",
      "userId": "00007591481982700116"
     },
     "user_tz": 300
    },
    "id": "qRwOURWvdATt",
    "outputId": "96c07ea2-da5c-47dd-f214-a2a2da6fe777"
   },
   "outputs": [
    {
     "data": {
      "text/plain": [
       "array([58, 59])"
      ]
     },
     "execution_count": 46,
     "metadata": {},
     "output_type": "execute_result"
    }
   ],
   "source": [
    "arList[1:5:2]"
   ]
  },
  {
   "cell_type": "code",
   "execution_count": 47,
   "metadata": {
    "colab": {
     "base_uri": "https://localhost:8080/"
    },
    "executionInfo": {
     "elapsed": 6,
     "status": "ok",
     "timestamp": 1636643169800,
     "user": {
      "displayName": "heydy carrasco huaccha",
      "photoUrl": "https://lh3.googleusercontent.com/a-/AOh14GiGyezGgm9Px4LBw_sc7MFWfjUVhWWsvnAz1Ttg=s64",
      "userId": "00007591481982700116"
     },
     "user_tz": 300
    },
    "id": "zsqXvymGdARH",
    "outputId": "cfa40964-4c6d-422f-d0d2-57bafacd9cf2"
   },
   "outputs": [
    {
     "data": {
      "text/plain": [
       "array([56, 23, 78,  4, 59, 36, 58, 14])"
      ]
     },
     "execution_count": 47,
     "metadata": {},
     "output_type": "execute_result"
    }
   ],
   "source": [
    "arList[::-1]"
   ]
  },
  {
   "cell_type": "code",
   "execution_count": 48,
   "metadata": {
    "id": "ErpVpWnfiqKV"
   },
   "outputs": [],
   "source": [
    "# CREAR SUB ARRAY\n",
    "lista = [0,3,6]"
   ]
  },
  {
   "cell_type": "code",
   "execution_count": 49,
   "metadata": {
    "colab": {
     "base_uri": "https://localhost:8080/"
    },
    "executionInfo": {
     "elapsed": 3,
     "status": "ok",
     "timestamp": 1636643339065,
     "user": {
      "displayName": "heydy carrasco huaccha",
      "photoUrl": "https://lh3.googleusercontent.com/a-/AOh14GiGyezGgm9Px4LBw_sc7MFWfjUVhWWsvnAz1Ttg=s64",
      "userId": "00007591481982700116"
     },
     "user_tz": 300
    },
    "id": "O7PHSJCSdAOV",
    "outputId": "0e6e565a-348d-4a0a-c7ba-c0ff3488469b"
   },
   "outputs": [
    {
     "name": "stdout",
     "output_type": "stream",
     "text": [
      "14\n",
      "59\n",
      "23\n"
     ]
    }
   ],
   "source": [
    "for i in lista:\n",
    "  print(arList[i])"
   ]
  },
  {
   "cell_type": "code",
   "execution_count": 50,
   "metadata": {
    "colab": {
     "base_uri": "https://localhost:8080/"
    },
    "executionInfo": {
     "elapsed": 2,
     "status": "ok",
     "timestamp": 1636643343144,
     "user": {
      "displayName": "heydy carrasco huaccha",
      "photoUrl": "https://lh3.googleusercontent.com/a-/AOh14GiGyezGgm9Px4LBw_sc7MFWfjUVhWWsvnAz1Ttg=s64",
      "userId": "00007591481982700116"
     },
     "user_tz": 300
    },
    "id": "q-7Gy3AGdAL1",
    "outputId": "57b3f0ca-5c96-4608-8e2d-11b344b3f790"
   },
   "outputs": [
    {
     "data": {
      "text/plain": [
       "array([14, 59, 23])"
      ]
     },
     "execution_count": 50,
     "metadata": {},
     "output_type": "execute_result"
    }
   ],
   "source": [
    "arList[lista]"
   ]
  },
  {
   "cell_type": "code",
   "execution_count": 51,
   "metadata": {
    "colab": {
     "base_uri": "https://localhost:8080/"
    },
    "executionInfo": {
     "elapsed": 410,
     "status": "ok",
     "timestamp": 1636643367248,
     "user": {
      "displayName": "heydy carrasco huaccha",
      "photoUrl": "https://lh3.googleusercontent.com/a-/AOh14GiGyezGgm9Px4LBw_sc7MFWfjUVhWWsvnAz1Ttg=s64",
      "userId": "00007591481982700116"
     },
     "user_tz": 300
    },
    "id": "sDuKWIuvdAJa",
    "outputId": "92526343-bb10-4fd0-a8ff-41dd88497249"
   },
   "outputs": [
    {
     "data": {
      "text/plain": [
       "array([14, 59, 23])"
      ]
     },
     "execution_count": 51,
     "metadata": {},
     "output_type": "execute_result"
    }
   ],
   "source": [
    "arList[[0,3,6]]"
   ]
  },
  {
   "cell_type": "code",
   "execution_count": 52,
   "metadata": {
    "colab": {
     "base_uri": "https://localhost:8080/"
    },
    "executionInfo": {
     "elapsed": 427,
     "status": "ok",
     "timestamp": 1636643896214,
     "user": {
      "displayName": "heydy carrasco huaccha",
      "photoUrl": "https://lh3.googleusercontent.com/a-/AOh14GiGyezGgm9Px4LBw_sc7MFWfjUVhWWsvnAz1Ttg=s64",
      "userId": "00007591481982700116"
     },
     "user_tz": 300
    },
    "id": "Hc6mfgV0k5XS",
    "outputId": "23dd9036-427f-4b1a-9fa6-e1f5a57fbc77"
   },
   "outputs": [
    {
     "data": {
      "text/plain": [
       "array([0, 3, 6])"
      ]
     },
     "execution_count": 52,
     "metadata": {},
     "output_type": "execute_result"
    }
   ],
   "source": [
    "np.array([0,3,6]) # Array"
   ]
  },
  {
   "cell_type": "code",
   "execution_count": 53,
   "metadata": {
    "colab": {
     "base_uri": "https://localhost:8080/"
    },
    "executionInfo": {
     "elapsed": 450,
     "status": "ok",
     "timestamp": 1636643933073,
     "user": {
      "displayName": "heydy carrasco huaccha",
      "photoUrl": "https://lh3.googleusercontent.com/a-/AOh14GiGyezGgm9Px4LBw_sc7MFWfjUVhWWsvnAz1Ttg=s64",
      "userId": "00007591481982700116"
     },
     "user_tz": 300
    },
    "id": "wUwG43gtdAG1",
    "outputId": "cbf74fc8-93cd-4e8d-d4f4-0b055108cf1d"
   },
   "outputs": [
    {
     "data": {
      "text/plain": [
       "array([0., 3., 6.], dtype=float32)"
      ]
     },
     "execution_count": 53,
     "metadata": {},
     "output_type": "execute_result"
    }
   ],
   "source": [
    "# np.array([0,3,6],dtype='f') \n",
    "np.array([0,3,6],dtype=np.float32) # Mas recomendable"
   ]
  },
  {
   "cell_type": "code",
   "execution_count": 54,
   "metadata": {
    "colab": {
     "base_uri": "https://localhost:8080/"
    },
    "executionInfo": {
     "elapsed": 403,
     "status": "ok",
     "timestamp": 1636644238418,
     "user": {
      "displayName": "heydy carrasco huaccha",
      "photoUrl": "https://lh3.googleusercontent.com/a-/AOh14GiGyezGgm9Px4LBw_sc7MFWfjUVhWWsvnAz1Ttg=s64",
      "userId": "00007591481982700116"
     },
     "user_tz": 300
    },
    "id": "8JG37vcNdAEV",
    "outputId": "589714fd-3e32-4b89-d2a7-33ef3c87d5c0"
   },
   "outputs": [
    {
     "data": {
      "text/plain": [
       "array([0, 3, 6])"
      ]
     },
     "execution_count": 54,
     "metadata": {},
     "output_type": "execute_result"
    }
   ],
   "source": [
    "# np.array([0,3,6],dtype='i')\n",
    "np.array([0,3,6],dtype=np.int32) # Mas recomendable"
   ]
  },
  {
   "cell_type": "code",
   "execution_count": 55,
   "metadata": {
    "colab": {
     "base_uri": "https://localhost:8080/"
    },
    "executionInfo": {
     "elapsed": 408,
     "status": "ok",
     "timestamp": 1636644307791,
     "user": {
      "displayName": "heydy carrasco huaccha",
      "photoUrl": "https://lh3.googleusercontent.com/a-/AOh14GiGyezGgm9Px4LBw_sc7MFWfjUVhWWsvnAz1Ttg=s64",
      "userId": "00007591481982700116"
     },
     "user_tz": 300
    },
    "id": "f8lT_7nndABt",
    "outputId": "11b41b9d-1b9b-4890-8c37-501851ac5a65"
   },
   "outputs": [
    {
     "name": "stderr",
     "output_type": "stream",
     "text": [
      "<ipython-input-55-145695c0f0bc>:2: DeprecationWarning: `np.bool` is a deprecated alias for the builtin `bool`. To silence this warning, use `bool` by itself. Doing this will not modify any behavior and is safe. If you specifically wanted the numpy scalar type, use `np.bool_` here.\n",
      "Deprecated in NumPy 1.20; for more details and guidance: https://numpy.org/devdocs/release/1.20.0-notes.html#deprecations\n",
      "  np.array([0,1,0],dtype=np.bool) # Mas recomendable\n"
     ]
    },
    {
     "data": {
      "text/plain": [
       "array([False,  True, False])"
      ]
     },
     "execution_count": 55,
     "metadata": {},
     "output_type": "execute_result"
    }
   ],
   "source": [
    "# np.array([0,1,0],dtype='?')\n",
    "np.array([0,1,0],dtype=np.bool) # Mas recomendable"
   ]
  },
  {
   "cell_type": "code",
   "execution_count": 56,
   "metadata": {
    "colab": {
     "base_uri": "https://localhost:8080/"
    },
    "executionInfo": {
     "elapsed": 408,
     "status": "ok",
     "timestamp": 1636644454426,
     "user": {
      "displayName": "heydy carrasco huaccha",
      "photoUrl": "https://lh3.googleusercontent.com/a-/AOh14GiGyezGgm9Px4LBw_sc7MFWfjUVhWWsvnAz1Ttg=s64",
      "userId": "00007591481982700116"
     },
     "user_tz": 300
    },
    "id": "zxQxa1w1c_-9",
    "outputId": "9f1a06c9-83d8-4364-cce5-13f5ae685e2c"
   },
   "outputs": [
    {
     "data": {
      "text/plain": [
       "array([ 0,  3,  6,  9, 12, 15])"
      ]
     },
     "execution_count": 56,
     "metadata": {},
     "output_type": "execute_result"
    }
   ],
   "source": [
    "np.arange(0,10)\n",
    "np.arange(0,16,3) # Con salto"
   ]
  },
  {
   "cell_type": "code",
   "execution_count": 57,
   "metadata": {
    "colab": {
     "base_uri": "https://localhost:8080/"
    },
    "executionInfo": {
     "elapsed": 395,
     "status": "ok",
     "timestamp": 1636644502806,
     "user": {
      "displayName": "heydy carrasco huaccha",
      "photoUrl": "https://lh3.googleusercontent.com/a-/AOh14GiGyezGgm9Px4LBw_sc7MFWfjUVhWWsvnAz1Ttg=s64",
      "userId": "00007591481982700116"
     },
     "user_tz": 300
    },
    "id": "vpukPAKfm7HO",
    "outputId": "7bbcb80b-5a74-4fc2-bec5-c51c127e445a"
   },
   "outputs": [
    {
     "data": {
      "text/plain": [
       "array([1, 1, 1, 1, 1, 1, 1, 1])"
      ]
     },
     "execution_count": 57,
     "metadata": {},
     "output_type": "execute_result"
    }
   ],
   "source": [
    "np.zeros(8)\n",
    "np.ones(8,dtype=np.int32)"
   ]
  },
  {
   "cell_type": "code",
   "execution_count": 58,
   "metadata": {
    "colab": {
     "base_uri": "https://localhost:8080/"
    },
    "executionInfo": {
     "elapsed": 391,
     "status": "ok",
     "timestamp": 1636644548690,
     "user": {
      "displayName": "heydy carrasco huaccha",
      "photoUrl": "https://lh3.googleusercontent.com/a-/AOh14GiGyezGgm9Px4LBw_sc7MFWfjUVhWWsvnAz1Ttg=s64",
      "userId": "00007591481982700116"
     },
     "user_tz": 300
    },
    "id": "aFQpZMmEm7Ef",
    "outputId": "0eaa6fdf-ffa4-4861-cc23-40a6a15c7b2e"
   },
   "outputs": [
    {
     "data": {
      "text/plain": [
       "array([5, 5, 5, 5, 5, 5, 5, 5, 5, 5])"
      ]
     },
     "execution_count": 58,
     "metadata": {},
     "output_type": "execute_result"
    }
   ],
   "source": [
    "np.full(10,5) #(nro elementos, nro a almacenar)"
   ]
  },
  {
   "cell_type": "code",
   "execution_count": 59,
   "metadata": {},
   "outputs": [
    {
     "data": {
      "text/plain": [
       "array([0.96832081, 0.66156683, 0.37106151])"
      ]
     },
     "execution_count": 59,
     "metadata": {},
     "output_type": "execute_result"
    }
   ],
   "source": [
    "np.random.random(3)"
   ]
  },
  {
   "cell_type": "code",
   "execution_count": 60,
   "metadata": {
    "colab": {
     "base_uri": "https://localhost:8080/"
    },
    "executionInfo": {
     "elapsed": 390,
     "status": "ok",
     "timestamp": 1636644803017,
     "user": {
      "displayName": "heydy carrasco huaccha",
      "photoUrl": "https://lh3.googleusercontent.com/a-/AOh14GiGyezGgm9Px4LBw_sc7MFWfjUVhWWsvnAz1Ttg=s64",
      "userId": "00007591481982700116"
     },
     "user_tz": 300
    },
    "id": "wdQ3pwtvnq-I",
    "outputId": "e6fd4c76-96b2-4e7e-d8c5-745b5c6246a4"
   },
   "outputs": [
    {
     "data": {
      "text/plain": [
       "array([ 4, 18,  9, 22, 14])"
      ]
     },
     "execution_count": 60,
     "metadata": {},
     "output_type": "execute_result"
    }
   ],
   "source": [
    "# np.random.random(6) # 6 nros aleatorios\n",
    "np.random.randint(0,25,5) # Un arreglo de tamanio 10 en el rango de [0,25]"
   ]
  },
  {
   "cell_type": "code",
   "execution_count": 61,
   "metadata": {
    "colab": {
     "base_uri": "https://localhost:8080/"
    },
    "executionInfo": {
     "elapsed": 398,
     "status": "ok",
     "timestamp": 1636644992505,
     "user": {
      "displayName": "heydy carrasco huaccha",
      "photoUrl": "https://lh3.googleusercontent.com/a-/AOh14GiGyezGgm9Px4LBw_sc7MFWfjUVhWWsvnAz1Ttg=s64",
      "userId": "00007591481982700116"
     },
     "user_tz": 300
    },
    "id": "iP97SDSynq7X",
    "outputId": "61a42f36-c776-43f3-8267-9d718b376ff2"
   },
   "outputs": [
    {
     "data": {
      "text/plain": [
       "array([ 0. ,  2.5,  5. ,  7.5, 10. ])"
      ]
     },
     "execution_count": 61,
     "metadata": {},
     "output_type": "execute_result"
    }
   ],
   "source": [
    "np.linspace(0,10,5) # 5 elementos en el rango de [0,10] "
   ]
  },
  {
   "cell_type": "markdown",
   "metadata": {
    "id": "dIP3ey_tve2B"
   },
   "source": [
    "## Matriz"
   ]
  },
  {
   "cell_type": "code",
   "execution_count": 62,
   "metadata": {
    "id": "c0S1-Mdxnq43"
   },
   "outputs": [],
   "source": [
    "a= np.array([\n",
    "          [1, 2, 3, 4, 5], \n",
    "          [10, 20, 30, 40, 50],\n",
    "          [100, 200, 300, 400, 500]\n",
    "          ])"
   ]
  },
  {
   "cell_type": "code",
   "execution_count": 63,
   "metadata": {
    "colab": {
     "base_uri": "https://localhost:8080/"
    },
    "executionInfo": {
     "elapsed": 398,
     "status": "ok",
     "timestamp": 1636647097750,
     "user": {
      "displayName": "heydy carrasco huaccha",
      "photoUrl": "https://lh3.googleusercontent.com/a-/AOh14GiGyezGgm9Px4LBw_sc7MFWfjUVhWWsvnAz1Ttg=s64",
      "userId": "00007591481982700116"
     },
     "user_tz": 300
    },
    "id": "Dvoi2Ra_xLuH",
    "outputId": "97dfdf10-3e43-468a-da6e-1f510591f255"
   },
   "outputs": [
    {
     "data": {
      "text/plain": [
       "array([[  1,   2,   3,   4,   5],\n",
       "       [ 10,  20,  30,  40,  50],\n",
       "       [100, 200, 300, 400, 500]])"
      ]
     },
     "execution_count": 63,
     "metadata": {},
     "output_type": "execute_result"
    }
   ],
   "source": [
    "a"
   ]
  },
  {
   "cell_type": "code",
   "execution_count": 64,
   "metadata": {
    "colab": {
     "base_uri": "https://localhost:8080/"
    },
    "executionInfo": {
     "elapsed": 551,
     "status": "ok",
     "timestamp": 1636646880799,
     "user": {
      "displayName": "heydy carrasco huaccha",
      "photoUrl": "https://lh3.googleusercontent.com/a-/AOh14GiGyezGgm9Px4LBw_sc7MFWfjUVhWWsvnAz1Ttg=s64",
      "userId": "00007591481982700116"
     },
     "user_tz": 300
    },
    "id": "cyyTbi5TwSzx",
    "outputId": "7bdab600-a0d2-4947-9f7e-be41e22b8fbd"
   },
   "outputs": [
    {
     "data": {
      "text/plain": [
       "500"
      ]
     },
     "execution_count": 64,
     "metadata": {},
     "output_type": "execute_result"
    }
   ],
   "source": [
    "# a[2][4]\n",
    "a[2,4]"
   ]
  },
  {
   "cell_type": "code",
   "execution_count": 65,
   "metadata": {
    "colab": {
     "base_uri": "https://localhost:8080/"
    },
    "executionInfo": {
     "elapsed": 424,
     "status": "ok",
     "timestamp": 1636646975278,
     "user": {
      "displayName": "heydy carrasco huaccha",
      "photoUrl": "https://lh3.googleusercontent.com/a-/AOh14GiGyezGgm9Px4LBw_sc7MFWfjUVhWWsvnAz1Ttg=s64",
      "userId": "00007591481982700116"
     },
     "user_tz": 300
    },
    "id": "oV7htyP5wSwx",
    "outputId": "4721ed67-f6c8-42fe-f4de-527c2c6bef70"
   },
   "outputs": [
    {
     "data": {
      "text/plain": [
       "array([20, 30, 40])"
      ]
     },
     "execution_count": 65,
     "metadata": {},
     "output_type": "execute_result"
    }
   ],
   "source": [
    "# a[1][1:4]\n",
    "a[1, 1:4]"
   ]
  },
  {
   "cell_type": "code",
   "execution_count": 66,
   "metadata": {
    "colab": {
     "base_uri": "https://localhost:8080/"
    },
    "executionInfo": {
     "elapsed": 406,
     "status": "ok",
     "timestamp": 1636647011808,
     "user": {
      "displayName": "heydy carrasco huaccha",
      "photoUrl": "https://lh3.googleusercontent.com/a-/AOh14GiGyezGgm9Px4LBw_sc7MFWfjUVhWWsvnAz1Ttg=s64",
      "userId": "00007591481982700116"
     },
     "user_tz": 300
    },
    "id": "Oe37G7mmwSuR",
    "outputId": "19e72ad7-2658-4c6d-8a80-fe0b1da4f1c5"
   },
   "outputs": [
    {
     "data": {
      "text/plain": [
       "array([10, 30, 50])"
      ]
     },
     "execution_count": 66,
     "metadata": {},
     "output_type": "execute_result"
    }
   ],
   "source": [
    "a[1,[0,2,4]]"
   ]
  },
  {
   "cell_type": "code",
   "execution_count": 67,
   "metadata": {
    "colab": {
     "base_uri": "https://localhost:8080/"
    },
    "executionInfo": {
     "elapsed": 3,
     "status": "ok",
     "timestamp": 1636647101083,
     "user": {
      "displayName": "heydy carrasco huaccha",
      "photoUrl": "https://lh3.googleusercontent.com/a-/AOh14GiGyezGgm9Px4LBw_sc7MFWfjUVhWWsvnAz1Ttg=s64",
      "userId": "00007591481982700116"
     },
     "user_tz": 300
    },
    "id": "ArYkE6Z7wSr5",
    "outputId": "17bd2cc7-ef19-41e8-9bee-5fa8df6c6a45"
   },
   "outputs": [
    {
     "data": {
      "text/plain": [
       "array([  1,   2,   3,   4,   5,  10,  20,  30,  40,  50, 100, 200, 300,\n",
       "       400, 500])"
      ]
     },
     "execution_count": 67,
     "metadata": {},
     "output_type": "execute_result"
    }
   ],
   "source": [
    "a.ravel() # De una matriz a un arreglo unidimensional"
   ]
  },
  {
   "cell_type": "code",
   "execution_count": 68,
   "metadata": {},
   "outputs": [
    {
     "data": {
      "text/plain": [
       "array([[  1,   2,   3,   4,   5],\n",
       "       [ 10,  20,  30,  40,  50],\n",
       "       [100, 200, 300, 400, 500]])"
      ]
     },
     "execution_count": 68,
     "metadata": {},
     "output_type": "execute_result"
    }
   ],
   "source": [
    "a"
   ]
  },
  {
   "cell_type": "code",
   "execution_count": 69,
   "metadata": {
    "colab": {
     "base_uri": "https://localhost:8080/"
    },
    "executionInfo": {
     "elapsed": 400,
     "status": "ok",
     "timestamp": 1636647119319,
     "user": {
      "displayName": "heydy carrasco huaccha",
      "photoUrl": "https://lh3.googleusercontent.com/a-/AOh14GiGyezGgm9Px4LBw_sc7MFWfjUVhWWsvnAz1Ttg=s64",
      "userId": "00007591481982700116"
     },
     "user_tz": 300
    },
    "id": "SABE-ERywSpZ",
    "outputId": "8c61fd3e-ccb2-4883-afb3-874010a265d9"
   },
   "outputs": [
    {
     "data": {
      "text/plain": [
       "array([  1,   2,   3,   4,   5,  10,  20,  30,  40,  50, 100, 200, 300,\n",
       "       400, 500])"
      ]
     },
     "execution_count": 69,
     "metadata": {},
     "output_type": "execute_result"
    }
   ],
   "source": [
    "a.flatten() # COPIA !! retorna una copia arregla unidimensional"
   ]
  },
  {
   "cell_type": "code",
   "execution_count": 70,
   "metadata": {},
   "outputs": [
    {
     "data": {
      "text/plain": [
       "array([[  1,   2,   3,   4,   5],\n",
       "       [ 10,  20,  30,  40,  50],\n",
       "       [100, 200, 300, 400, 500]])"
      ]
     },
     "execution_count": 70,
     "metadata": {},
     "output_type": "execute_result"
    }
   ],
   "source": [
    "a"
   ]
  },
  {
   "cell_type": "markdown",
   "metadata": {
    "id": "YNdrIm92xmU1"
   },
   "source": [
    "Actualizar arreglo"
   ]
  },
  {
   "cell_type": "code",
   "execution_count": 71,
   "metadata": {
    "colab": {
     "base_uri": "https://localhost:8080/"
    },
    "executionInfo": {
     "elapsed": 3,
     "status": "ok",
     "timestamp": 1636647333441,
     "user": {
      "displayName": "heydy carrasco huaccha",
      "photoUrl": "https://lh3.googleusercontent.com/a-/AOh14GiGyezGgm9Px4LBw_sc7MFWfjUVhWWsvnAz1Ttg=s64",
      "userId": "00007591481982700116"
     },
     "user_tz": 300
    },
    "id": "wJSTozXWwSmh",
    "outputId": "bd89aec0-a5de-43b4-99e5-338cd551025a"
   },
   "outputs": [
    {
     "data": {
      "text/plain": [
       "array([0, 1, 2, 3, 4, 5, 6, 7, 8, 9])"
      ]
     },
     "execution_count": 71,
     "metadata": {},
     "output_type": "execute_result"
    }
   ],
   "source": [
    "a=np.arange(0,10)\n",
    "a"
   ]
  },
  {
   "cell_type": "code",
   "execution_count": 72,
   "metadata": {
    "id": "uaNyln8Dx2OJ"
   },
   "outputs": [],
   "source": [
    "a[0:3]=20"
   ]
  },
  {
   "cell_type": "code",
   "execution_count": 73,
   "metadata": {
    "id": "PTc_F3x5x7j1"
   },
   "outputs": [],
   "source": [
    "a[[4,6,8]]=16"
   ]
  },
  {
   "cell_type": "code",
   "execution_count": 74,
   "metadata": {
    "colab": {
     "base_uri": "https://localhost:8080/"
    },
    "executionInfo": {
     "elapsed": 389,
     "status": "ok",
     "timestamp": 1636647438205,
     "user": {
      "displayName": "heydy carrasco huaccha",
      "photoUrl": "https://lh3.googleusercontent.com/a-/AOh14GiGyezGgm9Px4LBw_sc7MFWfjUVhWWsvnAz1Ttg=s64",
      "userId": "00007591481982700116"
     },
     "user_tz": 300
    },
    "id": "qXukpq2_yIpl",
    "outputId": "aed7c837-0b55-4fcc-d524-55c2d680f8bf"
   },
   "outputs": [
    {
     "data": {
      "text/plain": [
       "array([20, 20, 20,  3, 16,  5, 16,  7, 16,  9])"
      ]
     },
     "execution_count": 74,
     "metadata": {},
     "output_type": "execute_result"
    }
   ],
   "source": [
    "a"
   ]
  },
  {
   "cell_type": "code",
   "execution_count": 75,
   "metadata": {
    "id": "qhZEiLBRyTUx"
   },
   "outputs": [],
   "source": [
    "a = np.append(a,88)"
   ]
  },
  {
   "cell_type": "code",
   "execution_count": 76,
   "metadata": {
    "id": "rC2f17xyyaZm"
   },
   "outputs": [],
   "source": [
    "a = np.delete(a,5) #(array, posicion)"
   ]
  },
  {
   "cell_type": "markdown",
   "metadata": {
    "id": "CXUOgeMI0yLl"
   },
   "source": [
    "Poder de shape"
   ]
  },
  {
   "cell_type": "code",
   "execution_count": 77,
   "metadata": {
    "colab": {
     "base_uri": "https://localhost:8080/"
    },
    "executionInfo": {
     "elapsed": 3,
     "status": "ok",
     "timestamp": 1636648353249,
     "user": {
      "displayName": "heydy carrasco huaccha",
      "photoUrl": "https://lh3.googleusercontent.com/a-/AOh14GiGyezGgm9Px4LBw_sc7MFWfjUVhWWsvnAz1Ttg=s64",
      "userId": "00007591481982700116"
     },
     "user_tz": 300
    },
    "id": "Zbnz0eX30xit",
    "outputId": "38f05e8d-f069-4f5b-f74a-6db9457fa3d5"
   },
   "outputs": [
    {
     "data": {
      "text/plain": [
       "array([ 0,  1,  2,  3,  4,  5,  6,  7,  8,  9, 10, 11, 12, 13, 14])"
      ]
     },
     "execution_count": 77,
     "metadata": {},
     "output_type": "execute_result"
    }
   ],
   "source": [
    "a=np.arange(0,15)\n",
    "a"
   ]
  },
  {
   "cell_type": "code",
   "execution_count": 78,
   "metadata": {
    "id": "TJx_Wdmy0xf1"
   },
   "outputs": [],
   "source": [
    "# a.shape = 3,5\n",
    "a.shape = (3,5)"
   ]
  },
  {
   "cell_type": "code",
   "execution_count": 79,
   "metadata": {
    "colab": {
     "base_uri": "https://localhost:8080/"
    },
    "executionInfo": {
     "elapsed": 416,
     "status": "ok",
     "timestamp": 1636648363629,
     "user": {
      "displayName": "heydy carrasco huaccha",
      "photoUrl": "https://lh3.googleusercontent.com/a-/AOh14GiGyezGgm9Px4LBw_sc7MFWfjUVhWWsvnAz1Ttg=s64",
      "userId": "00007591481982700116"
     },
     "user_tz": 300
    },
    "id": "ajVYJjMj08Dy",
    "outputId": "8e544835-64f5-4770-d9a4-24be731c2b76"
   },
   "outputs": [
    {
     "data": {
      "text/plain": [
       "array([[ 0,  1,  2,  3,  4],\n",
       "       [ 5,  6,  7,  8,  9],\n",
       "       [10, 11, 12, 13, 14]])"
      ]
     },
     "execution_count": 79,
     "metadata": {},
     "output_type": "execute_result"
    }
   ],
   "source": [
    "a"
   ]
  },
  {
   "cell_type": "code",
   "execution_count": 80,
   "metadata": {
    "colab": {
     "base_uri": "https://localhost:8080/"
    },
    "executionInfo": {
     "elapsed": 473,
     "status": "ok",
     "timestamp": 1636648376204,
     "user": {
      "displayName": "heydy carrasco huaccha",
      "photoUrl": "https://lh3.googleusercontent.com/a-/AOh14GiGyezGgm9Px4LBw_sc7MFWfjUVhWWsvnAz1Ttg=s64",
      "userId": "00007591481982700116"
     },
     "user_tz": 300
    },
    "id": "2yR_kzxj1tGo",
    "outputId": "33e172bb-0e69-4fd6-9ec5-06048cbce6a0"
   },
   "outputs": [
    {
     "data": {
      "text/plain": [
       "array([[ 0,  1,  2],\n",
       "       [ 3,  4,  5],\n",
       "       [ 6,  7,  8],\n",
       "       [ 9, 10, 11],\n",
       "       [12, 13, 14]])"
      ]
     },
     "execution_count": 80,
     "metadata": {},
     "output_type": "execute_result"
    }
   ],
   "source": [
    "a.reshape(5,3) # METODO QUE GENERA UN NUEVO ARREGLO CON != DIMENSION PERO SIN MODIFICAR EL ORIGINAL"
   ]
  },
  {
   "cell_type": "code",
   "execution_count": 81,
   "metadata": {
    "id": "Jj4GXp-q1tDg"
   },
   "outputs": [],
   "source": [
    "# Numpy los ejes, axes, axis, y dimensiones son lo mismo"
   ]
  },
  {
   "cell_type": "code",
   "execution_count": 82,
   "metadata": {
    "colab": {
     "base_uri": "https://localhost:8080/"
    },
    "executionInfo": {
     "elapsed": 421,
     "status": "ok",
     "timestamp": 1636648760218,
     "user": {
      "displayName": "heydy carrasco huaccha",
      "photoUrl": "https://lh3.googleusercontent.com/a-/AOh14GiGyezGgm9Px4LBw_sc7MFWfjUVhWWsvnAz1Ttg=s64",
      "userId": "00007591481982700116"
     },
     "user_tz": 300
    },
    "id": "Hu2Rprb51tA-",
    "outputId": "305a08c2-35da-4a88-840f-9c6db12753df"
   },
   "outputs": [
    {
     "data": {
      "text/plain": [
       "array([[0, 1],\n",
       "       [2, 3],\n",
       "       [4, 5],\n",
       "       [6, 7],\n",
       "       [8, 9]])"
      ]
     },
     "execution_count": 82,
     "metadata": {},
     "output_type": "execute_result"
    }
   ],
   "source": [
    "a=np.arange(0,10).reshape(5,2)\n",
    "a"
   ]
  },
  {
   "cell_type": "code",
   "execution_count": 83,
   "metadata": {
    "colab": {
     "base_uri": "https://localhost:8080/"
    },
    "executionInfo": {
     "elapsed": 3,
     "status": "ok",
     "timestamp": 1636648762039,
     "user": {
      "displayName": "heydy carrasco huaccha",
      "photoUrl": "https://lh3.googleusercontent.com/a-/AOh14GiGyezGgm9Px4LBw_sc7MFWfjUVhWWsvnAz1Ttg=s64",
      "userId": "00007591481982700116"
     },
     "user_tz": 300
    },
    "id": "dE7MZ8UM3dQ2",
    "outputId": "f9c438e1-c663-47f4-f90e-509440571abc"
   },
   "outputs": [
    {
     "data": {
      "text/plain": [
       "array([[0, 2, 4, 6, 8],\n",
       "       [1, 3, 5, 7, 9]])"
      ]
     },
     "execution_count": 83,
     "metadata": {},
     "output_type": "execute_result"
    }
   ],
   "source": [
    "# a.T\n",
    "a.transpose()"
   ]
  },
  {
   "cell_type": "code",
   "execution_count": 84,
   "metadata": {
    "colab": {
     "base_uri": "https://localhost:8080/"
    },
    "executionInfo": {
     "elapsed": 415,
     "status": "ok",
     "timestamp": 1636651159534,
     "user": {
      "displayName": "heydy carrasco huaccha",
      "photoUrl": "https://lh3.googleusercontent.com/a-/AOh14GiGyezGgm9Px4LBw_sc7MFWfjUVhWWsvnAz1Ttg=s64",
      "userId": "00007591481982700116"
     },
     "user_tz": 300
    },
    "id": "lJjLQIvN-akV",
    "outputId": "220abad1-3374-4003-8e35-686003fd5b9d"
   },
   "outputs": [
    {
     "data": {
      "text/plain": [
       "array([21, 27, 29,  3, 27])"
      ]
     },
     "execution_count": 84,
     "metadata": {},
     "output_type": "execute_result"
    }
   ],
   "source": [
    "a=np.random.randint(0,36,5)\n",
    "a"
   ]
  },
  {
   "cell_type": "code",
   "execution_count": 85,
   "metadata": {
    "colab": {
     "base_uri": "https://localhost:8080/"
    },
    "executionInfo": {
     "elapsed": 418,
     "status": "ok",
     "timestamp": 1636651037225,
     "user": {
      "displayName": "heydy carrasco huaccha",
      "photoUrl": "https://lh3.googleusercontent.com/a-/AOh14GiGyezGgm9Px4LBw_sc7MFWfjUVhWWsvnAz1Ttg=s64",
      "userId": "00007591481982700116"
     },
     "user_tz": 300
    },
    "id": "7nowNQ5B-WAS",
    "outputId": "f192dbc0-95fa-4911-dc9a-1c6402fac780"
   },
   "outputs": [
    {
     "data": {
      "text/plain": [
       "21.4"
      ]
     },
     "execution_count": 85,
     "metadata": {},
     "output_type": "execute_result"
    }
   ],
   "source": [
    "a.sum()\n",
    "a.min()\n",
    "a.max()\n",
    "a.std() #Desviacion estandar de nuestro arreglo\n",
    "a.mean() # Media de nuestro arreglo"
   ]
  },
  {
   "cell_type": "code",
   "execution_count": 86,
   "metadata": {
    "id": "lDdF87hyAtpd"
   },
   "outputs": [],
   "source": [
    "a.sort() # Ascendente"
   ]
  },
  {
   "cell_type": "code",
   "execution_count": 87,
   "metadata": {
    "colab": {
     "base_uri": "https://localhost:8080/"
    },
    "executionInfo": {
     "elapsed": 404,
     "status": "ok",
     "timestamp": 1636651183176,
     "user": {
      "displayName": "heydy carrasco huaccha",
      "photoUrl": "https://lh3.googleusercontent.com/a-/AOh14GiGyezGgm9Px4LBw_sc7MFWfjUVhWWsvnAz1Ttg=s64",
      "userId": "00007591481982700116"
     },
     "user_tz": 300
    },
    "id": "Ism6SkQ7AyEa",
    "outputId": "40a9c681-e0ed-4f70-ce0c-2e17bd54e971"
   },
   "outputs": [
    {
     "data": {
      "text/plain": [
       "array([ 3, 21, 27, 27, 29])"
      ]
     },
     "execution_count": 87,
     "metadata": {},
     "output_type": "execute_result"
    }
   ],
   "source": [
    "a"
   ]
  },
  {
   "cell_type": "code",
   "execution_count": 88,
   "metadata": {
    "colab": {
     "base_uri": "https://localhost:8080/"
    },
    "executionInfo": {
     "elapsed": 460,
     "status": "ok",
     "timestamp": 1636651280861,
     "user": {
      "displayName": "heydy carrasco huaccha",
      "photoUrl": "https://lh3.googleusercontent.com/a-/AOh14GiGyezGgm9Px4LBw_sc7MFWfjUVhWWsvnAz1Ttg=s64",
      "userId": "00007591481982700116"
     },
     "user_tz": 300
    },
    "id": "lvUPpE2qBAy2",
    "outputId": "baf112fe-84e4-4596-f7d2-cc9225926c28"
   },
   "outputs": [
    {
     "data": {
      "text/plain": [
       "array([29, 27, 27, 21,  3])"
      ]
     },
     "execution_count": 88,
     "metadata": {},
     "output_type": "execute_result"
    }
   ],
   "source": [
    "inva= a[::-1] # Inversa del arreglo\n",
    "inva"
   ]
  },
  {
   "cell_type": "code",
   "execution_count": 89,
   "metadata": {
    "id": "ZUiAEhJ9ESVy"
   },
   "outputs": [],
   "source": [
    "def simple_operation(val):\n",
    "  return val*10"
   ]
  },
  {
   "cell_type": "code",
   "execution_count": 90,
   "metadata": {
    "colab": {
     "base_uri": "https://localhost:8080/"
    },
    "executionInfo": {
     "elapsed": 383,
     "status": "ok",
     "timestamp": 1636652262667,
     "user": {
      "displayName": "heydy carrasco huaccha",
      "photoUrl": "https://lh3.googleusercontent.com/a-/AOh14GiGyezGgm9Px4LBw_sc7MFWfjUVhWWsvnAz1Ttg=s64",
      "userId": "00007591481982700116"
     },
     "user_tz": 300
    },
    "id": "4PgPuiuWESSx",
    "outputId": "d7e675fe-688d-4e27-82e5-925b5d96e7d2"
   },
   "outputs": [
    {
     "data": {
      "text/plain": [
       "<numpy.vectorize at 0x23ffed8fd30>"
      ]
     },
     "execution_count": 90,
     "metadata": {},
     "output_type": "execute_result"
    }
   ],
   "source": [
    "np.vectorize(simple_operation)"
   ]
  },
  {
   "cell_type": "code",
   "execution_count": 91,
   "metadata": {
    "id": "NSSv4-LJESP-"
   },
   "outputs": [],
   "source": [
    "func_vec = np.vectorize(simple_operation) #Vectorizando mi funcion"
   ]
  },
  {
   "cell_type": "code",
   "execution_count": 92,
   "metadata": {
    "colab": {
     "base_uri": "https://localhost:8080/"
    },
    "executionInfo": {
     "elapsed": 3,
     "status": "ok",
     "timestamp": 1636652427967,
     "user": {
      "displayName": "heydy carrasco huaccha",
      "photoUrl": "https://lh3.googleusercontent.com/a-/AOh14GiGyezGgm9Px4LBw_sc7MFWfjUVhWWsvnAz1Ttg=s64",
      "userId": "00007591481982700116"
     },
     "user_tz": 300
    },
    "id": "dp1BsSUtFZT8",
    "outputId": "6433b8ae-db7b-4c70-c631-e66a61089c64"
   },
   "outputs": [
    {
     "data": {
      "text/plain": [
       "array([ 3, 21, 27, 27, 29])"
      ]
     },
     "execution_count": 92,
     "metadata": {},
     "output_type": "execute_result"
    }
   ],
   "source": [
    "a"
   ]
  },
  {
   "cell_type": "code",
   "execution_count": 93,
   "metadata": {
    "colab": {
     "base_uri": "https://localhost:8080/"
    },
    "executionInfo": {
     "elapsed": 3,
     "status": "ok",
     "timestamp": 1636652429710,
     "user": {
      "displayName": "heydy carrasco huaccha",
      "photoUrl": "https://lh3.googleusercontent.com/a-/AOh14GiGyezGgm9Px4LBw_sc7MFWfjUVhWWsvnAz1Ttg=s64",
      "userId": "00007591481982700116"
     },
     "user_tz": 300
    },
    "id": "nNWmIdsoESM5",
    "outputId": "b33ce860-bbeb-4bc8-b191-541d91ff0f76"
   },
   "outputs": [
    {
     "data": {
      "text/plain": [
       "array([ 30, 210, 270, 270, 290])"
      ]
     },
     "execution_count": 93,
     "metadata": {},
     "output_type": "execute_result"
    }
   ],
   "source": [
    "func_vec(a)"
   ]
  },
  {
   "cell_type": "code",
   "execution_count": 94,
   "metadata": {
    "colab": {
     "base_uri": "https://localhost:8080/"
    },
    "executionInfo": {
     "elapsed": 392,
     "status": "ok",
     "timestamp": 1636652709447,
     "user": {
      "displayName": "heydy carrasco huaccha",
      "photoUrl": "https://lh3.googleusercontent.com/a-/AOh14GiGyezGgm9Px4LBw_sc7MFWfjUVhWWsvnAz1Ttg=s64",
      "userId": "00007591481982700116"
     },
     "user_tz": 300
    },
    "id": "sGp3_HjPGg2I",
    "outputId": "895c9f19-5501-42e0-bff4-056f607c987c"
   },
   "outputs": [
    {
     "data": {
      "text/plain": [
       "2473881802672"
      ]
     },
     "execution_count": 94,
     "metadata": {},
     "output_type": "execute_result"
    }
   ],
   "source": [
    "# CONOCER EL ID DE MI VARIABLE\n",
    "id(a)"
   ]
  },
  {
   "cell_type": "code",
   "execution_count": 95,
   "metadata": {
    "colab": {
     "base_uri": "https://localhost:8080/"
    },
    "executionInfo": {
     "elapsed": 407,
     "status": "ok",
     "timestamp": 1636652793187,
     "user": {
      "displayName": "heydy carrasco huaccha",
      "photoUrl": "https://lh3.googleusercontent.com/a-/AOh14GiGyezGgm9Px4LBw_sc7MFWfjUVhWWsvnAz1Ttg=s64",
      "userId": "00007591481982700116"
     },
     "user_tz": 300
    },
    "id": "BFBS6mVSG6wn",
    "outputId": "413563f1-b0dc-410b-e331-b9db458d954e"
   },
   "outputs": [
    {
     "data": {
      "text/plain": [
       "array([ 3, 21, 27, 27, 29])"
      ]
     },
     "execution_count": 95,
     "metadata": {},
     "output_type": "execute_result"
    }
   ],
   "source": [
    "a"
   ]
  },
  {
   "cell_type": "code",
   "execution_count": 96,
   "metadata": {
    "colab": {
     "base_uri": "https://localhost:8080/"
    },
    "executionInfo": {
     "elapsed": 433,
     "status": "ok",
     "timestamp": 1636652808092,
     "user": {
      "displayName": "heydy carrasco huaccha",
      "photoUrl": "https://lh3.googleusercontent.com/a-/AOh14GiGyezGgm9Px4LBw_sc7MFWfjUVhWWsvnAz1Ttg=s64",
      "userId": "00007591481982700116"
     },
     "user_tz": 300
    },
    "id": "BGt8vNUsG8M1",
    "outputId": "05405d34-c1f2-46c9-94f7-0d3987bc5ee9"
   },
   "outputs": [
    {
     "data": {
      "text/plain": [
       "array([ 3, 21, 27, 27, 29])"
      ]
     },
     "execution_count": 96,
     "metadata": {},
     "output_type": "execute_result"
    }
   ],
   "source": [
    "b=a.view() # VISTA\n",
    "b"
   ]
  },
  {
   "cell_type": "code",
   "execution_count": 97,
   "metadata": {
    "colab": {
     "base_uri": "https://localhost:8080/"
    },
    "executionInfo": {
     "elapsed": 398,
     "status": "ok",
     "timestamp": 1636652820886,
     "user": {
      "displayName": "heydy carrasco huaccha",
      "photoUrl": "https://lh3.googleusercontent.com/a-/AOh14GiGyezGgm9Px4LBw_sc7MFWfjUVhWWsvnAz1Ttg=s64",
      "userId": "00007591481982700116"
     },
     "user_tz": 300
    },
    "id": "0f8_FDaRHAFv",
    "outputId": "eb5b2e98-b054-4129-b251-c40e03b5427f"
   },
   "outputs": [
    {
     "data": {
      "text/plain": [
       "(2473881802672, 2473881854576)"
      ]
     },
     "execution_count": 97,
     "metadata": {},
     "output_type": "execute_result"
    }
   ],
   "source": [
    "id(a), id(b)"
   ]
  },
  {
   "cell_type": "code",
   "execution_count": 98,
   "metadata": {
    "colab": {
     "base_uri": "https://localhost:8080/"
    },
    "executionInfo": {
     "elapsed": 391,
     "status": "ok",
     "timestamp": 1636652866421,
     "user": {
      "displayName": "heydy carrasco huaccha",
      "photoUrl": "https://lh3.googleusercontent.com/a-/AOh14GiGyezGgm9Px4LBw_sc7MFWfjUVhWWsvnAz1Ttg=s64",
      "userId": "00007591481982700116"
     },
     "user_tz": 300
    },
    "id": "xUMKt6gPHHN4",
    "outputId": "bbb169f6-2f70-4297-b9d9-a2accd5bc736"
   },
   "outputs": [
    {
     "data": {
      "text/plain": [
       "False"
      ]
     },
     "execution_count": 98,
     "metadata": {},
     "output_type": "execute_result"
    }
   ],
   "source": [
    "# Para ver si son el mismo objeto\n",
    "a is b"
   ]
  },
  {
   "cell_type": "code",
   "execution_count": 99,
   "metadata": {
    "colab": {
     "base_uri": "https://localhost:8080/"
    },
    "executionInfo": {
     "elapsed": 419,
     "status": "ok",
     "timestamp": 1636652952307,
     "user": {
      "displayName": "heydy carrasco huaccha",
      "photoUrl": "https://lh3.googleusercontent.com/a-/AOh14GiGyezGgm9Px4LBw_sc7MFWfjUVhWWsvnAz1Ttg=s64",
      "userId": "00007591481982700116"
     },
     "user_tz": 300
    },
    "id": "S4UlsJvoHfXW",
    "outputId": "e490f8f3-1728-4c83-e719-1f10a47823d3"
   },
   "outputs": [
    {
     "data": {
      "text/plain": [
       "True"
      ]
     },
     "execution_count": 99,
     "metadata": {},
     "output_type": "execute_result"
    }
   ],
   "source": [
    "b.base is a"
   ]
  },
  {
   "cell_type": "code",
   "execution_count": 100,
   "metadata": {
    "colab": {
     "base_uri": "https://localhost:8080/"
    },
    "executionInfo": {
     "elapsed": 384,
     "status": "ok",
     "timestamp": 1636652963076,
     "user": {
      "displayName": "heydy carrasco huaccha",
      "photoUrl": "https://lh3.googleusercontent.com/a-/AOh14GiGyezGgm9Px4LBw_sc7MFWfjUVhWWsvnAz1Ttg=s64",
      "userId": "00007591481982700116"
     },
     "user_tz": 300
    },
    "id": "cRoWS20-HjOY",
    "outputId": "c499a804-f524-47f9-8ef9-e45be7dcb631"
   },
   "outputs": [
    {
     "data": {
      "text/plain": [
       "(2473881802672, 2473881802672)"
      ]
     },
     "execution_count": 100,
     "metadata": {},
     "output_type": "execute_result"
    }
   ],
   "source": [
    "id(a), id(b.base)"
   ]
  },
  {
   "cell_type": "code",
   "execution_count": 101,
   "metadata": {
    "colab": {
     "base_uri": "https://localhost:8080/"
    },
    "executionInfo": {
     "elapsed": 384,
     "status": "ok",
     "timestamp": 1636653041980,
     "user": {
      "displayName": "heydy carrasco huaccha",
      "photoUrl": "https://lh3.googleusercontent.com/a-/AOh14GiGyezGgm9Px4LBw_sc7MFWfjUVhWWsvnAz1Ttg=s64",
      "userId": "00007591481982700116"
     },
     "user_tz": 300
    },
    "id": "PiRIWS1LHrUs",
    "outputId": "0359be9e-d8b7-4696-c8c7-199ec1bee4d1"
   },
   "outputs": [
    {
     "data": {
      "text/plain": [
       "  C_CONTIGUOUS : True\n",
       "  F_CONTIGUOUS : True\n",
       "  OWNDATA : False\n",
       "  WRITEABLE : True\n",
       "  ALIGNED : True\n",
       "  WRITEBACKIFCOPY : False\n",
       "  UPDATEIFCOPY : False"
      ]
     },
     "execution_count": 101,
     "metadata": {},
     "output_type": "execute_result"
    }
   ],
   "source": [
    "# Una vista es el acceso a la informacion de un arreglo\n",
    "b.flags\n",
    "\n",
    "#OWNDATA : False => Es una vista"
   ]
  },
  {
   "cell_type": "code",
   "execution_count": 102,
   "metadata": {
    "id": "8UD873llESKR"
   },
   "outputs": [],
   "source": [
    "# COPIA DE UN ARREGLO\n",
    "e=a.copy"
   ]
  },
  {
   "cell_type": "code",
   "execution_count": 103,
   "metadata": {
    "colab": {
     "base_uri": "https://localhost:8080/"
    },
    "executionInfo": {
     "elapsed": 483,
     "status": "ok",
     "timestamp": 1636653192971,
     "user": {
      "displayName": "heydy carrasco huaccha",
      "photoUrl": "https://lh3.googleusercontent.com/a-/AOh14GiGyezGgm9Px4LBw_sc7MFWfjUVhWWsvnAz1Ttg=s64",
      "userId": "00007591481982700116"
     },
     "user_tz": 300
    },
    "id": "XLwFGo97IbXT",
    "outputId": "68388029-ab72-431f-f030-649d956b2657"
   },
   "outputs": [
    {
     "data": {
      "text/plain": [
       "False"
      ]
     },
     "execution_count": 103,
     "metadata": {},
     "output_type": "execute_result"
    }
   ],
   "source": [
    "e is a"
   ]
  },
  {
   "cell_type": "code",
   "execution_count": 104,
   "metadata": {
    "colab": {
     "base_uri": "https://localhost:8080/"
    },
    "executionInfo": {
     "elapsed": 409,
     "status": "ok",
     "timestamp": 1636653668656,
     "user": {
      "displayName": "heydy carrasco huaccha",
      "photoUrl": "https://lh3.googleusercontent.com/a-/AOh14GiGyezGgm9Px4LBw_sc7MFWfjUVhWWsvnAz1Ttg=s64",
      "userId": "00007591481982700116"
     },
     "user_tz": 300
    },
    "id": "v5BJ1c3EJRd-",
    "outputId": "2a687322-2ec9-4350-9515-20668a290c9e"
   },
   "outputs": [
    {
     "data": {
      "text/plain": [
       "array([ 3, 21, 27, 27, 29])"
      ]
     },
     "execution_count": 104,
     "metadata": {},
     "output_type": "execute_result"
    }
   ],
   "source": [
    "# -----------\n",
    "a"
   ]
  },
  {
   "cell_type": "code",
   "execution_count": 105,
   "metadata": {
    "colab": {
     "base_uri": "https://localhost:8080/"
    },
    "executionInfo": {
     "elapsed": 453,
     "status": "ok",
     "timestamp": 1636653696380,
     "user": {
      "displayName": "heydy carrasco huaccha",
      "photoUrl": "https://lh3.googleusercontent.com/a-/AOh14GiGyezGgm9Px4LBw_sc7MFWfjUVhWWsvnAz1Ttg=s64",
      "userId": "00007591481982700116"
     },
     "user_tz": 300
    },
    "id": "Icx7nKtkKSAY",
    "outputId": "de34fb16-ac51-46ce-986c-882a12440d00"
   },
   "outputs": [
    {
     "data": {
      "text/plain": [
       "array([ True, False, False, False, False])"
      ]
     },
     "execution_count": 105,
     "metadata": {},
     "output_type": "execute_result"
    }
   ],
   "source": [
    "fil = a < 20\n",
    "fil"
   ]
  },
  {
   "cell_type": "code",
   "execution_count": 106,
   "metadata": {
    "colab": {
     "base_uri": "https://localhost:8080/"
    },
    "executionInfo": {
     "elapsed": 498,
     "status": "ok",
     "timestamp": 1636653716375,
     "user": {
      "displayName": "heydy carrasco huaccha",
      "photoUrl": "https://lh3.googleusercontent.com/a-/AOh14GiGyezGgm9Px4LBw_sc7MFWfjUVhWWsvnAz1Ttg=s64",
      "userId": "00007591481982700116"
     },
     "user_tz": 300
    },
    "id": "2UeT5XYqJRbA",
    "outputId": "c4e3616e-7e76-4116-b479-a99451533632"
   },
   "outputs": [
    {
     "data": {
      "text/plain": [
       "array([3])"
      ]
     },
     "execution_count": 106,
     "metadata": {},
     "output_type": "execute_result"
    }
   ],
   "source": [
    "newa= a[fil]\n",
    "newa"
   ]
  },
  {
   "cell_type": "code",
   "execution_count": 107,
   "metadata": {
    "colab": {
     "base_uri": "https://localhost:8080/"
    },
    "executionInfo": {
     "elapsed": 431,
     "status": "ok",
     "timestamp": 1636653748384,
     "user": {
      "displayName": "heydy carrasco huaccha",
      "photoUrl": "https://lh3.googleusercontent.com/a-/AOh14GiGyezGgm9Px4LBw_sc7MFWfjUVhWWsvnAz1Ttg=s64",
      "userId": "00007591481982700116"
     },
     "user_tz": 300
    },
    "id": "99E3Vi7oJRYJ",
    "outputId": "8ca9e655-a133-457c-daae-51ab527b499f"
   },
   "outputs": [
    {
     "data": {
      "text/plain": [
       "array([3])"
      ]
     },
     "execution_count": 107,
     "metadata": {},
     "output_type": "execute_result"
    }
   ],
   "source": [
    "newa= a[a < 20]\n",
    "newa"
   ]
  },
  {
   "cell_type": "code",
   "execution_count": 108,
   "metadata": {
    "colab": {
     "base_uri": "https://localhost:8080/"
    },
    "executionInfo": {
     "elapsed": 410,
     "status": "ok",
     "timestamp": 1636653842694,
     "user": {
      "displayName": "heydy carrasco huaccha",
      "photoUrl": "https://lh3.googleusercontent.com/a-/AOh14GiGyezGgm9Px4LBw_sc7MFWfjUVhWWsvnAz1Ttg=s64",
      "userId": "00007591481982700116"
     },
     "user_tz": 300
    },
    "id": "vr3gVA2IKxxq",
    "outputId": "bb3a269d-c05e-454f-b697-3b3277f829e3"
   },
   "outputs": [
    {
     "data": {
      "text/plain": [
       "array([], dtype=int32)"
      ]
     },
     "execution_count": 108,
     "metadata": {},
     "output_type": "execute_result"
    }
   ],
   "source": [
    "newa= a[(a < 20) & (a>5)]\n",
    "newa"
   ]
  },
  {
   "cell_type": "code",
   "execution_count": 109,
   "metadata": {
    "colab": {
     "base_uri": "https://localhost:8080/"
    },
    "executionInfo": {
     "elapsed": 388,
     "status": "ok",
     "timestamp": 1636653898839,
     "user": {
      "displayName": "heydy carrasco huaccha",
      "photoUrl": "https://lh3.googleusercontent.com/a-/AOh14GiGyezGgm9Px4LBw_sc7MFWfjUVhWWsvnAz1Ttg=s64",
      "userId": "00007591481982700116"
     },
     "user_tz": 300
    },
    "id": "QyJgyV7DLEh6",
    "outputId": "5ebf01ec-c0e4-40ab-8b3c-a264dc68fde8"
   },
   "outputs": [
    {
     "data": {
      "text/plain": [
       "array([3])"
      ]
     },
     "execution_count": 109,
     "metadata": {},
     "output_type": "execute_result"
    }
   ],
   "source": [
    "newa= a[(a < 20) | (a == 30)]\n",
    "newa"
   ]
  },
  {
   "cell_type": "code",
   "execution_count": 110,
   "metadata": {
    "colab": {
     "base_uri": "https://localhost:8080/"
    },
    "executionInfo": {
     "elapsed": 421,
     "status": "ok",
     "timestamp": 1636654317590,
     "user": {
      "displayName": "heydy carrasco huaccha",
      "photoUrl": "https://lh3.googleusercontent.com/a-/AOh14GiGyezGgm9Px4LBw_sc7MFWfjUVhWWsvnAz1Ttg=s64",
      "userId": "00007591481982700116"
     },
     "user_tz": 300
    },
    "id": "X7om8L0fLYCU",
    "outputId": "73eba7f7-6cd0-4839-a200-8f3bdb12d191"
   },
   "outputs": [
    {
     "data": {
      "text/plain": [
       "array([ 0,  1,  2,  3,  4,  5,  6,  7,  8,  9, 10, 11, 12, 13, 14, 15, 16,\n",
       "       17, 18, 19])"
      ]
     },
     "execution_count": 110,
     "metadata": {},
     "output_type": "execute_result"
    }
   ],
   "source": [
    "# LEER Y ESCRIBIR ARCHIVOS\n",
    "a=np.arange(20)\n",
    "a"
   ]
  },
  {
   "cell_type": "code",
   "execution_count": 111,
   "metadata": {
    "id": "TkKu4W47Mw0n"
   },
   "outputs": [],
   "source": [
    "# Guardar en un archivo mi data\n",
    "np.savetxt('./ejemplo2.txt',a) # (ruta/nombre del archivo , arreglo)"
   ]
  },
  {
   "cell_type": "code",
   "execution_count": 112,
   "metadata": {
    "colab": {
     "base_uri": "https://localhost:8080/"
    },
    "executionInfo": {
     "elapsed": 3,
     "status": "ok",
     "timestamp": 1636654776640,
     "user": {
      "displayName": "heydy carrasco huaccha",
      "photoUrl": "https://lh3.googleusercontent.com/a-/AOh14GiGyezGgm9Px4LBw_sc7MFWfjUVhWWsvnAz1Ttg=s64",
      "userId": "00007591481982700116"
     },
     "user_tz": 300
    },
    "id": "JzGGDJLhMwxm",
    "outputId": "19819063-c483-45b5-a6dd-fb25c9d6e571"
   },
   "outputs": [
    {
     "data": {
      "text/plain": [
       "array([ 0.,  1.,  2.,  3.,  4.,  5.,  6.,  7.,  8.,  9., 10., 11., 12.,\n",
       "       13., 14., 15., 16., 17., 18., 19.])"
      ]
     },
     "execution_count": 112,
     "metadata": {},
     "output_type": "execute_result"
    }
   ],
   "source": [
    "np.loadtxt('./ejemplo2.txt')"
   ]
  },
  {
   "cell_type": "code",
   "execution_count": 121,
   "metadata": {
    "id": "hAjjVWhbMwu3"
   },
   "outputs": [],
   "source": [
    "np.savetxt('./ejemplo.csv',a,delimiter=\";\") # (ruta/nombre del archivo , arreglo)"
   ]
  },
  {
   "cell_type": "code",
   "execution_count": 122,
   "metadata": {
    "colab": {
     "base_uri": "https://localhost:8080/"
    },
    "executionInfo": {
     "elapsed": 409,
     "status": "ok",
     "timestamp": 1636654957039,
     "user": {
      "displayName": "heydy carrasco huaccha",
      "photoUrl": "https://lh3.googleusercontent.com/a-/AOh14GiGyezGgm9Px4LBw_sc7MFWfjUVhWWsvnAz1Ttg=s64",
      "userId": "00007591481982700116"
     },
     "user_tz": 300
    },
    "id": "22o5EKtvPJYd",
    "outputId": "e5aa656f-bc72-4a32-984c-f808c4155fca"
   },
   "outputs": [
    {
     "data": {
      "text/plain": [
       "array([ 0.,  1.,  2.,  3.,  4.,  5.,  6.,  7.,  8.,  9., 10., 11., 12.,\n",
       "       13., 14., 15., 16., 17., 18., 19.])"
      ]
     },
     "execution_count": 122,
     "metadata": {},
     "output_type": "execute_result"
    }
   ],
   "source": [
    "np.loadtxt('./ejemplo.csv',delimiter=\";\")"
   ]
  },
  {
   "cell_type": "code",
   "execution_count": 115,
   "metadata": {
    "id": "jbXkhAYQPYXu"
   },
   "outputs": [],
   "source": [
    "# genera un archivo binario\n",
    "np.save('ejemplo.npy',a)"
   ]
  },
  {
   "cell_type": "code",
   "execution_count": 116,
   "metadata": {
    "colab": {
     "base_uri": "https://localhost:8080/"
    },
    "executionInfo": {
     "elapsed": 387,
     "status": "ok",
     "timestamp": 1636655071856,
     "user": {
      "displayName": "heydy carrasco huaccha",
      "photoUrl": "https://lh3.googleusercontent.com/a-/AOh14GiGyezGgm9Px4LBw_sc7MFWfjUVhWWsvnAz1Ttg=s64",
      "userId": "00007591481982700116"
     },
     "user_tz": 300
    },
    "id": "Nvlyx09fPglB",
    "outputId": "17ea9816-bed1-49ac-b3e0-7b420fac24bd"
   },
   "outputs": [
    {
     "data": {
      "text/plain": [
       "array([ 0,  1,  2,  3,  4,  5,  6,  7,  8,  9, 10, 11, 12, 13, 14, 15, 16,\n",
       "       17, 18, 19])"
      ]
     },
     "execution_count": 116,
     "metadata": {},
     "output_type": "execute_result"
    }
   ],
   "source": [
    "np.load('ejemplo.npy')"
   ]
  },
  {
   "cell_type": "code",
   "execution_count": 117,
   "metadata": {
    "id": "HQgHNBBsPsgB"
   },
   "outputs": [],
   "source": [
    "# Almacenar en archivos binarios comprimidos\n",
    "np.savez('ejemplo.npz',a)"
   ]
  },
  {
   "cell_type": "code",
   "execution_count": 118,
   "metadata": {
    "colab": {
     "base_uri": "https://localhost:8080/"
    },
    "executionInfo": {
     "elapsed": 399,
     "status": "ok",
     "timestamp": 1636655211874,
     "user": {
      "displayName": "heydy carrasco huaccha",
      "photoUrl": "https://lh3.googleusercontent.com/a-/AOh14GiGyezGgm9Px4LBw_sc7MFWfjUVhWWsvnAz1Ttg=s64",
      "userId": "00007591481982700116"
     },
     "user_tz": 300
    },
    "id": "gO3iRgZVPsdI",
    "outputId": "9bf4bd06-9fb4-4999-9af7-6d4b569abe3b"
   },
   "outputs": [
    {
     "data": {
      "text/plain": [
       "array([ 0,  1,  2,  3,  4,  5,  6,  7,  8,  9, 10, 11, 12, 13, 14, 15, 16,\n",
       "       17, 18, 19])"
      ]
     },
     "execution_count": 118,
     "metadata": {},
     "output_type": "execute_result"
    }
   ],
   "source": [
    "np.load('ejemplo.npz')['arr_0']"
   ]
  },
  {
   "cell_type": "code",
   "execution_count": 119,
   "metadata": {
    "id": "sPILJeljPsak"
   },
   "outputs": [],
   "source": [
    "# Archivos pocos convencionales"
   ]
  },
  {
   "cell_type": "code",
   "execution_count": 120,
   "metadata": {
    "colab": {
     "base_uri": "https://localhost:8080/"
    },
    "executionInfo": {
     "elapsed": 461,
     "status": "ok",
     "timestamp": 1636655912122,
     "user": {
      "displayName": "heydy carrasco huaccha",
      "photoUrl": "https://lh3.googleusercontent.com/a-/AOh14GiGyezGgm9Px4LBw_sc7MFWfjUVhWWsvnAz1Ttg=s64",
      "userId": "00007591481982700116"
     },
     "user_tz": 300
    },
    "id": "1e4R84bdPsXx",
    "outputId": "05fe3722-a00f-4333-d50c-643af1e50feb"
   },
   "outputs": [
    {
     "data": {
      "text/plain": [
       "array([[ 19.4284706 , -99.12127662],\n",
       "       [ 19.0728302 ,  72.8826065 ],\n",
       "       [ -4.        ,  40.        ],\n",
       "       [ 22.        ,          nan],\n",
       "       [-59.        , -51.75      ]])"
      ]
     },
     "execution_count": 120,
     "metadata": {},
     "output_type": "execute_result"
    }
   ],
   "source": [
    "# Para leer archivos de forma flexible\n",
    "# skip_header=1 <> Que la lectura inicie despues de la fila 1\n",
    "np.genfromtxt('./datasets/paises.txt', usecols=[1,2],skip_header=1, \n",
    "              comments=\"#\", delimiter=\",\") # , skip_footer=0"
   ]
  },
  {
   "cell_type": "code",
   "execution_count": null,
   "metadata": {
    "id": "_RHtgmmIPsVA"
   },
   "outputs": [],
   "source": []
  }
 ],
 "metadata": {
  "colab": {
   "authorship_tag": "ABX9TyP7AzVKq85tvOpLcxqzX8Xa",
   "collapsed_sections": [],
   "name": "Numpy.ipynb",
   "provenance": []
  },
  "kernelspec": {
   "display_name": "Python 3",
   "language": "python",
   "name": "python3"
  },
  "language_info": {
   "codemirror_mode": {
    "name": "ipython",
    "version": 3
   },
   "file_extension": ".py",
   "mimetype": "text/x-python",
   "name": "python",
   "nbconvert_exporter": "python",
   "pygments_lexer": "ipython3",
   "version": "3.8.8"
  }
 },
 "nbformat": 4,
 "nbformat_minor": 1
}
